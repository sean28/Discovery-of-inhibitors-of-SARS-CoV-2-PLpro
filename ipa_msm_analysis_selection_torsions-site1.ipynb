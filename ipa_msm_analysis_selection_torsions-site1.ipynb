{
 "cells": [
  {
   "cell_type": "markdown",
   "id": "fa40f131",
   "metadata": {},
   "source": [
    "# import module"
   ]
  },
  {
   "cell_type": "code",
   "execution_count": 1,
   "id": "9380e695",
   "metadata": {
    "ExecuteTime": {
     "end_time": "2022-07-21T23:32:44.697002Z",
     "start_time": "2022-07-21T23:32:43.938707Z"
    },
    "hide_input": false
   },
   "outputs": [
    {
     "data": {
      "application/javascript": [
       "\n",
       "            setTimeout(function() {\n",
       "                var nbb_cell_id = 1;\n",
       "                var nbb_unformatted_code = \"%matplotlib inline\\n%load_ext nb_black\\nimport matplotlib.pyplot as plt\\nimport matplotlib as mpl\\n\\nfrom numpy import *\\nimport numpy as np\\n\\nimport pyemma\\nfrom pyemma.util.contexts import settings\\nimport pyemma.plots as mplt\\nimport pyemma.msm as msm\\n\\nfrom __future__ import print_function\\nimport mdtraj\\nimport mdtraj as md\\n\\nfrom tqdm import tqdm\\nfrom time import sleep\\n\\n# import mdshare\";\n",
       "                var nbb_formatted_code = \"%matplotlib inline\\n%load_ext nb_black\\nimport matplotlib.pyplot as plt\\nimport matplotlib as mpl\\n\\nfrom numpy import *\\nimport numpy as np\\n\\nimport pyemma\\nfrom pyemma.util.contexts import settings\\nimport pyemma.plots as mplt\\nimport pyemma.msm as msm\\n\\nfrom __future__ import print_function\\nimport mdtraj\\nimport mdtraj as md\\n\\nfrom tqdm import tqdm\\nfrom time import sleep\\n\\n# import mdshare\";\n",
       "                var nbb_cells = Jupyter.notebook.get_cells();\n",
       "                for (var i = 0; i < nbb_cells.length; ++i) {\n",
       "                    if (nbb_cells[i].input_prompt_number == nbb_cell_id) {\n",
       "                        if (nbb_cells[i].get_text() == nbb_unformatted_code) {\n",
       "                             nbb_cells[i].set_text(nbb_formatted_code);\n",
       "                        }\n",
       "                        break;\n",
       "                    }\n",
       "                }\n",
       "            }, 500);\n",
       "            "
      ],
      "text/plain": [
       "<IPython.core.display.Javascript object>"
      ]
     },
     "metadata": {},
     "output_type": "display_data"
    }
   ],
   "source": [
    "%matplotlib inline\n",
    "%load_ext nb_black\n",
    "import matplotlib.pyplot as plt\n",
    "import matplotlib as mpl\n",
    "\n",
    "from numpy import *\n",
    "import numpy as np\n",
    "\n",
    "import pyemma\n",
    "from pyemma.util.contexts import settings\n",
    "import pyemma.plots as mplt\n",
    "import pyemma.msm as msm\n",
    "\n",
    "from __future__ import print_function\n",
    "import mdtraj\n",
    "import mdtraj as md\n",
    "\n",
    "from tqdm import tqdm\n",
    "from time import sleep\n",
    "\n",
    "# import mdshare"
   ]
  },
  {
   "cell_type": "markdown",
   "id": "be6667ac",
   "metadata": {},
   "source": [
    "# import data"
   ]
  },
  {
   "cell_type": "code",
   "execution_count": 2,
   "id": "7e401133",
   "metadata": {
    "ExecuteTime": {
     "end_time": "2022-07-21T23:32:47.378363Z",
     "start_time": "2022-07-21T23:32:47.215718Z"
    },
    "hide_input": false
   },
   "outputs": [
    {
     "name": "stdout",
     "output_type": "stream",
     "text": [
      "/home/sean/Desktop/disk/cadd/MSM/zong-ipa-msm/ipa_top.pdb\n",
      "/home/sean/Desktop/disk/cadd/MSM/zong-ipa-msm/zong-msm.trr\n",
      "<mdtraj.Trajectory with 1 frames, 4969 atoms, 316 residues, and unitcells>\n",
      "<mdtraj.Topology with 1 chains, 316 residues, 4969 atoms, 4865 bonds>\n"
     ]
    },
    {
     "data": {
      "application/javascript": [
       "\n",
       "            setTimeout(function() {\n",
       "                var nbb_cell_id = 2;\n",
       "                var nbb_unformatted_code = \"# \\u5bfc\\u5165\\u8f68\\u8ff9\\u6587\\u4ef6\\n# pdb = \\\"../6wuu.pdb\\\"\\n# files = \\\"../md_dry_jump_center_mol_center_fit.trr\\\"\\npdb = \\\"/home/sean/Desktop/disk/cadd/MSM/zong-ipa-msm/ipa_top.pdb\\\"\\nfiles = \\\"/home/sean/Desktop/disk/cadd/MSM/zong-ipa-msm/zong-msm.trr\\\"\\n\\nprint(pdb)\\nprint(files)\\n\\n# \\u5b9a\\u4e49mdtraj\\ntraj = md.load(pdb, files)\\ntopology = traj.topology\\nprint(traj)\\nprint(topology)\";\n",
       "                var nbb_formatted_code = \"# \\u5bfc\\u5165\\u8f68\\u8ff9\\u6587\\u4ef6\\n# pdb = \\\"../6wuu.pdb\\\"\\n# files = \\\"../md_dry_jump_center_mol_center_fit.trr\\\"\\npdb = \\\"/home/sean/Desktop/disk/cadd/MSM/zong-ipa-msm/ipa_top.pdb\\\"\\nfiles = \\\"/home/sean/Desktop/disk/cadd/MSM/zong-ipa-msm/zong-msm.trr\\\"\\n\\nprint(pdb)\\nprint(files)\\n\\n# \\u5b9a\\u4e49mdtraj\\ntraj = md.load(pdb, files)\\ntopology = traj.topology\\nprint(traj)\\nprint(topology)\";\n",
       "                var nbb_cells = Jupyter.notebook.get_cells();\n",
       "                for (var i = 0; i < nbb_cells.length; ++i) {\n",
       "                    if (nbb_cells[i].input_prompt_number == nbb_cell_id) {\n",
       "                        if (nbb_cells[i].get_text() == nbb_unformatted_code) {\n",
       "                             nbb_cells[i].set_text(nbb_formatted_code);\n",
       "                        }\n",
       "                        break;\n",
       "                    }\n",
       "                }\n",
       "            }, 500);\n",
       "            "
      ],
      "text/plain": [
       "<IPython.core.display.Javascript object>"
      ]
     },
     "metadata": {},
     "output_type": "display_data"
    }
   ],
   "source": [
    "# 导入轨迹文件\n",
    "# pdb = \"../6wuu.pdb\"\n",
    "# files = \"../md_dry_jump_center_mol_center_fit.trr\"\n",
    "pdb = \"/home/sean/Desktop/disk/cadd/MSM/zong-ipa-msm/ipa_top.pdb\"\n",
    "files = \"/home/sean/Desktop/disk/cadd/MSM/zong-ipa-msm/zong-msm.trr\"\n",
    "\n",
    "print(pdb)\n",
    "print(files)\n",
    "\n",
    "# 定义mdtraj\n",
    "traj = md.load(pdb, files)\n",
    "topology = traj.topology\n",
    "print(traj)\n",
    "print(topology)"
   ]
  },
  {
   "cell_type": "markdown",
   "id": "66e8d517",
   "metadata": {},
   "source": [
    "# Feature selection"
   ]
  },
  {
   "cell_type": "code",
   "execution_count": 3,
   "id": "5159293e",
   "metadata": {
    "ExecuteTime": {
     "end_time": "2022-07-21T23:32:55.157616Z",
     "start_time": "2022-07-21T23:32:50.904656Z"
    }
   },
   "outputs": [
    {
     "name": "stderr",
     "output_type": "stream",
     "text": [
      "/home/sean/miniconda3/envs/env_py3.8/lib/python3.8/site-packages/pyemma/coordinates/data/featurization/angles.py:211: FutureWarning: arrays to stack must be passed as a \"sequence\" type such as list or tuple. Support for non-sequence iterables such as generators is deprecated as of NumPy 1.16 and will raise an error in the future.\n",
      "  indices = np.vstack(valid.values())\n"
     ]
    },
    {
     "data": {
      "text/plain": [
       "['COS(CHI1 0 THR 10)',\n",
       " 'SIN(CHI1 0 THR 10)',\n",
       " 'COS(CHI1 0 VAL 11)',\n",
       " 'SIN(CHI1 0 VAL 11)',\n",
       " 'COS(CHI1 0 ASP 12)',\n",
       " 'SIN(CHI1 0 ASP 12)',\n",
       " 'COS(CHI1 0 ASN 13)',\n",
       " 'SIN(CHI1 0 ASN 13)',\n",
       " 'COS(CHI2 0 ASP 12)',\n",
       " 'SIN(CHI2 0 ASP 12)',\n",
       " 'COS(CHI2 0 ASN 13)',\n",
       " 'SIN(CHI2 0 ASN 13)',\n",
       " 'COS(CHI1 0 PRO 33)',\n",
       " 'SIN(CHI1 0 PRO 33)',\n",
       " 'COS(CHI1 0 THR 34)',\n",
       " 'SIN(CHI1 0 THR 34)',\n",
       " 'COS(CHI1 0 TYR 35)',\n",
       " 'SIN(CHI1 0 TYR 35)',\n",
       " 'COS(CHI2 0 PRO 33)',\n",
       " 'SIN(CHI2 0 PRO 33)',\n",
       " 'COS(CHI2 0 TYR 35)',\n",
       " 'SIN(CHI2 0 TYR 35)',\n",
       " 'COS(CHI1 0 TYR 56)',\n",
       " 'SIN(CHI1 0 TYR 56)',\n",
       " 'COS(CHI1 0 VAL 57)',\n",
       " 'SIN(CHI1 0 VAL 57)',\n",
       " 'COS(CHI1 0 LEU 58)',\n",
       " 'SIN(CHI1 0 LEU 58)',\n",
       " 'COS(CHI1 0 PRO 59)',\n",
       " 'SIN(CHI1 0 PRO 59)',\n",
       " 'COS(CHI1 0 ASN 60)',\n",
       " 'SIN(CHI1 0 ASN 60)',\n",
       " 'COS(CHI1 0 ASP 61)',\n",
       " 'SIN(CHI1 0 ASP 61)',\n",
       " 'COS(CHI1 0 ASP 62)',\n",
       " 'SIN(CHI1 0 ASP 62)',\n",
       " 'COS(CHI1 0 THR 63)',\n",
       " 'SIN(CHI1 0 THR 63)',\n",
       " 'COS(CHI1 0 LEU 64)',\n",
       " 'SIN(CHI1 0 LEU 64)',\n",
       " 'COS(CHI1 0 ARG 65)',\n",
       " 'SIN(CHI1 0 ARG 65)',\n",
       " 'COS(CHI1 0 VAL 66)',\n",
       " 'SIN(CHI1 0 VAL 66)',\n",
       " 'COS(CHI1 0 GLU 67)',\n",
       " 'SIN(CHI1 0 GLU 67)',\n",
       " 'COS(CHI1 0 PHE 69)',\n",
       " 'SIN(CHI1 0 PHE 69)',\n",
       " 'COS(CHI1 0 GLU 70)',\n",
       " 'SIN(CHI1 0 GLU 70)',\n",
       " 'COS(CHI1 0 TYR 71)',\n",
       " 'SIN(CHI1 0 TYR 71)',\n",
       " 'COS(CHI1 0 TYR 72)',\n",
       " 'SIN(CHI1 0 TYR 72)',\n",
       " 'COS(CHI1 0 HISE 73)',\n",
       " 'SIN(CHI1 0 HISE 73)',\n",
       " 'COS(CHI1 0 THR 74)',\n",
       " 'SIN(CHI1 0 THR 74)',\n",
       " 'COS(CHI1 0 THR 75)',\n",
       " 'SIN(CHI1 0 THR 75)',\n",
       " 'COS(CHI1 0 ASP 76)',\n",
       " 'SIN(CHI1 0 ASP 76)',\n",
       " 'COS(CHI1 0 PRO 77)',\n",
       " 'SIN(CHI1 0 PRO 77)',\n",
       " 'COS(CHI1 0 SER 78)',\n",
       " 'SIN(CHI1 0 SER 78)',\n",
       " 'COS(CHI1 0 PHE 79)',\n",
       " 'SIN(CHI1 0 PHE 79)',\n",
       " 'COS(CHI1 0 LEU 80)',\n",
       " 'SIN(CHI1 0 LEU 80)',\n",
       " 'COS(CHI1 0 ARG 82)',\n",
       " 'SIN(CHI1 0 ARG 82)',\n",
       " 'COS(CHI1 0 TYR 83)',\n",
       " 'SIN(CHI1 0 TYR 83)',\n",
       " 'COS(CHI1 0 MET 84)',\n",
       " 'SIN(CHI1 0 MET 84)',\n",
       " 'COS(CHI2 0 TYR 56)',\n",
       " 'SIN(CHI2 0 TYR 56)',\n",
       " 'COS(CHI2 0 LEU 58)',\n",
       " 'SIN(CHI2 0 LEU 58)',\n",
       " 'COS(CHI2 0 PRO 59)',\n",
       " 'SIN(CHI2 0 PRO 59)',\n",
       " 'COS(CHI2 0 ASN 60)',\n",
       " 'SIN(CHI2 0 ASN 60)',\n",
       " 'COS(CHI2 0 ASP 61)',\n",
       " 'SIN(CHI2 0 ASP 61)',\n",
       " 'COS(CHI2 0 ASP 62)',\n",
       " 'SIN(CHI2 0 ASP 62)',\n",
       " 'COS(CHI2 0 LEU 64)',\n",
       " 'SIN(CHI2 0 LEU 64)',\n",
       " 'COS(CHI2 0 ARG 65)',\n",
       " 'SIN(CHI2 0 ARG 65)',\n",
       " 'COS(CHI2 0 GLU 67)',\n",
       " 'SIN(CHI2 0 GLU 67)',\n",
       " 'COS(CHI2 0 PHE 69)',\n",
       " 'SIN(CHI2 0 PHE 69)',\n",
       " 'COS(CHI2 0 GLU 70)',\n",
       " 'SIN(CHI2 0 GLU 70)',\n",
       " 'COS(CHI2 0 TYR 71)',\n",
       " 'SIN(CHI2 0 TYR 71)',\n",
       " 'COS(CHI2 0 TYR 72)',\n",
       " 'SIN(CHI2 0 TYR 72)',\n",
       " 'COS(CHI2 0 HISE 73)',\n",
       " 'SIN(CHI2 0 HISE 73)',\n",
       " 'COS(CHI2 0 ASP 76)',\n",
       " 'SIN(CHI2 0 ASP 76)',\n",
       " 'COS(CHI2 0 PRO 77)',\n",
       " 'SIN(CHI2 0 PRO 77)',\n",
       " 'COS(CHI2 0 PHE 79)',\n",
       " 'SIN(CHI2 0 PHE 79)',\n",
       " 'COS(CHI2 0 LEU 80)',\n",
       " 'SIN(CHI2 0 LEU 80)',\n",
       " 'COS(CHI2 0 ARG 82)',\n",
       " 'SIN(CHI2 0 ARG 82)',\n",
       " 'COS(CHI2 0 TYR 83)',\n",
       " 'SIN(CHI2 0 TYR 83)',\n",
       " 'COS(CHI2 0 MET 84)',\n",
       " 'SIN(CHI2 0 MET 84)',\n",
       " 'COS(CHI3 0 ARG 65)',\n",
       " 'SIN(CHI3 0 ARG 65)',\n",
       " 'COS(CHI3 0 GLU 67)',\n",
       " 'SIN(CHI3 0 GLU 67)',\n",
       " 'COS(CHI3 0 GLU 70)',\n",
       " 'SIN(CHI3 0 GLU 70)',\n",
       " 'COS(CHI3 0 ARG 82)',\n",
       " 'SIN(CHI3 0 ARG 82)',\n",
       " 'COS(CHI3 0 MET 84)',\n",
       " 'SIN(CHI3 0 MET 84)',\n",
       " 'COS(CHI4 0 ARG 65)',\n",
       " 'SIN(CHI4 0 ARG 65)',\n",
       " 'COS(CHI4 0 ARG 82)',\n",
       " 'SIN(CHI4 0 ARG 82)',\n",
       " 'COS(CHI5 0 ARG 65)',\n",
       " 'SIN(CHI5 0 ARG 65)',\n",
       " 'COS(CHI5 0 ARG 82)',\n",
       " 'SIN(CHI5 0 ARG 82)',\n",
       " 'COS(CHI1 0 PHE 127)',\n",
       " 'SIN(CHI1 0 PHE 127)',\n",
       " 'COS(CHI1 0 ASN 128)',\n",
       " 'SIN(CHI1 0 ASN 128)',\n",
       " 'COS(CHI1 0 PRO 129)',\n",
       " 'SIN(CHI1 0 PRO 129)',\n",
       " 'COS(CHI1 0 PRO 130)',\n",
       " 'SIN(CHI1 0 PRO 130)',\n",
       " 'COS(CHI1 0 LEU 132)',\n",
       " 'SIN(CHI1 0 LEU 132)',\n",
       " 'COS(CHI2 0 PHE 127)',\n",
       " 'SIN(CHI2 0 PHE 127)',\n",
       " 'COS(CHI2 0 ASN 128)',\n",
       " 'SIN(CHI2 0 ASN 128)',\n",
       " 'COS(CHI2 0 PRO 129)',\n",
       " 'SIN(CHI2 0 PRO 129)',\n",
       " 'COS(CHI2 0 PRO 130)',\n",
       " 'SIN(CHI2 0 PRO 130)',\n",
       " 'COS(CHI2 0 LEU 132)',\n",
       " 'SIN(CHI2 0 LEU 132)',\n",
       " 'COS(CHI1 0 LEU 150)',\n",
       " 'SIN(CHI1 0 LEU 150)',\n",
       " 'COS(CHI1 0 ILE 151)',\n",
       " 'SIN(CHI1 0 ILE 151)',\n",
       " 'COS(CHI1 0 LEU 152)',\n",
       " 'SIN(CHI1 0 LEU 152)',\n",
       " 'COS(CHI1 0 TYR 154)',\n",
       " 'SIN(CHI1 0 TYR 154)',\n",
       " 'COS(CHI1 0 CYS 155)',\n",
       " 'SIN(CHI1 0 CYS 155)',\n",
       " 'COS(CHI1 0 ASN 156)',\n",
       " 'SIN(CHI1 0 ASN 156)',\n",
       " 'COS(CHI2 0 LEU 150)',\n",
       " 'SIN(CHI2 0 LEU 150)',\n",
       " 'COS(CHI2 0 ILE 151)',\n",
       " 'SIN(CHI2 0 ILE 151)',\n",
       " 'COS(CHI2 0 LEU 152)',\n",
       " 'SIN(CHI2 0 LEU 152)',\n",
       " 'COS(CHI2 0 TYR 154)',\n",
       " 'SIN(CHI2 0 TYR 154)',\n",
       " 'COS(CHI2 0 ASN 156)',\n",
       " 'SIN(CHI2 0 ASN 156)']"
      ]
     },
     "execution_count": 3,
     "metadata": {},
     "output_type": "execute_result"
    },
    {
     "data": {
      "application/javascript": [
       "\n",
       "            setTimeout(function() {\n",
       "                var nbb_cell_id = 3;\n",
       "                var nbb_unformatted_code = \"# ipa\\u591a\\u6bb5\\u626d\\u8f6c\\u89d2\\n# thumb1 10-13, 32-35, 56-84, 127-132, 149-156\\n\\nactive_resi1 = \\\"resi 9 to 12\\\"\\nactive_resi2 = \\\"resi 31 to 34\\\"\\nactive_resi3 = \\\"resi 55 to 83\\\"\\nactive_resi4 = \\\"resi 126 to 131\\\"\\nactive_resi5 = \\\"resi 148 to 155\\\"\\n\\n\\ntorsions_feat = pyemma.coordinates.featurizer(pdb)\\ntorsions_feat.add_sidechain_torsions(selstr=active_resi1, cossin=True, periodic=False)\\ntorsions_feat.add_sidechain_torsions(selstr=active_resi2, cossin=True, periodic=False)\\ntorsions_feat.add_sidechain_torsions(selstr=active_resi3, cossin=True, periodic=False)\\ntorsions_feat.add_sidechain_torsions(selstr=active_resi4, cossin=True, periodic=False)\\ntorsions_feat.add_sidechain_torsions(selstr=active_resi5, cossin=True, periodic=False)\\n\\n\\ntorsions_data = pyemma.coordinates.load(files, features=torsions_feat)\\nlabels = [\\\"backbone\\\\ntorsions\\\"]\\ntorsions_feat.describe()\";\n",
       "                var nbb_formatted_code = \"# ipa\\u591a\\u6bb5\\u626d\\u8f6c\\u89d2\\n# thumb1 10-13, 32-35, 56-84, 127-132, 149-156\\n\\nactive_resi1 = \\\"resi 9 to 12\\\"\\nactive_resi2 = \\\"resi 31 to 34\\\"\\nactive_resi3 = \\\"resi 55 to 83\\\"\\nactive_resi4 = \\\"resi 126 to 131\\\"\\nactive_resi5 = \\\"resi 148 to 155\\\"\\n\\n\\ntorsions_feat = pyemma.coordinates.featurizer(pdb)\\ntorsions_feat.add_sidechain_torsions(selstr=active_resi1, cossin=True, periodic=False)\\ntorsions_feat.add_sidechain_torsions(selstr=active_resi2, cossin=True, periodic=False)\\ntorsions_feat.add_sidechain_torsions(selstr=active_resi3, cossin=True, periodic=False)\\ntorsions_feat.add_sidechain_torsions(selstr=active_resi4, cossin=True, periodic=False)\\ntorsions_feat.add_sidechain_torsions(selstr=active_resi5, cossin=True, periodic=False)\\n\\n\\ntorsions_data = pyemma.coordinates.load(files, features=torsions_feat)\\nlabels = [\\\"backbone\\\\ntorsions\\\"]\\ntorsions_feat.describe()\";\n",
       "                var nbb_cells = Jupyter.notebook.get_cells();\n",
       "                for (var i = 0; i < nbb_cells.length; ++i) {\n",
       "                    if (nbb_cells[i].input_prompt_number == nbb_cell_id) {\n",
       "                        if (nbb_cells[i].get_text() == nbb_unformatted_code) {\n",
       "                             nbb_cells[i].set_text(nbb_formatted_code);\n",
       "                        }\n",
       "                        break;\n",
       "                    }\n",
       "                }\n",
       "            }, 500);\n",
       "            "
      ],
      "text/plain": [
       "<IPython.core.display.Javascript object>"
      ]
     },
     "metadata": {},
     "output_type": "display_data"
    }
   ],
   "source": [
    "# ipa多段扭转角\n",
    "# thumb1 10-13, 32-35, 56-84, 127-132, 149-156\n",
    "\n",
    "active_resi1 = \"resi 9 to 12\"\n",
    "active_resi2 = \"resi 31 to 34\"\n",
    "active_resi3 = \"resi 55 to 83\"\n",
    "active_resi4 = \"resi 126 to 131\"\n",
    "active_resi5 = \"resi 148 to 155\"\n",
    "\n",
    "\n",
    "torsions_feat = pyemma.coordinates.featurizer(pdb)\n",
    "torsions_feat.add_sidechain_torsions(selstr=active_resi1, cossin=True, periodic=False)\n",
    "torsions_feat.add_sidechain_torsions(selstr=active_resi2, cossin=True, periodic=False)\n",
    "torsions_feat.add_sidechain_torsions(selstr=active_resi3, cossin=True, periodic=False)\n",
    "torsions_feat.add_sidechain_torsions(selstr=active_resi4, cossin=True, periodic=False)\n",
    "torsions_feat.add_sidechain_torsions(selstr=active_resi5, cossin=True, periodic=False)\n",
    "\n",
    "\n",
    "torsions_data = pyemma.coordinates.load(files, features=torsions_feat)\n",
    "labels = [\"backbone\\ntorsions\"]\n",
    "torsions_feat.describe()"
   ]
  },
  {
   "cell_type": "code",
   "execution_count": 3,
   "id": "62a503b8",
   "metadata": {
    "ExecuteTime": {
     "end_time": "2022-05-24T03:16:31.628320Z",
     "start_time": "2022-05-24T03:16:31.618820Z"
    }
   },
   "outputs": [
    {
     "name": "stdout",
     "output_type": "stream",
     "text": [
      "[10 56 57 58 64 67 68 70 71 72 73 74 75 76 77 78 79 80 82]\n"
     ]
    },
    {
     "data": {
      "application/javascript": [
       "\n",
       "            setTimeout(function() {\n",
       "                var nbb_cell_id = 3;\n",
       "                var nbb_unformatted_code = \"# \\u6b8b\\u57fa\\u9009\\u62e9\\u4fee\\u6b63\\nselected_resi = [11, 57, 58, 59, 65, 68, 69, 71, 72, 73, 74, 75, 76, 77, 78, 79, 80, 81, 83]\\nselected_resi_xiu = np.array(selected_resi) - 1\\nprint(selected_resi_xiu)\";\n",
       "                var nbb_formatted_code = \"# \\u6b8b\\u57fa\\u9009\\u62e9\\u4fee\\u6b63\\nselected_resi = [\\n    11,\\n    57,\\n    58,\\n    59,\\n    65,\\n    68,\\n    69,\\n    71,\\n    72,\\n    73,\\n    74,\\n    75,\\n    76,\\n    77,\\n    78,\\n    79,\\n    80,\\n    81,\\n    83,\\n]\\nselected_resi_xiu = np.array(selected_resi) - 1\\nprint(selected_resi_xiu)\";\n",
       "                var nbb_cells = Jupyter.notebook.get_cells();\n",
       "                for (var i = 0; i < nbb_cells.length; ++i) {\n",
       "                    if (nbb_cells[i].input_prompt_number == nbb_cell_id) {\n",
       "                        if (nbb_cells[i].get_text() == nbb_unformatted_code) {\n",
       "                             nbb_cells[i].set_text(nbb_formatted_code);\n",
       "                        }\n",
       "                        break;\n",
       "                    }\n",
       "                }\n",
       "            }, 500);\n",
       "            "
      ],
      "text/plain": [
       "<IPython.core.display.Javascript object>"
      ]
     },
     "metadata": {},
     "output_type": "display_data"
    }
   ],
   "source": [
    "# 残基选择修正\n",
    "selected_resi = [\n",
    "    11,\n",
    "    57,\n",
    "    58,\n",
    "    59,\n",
    "    65,\n",
    "    68,\n",
    "    69,\n",
    "    71,\n",
    "    72,\n",
    "    73,\n",
    "    74,\n",
    "    75,\n",
    "    76,\n",
    "    77,\n",
    "    78,\n",
    "    79,\n",
    "    80,\n",
    "    81,\n",
    "    83,\n",
    "]\n",
    "selected_resi_xiu = np.array(selected_resi) - 1\n",
    "print(selected_resi_xiu)"
   ]
  },
  {
   "cell_type": "code",
   "execution_count": 4,
   "id": "3bfe9747",
   "metadata": {
    "ExecuteTime": {
     "end_time": "2022-05-24T03:16:47.880551Z",
     "start_time": "2022-05-24T03:16:44.001505Z"
    },
    "scrolled": true
   },
   "outputs": [
    {
     "name": "stderr",
     "output_type": "stream",
     "text": [
      "/home/sean/miniconda3/envs/env_py3.8/lib/python3.8/site-packages/pyemma/coordinates/data/featurization/angles.py:211: FutureWarning: arrays to stack must be passed as a \"sequence\" type such as list or tuple. Support for non-sequence iterables such as generators is deprecated as of NumPy 1.16 and will raise an error in the future.\n",
      "  indices = np.vstack(valid.values())\n"
     ]
    },
    {
     "data": {
      "text/plain": [
       "['COS(CHI1 0 VAL 11)',\n",
       " 'SIN(CHI1 0 VAL 11)',\n",
       " 'COS(CHI1 0 VAL 57)',\n",
       " 'SIN(CHI1 0 VAL 57)',\n",
       " 'COS(CHI1 0 LEU 58)',\n",
       " 'SIN(CHI1 0 LEU 58)',\n",
       " 'COS(CHI1 0 PRO 59)',\n",
       " 'SIN(CHI1 0 PRO 59)',\n",
       " 'COS(CHI1 0 ARG 65)',\n",
       " 'SIN(CHI1 0 ARG 65)',\n",
       " 'COS(CHI1 0 PHE 69)',\n",
       " 'SIN(CHI1 0 PHE 69)',\n",
       " 'COS(CHI1 0 TYR 71)',\n",
       " 'SIN(CHI1 0 TYR 71)',\n",
       " 'COS(CHI1 0 TYR 72)',\n",
       " 'SIN(CHI1 0 TYR 72)',\n",
       " 'COS(CHI1 0 HISE 73)',\n",
       " 'SIN(CHI1 0 HISE 73)',\n",
       " 'COS(CHI1 0 THR 74)',\n",
       " 'SIN(CHI1 0 THR 74)',\n",
       " 'COS(CHI1 0 THR 75)',\n",
       " 'SIN(CHI1 0 THR 75)',\n",
       " 'COS(CHI1 0 ASP 76)',\n",
       " 'SIN(CHI1 0 ASP 76)',\n",
       " 'COS(CHI1 0 PRO 77)',\n",
       " 'SIN(CHI1 0 PRO 77)',\n",
       " 'COS(CHI1 0 SER 78)',\n",
       " 'SIN(CHI1 0 SER 78)',\n",
       " 'COS(CHI1 0 PHE 79)',\n",
       " 'SIN(CHI1 0 PHE 79)',\n",
       " 'COS(CHI1 0 LEU 80)',\n",
       " 'SIN(CHI1 0 LEU 80)',\n",
       " 'COS(CHI1 0 TYR 83)',\n",
       " 'SIN(CHI1 0 TYR 83)']"
      ]
     },
     "execution_count": 4,
     "metadata": {},
     "output_type": "execute_result"
    },
    {
     "data": {
      "application/javascript": [
       "\n",
       "            setTimeout(function() {\n",
       "                var nbb_cell_id = 4;\n",
       "                var nbb_unformatted_code = \"# add_sidechain_torsions (same to chi1 angle)\\ntorsions_feat = pyemma.coordinates.featurizer(pdb)\\ntorsions_feat.add_sidechain_torsions(\\n    selstr=\\\"name CA and resi 10 56 57 58 64 67 68 70 71 72 73 74 75 76 77 78 79 80 82\\\",\\n    cossin=True,\\n    periodic=False,\\n)\\ntorsions_data = pyemma.coordinates.load(files, features=torsions_feat)\\nlabels = [\\\"backbone\\\\ntorsions\\\"]\\ntorsions_feat.describe()\";\n",
       "                var nbb_formatted_code = \"# add_sidechain_torsions (same to chi1 angle)\\ntorsions_feat = pyemma.coordinates.featurizer(pdb)\\ntorsions_feat.add_sidechain_torsions(\\n    selstr=\\\"name CA and resi 10 56 57 58 64 67 68 70 71 72 73 74 75 76 77 78 79 80 82\\\",\\n    cossin=True,\\n    periodic=False,\\n)\\ntorsions_data = pyemma.coordinates.load(files, features=torsions_feat)\\nlabels = [\\\"backbone\\\\ntorsions\\\"]\\ntorsions_feat.describe()\";\n",
       "                var nbb_cells = Jupyter.notebook.get_cells();\n",
       "                for (var i = 0; i < nbb_cells.length; ++i) {\n",
       "                    if (nbb_cells[i].input_prompt_number == nbb_cell_id) {\n",
       "                        if (nbb_cells[i].get_text() == nbb_unformatted_code) {\n",
       "                             nbb_cells[i].set_text(nbb_formatted_code);\n",
       "                        }\n",
       "                        break;\n",
       "                    }\n",
       "                }\n",
       "            }, 500);\n",
       "            "
      ],
      "text/plain": [
       "<IPython.core.display.Javascript object>"
      ]
     },
     "metadata": {},
     "output_type": "display_data"
    }
   ],
   "source": [
    "# add_sidechain_torsions (same to chi1 angle)\n",
    "torsions_feat = pyemma.coordinates.featurizer(pdb)\n",
    "torsions_feat.add_sidechain_torsions(\n",
    "    selstr=\"name CA and resi 10 56 57 58 64 67 68 70 71 72 73 74 75 76 77 78 79 80 82\",\n",
    "    cossin=True,\n",
    "    periodic=False,\n",
    ")\n",
    "torsions_data = pyemma.coordinates.load(files, features=torsions_feat)\n",
    "labels = [\"backbone\\ntorsions\"]\n",
    "torsions_feat.describe()"
   ]
  },
  {
   "cell_type": "code",
   "execution_count": 3,
   "id": "0147ac54",
   "metadata": {},
   "outputs": [
    {
     "data": {
      "application/javascript": [
       "\n",
       "            setTimeout(function() {\n",
       "                var nbb_cell_id = 3;\n",
       "                var nbb_unformatted_code = \"# \\u591a\\u6bb5\\u914d\\u5bf9\\u539f\\u5b50\\u8ddd\\u79bb\\n#active_atom1 = topology.select(\\\"name CA and resi 99 to 120\\\")\\n#active_atom2 = topology.select(\\\"name CA and resi 259 to 290\\\")\\n#distances_feat = pyemma.coordinates.featurizer(pdb)\\n#distances_feat.add_distances(\\n#   distances_feat.pairs(active_atom1, excluded_neighbors=2), periodic=False\\n#)\\n#distances_feat.add_distances(\\n#   distances_feat.pairs(active_atom2, excluded_neighbors=2), periodic=False\\n#)\\n#distances_data = pyemma.coordinates.load(files, features=distances_feat)\\n#labels = [\\\"backbone atom\\\\ndistances\\\"]\\n#distances_feat.describe()\";\n",
       "                var nbb_formatted_code = \"# \\u591a\\u6bb5\\u914d\\u5bf9\\u539f\\u5b50\\u8ddd\\u79bb\\n# active_atom1 = topology.select(\\\"name CA and resi 99 to 120\\\")\\n# active_atom2 = topology.select(\\\"name CA and resi 259 to 290\\\")\\n# distances_feat = pyemma.coordinates.featurizer(pdb)\\n# distances_feat.add_distances(\\n#   distances_feat.pairs(active_atom1, excluded_neighbors=2), periodic=False\\n# )\\n# distances_feat.add_distances(\\n#   distances_feat.pairs(active_atom2, excluded_neighbors=2), periodic=False\\n# )\\n# distances_data = pyemma.coordinates.load(files, features=distances_feat)\\n# labels = [\\\"backbone atom\\\\ndistances\\\"]\\n# distances_feat.describe()\";\n",
       "                var nbb_cells = Jupyter.notebook.get_cells();\n",
       "                for (var i = 0; i < nbb_cells.length; ++i) {\n",
       "                    if (nbb_cells[i].input_prompt_number == nbb_cell_id) {\n",
       "                        if (nbb_cells[i].get_text() == nbb_unformatted_code) {\n",
       "                             nbb_cells[i].set_text(nbb_formatted_code);\n",
       "                        }\n",
       "                        break;\n",
       "                    }\n",
       "                }\n",
       "            }, 500);\n",
       "            "
      ],
      "text/plain": [
       "<IPython.core.display.Javascript object>"
      ]
     },
     "metadata": {},
     "output_type": "display_data"
    }
   ],
   "source": [
    "# 多段配对原子距离\n",
    "# active_atom1 = topology.select(\"name CA and resi 99 to 120\")\n",
    "# active_atom2 = topology.select(\"name CA and resi 259 to 290\")\n",
    "# distances_feat = pyemma.coordinates.featurizer(pdb)\n",
    "# distances_feat.add_distances(\n",
    "#   distances_feat.pairs(active_atom1, excluded_neighbors=2), periodic=False\n",
    "# )\n",
    "# distances_feat.add_distances(\n",
    "#   distances_feat.pairs(active_atom2, excluded_neighbors=2), periodic=False\n",
    "# )\n",
    "# distances_data = pyemma.coordinates.load(files, features=distances_feat)\n",
    "# labels = [\"backbone atom\\ndistances\"]\n",
    "# distances_feat.describe()"
   ]
  },
  {
   "cell_type": "code",
   "execution_count": 1,
   "id": "ea387267",
   "metadata": {},
   "outputs": [],
   "source": [
    "# 多段残基坐标\n",
    "#active_residue1 = arange(99, 120)\n",
    "#active_residue2 = arange(259, 290)\n",
    "#active_residue = list(active_residue1) + list(active_residue2)\n",
    "#positions_feat = pyemma.coordinates.featurizer(pdb)\n",
    "#positions_feat.add_residue_COM(active_residue)\n",
    "#positions_data = pyemma.coordinates.load(files, features=positions_feat)\n",
    "#labels = [\"backbone atom\\npositions\"]\n",
    "#positions_feat.describe()"
   ]
  },
  {
   "cell_type": "code",
   "execution_count": null,
   "id": "8d60ca3e",
   "metadata": {},
   "outputs": [],
   "source": [
    "# 多段扭转角\n",
    "# active_resi1 = \"resi 100 to 120\"\n",
    "# active_resi2 = \"resi 259 to 290\"\n",
    "# torsions_feat = pyemma.coordinates.featurizer(pdb)\n",
    "# torsions_feat.add_sidechain_torsions(selstr=active_resi1, cossin=True, periodic=False)\n",
    "# torsions_feat.add_sidechain_torsions(selstr=active_resi2, cossin=True, periodic=False)\n",
    "# torsions_data = pyemma.coordinates.load(files, features=torsions_feat)\n",
    "# labels = [\"backbone\\ntorsions\"]\n",
    "# torsions_feat.describe()"
   ]
  },
  {
   "cell_type": "code",
   "execution_count": null,
   "id": "cea63f5d",
   "metadata": {},
   "outputs": [],
   "source": [
    "# add_sidechain_torsions (same to chi1 angle)\n",
    "# torsions_feat = pyemma.coordinates.featurizer(pdb)\n",
    "# torsions_feat.add_sidechain_torsions(\n",
    "#    selstr=\"name CA and resi 259 to 289\", cossin=True, periodic=False, which=\"chi1\"\n",
    "# )\n",
    "# torsions_data = pyemma.coordinates.load(files, features=torsions_feat)\n",
    "# labels = [\"backbone\\ntorsions\"]\n",
    "# torsions_feat.describe()\n",
    "# type(torsions_feat)\n",
    "# type(torsions_data)"
   ]
  },
  {
   "cell_type": "code",
   "execution_count": null,
   "id": "31c3a294",
   "metadata": {},
   "outputs": [],
   "source": [
    "# chi1 angle\n",
    "# torsions_feat = pyemma.coordinates.featurizer(pdb)\n",
    "# torsions_feat.add_chi1_torsions(\n",
    "#    selstr=\"name CA and resi 259 to 289\", cossin=True, periodic=False\n",
    "# )\n",
    "# torsions_data = pyemma.coordinates.load(files, features=torsions_feat)\n",
    "# labels = [\"backbone\\ntorsions\"]\n",
    "# torsions_feat.describe()\n",
    "# type(torsions_feat)\n",
    "# type(torsions_data)\n",
    "\n",
    "# chi1 angle\n",
    "# The chi1 angle is given in the side chain panel.\n",
    "# Ideally, values of chi1 should be 60, 180, and -60.\n",
    "# The chi1 angle is defined as the dihedral angle between the N -- CA -- CB -- XG of the same residue (where XG is either CG or OG)"
   ]
  },
  {
   "cell_type": "code",
   "execution_count": 3,
   "id": "d882b1f6",
   "metadata": {},
   "outputs": [
    {
     "data": {
      "application/javascript": [
       "\n",
       "            setTimeout(function() {\n",
       "                var nbb_cell_id = 3;\n",
       "                var nbb_unformatted_code = \"# \\u4e3b\\u5e72\\u626d\\u8f6c\\u89d2\\n#torsions_feat = pyemma.coordinates.featurizer(pdb)\\n#torsions_feat.add_backbone_torsions(cossin=True, periodic=False)\\n#torsions_data = pyemma.coordinates.load(files, features=torsions_feat)\\n#labels = [\\\"backbone\\\\ntorsions\\\"]\\n#torsions_feat.describe()\";\n",
       "                var nbb_formatted_code = \"# \\u4e3b\\u5e72\\u626d\\u8f6c\\u89d2\\n# torsions_feat = pyemma.coordinates.featurizer(pdb)\\n# torsions_feat.add_backbone_torsions(cossin=True, periodic=False)\\n# torsions_data = pyemma.coordinates.load(files, features=torsions_feat)\\n# labels = [\\\"backbone\\\\ntorsions\\\"]\\n# torsions_feat.describe()\";\n",
       "                var nbb_cells = Jupyter.notebook.get_cells();\n",
       "                for (var i = 0; i < nbb_cells.length; ++i) {\n",
       "                    if (nbb_cells[i].input_prompt_number == nbb_cell_id) {\n",
       "                        if (nbb_cells[i].get_text() == nbb_unformatted_code) {\n",
       "                             nbb_cells[i].set_text(nbb_formatted_code);\n",
       "                        }\n",
       "                        break;\n",
       "                    }\n",
       "                }\n",
       "            }, 500);\n",
       "            "
      ],
      "text/plain": [
       "<IPython.core.display.Javascript object>"
      ]
     },
     "metadata": {},
     "output_type": "display_data"
    }
   ],
   "source": [
    "# 主干扭转角\n",
    "# torsions_feat = pyemma.coordinates.featurizer(pdb)\n",
    "# torsions_feat.add_backbone_torsions(cossin=True, periodic=False)\n",
    "# torsions_data = pyemma.coordinates.load(files, features=torsions_feat)\n",
    "# labels = [\"backbone\\ntorsions\"]\n",
    "# torsions_feat.describe()"
   ]
  },
  {
   "cell_type": "code",
   "execution_count": 3,
   "id": "83f5cd5e",
   "metadata": {
    "scrolled": true,
    "tags": []
   },
   "outputs": [
    {
     "data": {
      "application/javascript": [
       "\n",
       "            setTimeout(function() {\n",
       "                var nbb_cell_id = 3;\n",
       "                var nbb_unformatted_code = \"# CA\\u539f\\u5b50\\u4f4d\\u7f6e\\n# feat = pyemma.coordinates.featurizer(pdb)\\n# active_atom = topology.select(\\\"name CA and resi 259 to 289\\\")\\n# feat.add_selection(active_atom)\\n# distances_data = pyemma.coordinates.load(files, features=feat)\\n# feat.describe()\";\n",
       "                var nbb_formatted_code = \"# CA\\u539f\\u5b50\\u4f4d\\u7f6e\\n# feat = pyemma.coordinates.featurizer(pdb)\\n# active_atom = topology.select(\\\"name CA and resi 259 to 289\\\")\\n# feat.add_selection(active_atom)\\n# distances_data = pyemma.coordinates.load(files, features=feat)\\n# feat.describe()\";\n",
       "                var nbb_cells = Jupyter.notebook.get_cells();\n",
       "                for (var i = 0; i < nbb_cells.length; ++i) {\n",
       "                    if (nbb_cells[i].input_prompt_number == nbb_cell_id) {\n",
       "                        if (nbb_cells[i].get_text() == nbb_unformatted_code) {\n",
       "                             nbb_cells[i].set_text(nbb_formatted_code);\n",
       "                        }\n",
       "                        break;\n",
       "                    }\n",
       "                }\n",
       "            }, 500);\n",
       "            "
      ],
      "text/plain": [
       "<IPython.core.display.Javascript object>"
      ]
     },
     "metadata": {},
     "output_type": "display_data"
    }
   ],
   "source": [
    "# CA原子位置\n",
    "# feat = pyemma.coordinates.featurizer(pdb)\n",
    "# active_atom = topology.select(\"name CA and resi 259 to 289\")\n",
    "# feat.add_selection(active_atom)\n",
    "# distances_data = pyemma.coordinates.load(files, features=feat)\n",
    "# feat.describe()"
   ]
  },
  {
   "cell_type": "code",
   "execution_count": 4,
   "id": "1809ca22",
   "metadata": {},
   "outputs": [
    {
     "data": {
      "application/javascript": [
       "\n",
       "            setTimeout(function() {\n",
       "                var nbb_cell_id = 4;\n",
       "                var nbb_unformatted_code = \"# RMSD\\n# positions_feat = pyemma.coordinates.featurizer(pdb)\\n# positions_feat.add_minrmsd_to_ref(files, ref_frame=100, atom_indices=\\\"name CA and resi 259 to 289\\\")\\n# positions_data = pyemma.coordinates.load(files, features=feat)\\n# labels = [\\\"backbone atom\\\\npositions\\\"]\\n# positions_feat.describe()\";\n",
       "                var nbb_formatted_code = \"# RMSD\\n# positions_feat = pyemma.coordinates.featurizer(pdb)\\n# positions_feat.add_minrmsd_to_ref(files, ref_frame=100, atom_indices=\\\"name CA and resi 259 to 289\\\")\\n# positions_data = pyemma.coordinates.load(files, features=feat)\\n# labels = [\\\"backbone atom\\\\npositions\\\"]\\n# positions_feat.describe()\";\n",
       "                var nbb_cells = Jupyter.notebook.get_cells();\n",
       "                for (var i = 0; i < nbb_cells.length; ++i) {\n",
       "                    if (nbb_cells[i].input_prompt_number == nbb_cell_id) {\n",
       "                        if (nbb_cells[i].get_text() == nbb_unformatted_code) {\n",
       "                             nbb_cells[i].set_text(nbb_formatted_code);\n",
       "                        }\n",
       "                        break;\n",
       "                    }\n",
       "                }\n",
       "            }, 500);\n",
       "            "
      ],
      "text/plain": [
       "<IPython.core.display.Javascript object>"
      ]
     },
     "metadata": {},
     "output_type": "display_data"
    }
   ],
   "source": [
    "# RMSD\n",
    "# positions_feat = pyemma.coordinates.featurizer(pdb)\n",
    "# positions_feat.add_minrmsd_to_ref(files, ref_frame=100, atom_indices=\"name CA and resi 259 to 289\")\n",
    "# positions_data = pyemma.coordinates.load(files, features=feat)\n",
    "# labels = [\"backbone atom\\npositions\"]\n",
    "# positions_feat.describe()\n",
    "\n",
    "# positions_feat.add_minrmsd_to_ref(traj, ref_frame=0, atom_indices=None, precentered=False)"
   ]
  },
  {
   "cell_type": "code",
   "execution_count": 6,
   "id": "c3880611",
   "metadata": {
    "scrolled": true,
    "tags": []
   },
   "outputs": [
    {
     "data": {
      "application/javascript": [
       "\n",
       "            setTimeout(function() {\n",
       "                var nbb_cell_id = 6;\n",
       "                var nbb_unformatted_code = \"# \\u591a\\u6bb5\\u6b8b\\u57fa\\u5750\\u6807\\n#feat = pyemma.coordinates.featurizer(pdb)\\n#active_residue1 = arange(259, 290) \\n#active_residue2 = arange(220, 240) \\n#active_residue3 = arange(180, 200)\\n#active_residue  = list(active_residue1)+list(active_residue2)+list(active_residue3)\\n#feat.add_residue_COM(active_residue)\\n#distances_data = pyemma.coordinates.load(files, features=feat)\\n#feat.describe()\";\n",
       "                var nbb_formatted_code = \"# \\u591a\\u6bb5\\u6b8b\\u57fa\\u5750\\u6807\\n# feat = pyemma.coordinates.featurizer(pdb)\\n# active_residue1 = arange(259, 290)\\n# active_residue2 = arange(220, 240)\\n# active_residue3 = arange(180, 200)\\n# active_residue  = list(active_residue1)+list(active_residue2)+list(active_residue3)\\n# feat.add_residue_COM(active_residue)\\n# distances_data = pyemma.coordinates.load(files, features=feat)\\n# feat.describe()\";\n",
       "                var nbb_cells = Jupyter.notebook.get_cells();\n",
       "                for (var i = 0; i < nbb_cells.length; ++i) {\n",
       "                    if (nbb_cells[i].input_prompt_number == nbb_cell_id) {\n",
       "                        if (nbb_cells[i].get_text() == nbb_unformatted_code) {\n",
       "                             nbb_cells[i].set_text(nbb_formatted_code);\n",
       "                        }\n",
       "                        break;\n",
       "                    }\n",
       "                }\n",
       "            }, 500);\n",
       "            "
      ],
      "text/plain": [
       "<IPython.core.display.Javascript object>"
      ]
     },
     "metadata": {},
     "output_type": "display_data"
    }
   ],
   "source": [
    "# 多段残基坐标\n",
    "# feat = pyemma.coordinates.featurizer(pdb)\n",
    "# active_residue1 = arange(259, 290)\n",
    "# active_residue2 = arange(220, 240)\n",
    "# active_residue3 = arange(180, 200)\n",
    "# active_residue  = list(active_residue1)+list(active_residue2)+list(active_residue3)\n",
    "# feat.add_residue_COM(active_residue)\n",
    "# distances_data = pyemma.coordinates.load(files, features=feat)\n",
    "# feat.describe()"
   ]
  },
  {
   "cell_type": "markdown",
   "id": "f56c5a37",
   "metadata": {
    "tags": [],
    "toc-hr-collapsed": true
   },
   "source": [
    "# Coordinate transform and discretization"
   ]
  },
  {
   "cell_type": "markdown",
   "id": "864fb37b",
   "metadata": {},
   "source": [
    "## Time-lagged independent component analysis (TICA)"
   ]
  },
  {
   "cell_type": "code",
   "execution_count": 42,
   "id": "ccd22330",
   "metadata": {
    "ExecuteTime": {
     "end_time": "2022-07-21T23:36:13.994732Z",
     "start_time": "2022-07-21T23:36:13.865124Z"
    }
   },
   "outputs": [
    {
     "data": {
      "application/javascript": [
       "\n",
       "            setTimeout(function() {\n",
       "                var nbb_cell_id = 42;\n",
       "                var nbb_unformatted_code = \"tica = pyemma.coordinates.tica(torsions_data, lag=5)\\ntica_output = tica.get_output()\\ntica_concatenated = np.concatenate(tica_output)\";\n",
       "                var nbb_formatted_code = \"tica = pyemma.coordinates.tica(torsions_data, lag=5)\\ntica_output = tica.get_output()\\ntica_concatenated = np.concatenate(tica_output)\";\n",
       "                var nbb_cells = Jupyter.notebook.get_cells();\n",
       "                for (var i = 0; i < nbb_cells.length; ++i) {\n",
       "                    if (nbb_cells[i].input_prompt_number == nbb_cell_id) {\n",
       "                        if (nbb_cells[i].get_text() == nbb_unformatted_code) {\n",
       "                             nbb_cells[i].set_text(nbb_formatted_code);\n",
       "                        }\n",
       "                        break;\n",
       "                    }\n",
       "                }\n",
       "            }, 500);\n",
       "            "
      ],
      "text/plain": [
       "<IPython.core.display.Javascript object>"
      ]
     },
     "metadata": {},
     "output_type": "display_data"
    }
   ],
   "source": [
    "tica = pyemma.coordinates.tica(torsions_data, lag=5)\n",
    "tica_output = tica.get_output()\n",
    "tica_concatenated = np.concatenate(tica_output)"
   ]
  },
  {
   "cell_type": "code",
   "execution_count": 43,
   "id": "c6ddcb69",
   "metadata": {
    "ExecuteTime": {
     "end_time": "2022-07-21T23:36:14.618716Z",
     "start_time": "2022-07-21T23:36:14.479221Z"
    },
    "scrolled": true
   },
   "outputs": [
    {
     "ename": "RuntimeError",
     "evalue": "This function is only useful for less than 50 dimensions. Turn-off this warning at your own risk with ignore_dim_warning=True.",
     "output_type": "error",
     "traceback": [
      "\u001b[0;31m---------------------------------------------------------------------------\u001b[0m",
      "\u001b[0;31mRuntimeError\u001b[0m                              Traceback (most recent call last)",
      "\u001b[0;32m/tmp/ipykernel_4495/3041641177.py\u001b[0m in \u001b[0;36m<module>\u001b[0;34m\u001b[0m\n\u001b[1;32m      1\u001b[0m \u001b[0mfig\u001b[0m\u001b[0;34m,\u001b[0m \u001b[0maxes\u001b[0m \u001b[0;34m=\u001b[0m \u001b[0mplt\u001b[0m\u001b[0;34m.\u001b[0m\u001b[0msubplots\u001b[0m\u001b[0;34m(\u001b[0m\u001b[0;36m1\u001b[0m\u001b[0;34m,\u001b[0m \u001b[0;36m2\u001b[0m\u001b[0;34m,\u001b[0m \u001b[0mfigsize\u001b[0m\u001b[0;34m=\u001b[0m\u001b[0;34m(\u001b[0m\u001b[0;36m10\u001b[0m\u001b[0;34m,\u001b[0m \u001b[0;36m4\u001b[0m\u001b[0;34m)\u001b[0m\u001b[0;34m)\u001b[0m\u001b[0;34m\u001b[0m\u001b[0;34m\u001b[0m\u001b[0m\n\u001b[0;32m----> 2\u001b[0;31m pyemma.plots.plot_feature_histograms(\n\u001b[0m\u001b[1;32m      3\u001b[0m     \u001b[0mtica_concatenated\u001b[0m\u001b[0;34m,\u001b[0m\u001b[0;34m\u001b[0m\u001b[0;34m\u001b[0m\u001b[0m\n\u001b[1;32m      4\u001b[0m     \u001b[0max\u001b[0m\u001b[0;34m=\u001b[0m\u001b[0maxes\u001b[0m\u001b[0;34m[\u001b[0m\u001b[0;36m0\u001b[0m\u001b[0;34m]\u001b[0m\u001b[0;34m,\u001b[0m\u001b[0;34m\u001b[0m\u001b[0;34m\u001b[0m\u001b[0m\n\u001b[1;32m      5\u001b[0m     \u001b[0mfeature_labels\u001b[0m\u001b[0;34m=\u001b[0m\u001b[0;34m[\u001b[0m\u001b[0;34m\"IC1\"\u001b[0m\u001b[0;34m,\u001b[0m \u001b[0;34m\"IC2\"\u001b[0m\u001b[0;34m,\u001b[0m \u001b[0;34m\"IC3\"\u001b[0m\u001b[0;34m,\u001b[0m \u001b[0;34m\"IC4\"\u001b[0m\u001b[0;34m]\u001b[0m\u001b[0;34m,\u001b[0m\u001b[0;34m\u001b[0m\u001b[0;34m\u001b[0m\u001b[0m\n",
      "\u001b[0;32m~/miniconda3/envs/env_py3.8/lib/python3.8/site-packages/pyemma/plots/plots1d.py\u001b[0m in \u001b[0;36mplot_feature_histograms\u001b[0;34m(xyzall, feature_labels, ax, ylog, outfile, n_bins, ignore_dim_warning, **kwargs)\u001b[0m\n\u001b[1;32m     64\u001b[0m \u001b[0;34m\u001b[0m\u001b[0m\n\u001b[1;32m     65\u001b[0m     \u001b[0;32mif\u001b[0m \u001b[0mxyzall\u001b[0m\u001b[0;34m.\u001b[0m\u001b[0mshape\u001b[0m\u001b[0;34m[\u001b[0m\u001b[0;36m1\u001b[0m\u001b[0;34m]\u001b[0m \u001b[0;34m>\u001b[0m \u001b[0;36m50\u001b[0m \u001b[0;32mand\u001b[0m \u001b[0;32mnot\u001b[0m \u001b[0mignore_dim_warning\u001b[0m\u001b[0;34m:\u001b[0m\u001b[0;34m\u001b[0m\u001b[0;34m\u001b[0m\u001b[0m\n\u001b[0;32m---> 66\u001b[0;31m         raise RuntimeError('This function is only useful for less than 50 dimensions. Turn-off this warning '\n\u001b[0m\u001b[1;32m     67\u001b[0m                            'at your own risk with ignore_dim_warning=True.')\n\u001b[1;32m     68\u001b[0m \u001b[0;34m\u001b[0m\u001b[0m\n",
      "\u001b[0;31mRuntimeError\u001b[0m: This function is only useful for less than 50 dimensions. Turn-off this warning at your own risk with ignore_dim_warning=True."
     ]
    },
    {
     "data": {
      "image/png": "[encoded data removed]",
      "text/plain": [
       "<Figure size 720x288 with 2 Axes>"
      ]
     },
     "metadata": {
      "needs_background": "light"
     },
     "output_type": "display_data"
    },
    {
     "data": {
      "application/javascript": [
       "\n",
       "            setTimeout(function() {\n",
       "                var nbb_cell_id = 43;\n",
       "                var nbb_unformatted_code = \"fig, axes = plt.subplots(1, 2, figsize=(10, 4))\\npyemma.plots.plot_feature_histograms(\\n    tica_concatenated,\\n    ax=axes[0],\\n    feature_labels=[\\\"IC1\\\", \\\"IC2\\\", \\\"IC3\\\", \\\"IC4\\\"],\\n    ylog=True,\\n)\\npyemma.plots.plot_density(*tica_concatenated[:, :2].T, ax=axes[1], logscale=True)\\naxes[1].set_xlabel(\\\"IC 1\\\")\\naxes[1].set_ylabel(\\\"IC 2\\\")\\nfig.tight_layout()\";\n",
       "                var nbb_formatted_code = \"fig, axes = plt.subplots(1, 2, figsize=(10, 4))\\npyemma.plots.plot_feature_histograms(\\n    tica_concatenated,\\n    ax=axes[0],\\n    feature_labels=[\\\"IC1\\\", \\\"IC2\\\", \\\"IC3\\\", \\\"IC4\\\"],\\n    ylog=True,\\n)\\npyemma.plots.plot_density(*tica_concatenated[:, :2].T, ax=axes[1], logscale=True)\\naxes[1].set_xlabel(\\\"IC 1\\\")\\naxes[1].set_ylabel(\\\"IC 2\\\")\\nfig.tight_layout()\";\n",
       "                var nbb_cells = Jupyter.notebook.get_cells();\n",
       "                for (var i = 0; i < nbb_cells.length; ++i) {\n",
       "                    if (nbb_cells[i].input_prompt_number == nbb_cell_id) {\n",
       "                        if (nbb_cells[i].get_text() == nbb_unformatted_code) {\n",
       "                             nbb_cells[i].set_text(nbb_formatted_code);\n",
       "                        }\n",
       "                        break;\n",
       "                    }\n",
       "                }\n",
       "            }, 500);\n",
       "            "
      ],
      "text/plain": [
       "<IPython.core.display.Javascript object>"
      ]
     },
     "metadata": {},
     "output_type": "display_data"
    }
   ],
   "source": [
    "fig, axes = plt.subplots(1, 2, figsize=(10, 4))\n",
    "pyemma.plots.plot_feature_histograms(\n",
    "    tica_concatenated,\n",
    "    ax=axes[0],\n",
    "    feature_labels=[\"IC1\", \"IC2\", \"IC3\", \"IC4\"],\n",
    "    ylog=True,\n",
    ")\n",
    "pyemma.plots.plot_density(*tica_concatenated[:, :2].T, ax=axes[1], logscale=True)\n",
    "axes[1].set_xlabel(\"IC 1\")\n",
    "axes[1].set_ylabel(\"IC 2\")\n",
    "fig.tight_layout()"
   ]
  },
  {
   "cell_type": "code",
   "execution_count": 44,
   "id": "8731a2cd",
   "metadata": {
    "ExecuteTime": {
     "end_time": "2022-07-21T23:36:15.483731Z",
     "start_time": "2022-07-21T23:36:15.196014Z"
    }
   },
   "outputs": [
    {
     "data": {
      "image/png": "[encoded data removed]",
      "text/plain": [
       "<Figure size 864x360 with 4 Axes>"
      ]
     },
     "metadata": {
      "needs_background": "light"
     },
     "output_type": "display_data"
    },
    {
     "data": {
      "application/javascript": [
       "\n",
       "            setTimeout(function() {\n",
       "                var nbb_cell_id = 44;\n",
       "                var nbb_unformatted_code = \"fig, axes = plt.subplots(4, 1, figsize=(12, 5), sharex=True)\\nx = 0.1 * np.arange(tica_output[0].shape[0])\\nfor i, (ax, tic) in enumerate(zip(axes.flat, tica_output[0].T)):\\n    ax.plot(x, tic)\\n    ax.set_ylabel(\\\"IC {}\\\".format(i + 1))\\naxes[-1].set_xlabel(\\\"time / ns\\\")\\nfig.tight_layout()\";\n",
       "                var nbb_formatted_code = \"fig, axes = plt.subplots(4, 1, figsize=(12, 5), sharex=True)\\nx = 0.1 * np.arange(tica_output[0].shape[0])\\nfor i, (ax, tic) in enumerate(zip(axes.flat, tica_output[0].T)):\\n    ax.plot(x, tic)\\n    ax.set_ylabel(\\\"IC {}\\\".format(i + 1))\\naxes[-1].set_xlabel(\\\"time / ns\\\")\\nfig.tight_layout()\";\n",
       "                var nbb_cells = Jupyter.notebook.get_cells();\n",
       "                for (var i = 0; i < nbb_cells.length; ++i) {\n",
       "                    if (nbb_cells[i].input_prompt_number == nbb_cell_id) {\n",
       "                        if (nbb_cells[i].get_text() == nbb_unformatted_code) {\n",
       "                             nbb_cells[i].set_text(nbb_formatted_code);\n",
       "                        }\n",
       "                        break;\n",
       "                    }\n",
       "                }\n",
       "            }, 500);\n",
       "            "
      ],
      "text/plain": [
       "<IPython.core.display.Javascript object>"
      ]
     },
     "metadata": {},
     "output_type": "display_data"
    }
   ],
   "source": [
    "fig, axes = plt.subplots(4, 1, figsize=(12, 5), sharex=True)\n",
    "x = 0.1 * np.arange(tica_output[0].shape[0])\n",
    "for i, (ax, tic) in enumerate(zip(axes.flat, tica_output[0].T)):\n",
    "    ax.plot(x, tic)\n",
    "    ax.set_ylabel(\"IC {}\".format(i + 1))\n",
    "axes[-1].set_xlabel(\"time / ns\")\n",
    "fig.tight_layout()"
   ]
  },
  {
   "cell_type": "markdown",
   "id": "187f751c",
   "metadata": {},
   "source": [
    "## Clustering and Discretization"
   ]
  },
  {
   "cell_type": "code",
   "execution_count": 45,
   "id": "43ca8f41",
   "metadata": {
    "ExecuteTime": {
     "end_time": "2022-07-21T23:36:26.836088Z",
     "start_time": "2022-07-21T23:36:19.189517Z"
    }
   },
   "outputs": [
    {
     "name": "stderr",
     "output_type": "stream",
     "text": [
      "\r",
      "bar:   0%|\u001b[34m                                                \u001b[0m| 0/5 [00:00<?, ?it/s]\u001b[0m"
     ]
    },
    {
     "name": "stdout",
     "output_type": "stream",
     "text": [
      "22-07-22 07:36:19 pyemma.msm.estimators.maximum_likelihood_msm.MaximumLikelihoodMSM[407] WARNING  Requested scoring rank 5 exceeds number of MSM states. Reduced to score_k = 3\n"
     ]
    },
    {
     "name": "stderr",
     "output_type": "stream",
     "text": [
      "bar:  80%|\u001b[34m████████████████████████████████        \u001b[0m| 4/5 [00:00<00:00, 10.81it/s]\u001b[0m"
     ]
    },
    {
     "name": "stdout",
     "output_type": "stream",
     "text": [
      "22-07-22 07:36:19 pyemma.msm.estimators.maximum_likelihood_msm.MaximumLikelihoodMSM[419] WARNING  Requested scoring rank 5 exceeds number of MSM states. Reduced to score_k = 3\n"
     ]
    },
    {
     "name": "stderr",
     "output_type": "stream",
     "text": [
      "bar: 100%|\u001b[34m████████████████████████████████████████\u001b[0m| 5/5 [00:00<00:00, 10.88it/s]\u001b[0m\n",
      "bar:   0%|\u001b[34m                                                \u001b[0m| 0/5 [00:00<?, ?it/s]\u001b[0m"
     ]
    },
    {
     "name": "stdout",
     "output_type": "stream",
     "text": [
      "22-07-22 07:36:19 pyemma.msm.estimators.maximum_likelihood_msm.MaximumLikelihoodMSM[423] WARNING  Requested scoring rank 10 exceeds number of MSM states. Reduced to score_k = 8\n"
     ]
    },
    {
     "name": "stderr",
     "output_type": "stream",
     "text": [
      "\r",
      "bar:  20%|\u001b[34m████████                                \u001b[0m| 1/5 [00:00<00:00,  7.99it/s]\u001b[0m"
     ]
    },
    {
     "name": "stdout",
     "output_type": "stream",
     "text": [
      "22-07-22 07:36:19 pyemma.msm.estimators.maximum_likelihood_msm.MaximumLikelihoodMSM[427] WARNING  Requested scoring rank 10 exceeds number of MSM states. Reduced to score_k = 9\n"
     ]
    },
    {
     "name": "stderr",
     "output_type": "stream",
     "text": [
      "\r",
      "bar:  40%|\u001b[34m████████████████                        \u001b[0m| 2/5 [00:00<00:00,  8.36it/s]\u001b[0m"
     ]
    },
    {
     "name": "stdout",
     "output_type": "stream",
     "text": [
      "22-07-22 07:36:20 pyemma.msm.estimators.maximum_likelihood_msm.MaximumLikelihoodMSM[431] WARNING  Requested scoring rank 10 exceeds number of MSM states. Reduced to score_k = 9\n"
     ]
    },
    {
     "name": "stderr",
     "output_type": "stream",
     "text": [
      "\r",
      "bar:  60%|\u001b[34m████████████████████████                \u001b[0m| 3/5 [00:00<00:00,  8.49it/s]\u001b[0m"
     ]
    },
    {
     "name": "stdout",
     "output_type": "stream",
     "text": [
      "22-07-22 07:36:20 pyemma.msm.estimators.maximum_likelihood_msm.MaximumLikelihoodMSM[435] WARNING  Requested scoring rank 10 exceeds number of MSM states. Reduced to score_k = 9\n"
     ]
    },
    {
     "name": "stderr",
     "output_type": "stream",
     "text": [
      "\r",
      "bar:  80%|\u001b[34m████████████████████████████████        \u001b[0m| 4/5 [00:00<00:00,  8.56it/s]\u001b[0m"
     ]
    },
    {
     "name": "stdout",
     "output_type": "stream",
     "text": [
      "22-07-22 07:36:20 pyemma.msm.estimators.maximum_likelihood_msm.MaximumLikelihoodMSM[439] WARNING  Requested scoring rank 10 exceeds number of MSM states. Reduced to score_k = 9\n"
     ]
    },
    {
     "name": "stderr",
     "output_type": "stream",
     "text": [
      "bar: 100%|\u001b[34m████████████████████████████████████████\u001b[0m| 5/5 [00:00<00:00,  8.48it/s]\u001b[0m\n",
      "bar: 100%|\u001b[34m████████████████████████████████████████\u001b[0m| 5/5 [00:00<00:00,  8.47it/s]\u001b[0m\n",
      "bar: 100%|\u001b[34m████████████████████████████████████████\u001b[0m| 5/5 [00:00<00:00,  7.98it/s]\u001b[0m\n",
      "bar: 100%|\u001b[34m████████████████████████████████████████\u001b[0m| 5/5 [00:01<00:00,  4.65it/s]\u001b[0m\n",
      "bar: 100%|\u001b[34m████████████████████████████████████████\u001b[0m| 5/5 [00:01<00:00,  4.46it/s]\u001b[0m\n",
      "bar: 100%|\u001b[34m████████████████████████████████████████\u001b[0m| 5/5 [00:00<00:00,  5.90it/s]\u001b[0m\n",
      "bar: 100%|\u001b[34m████████████████████████████████████████\u001b[0m| 5/5 [00:00<00:00,  5.41it/s]\u001b[0m\n",
      "bar: 100%|\u001b[34m████████████████████████████████████████\u001b[0m| 5/5 [00:01<00:00,  4.86it/s]\u001b[0m\n"
     ]
    },
    {
     "data": {
      "image/png": "[encoded data removed]",
      "text/plain": [
       "<Figure size 432x288 with 1 Axes>"
      ]
     },
     "metadata": {
      "needs_background": "light"
     },
     "output_type": "display_data"
    },
    {
     "data": {
      "application/javascript": [
       "\n",
       "            setTimeout(function() {\n",
       "                var nbb_cell_id = 45;\n",
       "                var nbb_unformatted_code = \"n_clustercenters = [5, 10, 25, 50, 75, 100, 130, 175, 200]\\n\\nscores = np.zeros((len(n_clustercenters), 5))\\nfor n, k in enumerate(n_clustercenters):\\n    for m in tqdm(range(5), ncols=80, desc=\\\"bar\\\", colour=\\\"blue\\\"):\\n        sleep(0.05)\\n        with pyemma.util.contexts.settings(show_progress_bars=False):\\n            _cl = pyemma.coordinates.cluster_kmeans(\\n                tica_output, k=k, max_iter=50, stride=50\\n            )\\n            _msm = pyemma.msm.estimate_markov_model(_cl.dtrajs, 5)\\n            scores[n, m] = _msm.score_cv(\\n                _cl.dtrajs, n=1, score_method=\\\"VAMP2\\\", score_k=min(10, k)\\n            )\\n\\nfig, ax = plt.subplots()\\nlower, upper = pyemma.util.statistics.confidence_interval(scores.T.tolist(), conf=0.9)\\nax.fill_between(n_clustercenters, lower, upper, alpha=0.3)\\nax.plot(n_clustercenters, np.mean(scores, axis=1), \\\"-o\\\")\\nax.semilogx()\\nax.set_xlabel(\\\"number of cluster centers\\\")\\nax.set_ylabel(\\\"VAMP-2 score\\\")\\nfig.tight_layout()\";\n",
       "                var nbb_formatted_code = \"n_clustercenters = [5, 10, 25, 50, 75, 100, 130, 175, 200]\\n\\nscores = np.zeros((len(n_clustercenters), 5))\\nfor n, k in enumerate(n_clustercenters):\\n    for m in tqdm(range(5), ncols=80, desc=\\\"bar\\\", colour=\\\"blue\\\"):\\n        sleep(0.05)\\n        with pyemma.util.contexts.settings(show_progress_bars=False):\\n            _cl = pyemma.coordinates.cluster_kmeans(\\n                tica_output, k=k, max_iter=50, stride=50\\n            )\\n            _msm = pyemma.msm.estimate_markov_model(_cl.dtrajs, 5)\\n            scores[n, m] = _msm.score_cv(\\n                _cl.dtrajs, n=1, score_method=\\\"VAMP2\\\", score_k=min(10, k)\\n            )\\n\\nfig, ax = plt.subplots()\\nlower, upper = pyemma.util.statistics.confidence_interval(scores.T.tolist(), conf=0.9)\\nax.fill_between(n_clustercenters, lower, upper, alpha=0.3)\\nax.plot(n_clustercenters, np.mean(scores, axis=1), \\\"-o\\\")\\nax.semilogx()\\nax.set_xlabel(\\\"number of cluster centers\\\")\\nax.set_ylabel(\\\"VAMP-2 score\\\")\\nfig.tight_layout()\";\n",
       "                var nbb_cells = Jupyter.notebook.get_cells();\n",
       "                for (var i = 0; i < nbb_cells.length; ++i) {\n",
       "                    if (nbb_cells[i].input_prompt_number == nbb_cell_id) {\n",
       "                        if (nbb_cells[i].get_text() == nbb_unformatted_code) {\n",
       "                             nbb_cells[i].set_text(nbb_formatted_code);\n",
       "                        }\n",
       "                        break;\n",
       "                    }\n",
       "                }\n",
       "            }, 500);\n",
       "            "
      ],
      "text/plain": [
       "<IPython.core.display.Javascript object>"
      ]
     },
     "metadata": {},
     "output_type": "display_data"
    }
   ],
   "source": [
    "n_clustercenters = [5, 10, 25, 50, 75, 100, 130, 175, 200]\n",
    "\n",
    "scores = np.zeros((len(n_clustercenters), 5))\n",
    "for n, k in enumerate(n_clustercenters):\n",
    "    for m in tqdm(range(5), ncols=80, desc=\"bar\", colour=\"blue\"):\n",
    "        sleep(0.05)\n",
    "        with pyemma.util.contexts.settings(show_progress_bars=False):\n",
    "            _cl = pyemma.coordinates.cluster_kmeans(\n",
    "                tica_output, k=k, max_iter=50, stride=50\n",
    "            )\n",
    "            _msm = pyemma.msm.estimate_markov_model(_cl.dtrajs, 5)\n",
    "            scores[n, m] = _msm.score_cv(\n",
    "                _cl.dtrajs, n=1, score_method=\"VAMP2\", score_k=min(10, k)\n",
    "            )\n",
    "\n",
    "fig, ax = plt.subplots()\n",
    "lower, upper = pyemma.util.statistics.confidence_interval(scores.T.tolist(), conf=0.9)\n",
    "ax.fill_between(n_clustercenters, lower, upper, alpha=0.3)\n",
    "ax.plot(n_clustercenters, np.mean(scores, axis=1), \"-o\")\n",
    "ax.semilogx()\n",
    "ax.set_xlabel(\"number of cluster centers\")\n",
    "ax.set_ylabel(\"VAMP-2 score\")\n",
    "fig.tight_layout()"
   ]
  },
  {
   "cell_type": "code",
   "execution_count": 46,
   "id": "db8c4a11",
   "metadata": {
    "ExecuteTime": {
     "end_time": "2022-07-21T23:36:28.572243Z",
     "start_time": "2022-07-21T23:36:28.508367Z"
    }
   },
   "outputs": [
    {
     "data": {
      "application/vnd.jupyter.widget-view+json": {
       "model_id": "",
       "version_major": 2,
       "version_minor": 0
      },
      "text/plain": [
       "initialize kmeans++ centers:   0%|                                                               | 0/55 [00:00…"
      ]
     },
     "metadata": {},
     "output_type": "display_data"
    },
    {
     "data": {
      "application/vnd.jupyter.widget-view+json": {
       "model_id": "",
       "version_major": 2,
       "version_minor": 0
      },
      "text/plain": [
       "kmeans iterations:   0%|                                                                         | 0/50 [00:00…"
      ]
     },
     "metadata": {},
     "output_type": "display_data"
    },
    {
     "data": {
      "application/javascript": [
       "\n",
       "            setTimeout(function() {\n",
       "                var nbb_cell_id = 46;\n",
       "                var nbb_unformatted_code = \"cluster = pyemma.coordinates.cluster_kmeans(\\n    tica_output, k=55, max_iter=50, stride=10, fixed_seed=1\\n)\\ndtrajs_concatenated = np.concatenate(cluster.dtrajs)\";\n",
       "                var nbb_formatted_code = \"cluster = pyemma.coordinates.cluster_kmeans(\\n    tica_output, k=55, max_iter=50, stride=10, fixed_seed=1\\n)\\ndtrajs_concatenated = np.concatenate(cluster.dtrajs)\";\n",
       "                var nbb_cells = Jupyter.notebook.get_cells();\n",
       "                for (var i = 0; i < nbb_cells.length; ++i) {\n",
       "                    if (nbb_cells[i].input_prompt_number == nbb_cell_id) {\n",
       "                        if (nbb_cells[i].get_text() == nbb_unformatted_code) {\n",
       "                             nbb_cells[i].set_text(nbb_formatted_code);\n",
       "                        }\n",
       "                        break;\n",
       "                    }\n",
       "                }\n",
       "            }, 500);\n",
       "            "
      ],
      "text/plain": [
       "<IPython.core.display.Javascript object>"
      ]
     },
     "metadata": {},
     "output_type": "display_data"
    }
   ],
   "source": [
    "cluster = pyemma.coordinates.cluster_kmeans(\n",
    "    tica_output, k=55, max_iter=50, stride=10, fixed_seed=1\n",
    ")\n",
    "dtrajs_concatenated = np.concatenate(cluster.dtrajs)"
   ]
  },
  {
   "cell_type": "code",
   "execution_count": 47,
   "id": "85fd95f8",
   "metadata": {
    "ExecuteTime": {
     "end_time": "2022-07-21T23:36:29.622966Z",
     "start_time": "2022-07-21T23:36:29.429895Z"
    }
   },
   "outputs": [
    {
     "data": {
      "image/png": "[encoded data removed]",
      "text/plain": [
       "<Figure size 288x288 with 1 Axes>"
      ]
     },
     "metadata": {
      "needs_background": "light"
     },
     "output_type": "display_data"
    },
    {
     "data": {
      "application/javascript": [
       "\n",
       "            setTimeout(function() {\n",
       "                var nbb_cell_id = 47;\n",
       "                var nbb_unformatted_code = \"fig, ax = plt.subplots(figsize=(4, 4))\\npyemma.plots.plot_density(*tica_concatenated[:, :2].T, ax=ax, cbar=False, alpha=0.3)\\nax.scatter(*cluster.clustercenters[:, :2].T, s=5, c=\\\"C1\\\")\\nax.set_xlabel(\\\"IC 1\\\")\\nax.set_ylabel(\\\"IC 2\\\")\\nfig.tight_layout()\";\n",
       "                var nbb_formatted_code = \"fig, ax = plt.subplots(figsize=(4, 4))\\npyemma.plots.plot_density(*tica_concatenated[:, :2].T, ax=ax, cbar=False, alpha=0.3)\\nax.scatter(*cluster.clustercenters[:, :2].T, s=5, c=\\\"C1\\\")\\nax.set_xlabel(\\\"IC 1\\\")\\nax.set_ylabel(\\\"IC 2\\\")\\nfig.tight_layout()\";\n",
       "                var nbb_cells = Jupyter.notebook.get_cells();\n",
       "                for (var i = 0; i < nbb_cells.length; ++i) {\n",
       "                    if (nbb_cells[i].input_prompt_number == nbb_cell_id) {\n",
       "                        if (nbb_cells[i].get_text() == nbb_unformatted_code) {\n",
       "                             nbb_cells[i].set_text(nbb_formatted_code);\n",
       "                        }\n",
       "                        break;\n",
       "                    }\n",
       "                }\n",
       "            }, 500);\n",
       "            "
      ],
      "text/plain": [
       "<IPython.core.display.Javascript object>"
      ]
     },
     "metadata": {},
     "output_type": "display_data"
    }
   ],
   "source": [
    "fig, ax = plt.subplots(figsize=(4, 4))\n",
    "pyemma.plots.plot_density(*tica_concatenated[:, :2].T, ax=ax, cbar=False, alpha=0.3)\n",
    "ax.scatter(*cluster.clustercenters[:, :2].T, s=5, c=\"C1\")\n",
    "ax.set_xlabel(\"IC 1\")\n",
    "ax.set_ylabel(\"IC 2\")\n",
    "fig.tight_layout()"
   ]
  },
  {
   "cell_type": "markdown",
   "id": "6a47c55d",
   "metadata": {
    "tags": [],
    "toc-hr-collapsed": true
   },
   "source": [
    "# MSM estimation and validation"
   ]
  },
  {
   "cell_type": "markdown",
   "id": "5a6fdae9",
   "metadata": {},
   "source": [
    "## Implied timescales"
   ]
  },
  {
   "cell_type": "code",
   "execution_count": 48,
   "id": "10a0e3c2",
   "metadata": {
    "ExecuteTime": {
     "end_time": "2022-07-21T23:36:34.086325Z",
     "start_time": "2022-07-21T23:36:32.502293Z"
    },
    "tags": []
   },
   "outputs": [
    {
     "data": {
      "application/vnd.jupyter.widget-view+json": {
       "model_id": "",
       "version_major": 2,
       "version_minor": 0
      },
      "text/plain": [
       "estimating BayesianMSM:   0%|                                                                    | 0/10 [00:00…"
      ]
     },
     "metadata": {},
     "output_type": "display_data"
    },
    {
     "data": {
      "text/plain": [
       "<AxesSubplot:xlabel='lag time / ns', ylabel='timescale / ns'>"
      ]
     },
     "execution_count": 48,
     "metadata": {},
     "output_type": "execute_result"
    },
    {
     "data": {
      "image/png": "[encoded data removed]",
      "text/plain": [
       "<Figure size 432x288 with 1 Axes>"
      ]
     },
     "metadata": {
      "needs_background": "light"
     },
     "output_type": "display_data"
    },
    {
     "data": {
      "application/javascript": [
       "\n",
       "            setTimeout(function() {\n",
       "                var nbb_cell_id = 48;\n",
       "                var nbb_unformatted_code = \"its = pyemma.msm.its(cluster.dtrajs, lags=50, nits=10, errors=\\\"bayes\\\")\\npyemma.plots.plot_implied_timescales(its, units=\\\"ns\\\", dt=0.1)\";\n",
       "                var nbb_formatted_code = \"its = pyemma.msm.its(cluster.dtrajs, lags=50, nits=10, errors=\\\"bayes\\\")\\npyemma.plots.plot_implied_timescales(its, units=\\\"ns\\\", dt=0.1)\";\n",
       "                var nbb_cells = Jupyter.notebook.get_cells();\n",
       "                for (var i = 0; i < nbb_cells.length; ++i) {\n",
       "                    if (nbb_cells[i].input_prompt_number == nbb_cell_id) {\n",
       "                        if (nbb_cells[i].get_text() == nbb_unformatted_code) {\n",
       "                             nbb_cells[i].set_text(nbb_formatted_code);\n",
       "                        }\n",
       "                        break;\n",
       "                    }\n",
       "                }\n",
       "            }, 500);\n",
       "            "
      ],
      "text/plain": [
       "<IPython.core.display.Javascript object>"
      ]
     },
     "metadata": {},
     "output_type": "display_data"
    }
   ],
   "source": [
    "its = pyemma.msm.its(cluster.dtrajs, lags=50, nits=10, errors=\"bayes\")\n",
    "pyemma.plots.plot_implied_timescales(its, units=\"ns\", dt=0.1)"
   ]
  },
  {
   "cell_type": "code",
   "execution_count": 49,
   "id": "e699ecc6",
   "metadata": {
    "ExecuteTime": {
     "end_time": "2022-07-21T23:36:36.101835Z",
     "start_time": "2022-07-21T23:36:35.881440Z"
    }
   },
   "outputs": [
    {
     "data": {
      "application/vnd.jupyter.widget-view+json": {
       "model_id": "",
       "version_major": 2,
       "version_minor": 0
      },
      "text/plain": [
       "pyemma.msm.estimators.bayesian_msm.BayesianMSM[584]: compute stat. inefficiencies:   0%|        | 0/249 [00:00…"
      ]
     },
     "metadata": {},
     "output_type": "display_data"
    },
    {
     "data": {
      "application/vnd.jupyter.widget-view+json": {
       "model_id": "",
       "version_major": 2,
       "version_minor": 0
      },
      "text/plain": [
       "pyemma.msm.estimators.bayesian_msm.BayesianMSM[584]: Sampling MSMs:   0%|                       | 0/100 [00:00…"
      ]
     },
     "metadata": {},
     "output_type": "display_data"
    },
    {
     "name": "stdout",
     "output_type": "stream",
     "text": [
      "fraction of states used = 1.00\n",
      "fraction of counts used = 1.00\n"
     ]
    },
    {
     "data": {
      "application/javascript": [
       "\n",
       "            setTimeout(function() {\n",
       "                var nbb_cell_id = 49;\n",
       "                var nbb_unformatted_code = \"msm = pyemma.msm.bayesian_markov_model(cluster.dtrajs, lag=5, dt_traj=\\\"0.1 ns\\\")\\nprint(\\\"fraction of states used = {:.2f}\\\".format(msm.active_state_fraction))\\nprint(\\\"fraction of counts used = {:.2f}\\\".format(msm.active_count_fraction))\";\n",
       "                var nbb_formatted_code = \"msm = pyemma.msm.bayesian_markov_model(cluster.dtrajs, lag=5, dt_traj=\\\"0.1 ns\\\")\\nprint(\\\"fraction of states used = {:.2f}\\\".format(msm.active_state_fraction))\\nprint(\\\"fraction of counts used = {:.2f}\\\".format(msm.active_count_fraction))\";\n",
       "                var nbb_cells = Jupyter.notebook.get_cells();\n",
       "                for (var i = 0; i < nbb_cells.length; ++i) {\n",
       "                    if (nbb_cells[i].input_prompt_number == nbb_cell_id) {\n",
       "                        if (nbb_cells[i].get_text() == nbb_unformatted_code) {\n",
       "                             nbb_cells[i].set_text(nbb_formatted_code);\n",
       "                        }\n",
       "                        break;\n",
       "                    }\n",
       "                }\n",
       "            }, 500);\n",
       "            "
      ],
      "text/plain": [
       "<IPython.core.display.Javascript object>"
      ]
     },
     "metadata": {},
     "output_type": "display_data"
    }
   ],
   "source": [
    "msm = pyemma.msm.bayesian_markov_model(cluster.dtrajs, lag=5, dt_traj=\"0.1 ns\")\n",
    "print(\"fraction of states used = {:.2f}\".format(msm.active_state_fraction))\n",
    "print(\"fraction of counts used = {:.2f}\".format(msm.active_count_fraction))"
   ]
  },
  {
   "cell_type": "markdown",
   "id": "437a7bdb",
   "metadata": {},
   "source": [
    "## Chapman-Kolmogorov test"
   ]
  },
  {
   "cell_type": "code",
   "execution_count": 50,
   "id": "9b39896a",
   "metadata": {
    "ExecuteTime": {
     "end_time": "2022-07-21T23:36:44.599841Z",
     "start_time": "2022-07-21T23:36:40.284958Z"
    }
   },
   "outputs": [
    {
     "data": {
      "application/vnd.jupyter.widget-view+json": {
       "model_id": "",
       "version_major": 2,
       "version_minor": 0
      },
      "text/plain": [
       "estimating BayesianMSM:   0%|                                                                     | 0/5 [00:00…"
      ]
     },
     "metadata": {},
     "output_type": "display_data"
    },
    {
     "data": {
      "text/plain": [
       "(<Figure size 720x720 with 25 Axes>,\n",
       " array([[<AxesSubplot:ylabel='probability'>, <AxesSubplot:>,\n",
       "         <AxesSubplot:>, <AxesSubplot:>, <AxesSubplot:>],\n",
       "        [<AxesSubplot:ylabel='probability'>, <AxesSubplot:>,\n",
       "         <AxesSubplot:>, <AxesSubplot:>, <AxesSubplot:>],\n",
       "        [<AxesSubplot:ylabel='probability'>, <AxesSubplot:>,\n",
       "         <AxesSubplot:>, <AxesSubplot:>, <AxesSubplot:>],\n",
       "        [<AxesSubplot:ylabel='probability'>, <AxesSubplot:>,\n",
       "         <AxesSubplot:>, <AxesSubplot:>, <AxesSubplot:>],\n",
       "        [<AxesSubplot:xlabel='lag time (ns)', ylabel='probability'>,\n",
       "         <AxesSubplot:xlabel='lag time (ns)'>,\n",
       "         <AxesSubplot:xlabel='lag time (ns)'>,\n",
       "         <AxesSubplot:xlabel='lag time (ns)'>,\n",
       "         <AxesSubplot:xlabel='lag time (ns)'>]], dtype=object))"
      ]
     },
     "execution_count": 50,
     "metadata": {},
     "output_type": "execute_result"
    },
    {
     "data": {
      "image/png": "[encoded data removed]",
      "text/plain": [
       "<Figure size 720x720 with 25 Axes>"
      ]
     },
     "metadata": {
      "needs_background": "light"
     },
     "output_type": "display_data"
    },
    {
     "data": {
      "application/javascript": [
       "\n",
       "            setTimeout(function() {\n",
       "                var nbb_cell_id = 50;\n",
       "                var nbb_unformatted_code = \"import os\\nos.environ[\\\"KMP_DUPLICATE_LIB_OK\\\"] = \\\"TRUE\\\"\\n\\nnstates = 5\\ncktest = msm.cktest(nstates, mlags=6)\\npyemma.plots.plot_cktest(cktest, dt=0.1, units=\\\"ns\\\")\";\n",
       "                var nbb_formatted_code = \"import os\\n\\nos.environ[\\\"KMP_DUPLICATE_LIB_OK\\\"] = \\\"TRUE\\\"\\n\\nnstates = 5\\ncktest = msm.cktest(nstates, mlags=6)\\npyemma.plots.plot_cktest(cktest, dt=0.1, units=\\\"ns\\\")\";\n",
       "                var nbb_cells = Jupyter.notebook.get_cells();\n",
       "                for (var i = 0; i < nbb_cells.length; ++i) {\n",
       "                    if (nbb_cells[i].input_prompt_number == nbb_cell_id) {\n",
       "                        if (nbb_cells[i].get_text() == nbb_unformatted_code) {\n",
       "                             nbb_cells[i].set_text(nbb_formatted_code);\n",
       "                        }\n",
       "                        break;\n",
       "                    }\n",
       "                }\n",
       "            }, 500);\n",
       "            "
      ],
      "text/plain": [
       "<IPython.core.display.Javascript object>"
      ]
     },
     "metadata": {},
     "output_type": "display_data"
    }
   ],
   "source": [
    "import os\n",
    "os.environ[\"KMP_DUPLICATE_LIB_OK\"] = \"TRUE\"\n",
    "\n",
    "nstates = 5\n",
    "cktest = msm.cktest(nstates, mlags=6)\n",
    "pyemma.plots.plot_cktest(cktest, dt=0.1, units=\"ns\")\n"
   ]
  },
  {
   "cell_type": "markdown",
   "id": "d0da4569",
   "metadata": {},
   "source": [
    "# MSM spectral analysis"
   ]
  },
  {
   "cell_type": "code",
   "execution_count": 51,
   "id": "bde9e37d",
   "metadata": {
    "ExecuteTime": {
     "end_time": "2022-07-21T23:36:51.164315Z",
     "start_time": "2022-07-21T23:36:50.833031Z"
    }
   },
   "outputs": [
    {
     "ename": "ValueError",
     "evalue": "The number of FixedLocator locations (14), usually from a call to set_ticks, does not match the number of ticklabels (16).",
     "output_type": "error",
     "traceback": [
      "\u001b[0;31m---------------------------------------------------------------------------\u001b[0m",
      "\u001b[0;31mValueError\u001b[0m                                Traceback (most recent call last)",
      "\u001b[0;32m/tmp/ipykernel_4495/2033510917.py\u001b[0m in \u001b[0;36m<module>\u001b[0;34m\u001b[0m\n\u001b[1;32m     38\u001b[0m \u001b[0maxes\u001b[0m\u001b[0;34m[\u001b[0m\u001b[0;36m0\u001b[0m\u001b[0;34m]\u001b[0m\u001b[0;34m.\u001b[0m\u001b[0mset_ylabel\u001b[0m\u001b[0;34m(\u001b[0m\u001b[0;34m\"implied timescales / ns\"\u001b[0m\u001b[0;34m)\u001b[0m\u001b[0;34m\u001b[0m\u001b[0;34m\u001b[0m\u001b[0m\n\u001b[1;32m     39\u001b[0m \u001b[0maxes\u001b[0m\u001b[0;34m[\u001b[0m\u001b[0;36m1\u001b[0m\u001b[0;34m]\u001b[0m\u001b[0;34m.\u001b[0m\u001b[0mset_xticks\u001b[0m\u001b[0;34m(\u001b[0m\u001b[0mrange\u001b[0m\u001b[0;34m(\u001b[0m\u001b[0;36m1\u001b[0m\u001b[0;34m,\u001b[0m \u001b[0mnits\u001b[0m\u001b[0;34m)\u001b[0m\u001b[0;34m)\u001b[0m\u001b[0;34m\u001b[0m\u001b[0;34m\u001b[0m\u001b[0m\n\u001b[0;32m---> 40\u001b[0;31m axes[1].set_xticklabels(\n\u001b[0m\u001b[1;32m     41\u001b[0m     \u001b[0;34m[\u001b[0m\u001b[0;34m\"{:d}/{:d}\"\u001b[0m\u001b[0;34m.\u001b[0m\u001b[0mformat\u001b[0m\u001b[0;34m(\u001b[0m\u001b[0mk\u001b[0m\u001b[0;34m,\u001b[0m \u001b[0mk\u001b[0m \u001b[0;34m+\u001b[0m \u001b[0;36m1\u001b[0m\u001b[0;34m)\u001b[0m \u001b[0;32mfor\u001b[0m \u001b[0mk\u001b[0m \u001b[0;32min\u001b[0m \u001b[0mrange\u001b[0m\u001b[0;34m(\u001b[0m\u001b[0;36m1\u001b[0m\u001b[0;34m,\u001b[0m \u001b[0mnits\u001b[0m \u001b[0;34m+\u001b[0m \u001b[0;36m2\u001b[0m\u001b[0;34m)\u001b[0m\u001b[0;34m]\u001b[0m\u001b[0;34m,\u001b[0m \u001b[0mrotation\u001b[0m\u001b[0;34m=\u001b[0m\u001b[0;36m45\u001b[0m\u001b[0;34m\u001b[0m\u001b[0;34m\u001b[0m\u001b[0m\n\u001b[1;32m     42\u001b[0m )\n",
      "\u001b[0;32m~/miniconda3/envs/env_py3.8/lib/python3.8/site-packages/matplotlib/axes/_base.py\u001b[0m in \u001b[0;36mwrapper\u001b[0;34m(self, *args, **kwargs)\u001b[0m\n\u001b[1;32m     73\u001b[0m \u001b[0;34m\u001b[0m\u001b[0m\n\u001b[1;32m     74\u001b[0m         \u001b[0;32mdef\u001b[0m \u001b[0mwrapper\u001b[0m\u001b[0;34m(\u001b[0m\u001b[0mself\u001b[0m\u001b[0;34m,\u001b[0m \u001b[0;34m*\u001b[0m\u001b[0margs\u001b[0m\u001b[0;34m,\u001b[0m \u001b[0;34m**\u001b[0m\u001b[0mkwargs\u001b[0m\u001b[0;34m)\u001b[0m\u001b[0;34m:\u001b[0m\u001b[0;34m\u001b[0m\u001b[0;34m\u001b[0m\u001b[0m\n\u001b[0;32m---> 75\u001b[0;31m             \u001b[0;32mreturn\u001b[0m \u001b[0mget_method\u001b[0m\u001b[0;34m(\u001b[0m\u001b[0mself\u001b[0m\u001b[0;34m)\u001b[0m\u001b[0;34m(\u001b[0m\u001b[0;34m*\u001b[0m\u001b[0margs\u001b[0m\u001b[0;34m,\u001b[0m \u001b[0;34m**\u001b[0m\u001b[0mkwargs\u001b[0m\u001b[0;34m)\u001b[0m\u001b[0;34m\u001b[0m\u001b[0;34m\u001b[0m\u001b[0m\n\u001b[0m\u001b[1;32m     76\u001b[0m \u001b[0;34m\u001b[0m\u001b[0m\n\u001b[1;32m     77\u001b[0m         \u001b[0mwrapper\u001b[0m\u001b[0;34m.\u001b[0m\u001b[0m__module__\u001b[0m \u001b[0;34m=\u001b[0m \u001b[0mowner\u001b[0m\u001b[0;34m.\u001b[0m\u001b[0m__module__\u001b[0m\u001b[0;34m\u001b[0m\u001b[0;34m\u001b[0m\u001b[0m\n",
      "\u001b[0;32m~/miniconda3/envs/env_py3.8/lib/python3.8/site-packages/matplotlib/axis.py\u001b[0m in \u001b[0;36m_set_ticklabels\u001b[0;34m(self, labels, fontdict, minor, **kwargs)\u001b[0m\n\u001b[1;32m   1796\u001b[0m         \u001b[0;32mif\u001b[0m \u001b[0mfontdict\u001b[0m \u001b[0;32mis\u001b[0m \u001b[0;32mnot\u001b[0m \u001b[0;32mNone\u001b[0m\u001b[0;34m:\u001b[0m\u001b[0;34m\u001b[0m\u001b[0;34m\u001b[0m\u001b[0m\n\u001b[1;32m   1797\u001b[0m             \u001b[0mkwargs\u001b[0m\u001b[0;34m.\u001b[0m\u001b[0mupdate\u001b[0m\u001b[0;34m(\u001b[0m\u001b[0mfontdict\u001b[0m\u001b[0;34m)\u001b[0m\u001b[0;34m\u001b[0m\u001b[0;34m\u001b[0m\u001b[0m\n\u001b[0;32m-> 1798\u001b[0;31m         \u001b[0;32mreturn\u001b[0m \u001b[0mself\u001b[0m\u001b[0;34m.\u001b[0m\u001b[0mset_ticklabels\u001b[0m\u001b[0;34m(\u001b[0m\u001b[0mlabels\u001b[0m\u001b[0;34m,\u001b[0m \u001b[0mminor\u001b[0m\u001b[0;34m=\u001b[0m\u001b[0mminor\u001b[0m\u001b[0;34m,\u001b[0m \u001b[0;34m**\u001b[0m\u001b[0mkwargs\u001b[0m\u001b[0;34m)\u001b[0m\u001b[0;34m\u001b[0m\u001b[0;34m\u001b[0m\u001b[0m\n\u001b[0m\u001b[1;32m   1799\u001b[0m \u001b[0;34m\u001b[0m\u001b[0m\n\u001b[1;32m   1800\u001b[0m     \u001b[0;32mdef\u001b[0m \u001b[0m_set_tick_locations\u001b[0m\u001b[0;34m(\u001b[0m\u001b[0mself\u001b[0m\u001b[0;34m,\u001b[0m \u001b[0mticks\u001b[0m\u001b[0;34m,\u001b[0m \u001b[0;34m*\u001b[0m\u001b[0;34m,\u001b[0m \u001b[0mminor\u001b[0m\u001b[0;34m=\u001b[0m\u001b[0;32mFalse\u001b[0m\u001b[0;34m)\u001b[0m\u001b[0;34m:\u001b[0m\u001b[0;34m\u001b[0m\u001b[0;34m\u001b[0m\u001b[0m\n",
      "\u001b[0;32m~/miniconda3/envs/env_py3.8/lib/python3.8/site-packages/matplotlib/axis.py\u001b[0m in \u001b[0;36mset_ticklabels\u001b[0;34m(self, ticklabels, minor, **kwargs)\u001b[0m\n\u001b[1;32m   1718\u001b[0m             \u001b[0;31m# remove all tick labels, so only error for > 0 ticklabels\u001b[0m\u001b[0;34m\u001b[0m\u001b[0;34m\u001b[0m\u001b[0;34m\u001b[0m\u001b[0m\n\u001b[1;32m   1719\u001b[0m             \u001b[0;32mif\u001b[0m \u001b[0mlen\u001b[0m\u001b[0;34m(\u001b[0m\u001b[0mlocator\u001b[0m\u001b[0;34m.\u001b[0m\u001b[0mlocs\u001b[0m\u001b[0;34m)\u001b[0m \u001b[0;34m!=\u001b[0m \u001b[0mlen\u001b[0m\u001b[0;34m(\u001b[0m\u001b[0mticklabels\u001b[0m\u001b[0;34m)\u001b[0m \u001b[0;32mand\u001b[0m \u001b[0mlen\u001b[0m\u001b[0;34m(\u001b[0m\u001b[0mticklabels\u001b[0m\u001b[0;34m)\u001b[0m \u001b[0;34m!=\u001b[0m \u001b[0;36m0\u001b[0m\u001b[0;34m:\u001b[0m\u001b[0;34m\u001b[0m\u001b[0;34m\u001b[0m\u001b[0m\n\u001b[0;32m-> 1720\u001b[0;31m                 raise ValueError(\n\u001b[0m\u001b[1;32m   1721\u001b[0m                     \u001b[0;34m\"The number of FixedLocator locations\"\u001b[0m\u001b[0;34m\u001b[0m\u001b[0;34m\u001b[0m\u001b[0m\n\u001b[1;32m   1722\u001b[0m                     \u001b[0;34mf\" ({len(locator.locs)}), usually from a call to\"\u001b[0m\u001b[0;34m\u001b[0m\u001b[0;34m\u001b[0m\u001b[0m\n",
      "\u001b[0;31mValueError\u001b[0m: The number of FixedLocator locations (14), usually from a call to set_ticks, does not match the number of ticklabels (16)."
     ]
    },
    {
     "data": {
      "image/png": "[encoded data removed]",
      "text/plain": [
       "<Figure size 720x288 with 2 Axes>"
      ]
     },
     "metadata": {
      "needs_background": "light"
     },
     "output_type": "display_data"
    },
    {
     "data": {
      "application/javascript": [
       "\n",
       "            setTimeout(function() {\n",
       "                var nbb_cell_id = 51;\n",
       "                var nbb_unformatted_code = \"def its_separation_err(ts, ts_err):\\n    \\\"\\\"\\\"\\n    Error propagation from ITS standard deviation to timescale separation.\\n    \\\"\\\"\\\"\\n    return (\\n        ts[:-1]\\n        / ts[1:]\\n        * np.sqrt((ts_err[:-1] / ts[:-1]) ** 2 + (ts_err[1:] / ts[1:]) ** 2)\\n    )\\n\\n\\nnits = 15\\n\\ntimescales_mean = msm.sample_mean(\\\"timescales\\\", k=nits)\\ntimescales_std = msm.sample_std(\\\"timescales\\\", k=nits)\\n\\nfig, axes = plt.subplots(1, 2, figsize=(10, 4))\\n\\naxes[0].errorbar(\\n    range(1, nits + 1), timescales_mean, yerr=timescales_std, fmt=\\\".\\\", markersize=10\\n)\\naxes[1].errorbar(\\n    range(1, nits),\\n    timescales_mean[:-1] / timescales_mean[1:],\\n    yerr=its_separation_err(timescales_mean, timescales_std),\\n    fmt=\\\".\\\",\\n    markersize=10,\\n    color=\\\"C0\\\",\\n)\\n\\nfor i, ax in enumerate(axes):\\n    ax.set_xticks(range(1, nits + 1))\\n    ax.grid(True, axis=\\\"x\\\", linestyle=\\\":\\\")\\n\\naxes[0].axhline(msm.lag * 0.1, lw=1.5, color=\\\"k\\\")\\naxes[0].axhspan(0, msm.lag * 0.1, alpha=0.3, color=\\\"k\\\")\\naxes[0].set_xlabel(\\\"implied timescale index\\\")\\naxes[0].set_ylabel(\\\"implied timescales / ns\\\")\\naxes[1].set_xticks(range(1, nits))\\naxes[1].set_xticklabels(\\n    [\\\"{:d}/{:d}\\\".format(k, k + 1) for k in range(1, nits + 2)], rotation=45\\n)\\naxes[1].set_xlabel(\\\"implied timescale indices\\\")\\naxes[1].set_ylabel(\\\"timescale separation\\\")\\nfig.tight_layout()\";\n",
       "                var nbb_formatted_code = \"def its_separation_err(ts, ts_err):\\n    \\\"\\\"\\\"\\n    Error propagation from ITS standard deviation to timescale separation.\\n    \\\"\\\"\\\"\\n    return (\\n        ts[:-1]\\n        / ts[1:]\\n        * np.sqrt((ts_err[:-1] / ts[:-1]) ** 2 + (ts_err[1:] / ts[1:]) ** 2)\\n    )\\n\\n\\nnits = 15\\n\\ntimescales_mean = msm.sample_mean(\\\"timescales\\\", k=nits)\\ntimescales_std = msm.sample_std(\\\"timescales\\\", k=nits)\\n\\nfig, axes = plt.subplots(1, 2, figsize=(10, 4))\\n\\naxes[0].errorbar(\\n    range(1, nits + 1), timescales_mean, yerr=timescales_std, fmt=\\\".\\\", markersize=10\\n)\\naxes[1].errorbar(\\n    range(1, nits),\\n    timescales_mean[:-1] / timescales_mean[1:],\\n    yerr=its_separation_err(timescales_mean, timescales_std),\\n    fmt=\\\".\\\",\\n    markersize=10,\\n    color=\\\"C0\\\",\\n)\\n\\nfor i, ax in enumerate(axes):\\n    ax.set_xticks(range(1, nits + 1))\\n    ax.grid(True, axis=\\\"x\\\", linestyle=\\\":\\\")\\n\\naxes[0].axhline(msm.lag * 0.1, lw=1.5, color=\\\"k\\\")\\naxes[0].axhspan(0, msm.lag * 0.1, alpha=0.3, color=\\\"k\\\")\\naxes[0].set_xlabel(\\\"implied timescale index\\\")\\naxes[0].set_ylabel(\\\"implied timescales / ns\\\")\\naxes[1].set_xticks(range(1, nits))\\naxes[1].set_xticklabels(\\n    [\\\"{:d}/{:d}\\\".format(k, k + 1) for k in range(1, nits + 2)], rotation=45\\n)\\naxes[1].set_xlabel(\\\"implied timescale indices\\\")\\naxes[1].set_ylabel(\\\"timescale separation\\\")\\nfig.tight_layout()\";\n",
       "                var nbb_cells = Jupyter.notebook.get_cells();\n",
       "                for (var i = 0; i < nbb_cells.length; ++i) {\n",
       "                    if (nbb_cells[i].input_prompt_number == nbb_cell_id) {\n",
       "                        if (nbb_cells[i].get_text() == nbb_unformatted_code) {\n",
       "                             nbb_cells[i].set_text(nbb_formatted_code);\n",
       "                        }\n",
       "                        break;\n",
       "                    }\n",
       "                }\n",
       "            }, 500);\n",
       "            "
      ],
      "text/plain": [
       "<IPython.core.display.Javascript object>"
      ]
     },
     "metadata": {},
     "output_type": "display_data"
    }
   ],
   "source": [
    "def its_separation_err(ts, ts_err):\n",
    "    \"\"\"\n",
    "    Error propagation from ITS standard deviation to timescale separation.\n",
    "    \"\"\"\n",
    "    return (\n",
    "        ts[:-1]\n",
    "        / ts[1:]\n",
    "        * np.sqrt((ts_err[:-1] / ts[:-1]) ** 2 + (ts_err[1:] / ts[1:]) ** 2)\n",
    "    )\n",
    "\n",
    "\n",
    "nits = 15\n",
    "\n",
    "timescales_mean = msm.sample_mean(\"timescales\", k=nits)\n",
    "timescales_std = msm.sample_std(\"timescales\", k=nits)\n",
    "\n",
    "fig, axes = plt.subplots(1, 2, figsize=(10, 4))\n",
    "\n",
    "axes[0].errorbar(\n",
    "    range(1, nits + 1), timescales_mean, yerr=timescales_std, fmt=\".\", markersize=10\n",
    ")\n",
    "axes[1].errorbar(\n",
    "    range(1, nits),\n",
    "    timescales_mean[:-1] / timescales_mean[1:],\n",
    "    yerr=its_separation_err(timescales_mean, timescales_std),\n",
    "    fmt=\".\",\n",
    "    markersize=10,\n",
    "    color=\"C0\",\n",
    ")\n",
    "\n",
    "for i, ax in enumerate(axes):\n",
    "    ax.set_xticks(range(1, nits + 1))\n",
    "    ax.grid(True, axis=\"x\", linestyle=\":\")\n",
    "\n",
    "axes[0].axhline(msm.lag * 0.1, lw=1.5, color=\"k\")\n",
    "axes[0].axhspan(0, msm.lag * 0.1, alpha=0.3, color=\"k\")\n",
    "axes[0].set_xlabel(\"implied timescale index\")\n",
    "axes[0].set_ylabel(\"implied timescales / ns\")\n",
    "axes[1].set_xticks(range(1, nits))\n",
    "axes[1].set_xticklabels(\n",
    "    [\"{:d}/{:d}\".format(k, k + 1) for k in range(1, nits + 2)], rotation=45\n",
    ")\n",
    "axes[1].set_xlabel(\"implied timescale indices\")\n",
    "axes[1].set_ylabel(\"timescale separation\")\n",
    "fig.tight_layout()"
   ]
  },
  {
   "cell_type": "code",
   "execution_count": 52,
   "id": "22baf903",
   "metadata": {
    "ExecuteTime": {
     "end_time": "2022-07-21T23:36:52.384166Z",
     "start_time": "2022-07-21T23:36:51.856226Z"
    }
   },
   "outputs": [
    {
     "data": {
      "image/png": "[encoded data removed]",
      "text/plain": [
       "<Figure size 720x288 with 4 Axes>"
      ]
     },
     "metadata": {
      "needs_background": "light"
     },
     "output_type": "display_data"
    },
    {
     "data": {
      "application/javascript": [
       "\n",
       "            setTimeout(function() {\n",
       "                var nbb_cell_id = 52;\n",
       "                var nbb_unformatted_code = \"fig, axes = plt.subplots(1, 2, figsize=(10, 4), sharex=True, sharey=True)\\npyemma.plots.plot_contour(\\n    *tica_concatenated[:, :2].T,\\n    msm.pi[dtrajs_concatenated],\\n    ax=axes[0],\\n    mask=True,\\n    cbar_label=\\\"stationary distribution\\\"\\n)\\npyemma.plots.plot_free_energy(\\n    *tica_concatenated[:, :2].T,\\n    weights=np.concatenate(msm.trajectory_weights()),\\n    ax=axes[1],\\n    legacy=False\\n)\\nfor ax in axes.flat:\\n    ax.set_xlabel(\\\"IC 1\\\")\\naxes[0].set_ylabel(\\\"IC 2\\\")\\naxes[0].set_title(\\\"Stationary distribution\\\", fontweight=\\\"bold\\\")\\naxes[1].set_title(\\\"Reweighted free energy surface\\\", fontweight=\\\"bold\\\")\\nfig.tight_layout()\";\n",
       "                var nbb_formatted_code = \"fig, axes = plt.subplots(1, 2, figsize=(10, 4), sharex=True, sharey=True)\\npyemma.plots.plot_contour(\\n    *tica_concatenated[:, :2].T,\\n    msm.pi[dtrajs_concatenated],\\n    ax=axes[0],\\n    mask=True,\\n    cbar_label=\\\"stationary distribution\\\"\\n)\\npyemma.plots.plot_free_energy(\\n    *tica_concatenated[:, :2].T,\\n    weights=np.concatenate(msm.trajectory_weights()),\\n    ax=axes[1],\\n    legacy=False\\n)\\nfor ax in axes.flat:\\n    ax.set_xlabel(\\\"IC 1\\\")\\naxes[0].set_ylabel(\\\"IC 2\\\")\\naxes[0].set_title(\\\"Stationary distribution\\\", fontweight=\\\"bold\\\")\\naxes[1].set_title(\\\"Reweighted free energy surface\\\", fontweight=\\\"bold\\\")\\nfig.tight_layout()\";\n",
       "                var nbb_cells = Jupyter.notebook.get_cells();\n",
       "                for (var i = 0; i < nbb_cells.length; ++i) {\n",
       "                    if (nbb_cells[i].input_prompt_number == nbb_cell_id) {\n",
       "                        if (nbb_cells[i].get_text() == nbb_unformatted_code) {\n",
       "                             nbb_cells[i].set_text(nbb_formatted_code);\n",
       "                        }\n",
       "                        break;\n",
       "                    }\n",
       "                }\n",
       "            }, 500);\n",
       "            "
      ],
      "text/plain": [
       "<IPython.core.display.Javascript object>"
      ]
     },
     "metadata": {},
     "output_type": "display_data"
    }
   ],
   "source": [
    "fig, axes = plt.subplots(1, 2, figsize=(10, 4), sharex=True, sharey=True)\n",
    "pyemma.plots.plot_contour(\n",
    "    *tica_concatenated[:, :2].T,\n",
    "    msm.pi[dtrajs_concatenated],\n",
    "    ax=axes[0],\n",
    "    mask=True,\n",
    "    cbar_label=\"stationary distribution\"\n",
    ")\n",
    "pyemma.plots.plot_free_energy(\n",
    "    *tica_concatenated[:, :2].T,\n",
    "    weights=np.concatenate(msm.trajectory_weights()),\n",
    "    ax=axes[1],\n",
    "    legacy=False\n",
    ")\n",
    "for ax in axes.flat:\n",
    "    ax.set_xlabel(\"IC 1\")\n",
    "axes[0].set_ylabel(\"IC 2\")\n",
    "axes[0].set_title(\"Stationary distribution\", fontweight=\"bold\")\n",
    "axes[1].set_title(\"Reweighted free energy surface\", fontweight=\"bold\")\n",
    "fig.tight_layout()"
   ]
  },
  {
   "cell_type": "code",
   "execution_count": 53,
   "id": "aa4b85e6",
   "metadata": {
    "ExecuteTime": {
     "end_time": "2022-07-21T23:36:54.651527Z",
     "start_time": "2022-07-21T23:36:53.801994Z"
    }
   },
   "outputs": [
    {
     "name": "stdout",
     "output_type": "stream",
     "text": [
      "The first eigenvector is one: True (min=0.9999999999998821, max=1.0000000000000635)\n"
     ]
    },
    {
     "data": {
      "image/png": "[encoded data removed]",
      "text/plain": [
       "<Figure size 1080x216 with 8 Axes>"
      ]
     },
     "metadata": {
      "needs_background": "light"
     },
     "output_type": "display_data"
    },
    {
     "data": {
      "application/javascript": [
       "\n",
       "            setTimeout(function() {\n",
       "                var nbb_cell_id = 53;\n",
       "                var nbb_unformatted_code = \"eigvec = msm.eigenvectors_right()\\nprint(\\n    \\\"The first eigenvector is one: {} (min={}, max={})\\\".format(\\n        np.allclose(eigvec[:, 0], 1, atol=1e-15), eigvec[:, 0].min(), eigvec[:, 0].max()\\n    )\\n)\\n\\nfig, axes = plt.subplots(1, 4, figsize=(15, 3), sharex=True, sharey=True)\\nfor i, ax in enumerate(axes.flat):\\n    pyemma.plots.plot_contour(\\n        *tica_concatenated[:, :2].T,\\n        eigvec[dtrajs_concatenated, i + 1],\\n        ax=ax,\\n        cmap=\\\"PiYG\\\",\\n        cbar_label=\\\"{}. right eigenvector\\\".format(i + 2),\\n        mask=True\\n    )\\n    ax.set_xlabel(\\\"IC 1\\\")\\naxes[0].set_ylabel(\\\"IC 2\\\")\\nfig.tight_layout()\";\n",
       "                var nbb_formatted_code = \"eigvec = msm.eigenvectors_right()\\nprint(\\n    \\\"The first eigenvector is one: {} (min={}, max={})\\\".format(\\n        np.allclose(eigvec[:, 0], 1, atol=1e-15), eigvec[:, 0].min(), eigvec[:, 0].max()\\n    )\\n)\\n\\nfig, axes = plt.subplots(1, 4, figsize=(15, 3), sharex=True, sharey=True)\\nfor i, ax in enumerate(axes.flat):\\n    pyemma.plots.plot_contour(\\n        *tica_concatenated[:, :2].T,\\n        eigvec[dtrajs_concatenated, i + 1],\\n        ax=ax,\\n        cmap=\\\"PiYG\\\",\\n        cbar_label=\\\"{}. right eigenvector\\\".format(i + 2),\\n        mask=True\\n    )\\n    ax.set_xlabel(\\\"IC 1\\\")\\naxes[0].set_ylabel(\\\"IC 2\\\")\\nfig.tight_layout()\";\n",
       "                var nbb_cells = Jupyter.notebook.get_cells();\n",
       "                for (var i = 0; i < nbb_cells.length; ++i) {\n",
       "                    if (nbb_cells[i].input_prompt_number == nbb_cell_id) {\n",
       "                        if (nbb_cells[i].get_text() == nbb_unformatted_code) {\n",
       "                             nbb_cells[i].set_text(nbb_formatted_code);\n",
       "                        }\n",
       "                        break;\n",
       "                    }\n",
       "                }\n",
       "            }, 500);\n",
       "            "
      ],
      "text/plain": [
       "<IPython.core.display.Javascript object>"
      ]
     },
     "metadata": {},
     "output_type": "display_data"
    }
   ],
   "source": [
    "eigvec = msm.eigenvectors_right()\n",
    "print(\n",
    "    \"The first eigenvector is one: {} (min={}, max={})\".format(\n",
    "        np.allclose(eigvec[:, 0], 1, atol=1e-15), eigvec[:, 0].min(), eigvec[:, 0].max()\n",
    "    )\n",
    ")\n",
    "\n",
    "fig, axes = plt.subplots(1, 4, figsize=(15, 3), sharex=True, sharey=True)\n",
    "for i, ax in enumerate(axes.flat):\n",
    "    pyemma.plots.plot_contour(\n",
    "        *tica_concatenated[:, :2].T,\n",
    "        eigvec[dtrajs_concatenated, i + 1],\n",
    "        ax=ax,\n",
    "        cmap=\"PiYG\",\n",
    "        cbar_label=\"{}. right eigenvector\".format(i + 2),\n",
    "        mask=True\n",
    "    )\n",
    "    ax.set_xlabel(\"IC 1\")\n",
    "axes[0].set_ylabel(\"IC 2\")\n",
    "fig.tight_layout()"
   ]
  },
  {
   "cell_type": "markdown",
   "id": "7db70591",
   "metadata": {
    "toc-hr-collapsed": true
   },
   "source": [
    "# PCCA & TPT "
   ]
  },
  {
   "cell_type": "markdown",
   "id": "a2b0b9ed",
   "metadata": {},
   "source": [
    "## Perron cluster cluster analysis (PCCA)"
   ]
  },
  {
   "cell_type": "code",
   "execution_count": 54,
   "id": "df37f1f1",
   "metadata": {
    "ExecuteTime": {
     "end_time": "2022-07-21T23:36:58.230818Z",
     "start_time": "2022-07-21T23:36:58.205087Z"
    }
   },
   "outputs": [
    {
     "name": "stdout",
     "output_type": "stream",
     "text": [
      "π_1 = 0.060145\n",
      "π_2 = 0.066172\n",
      "π_3 = 0.091263\n",
      "π_4 = 0.106828\n",
      "π_5 = 0.675592\n"
     ]
    },
    {
     "data": {
      "application/javascript": [
       "\n",
       "            setTimeout(function() {\n",
       "                var nbb_cell_id = 54;\n",
       "                var nbb_unformatted_code = \"# nstates = 10\\nmsm.pcca(nstates)\\nfor i, s in enumerate(msm.metastable_sets):\\n    print(\\\"\\u03c0_{} = {:f}\\\".format(i + 1, msm.pi[s].sum()))\\n# print out the stationary probabilities of the metastable sets\";\n",
       "                var nbb_formatted_code = \"# nstates = 10\\nmsm.pcca(nstates)\\nfor i, s in enumerate(msm.metastable_sets):\\n    print(\\\"\\u03c0_{} = {:f}\\\".format(i + 1, msm.pi[s].sum()))\\n# print out the stationary probabilities of the metastable sets\";\n",
       "                var nbb_cells = Jupyter.notebook.get_cells();\n",
       "                for (var i = 0; i < nbb_cells.length; ++i) {\n",
       "                    if (nbb_cells[i].input_prompt_number == nbb_cell_id) {\n",
       "                        if (nbb_cells[i].get_text() == nbb_unformatted_code) {\n",
       "                             nbb_cells[i].set_text(nbb_formatted_code);\n",
       "                        }\n",
       "                        break;\n",
       "                    }\n",
       "                }\n",
       "            }, 500);\n",
       "            "
      ],
      "text/plain": [
       "<IPython.core.display.Javascript object>"
      ]
     },
     "metadata": {},
     "output_type": "display_data"
    }
   ],
   "source": [
    "# nstates = 10\n",
    "msm.pcca(nstates)\n",
    "for i, s in enumerate(msm.metastable_sets):\n",
    "    print(\"π_{} = {:f}\".format(i + 1, msm.pi[s].sum()))\n",
    "# print out the stationary probabilities of the metastable sets"
   ]
  },
  {
   "cell_type": "code",
   "execution_count": 55,
   "id": "3b77d528",
   "metadata": {
    "ExecuteTime": {
     "end_time": "2022-07-21T23:37:03.011758Z",
     "start_time": "2022-07-21T23:37:01.789324Z"
    }
   },
   "outputs": [
    {
     "data": {
      "image/png": "[encoded data removed]",
      "text/plain": [
       "<Figure size 1080x216 with 10 Axes>"
      ]
     },
     "metadata": {
      "needs_background": "light"
     },
     "output_type": "display_data"
    },
    {
     "data": {
      "application/javascript": [
       "\n",
       "            setTimeout(function() {\n",
       "                var nbb_cell_id = 55;\n",
       "                var nbb_unformatted_code = \"fig, axes = plt.subplots(1, 5, figsize=(15, 3), sharex=True, sharey=True)\\nfor i, ax in enumerate(axes.flat):\\n    pyemma.plots.plot_contour(\\n        *tica_concatenated[:, :2].T,\\n        msm.metastable_distributions[i][dtrajs_concatenated],\\n        ax=ax,\\n        cmap=\\\"afmhot_r\\\",\\n        mask=True,\\n        cbar_label=\\\"metastable distribution {}\\\".format(i + 1)\\n    )\\n    ax.set_xlabel(\\\"IC 1\\\")\\naxes[0].set_ylabel(\\\"IC 2\\\")\\nfig.tight_layout()\";\n",
       "                var nbb_formatted_code = \"fig, axes = plt.subplots(1, 5, figsize=(15, 3), sharex=True, sharey=True)\\nfor i, ax in enumerate(axes.flat):\\n    pyemma.plots.plot_contour(\\n        *tica_concatenated[:, :2].T,\\n        msm.metastable_distributions[i][dtrajs_concatenated],\\n        ax=ax,\\n        cmap=\\\"afmhot_r\\\",\\n        mask=True,\\n        cbar_label=\\\"metastable distribution {}\\\".format(i + 1)\\n    )\\n    ax.set_xlabel(\\\"IC 1\\\")\\naxes[0].set_ylabel(\\\"IC 2\\\")\\nfig.tight_layout()\";\n",
       "                var nbb_cells = Jupyter.notebook.get_cells();\n",
       "                for (var i = 0; i < nbb_cells.length; ++i) {\n",
       "                    if (nbb_cells[i].input_prompt_number == nbb_cell_id) {\n",
       "                        if (nbb_cells[i].get_text() == nbb_unformatted_code) {\n",
       "                             nbb_cells[i].set_text(nbb_formatted_code);\n",
       "                        }\n",
       "                        break;\n",
       "                    }\n",
       "                }\n",
       "            }, 500);\n",
       "            "
      ],
      "text/plain": [
       "<IPython.core.display.Javascript object>"
      ]
     },
     "metadata": {},
     "output_type": "display_data"
    }
   ],
   "source": [
    "fig, axes = plt.subplots(1, 5, figsize=(15, 3), sharex=True, sharey=True)\n",
    "for i, ax in enumerate(axes.flat):\n",
    "    pyemma.plots.plot_contour(\n",
    "        *tica_concatenated[:, :2].T,\n",
    "        msm.metastable_distributions[i][dtrajs_concatenated],\n",
    "        ax=ax,\n",
    "        cmap=\"afmhot_r\",\n",
    "        mask=True,\n",
    "        cbar_label=\"metastable distribution {}\".format(i + 1)\n",
    "    )\n",
    "    ax.set_xlabel(\"IC 1\")\n",
    "axes[0].set_ylabel(\"IC 2\")\n",
    "fig.tight_layout()"
   ]
  },
  {
   "cell_type": "code",
   "execution_count": 56,
   "id": "0a935624",
   "metadata": {
    "ExecuteTime": {
     "end_time": "2022-07-21T23:37:04.388834Z",
     "start_time": "2022-07-21T23:37:04.144468Z"
    }
   },
   "outputs": [
    {
     "data": {
      "image/png": "[encoded data removed]",
      "text/plain": [
       "<Figure size 360x288 with 2 Axes>"
      ]
     },
     "metadata": {
      "needs_background": "light"
     },
     "output_type": "display_data"
    },
    {
     "data": {
      "application/javascript": [
       "\n",
       "            setTimeout(function() {\n",
       "                var nbb_cell_id = 56;\n",
       "                var nbb_unformatted_code = \"metastable_traj = msm.metastable_assignments[dtrajs_concatenated]\\n\\nfig, ax = plt.subplots(figsize=(5, 4))\\n_, _, misc = pyemma.plots.plot_state_map(\\n    *tica_concatenated[:, :2].T, metastable_traj, ax=ax\\n)\\nax.set_xlabel(\\\"IC 1\\\")\\nax.set_ylabel(\\\"IC 2\\\")\\nmisc[\\\"cbar\\\"].set_ticklabels([r\\\"$\\\\mathcal{S}_%d$\\\" % (i + 1) for i in range(nstates)])\\nfig.tight_layout()\";\n",
       "                var nbb_formatted_code = \"metastable_traj = msm.metastable_assignments[dtrajs_concatenated]\\n\\nfig, ax = plt.subplots(figsize=(5, 4))\\n_, _, misc = pyemma.plots.plot_state_map(\\n    *tica_concatenated[:, :2].T, metastable_traj, ax=ax\\n)\\nax.set_xlabel(\\\"IC 1\\\")\\nax.set_ylabel(\\\"IC 2\\\")\\nmisc[\\\"cbar\\\"].set_ticklabels([r\\\"$\\\\mathcal{S}_%d$\\\" % (i + 1) for i in range(nstates)])\\nfig.tight_layout()\";\n",
       "                var nbb_cells = Jupyter.notebook.get_cells();\n",
       "                for (var i = 0; i < nbb_cells.length; ++i) {\n",
       "                    if (nbb_cells[i].input_prompt_number == nbb_cell_id) {\n",
       "                        if (nbb_cells[i].get_text() == nbb_unformatted_code) {\n",
       "                             nbb_cells[i].set_text(nbb_formatted_code);\n",
       "                        }\n",
       "                        break;\n",
       "                    }\n",
       "                }\n",
       "            }, 500);\n",
       "            "
      ],
      "text/plain": [
       "<IPython.core.display.Javascript object>"
      ]
     },
     "metadata": {},
     "output_type": "display_data"
    }
   ],
   "source": [
    "metastable_traj = msm.metastable_assignments[dtrajs_concatenated]\n",
    "\n",
    "fig, ax = plt.subplots(figsize=(5, 4))\n",
    "_, _, misc = pyemma.plots.plot_state_map(\n",
    "    *tica_concatenated[:, :2].T, metastable_traj, ax=ax\n",
    ")\n",
    "ax.set_xlabel(\"IC 1\")\n",
    "ax.set_ylabel(\"IC 2\")\n",
    "misc[\"cbar\"].set_ticklabels([r\"$\\mathcal{S}_%d$\" % (i + 1) for i in range(nstates)])\n",
    "fig.tight_layout()"
   ]
  },
  {
   "cell_type": "code",
   "execution_count": 19,
   "id": "4871e25e",
   "metadata": {
    "ExecuteTime": {
     "end_time": "2022-05-31T00:42:47.968131Z",
     "start_time": "2022-05-31T00:42:45.185347Z"
    }
   },
   "outputs": [
    {
     "data": {
      "text/plain": [
       "['./data/ipa/torsions/pcca1_10samples.pdb',\n",
       " './data/ipa/torsions/pcca2_10samples.pdb',\n",
       " './data/ipa/torsions/pcca3_10samples.pdb',\n",
       " './data/ipa/torsions/pcca4_10samples.pdb',\n",
       " './data/ipa/torsions/pcca5_10samples.pdb']"
      ]
     },
     "execution_count": 19,
     "metadata": {},
     "output_type": "execute_result"
    },
    {
     "data": {
      "application/javascript": [
       "\n",
       "            setTimeout(function() {\n",
       "                var nbb_cell_id = 19;\n",
       "                var nbb_unformatted_code = \"# PCCA by torsions\\npcca_samples = msm.sample_by_distributions(msm.metastable_distributions, 10)\\ntorsions_source = pyemma.coordinates.source(files, features=torsions_feat)\\npyemma.coordinates.save_trajs(\\n    torsions_source,\\n    pcca_samples,\\n    outfiles=[\\n        \\\"./data/ipa/torsions/pcca{}_10samples.pdb\\\".format(n + 1)\\n        for n in range(msm.n_metastable)\\n    ],\\n)\";\n",
       "                var nbb_formatted_code = \"# PCCA by torsions\\npcca_samples = msm.sample_by_distributions(msm.metastable_distributions, 10)\\ntorsions_source = pyemma.coordinates.source(files, features=torsions_feat)\\npyemma.coordinates.save_trajs(\\n    torsions_source,\\n    pcca_samples,\\n    outfiles=[\\n        \\\"./data/ipa/torsions/pcca{}_10samples.pdb\\\".format(n + 1)\\n        for n in range(msm.n_metastable)\\n    ],\\n)\";\n",
       "                var nbb_cells = Jupyter.notebook.get_cells();\n",
       "                for (var i = 0; i < nbb_cells.length; ++i) {\n",
       "                    if (nbb_cells[i].input_prompt_number == nbb_cell_id) {\n",
       "                        if (nbb_cells[i].get_text() == nbb_unformatted_code) {\n",
       "                             nbb_cells[i].set_text(nbb_formatted_code);\n",
       "                        }\n",
       "                        break;\n",
       "                    }\n",
       "                }\n",
       "            }, 500);\n",
       "            "
      ],
      "text/plain": [
       "<IPython.core.display.Javascript object>"
      ]
     },
     "metadata": {},
     "output_type": "display_data"
    }
   ],
   "source": [
    "# PCCA by torsions\n",
    "pcca_samples = msm.sample_by_distributions(msm.metastable_distributions, 10)\n",
    "torsions_source = pyemma.coordinates.source(files, features=torsions_feat)\n",
    "pyemma.coordinates.save_trajs(\n",
    "    torsions_source,\n",
    "    pcca_samples,\n",
    "    outfiles=[\n",
    "        \"./data/ipa/torsions/pcca{}_10samples.pdb\".format(n + 1)\n",
    "        for n in range(msm.n_metastable)\n",
    "    ],\n",
    ")"
   ]
  },
  {
   "cell_type": "code",
   "execution_count": 20,
   "id": "004aa91d",
   "metadata": {
    "ExecuteTime": {
     "end_time": "2022-05-31T00:42:53.862705Z",
     "start_time": "2022-05-31T00:42:50.514949Z"
    }
   },
   "outputs": [
    {
     "name": "stdout",
     "output_type": "stream",
     "text": [
      "./data/ipa/torsions/pcca1_10samples.pdb [0.2864933]\n",
      "./data/ipa/torsions/pcca1_10samples.pdb [0.2864933]\n",
      "./data/ipa/torsions/pcca3_10samples.pdb [0.3037192]\n",
      "./data/ipa/torsions/pcca4_10samples.pdb [0.25272867]\n",
      "./data/ipa/torsions/pcca5_10samples.pdb [0.29969752]\n"
     ]
    },
    {
     "data": {
      "application/javascript": [
       "\n",
       "            setTimeout(function() {\n",
       "                var nbb_cell_id = 20;\n",
       "                var nbb_unformatted_code = \"# calculate rmsd\\ntarget1 = \\\"./data/ipa/torsions/pcca1_10samples.pdb\\\"\\nfirst_frame1 = md.load_frame(target1, 0, topology)\\nrmsd1 = md.rmsd(first_frame1, traj, 0)\\n\\ntarget2 = \\\"./data/ipa/torsions/pcca1_10samples.pdb\\\"\\nfirst_frame2 = md.load_frame(target2, 0, topology)\\nrmsd2 = md.rmsd(first_frame2, traj, 0)\\n\\ntarget3 = \\\"./data/ipa/torsions/pcca3_10samples.pdb\\\"\\nfirst_frame3 = md.load_frame(target3, 0, topology)\\nrmsd3 = md.rmsd(first_frame3, traj, 0)\\n\\ntarget4 = \\\"./data/ipa/torsions/pcca4_10samples.pdb\\\"\\nfirst_frame4 = md.load_frame(target4, 0, topology)\\nrmsd4 = md.rmsd(first_frame4, traj, 0)\\n\\ntarget5 = \\\"./data/ipa/torsions/pcca5_10samples.pdb\\\"\\nfirst_frame5 = md.load_frame(target5, 0, topology)\\nrmsd5 = md.rmsd(first_frame5, traj, 0)\\n\\n# target6 = \\\"./data/pcca6_10samples.pdb\\\"\\n# first_frame6 = md.load_frame(target6, 0, topology)\\n# rmsd6 = md.rmsd(first_frame6, traj, 0)\\n\\n# target7 = \\\"./data/pcca7_10samples.pdb\\\"\\n# first_frame7 = md.load_frame(target7, 0, topology)\\n# rmsd7 = md.rmsd(first_frame7, traj, 0)\\n\\n# target8 = \\\"./data/pcca8_10samples.pdb\\\"\\n# first_frame8 = md.load_frame(target8, 0, topology)\\n# rmsd8 = md.rmsd(first_frame8, traj, 0)\\n\\nprint(target1, rmsd1)\\nprint(target2, rmsd2)\\nprint(target3, rmsd3)\\nprint(target4, rmsd4)\\nprint(target5, rmsd5)\\n# print(target6, rmsd6)\\n# print(target7, rmsd7)\\n# print(target8, rmsd8)\\n# rmsda = rmsd * 10\\n# print(\\\"rmsda\\\", \\\"\\u00c5\\\")\";\n",
       "                var nbb_formatted_code = \"# calculate rmsd\\ntarget1 = \\\"./data/ipa/torsions/pcca1_10samples.pdb\\\"\\nfirst_frame1 = md.load_frame(target1, 0, topology)\\nrmsd1 = md.rmsd(first_frame1, traj, 0)\\n\\ntarget2 = \\\"./data/ipa/torsions/pcca1_10samples.pdb\\\"\\nfirst_frame2 = md.load_frame(target2, 0, topology)\\nrmsd2 = md.rmsd(first_frame2, traj, 0)\\n\\ntarget3 = \\\"./data/ipa/torsions/pcca3_10samples.pdb\\\"\\nfirst_frame3 = md.load_frame(target3, 0, topology)\\nrmsd3 = md.rmsd(first_frame3, traj, 0)\\n\\ntarget4 = \\\"./data/ipa/torsions/pcca4_10samples.pdb\\\"\\nfirst_frame4 = md.load_frame(target4, 0, topology)\\nrmsd4 = md.rmsd(first_frame4, traj, 0)\\n\\ntarget5 = \\\"./data/ipa/torsions/pcca5_10samples.pdb\\\"\\nfirst_frame5 = md.load_frame(target5, 0, topology)\\nrmsd5 = md.rmsd(first_frame5, traj, 0)\\n\\n# target6 = \\\"./data/pcca6_10samples.pdb\\\"\\n# first_frame6 = md.load_frame(target6, 0, topology)\\n# rmsd6 = md.rmsd(first_frame6, traj, 0)\\n\\n# target7 = \\\"./data/pcca7_10samples.pdb\\\"\\n# first_frame7 = md.load_frame(target7, 0, topology)\\n# rmsd7 = md.rmsd(first_frame7, traj, 0)\\n\\n# target8 = \\\"./data/pcca8_10samples.pdb\\\"\\n# first_frame8 = md.load_frame(target8, 0, topology)\\n# rmsd8 = md.rmsd(first_frame8, traj, 0)\\n\\nprint(target1, rmsd1)\\nprint(target2, rmsd2)\\nprint(target3, rmsd3)\\nprint(target4, rmsd4)\\nprint(target5, rmsd5)\\n# print(target6, rmsd6)\\n# print(target7, rmsd7)\\n# print(target8, rmsd8)\\n# rmsda = rmsd * 10\\n# print(\\\"rmsda\\\", \\\"\\u00c5\\\")\";\n",
       "                var nbb_cells = Jupyter.notebook.get_cells();\n",
       "                for (var i = 0; i < nbb_cells.length; ++i) {\n",
       "                    if (nbb_cells[i].input_prompt_number == nbb_cell_id) {\n",
       "                        if (nbb_cells[i].get_text() == nbb_unformatted_code) {\n",
       "                             nbb_cells[i].set_text(nbb_formatted_code);\n",
       "                        }\n",
       "                        break;\n",
       "                    }\n",
       "                }\n",
       "            }, 500);\n",
       "            "
      ],
      "text/plain": [
       "<IPython.core.display.Javascript object>"
      ]
     },
     "metadata": {},
     "output_type": "display_data"
    }
   ],
   "source": [
    "# calculate rmsd\n",
    "target1 = \"./data/ipa/torsions/pcca1_10samples.pdb\"\n",
    "first_frame1 = md.load_frame(target1, 0, topology)\n",
    "rmsd1 = md.rmsd(first_frame1, traj, 0)\n",
    "\n",
    "target2 = \"./data/ipa/torsions/pcca1_10samples.pdb\"\n",
    "first_frame2 = md.load_frame(target2, 0, topology)\n",
    "rmsd2 = md.rmsd(first_frame2, traj, 0)\n",
    "\n",
    "target3 = \"./data/ipa/torsions/pcca3_10samples.pdb\"\n",
    "first_frame3 = md.load_frame(target3, 0, topology)\n",
    "rmsd3 = md.rmsd(first_frame3, traj, 0)\n",
    "\n",
    "target4 = \"./data/ipa/torsions/pcca4_10samples.pdb\"\n",
    "first_frame4 = md.load_frame(target4, 0, topology)\n",
    "rmsd4 = md.rmsd(first_frame4, traj, 0)\n",
    "\n",
    "target5 = \"./data/ipa/torsions/pcca5_10samples.pdb\"\n",
    "first_frame5 = md.load_frame(target5, 0, topology)\n",
    "rmsd5 = md.rmsd(first_frame5, traj, 0)\n",
    "\n",
    "# target6 = \"./data/pcca6_10samples.pdb\"\n",
    "# first_frame6 = md.load_frame(target6, 0, topology)\n",
    "# rmsd6 = md.rmsd(first_frame6, traj, 0)\n",
    "\n",
    "# target7 = \"./data/pcca7_10samples.pdb\"\n",
    "# first_frame7 = md.load_frame(target7, 0, topology)\n",
    "# rmsd7 = md.rmsd(first_frame7, traj, 0)\n",
    "\n",
    "# target8 = \"./data/pcca8_10samples.pdb\"\n",
    "# first_frame8 = md.load_frame(target8, 0, topology)\n",
    "# rmsd8 = md.rmsd(first_frame8, traj, 0)\n",
    "\n",
    "print(target1, rmsd1)\n",
    "print(target2, rmsd2)\n",
    "print(target3, rmsd3)\n",
    "print(target4, rmsd4)\n",
    "print(target5, rmsd5)\n",
    "# print(target6, rmsd6)\n",
    "# print(target7, rmsd7)\n",
    "# print(target8, rmsd8)\n",
    "# rmsda = rmsd * 10\n",
    "# print(\"rmsda\", \"Å\")"
   ]
  },
  {
   "cell_type": "code",
   "execution_count": 21,
   "id": "59207d24",
   "metadata": {
    "ExecuteTime": {
     "end_time": "2022-05-31T00:42:55.019543Z",
     "start_time": "2022-05-31T00:42:55.012819Z"
    }
   },
   "outputs": [
    {
     "name": "stdout",
     "output_type": "stream",
     "text": [
      "state\tπ\t\tG/kT\n",
      "1\t0.053844\t2.921662\n",
      "2\t0.116372\t2.150961\n",
      "3\t0.599150\t0.512243\n",
      "4\t0.090658\t2.400664\n",
      "5\t0.139976\t1.966287\n"
     ]
    },
    {
     "data": {
      "application/javascript": [
       "\n",
       "            setTimeout(function() {\n",
       "                var nbb_cell_id = 21;\n",
       "                var nbb_unformatted_code = \"# calculate probabilities and free energy of the metastable sets\\nprint(\\\"state\\\\t\\u03c0\\\\t\\\\tG/kT\\\")\\nfor i, s in enumerate(msm.metastable_sets):\\n    p = msm.pi[s].sum()\\n    print(\\\"{}\\\\t{:f}\\\\t{:f}\\\".format(i + 1, p, -np.log(p)))\";\n",
       "                var nbb_formatted_code = \"# calculate probabilities and free energy of the metastable sets\\nprint(\\\"state\\\\t\\u03c0\\\\t\\\\tG/kT\\\")\\nfor i, s in enumerate(msm.metastable_sets):\\n    p = msm.pi[s].sum()\\n    print(\\\"{}\\\\t{:f}\\\\t{:f}\\\".format(i + 1, p, -np.log(p)))\";\n",
       "                var nbb_cells = Jupyter.notebook.get_cells();\n",
       "                for (var i = 0; i < nbb_cells.length; ++i) {\n",
       "                    if (nbb_cells[i].input_prompt_number == nbb_cell_id) {\n",
       "                        if (nbb_cells[i].get_text() == nbb_unformatted_code) {\n",
       "                             nbb_cells[i].set_text(nbb_formatted_code);\n",
       "                        }\n",
       "                        break;\n",
       "                    }\n",
       "                }\n",
       "            }, 500);\n",
       "            "
      ],
      "text/plain": [
       "<IPython.core.display.Javascript object>"
      ]
     },
     "metadata": {},
     "output_type": "display_data"
    }
   ],
   "source": [
    "# calculate probabilities and free energy of the metastable sets\n",
    "print(\"state\\tπ\\t\\tG/kT\")\n",
    "for i, s in enumerate(msm.metastable_sets):\n",
    "    p = msm.pi[s].sum()\n",
    "    print(\"{}\\t{:f}\\t{:f}\".format(i + 1, p, -np.log(p)))"
   ]
  },
  {
   "cell_type": "code",
   "execution_count": 22,
   "id": "644597c2",
   "metadata": {
    "ExecuteTime": {
     "end_time": "2022-05-31T00:42:56.755056Z",
     "start_time": "2022-05-31T00:42:56.453813Z"
    }
   },
   "outputs": [
    {
     "name": "stdout",
     "output_type": "stream",
     "text": [
      "MFPT / ns:\n"
     ]
    },
    {
     "data": {
      "text/html": [
       "<div>\n",
       "<style scoped>\n",
       "    .dataframe tbody tr th:only-of-type {\n",
       "        vertical-align: middle;\n",
       "    }\n",
       "\n",
       "    .dataframe tbody tr th {\n",
       "        vertical-align: top;\n",
       "    }\n",
       "\n",
       "    .dataframe thead th {\n",
       "        text-align: right;\n",
       "    }\n",
       "</style>\n",
       "<table border=\"1\" class=\"dataframe\">\n",
       "  <thead>\n",
       "    <tr style=\"text-align: right;\">\n",
       "      <th></th>\n",
       "      <th>1</th>\n",
       "      <th>2</th>\n",
       "      <th>3</th>\n",
       "      <th>4</th>\n",
       "      <th>5</th>\n",
       "    </tr>\n",
       "  </thead>\n",
       "  <tbody>\n",
       "    <tr>\n",
       "      <th>1</th>\n",
       "      <td>0.00</td>\n",
       "      <td>298.33</td>\n",
       "      <td>67.80</td>\n",
       "      <td>912.99</td>\n",
       "      <td>292.33</td>\n",
       "    </tr>\n",
       "    <tr>\n",
       "      <th>2</th>\n",
       "      <td>982.76</td>\n",
       "      <td>0.00</td>\n",
       "      <td>29.03</td>\n",
       "      <td>921.54</td>\n",
       "      <td>257.37</td>\n",
       "    </tr>\n",
       "    <tr>\n",
       "      <th>3</th>\n",
       "      <td>964.92</td>\n",
       "      <td>236.25</td>\n",
       "      <td>0.00</td>\n",
       "      <td>913.85</td>\n",
       "      <td>244.35</td>\n",
       "    </tr>\n",
       "    <tr>\n",
       "      <th>4</th>\n",
       "      <td>1055.49</td>\n",
       "      <td>372.12</td>\n",
       "      <td>141.72</td>\n",
       "      <td>0.00</td>\n",
       "      <td>192.36</td>\n",
       "    </tr>\n",
       "    <tr>\n",
       "      <th>5</th>\n",
       "      <td>1050.02</td>\n",
       "      <td>329.39</td>\n",
       "      <td>99.26</td>\n",
       "      <td>829.11</td>\n",
       "      <td>0.00</td>\n",
       "    </tr>\n",
       "  </tbody>\n",
       "</table>\n",
       "</div>"
      ],
      "text/plain": [
       "         1       2       3       4       5\n",
       "1     0.00  298.33   67.80  912.99  292.33\n",
       "2   982.76    0.00   29.03  921.54  257.37\n",
       "3   964.92  236.25    0.00  913.85  244.35\n",
       "4  1055.49  372.12  141.72    0.00  192.36\n",
       "5  1050.02  329.39   99.26  829.11    0.00"
      ]
     },
     "execution_count": 22,
     "metadata": {},
     "output_type": "execute_result"
    },
    {
     "data": {
      "application/javascript": [
       "\n",
       "            setTimeout(function() {\n",
       "                var nbb_cell_id = 22;\n",
       "                var nbb_unformatted_code = \"from itertools import product\\n\\nmfpt = np.zeros((nstates, nstates))\\nfor i, j in product(range(nstates), repeat=2):\\n    mfpt[i, j] = msm.mfpt(msm.metastable_sets[i], msm.metastable_sets[j])\\n\\nfrom pandas import DataFrame\\n\\nprint(\\\"MFPT / ns:\\\")\\nDataFrame(\\n    np.round(mfpt, decimals=2),\\n    index=range(1, nstates + 1),\\n    columns=range(1, nstates + 1),\\n)\";\n",
       "                var nbb_formatted_code = \"from itertools import product\\n\\nmfpt = np.zeros((nstates, nstates))\\nfor i, j in product(range(nstates), repeat=2):\\n    mfpt[i, j] = msm.mfpt(msm.metastable_sets[i], msm.metastable_sets[j])\\n\\nfrom pandas import DataFrame\\n\\nprint(\\\"MFPT / ns:\\\")\\nDataFrame(\\n    np.round(mfpt, decimals=2),\\n    index=range(1, nstates + 1),\\n    columns=range(1, nstates + 1),\\n)\";\n",
       "                var nbb_cells = Jupyter.notebook.get_cells();\n",
       "                for (var i = 0; i < nbb_cells.length; ++i) {\n",
       "                    if (nbb_cells[i].input_prompt_number == nbb_cell_id) {\n",
       "                        if (nbb_cells[i].get_text() == nbb_unformatted_code) {\n",
       "                             nbb_cells[i].set_text(nbb_formatted_code);\n",
       "                        }\n",
       "                        break;\n",
       "                    }\n",
       "                }\n",
       "            }, 500);\n",
       "            "
      ],
      "text/plain": [
       "<IPython.core.display.Javascript object>"
      ]
     },
     "metadata": {},
     "output_type": "display_data"
    }
   ],
   "source": [
    "from itertools import product\n",
    "\n",
    "mfpt = np.zeros((nstates, nstates))\n",
    "for i, j in product(range(nstates), repeat=2):\n",
    "    mfpt[i, j] = msm.mfpt(msm.metastable_sets[i], msm.metastable_sets[j])\n",
    "\n",
    "from pandas import DataFrame\n",
    "\n",
    "print(\"MFPT / ns:\")\n",
    "DataFrame(\n",
    "    np.round(mfpt, decimals=2),\n",
    "    index=range(1, nstates + 1),\n",
    "    columns=range(1, nstates + 1),\n",
    ")"
   ]
  },
  {
   "cell_type": "code",
   "execution_count": 23,
   "id": "70535f01",
   "metadata": {
    "ExecuteTime": {
     "end_time": "2022-05-31T00:42:57.548978Z",
     "start_time": "2022-05-31T00:42:57.477773Z"
    }
   },
   "outputs": [
    {
     "name": "stdout",
     "output_type": "stream",
     "text": [
      "MFPT 1 -> other: ( 115.4 ±  80.7) ns\n",
      "MFPT other -> 1: (2235.1 ± 1656.4) ns\n"
     ]
    },
    {
     "data": {
      "application/javascript": [
       "\n",
       "            setTimeout(function() {\n",
       "                var nbb_cell_id = 23;\n",
       "                var nbb_unformatted_code = \"A = msm.metastable_sets[0]\\nB = np.concatenate(msm.metastable_sets[1:])\\nprint(\\n    \\\"MFPT 1 -> other: ({:6.1f} \\u00b1 {:5.1f}) ns\\\".format(\\n        msm.sample_mean(\\\"mfpt\\\", A, B), msm.sample_std(\\\"mfpt\\\", A, B)\\n    )\\n)\\nprint(\\n    \\\"MFPT other -> 1: ({:.1f} \\u00b1 {:5.1f}) ns\\\".format(\\n        msm.sample_mean(\\\"mfpt\\\", B, A), msm.sample_std(\\\"mfpt\\\", B, A)\\n    )\\n)\";\n",
       "                var nbb_formatted_code = \"A = msm.metastable_sets[0]\\nB = np.concatenate(msm.metastable_sets[1:])\\nprint(\\n    \\\"MFPT 1 -> other: ({:6.1f} \\u00b1 {:5.1f}) ns\\\".format(\\n        msm.sample_mean(\\\"mfpt\\\", A, B), msm.sample_std(\\\"mfpt\\\", A, B)\\n    )\\n)\\nprint(\\n    \\\"MFPT other -> 1: ({:.1f} \\u00b1 {:5.1f}) ns\\\".format(\\n        msm.sample_mean(\\\"mfpt\\\", B, A), msm.sample_std(\\\"mfpt\\\", B, A)\\n    )\\n)\";\n",
       "                var nbb_cells = Jupyter.notebook.get_cells();\n",
       "                for (var i = 0; i < nbb_cells.length; ++i) {\n",
       "                    if (nbb_cells[i].input_prompt_number == nbb_cell_id) {\n",
       "                        if (nbb_cells[i].get_text() == nbb_unformatted_code) {\n",
       "                             nbb_cells[i].set_text(nbb_formatted_code);\n",
       "                        }\n",
       "                        break;\n",
       "                    }\n",
       "                }\n",
       "            }, 500);\n",
       "            "
      ],
      "text/plain": [
       "<IPython.core.display.Javascript object>"
      ]
     },
     "metadata": {},
     "output_type": "display_data"
    }
   ],
   "source": [
    "A = msm.metastable_sets[0]\n",
    "B = np.concatenate(msm.metastable_sets[1:])\n",
    "print(\n",
    "    \"MFPT 1 -> other: ({:6.1f} ± {:5.1f}) ns\".format(\n",
    "        msm.sample_mean(\"mfpt\", A, B), msm.sample_std(\"mfpt\", A, B)\n",
    "    )\n",
    ")\n",
    "print(\n",
    "    \"MFPT other -> 1: ({:.1f} ± {:5.1f}) ns\".format(\n",
    "        msm.sample_mean(\"mfpt\", B, A), msm.sample_std(\"mfpt\", B, A)\n",
    "    )\n",
    ")"
   ]
  },
  {
   "cell_type": "markdown",
   "id": "6621ab6e",
   "metadata": {},
   "source": [
    "## Transition path theory (TPT)"
   ]
  },
  {
   "cell_type": "code",
   "execution_count": 24,
   "id": "a5ddd7a3",
   "metadata": {
    "ExecuteTime": {
     "end_time": "2022-05-31T00:42:59.127649Z",
     "start_time": "2022-05-31T00:42:59.110878Z"
    }
   },
   "outputs": [
    {
     "name": "stdout",
     "output_type": "stream",
     "text": [
      "BayesianMSM(conf=0.95, connectivity='largest', core_set=None,\n",
      "      count_mode='effective', dt_traj='0.1 ns', lag=5,\n",
      "      milestoning_method='last_core', mincount_connectivity='1/n',\n",
      "      nsamples=100, nsteps=8, reversible=True, show_progress=True,\n",
      "      sparse=False, statdist_constraint=None)\n",
      "ReactiveFlux(A=[0], B=[4], dt_model=[TimeUnit 0.5 ns],\n",
      "       flux=array([[0.00000e+00, 0.00000e+00, 4.93029e-04, 3.09387e-04, 0.00000e+00],\n",
      "       [0.00000e+00, 0.00000e+00, 5.08331e-13, 0.00000e+00, 0.00000e+00],\n",
      "       [0.00000e+00, 0.00000e+00, 0.00000e+00, 0.00000e+00, 8.02417e-04],\n",
      "       [0.00000e+00, 0.00000e+00, 3.09387e-04, 0.00000e+00, 0.00000e+00],\n",
      "       [0.00000e+00, 0.00000e+00, 0.00000e+00, 0.00000e+00, 0.00000e+00]]),\n",
      "       gross_flux=array([[0.     , 0.     , 0.00049, 0.00031, 0.     ],\n",
      "       [0.     , 0.     , 0.0002 , 0.     , 0.     ],\n",
      "       [0.     , 0.0002 , 0.     , 0.00085, 0.0008 ],\n",
      "       [0.     , 0.     , 0.00116, 0.     , 0.     ],\n",
      "       [0.     , 0.     , 0.     , 0.     , 0.     ]]),\n",
      "       mu=array([0.09066, 0.05384, 0.59915, 0.13998, 0.11637]),\n",
      "       qminus=array([1.     , 0.24217, 0.19272, 0.3301 , 0.     ]),\n",
      "       qplus=array([0.     , 0.75783, 0.80728, 0.6699 , 1.     ]))\n"
     ]
    },
    {
     "data": {
      "text/plain": [
       "([array([0, 2, 4], dtype=int32), array([0, 3, 2, 4], dtype=int32)],\n",
       " [0.0004930294385470331, 0.0003093872551378537])"
      ]
     },
     "execution_count": 24,
     "metadata": {},
     "output_type": "execute_result"
    },
    {
     "data": {
      "application/javascript": [
       "\n",
       "            setTimeout(function() {\n",
       "                var nbb_cell_id = 24;\n",
       "                var nbb_unformatted_code = \"start, final = 3, 1\\n# The flux between metastable states can be computed and coarse-grained as follows. As an example, we compute the flux between metastable states 1 and 2\\nA = msm.metastable_sets[start]\\nB = msm.metastable_sets[final]\\nflux = pyemma.msm.tpt(msm, A, B)\\n\\ncg, cgflux = flux.coarse_grain(msm.metastable_sets)\\nprint(msm)\\nprint(cgflux)\\ncgflux.pathways()\";\n",
       "                var nbb_formatted_code = \"start, final = 3, 1\\n# The flux between metastable states can be computed and coarse-grained as follows. As an example, we compute the flux between metastable states 1 and 2\\nA = msm.metastable_sets[start]\\nB = msm.metastable_sets[final]\\nflux = pyemma.msm.tpt(msm, A, B)\\n\\ncg, cgflux = flux.coarse_grain(msm.metastable_sets)\\nprint(msm)\\nprint(cgflux)\\ncgflux.pathways()\";\n",
       "                var nbb_cells = Jupyter.notebook.get_cells();\n",
       "                for (var i = 0; i < nbb_cells.length; ++i) {\n",
       "                    if (nbb_cells[i].input_prompt_number == nbb_cell_id) {\n",
       "                        if (nbb_cells[i].get_text() == nbb_unformatted_code) {\n",
       "                             nbb_cells[i].set_text(nbb_formatted_code);\n",
       "                        }\n",
       "                        break;\n",
       "                    }\n",
       "                }\n",
       "            }, 500);\n",
       "            "
      ],
      "text/plain": [
       "<IPython.core.display.Javascript object>"
      ]
     },
     "metadata": {},
     "output_type": "display_data"
    }
   ],
   "source": [
    "start, final = 3, 1\n",
    "# The flux between metastable states can be computed and coarse-grained as follows. As an example, we compute the flux between metastable states 1 and 2\n",
    "A = msm.metastable_sets[start]\n",
    "B = msm.metastable_sets[final]\n",
    "flux = pyemma.msm.tpt(msm, A, B)\n",
    "\n",
    "cg, cgflux = flux.coarse_grain(msm.metastable_sets)\n",
    "print(msm)\n",
    "print(cgflux)\n",
    "cgflux.pathways()"
   ]
  },
  {
   "cell_type": "code",
   "execution_count": 25,
   "id": "7f114215",
   "metadata": {
    "ExecuteTime": {
     "end_time": "2022-05-31T00:43:00.194725Z",
     "start_time": "2022-05-31T00:43:00.144411Z"
    }
   },
   "outputs": [
    {
     "name": "stdout",
     "output_type": "stream",
     "text": [
      "Path flux\t\t%path\t%of total\tpath\n",
      "0.0004930294385470331 \t 61.4 %\t 61.4 %\t\t [1 3 5]\n",
      "0.0003093872551378537 \t 38.6 %\t 100.0 %\t\t [1 4 3 5]\n"
     ]
    },
    {
     "data": {
      "application/javascript": [
       "\n",
       "            setTimeout(function() {\n",
       "                var nbb_cell_id = 25;\n",
       "                var nbb_unformatted_code = \"(paths, pathfluxes) = cgflux.pathways(fraction=0.99)\\ncumflux = 0\\nprint(\\\"Path flux\\\\t\\\\t%path\\\\t%of total\\\\tpath\\\")\\nfor i in range(len(paths)):\\n    cumflux += pathfluxes[i]\\n    print(\\n        pathfluxes[i],\\n        \\\"\\\\t\\\",\\n        \\\"%3.1f\\\" % (100.0 * pathfluxes[i] / cgflux.total_flux),\\n        \\\"%\\\\t\\\",\\n        \\\"%3.1f\\\" % (100.0 * cumflux / cgflux.total_flux),\\n        \\\"%\\\\t\\\\t\\\",\\n        paths[i] + 1,\\n    )\";\n",
       "                var nbb_formatted_code = \"(paths, pathfluxes) = cgflux.pathways(fraction=0.99)\\ncumflux = 0\\nprint(\\\"Path flux\\\\t\\\\t%path\\\\t%of total\\\\tpath\\\")\\nfor i in range(len(paths)):\\n    cumflux += pathfluxes[i]\\n    print(\\n        pathfluxes[i],\\n        \\\"\\\\t\\\",\\n        \\\"%3.1f\\\" % (100.0 * pathfluxes[i] / cgflux.total_flux),\\n        \\\"%\\\\t\\\",\\n        \\\"%3.1f\\\" % (100.0 * cumflux / cgflux.total_flux),\\n        \\\"%\\\\t\\\\t\\\",\\n        paths[i] + 1,\\n    )\";\n",
       "                var nbb_cells = Jupyter.notebook.get_cells();\n",
       "                for (var i = 0; i < nbb_cells.length; ++i) {\n",
       "                    if (nbb_cells[i].input_prompt_number == nbb_cell_id) {\n",
       "                        if (nbb_cells[i].get_text() == nbb_unformatted_code) {\n",
       "                             nbb_cells[i].set_text(nbb_formatted_code);\n",
       "                        }\n",
       "                        break;\n",
       "                    }\n",
       "                }\n",
       "            }, 500);\n",
       "            "
      ],
      "text/plain": [
       "<IPython.core.display.Javascript object>"
      ]
     },
     "metadata": {},
     "output_type": "display_data"
    }
   ],
   "source": [
    "(paths, pathfluxes) = cgflux.pathways(fraction=0.99)\n",
    "cumflux = 0\n",
    "print(\"Path flux\\t\\t%path\\t%of total\\tpath\")\n",
    "for i in range(len(paths)):\n",
    "    cumflux += pathfluxes[i]\n",
    "    print(\n",
    "        pathfluxes[i],\n",
    "        \"\\t\",\n",
    "        \"%3.1f\" % (100.0 * pathfluxes[i] / cgflux.total_flux),\n",
    "        \"%\\t\",\n",
    "        \"%3.1f\" % (100.0 * cumflux / cgflux.total_flux),\n",
    "        \"%\\t\\t\",\n",
    "        paths[i] + 1,\n",
    "    )"
   ]
  },
  {
   "cell_type": "code",
   "execution_count": 26,
   "id": "4f7765ec",
   "metadata": {
    "ExecuteTime": {
     "end_time": "2022-05-31T00:43:02.004844Z",
     "start_time": "2022-05-31T00:43:01.773692Z"
    }
   },
   "outputs": [
    {
     "data": {
      "text/plain": [
       "(<Figure size 611.559x864 with 1 Axes>,\n",
       " array([[0.        , 0.61012855],\n",
       "        [0.37174175, 1.        ],\n",
       "        [0.05076251, 0.21773734],\n",
       "        [0.25713303, 0.        ],\n",
       "        [0.70782315, 0.05678178]]))"
      ]
     },
     "execution_count": 26,
     "metadata": {},
     "output_type": "execute_result"
    },
    {
     "data": {
      "image/png": "[encoded data removed]",
      "text/plain": [
       "<Figure size 611.559x864 with 1 Axes>"
      ]
     },
     "metadata": {},
     "output_type": "display_data"
    },
    {
     "data": {
      "application/javascript": [
       "\n",
       "            setTimeout(function() {\n",
       "                var nbb_cell_id = 26;\n",
       "                var nbb_unformatted_code = \"Fsub = cgflux.major_flux(fraction=0.99)\\n# print(Fsub)\\nFsubpercent = 100.0 * Fsub / cgflux.total_flux\\nmplt.plot_network(\\n    Fsubpercent,\\n    state_sizes=cgflux.stationary_distribution,\\n    arrow_label_format=\\\"%3.1f\\\",\\n    state_labels=range(1, nstates + 1),\\n)\";\n",
       "                var nbb_formatted_code = \"Fsub = cgflux.major_flux(fraction=0.99)\\n# print(Fsub)\\nFsubpercent = 100.0 * Fsub / cgflux.total_flux\\nmplt.plot_network(\\n    Fsubpercent,\\n    state_sizes=cgflux.stationary_distribution,\\n    arrow_label_format=\\\"%3.1f\\\",\\n    state_labels=range(1, nstates + 1),\\n)\";\n",
       "                var nbb_cells = Jupyter.notebook.get_cells();\n",
       "                for (var i = 0; i < nbb_cells.length; ++i) {\n",
       "                    if (nbb_cells[i].input_prompt_number == nbb_cell_id) {\n",
       "                        if (nbb_cells[i].get_text() == nbb_unformatted_code) {\n",
       "                             nbb_cells[i].set_text(nbb_formatted_code);\n",
       "                        }\n",
       "                        break;\n",
       "                    }\n",
       "                }\n",
       "            }, 500);\n",
       "            "
      ],
      "text/plain": [
       "<IPython.core.display.Javascript object>"
      ]
     },
     "metadata": {},
     "output_type": "display_data"
    }
   ],
   "source": [
    "Fsub = cgflux.major_flux(fraction=0.99)\n",
    "# print(Fsub)\n",
    "Fsubpercent = 100.0 * Fsub / cgflux.total_flux\n",
    "mplt.plot_network(\n",
    "    Fsubpercent,\n",
    "    state_sizes=cgflux.stationary_distribution,\n",
    "    arrow_label_format=\"%3.1f\",\n",
    "    state_labels=range(1, nstates + 1),\n",
    ")"
   ]
  },
  {
   "cell_type": "code",
   "execution_count": 27,
   "id": "9993ff65",
   "metadata": {
    "ExecuteTime": {
     "end_time": "2022-05-31T00:43:02.253920Z",
     "start_time": "2022-05-31T00:43:02.005898Z"
    }
   },
   "outputs": [
    {
     "data": {
      "image/png": "[encoded data removed]",
      "text/plain": [
       "<Figure size 360x288 with 2 Axes>"
      ]
     },
     "metadata": {
      "needs_background": "light"
     },
     "output_type": "display_data"
    },
    {
     "data": {
      "application/javascript": [
       "\n",
       "            setTimeout(function() {\n",
       "                var nbb_cell_id = 27;\n",
       "                var nbb_unformatted_code = \"fig, ax = plt.subplots(figsize=(5, 4))\\n\\npyemma.plots.plot_contour(\\n    *tica_concatenated[:, :2].T,\\n    flux.committor[dtrajs_concatenated],\\n    cmap=\\\"brg\\\",\\n    ax=ax,\\n    mask=True,\\n    cbar_label=r\\\"committor $\\\\mathcal{S}_%d \\\\to \\\\mathcal{S}_%d$\\\" % (start + 1, final + 1)\\n)\\nfig.tight_layout()\";\n",
       "                var nbb_formatted_code = \"fig, ax = plt.subplots(figsize=(5, 4))\\n\\npyemma.plots.plot_contour(\\n    *tica_concatenated[:, :2].T,\\n    flux.committor[dtrajs_concatenated],\\n    cmap=\\\"brg\\\",\\n    ax=ax,\\n    mask=True,\\n    cbar_label=r\\\"committor $\\\\mathcal{S}_%d \\\\to \\\\mathcal{S}_%d$\\\" % (start + 1, final + 1)\\n)\\nfig.tight_layout()\";\n",
       "                var nbb_cells = Jupyter.notebook.get_cells();\n",
       "                for (var i = 0; i < nbb_cells.length; ++i) {\n",
       "                    if (nbb_cells[i].input_prompt_number == nbb_cell_id) {\n",
       "                        if (nbb_cells[i].get_text() == nbb_unformatted_code) {\n",
       "                             nbb_cells[i].set_text(nbb_formatted_code);\n",
       "                        }\n",
       "                        break;\n",
       "                    }\n",
       "                }\n",
       "            }, 500);\n",
       "            "
      ],
      "text/plain": [
       "<IPython.core.display.Javascript object>"
      ]
     },
     "metadata": {},
     "output_type": "display_data"
    }
   ],
   "source": [
    "fig, ax = plt.subplots(figsize=(5, 4))\n",
    "\n",
    "pyemma.plots.plot_contour(\n",
    "    *tica_concatenated[:, :2].T,\n",
    "    flux.committor[dtrajs_concatenated],\n",
    "    cmap=\"brg\",\n",
    "    ax=ax,\n",
    "    mask=True,\n",
    "    cbar_label=r\"committor $\\mathcal{S}_%d \\to \\mathcal{S}_%d$\" % (start + 1, final + 1)\n",
    ")\n",
    "fig.tight_layout()"
   ]
  },
  {
   "cell_type": "markdown",
   "id": "c66a6a10",
   "metadata": {},
   "source": [
    "## MSM network"
   ]
  },
  {
   "cell_type": "code",
   "execution_count": 28,
   "id": "dbfa2da7",
   "metadata": {
    "ExecuteTime": {
     "end_time": "2022-05-31T00:43:04.624362Z",
     "start_time": "2022-05-31T00:43:04.608572Z"
    }
   },
   "outputs": [
    {
     "name": "stdout",
     "output_type": "stream",
     "text": [
      "[[   0.          298.32717274   67.80377942  912.99017054  292.33308671]\n",
      " [ 982.75760444    0.           29.03058525  921.53990628  257.36674866]\n",
      " [ 964.92139575  236.24791027    0.          913.85054729  244.35019061]\n",
      " [1055.49387384  372.1209117   141.71846867    0.          192.36069463]\n",
      " [1050.02178128  329.38647183   99.25833545  829.10858844    0.        ]]\n",
      "[[0. 0. 0. 0. 0.]\n",
      " [0. 0. 0. 0. 0.]\n",
      " [0. 0. 0. 0. 0.]\n",
      " [0. 0. 0. 0. 0.]\n",
      " [0. 0. 0. 0. 0.]]\n",
      "[[0.         0.00335202 0.01474844 0.0010953  0.00342076]\n",
      " [0.00101754 0.         0.03444643 0.00108514 0.00388551]\n",
      " [0.00103635 0.00423284 0.         0.00109427 0.00409249]\n",
      " [0.00094742 0.0026873  0.00705624 0.         0.00519857]\n",
      " [0.00095236 0.00303595 0.01007472 0.00120611 0.        ]]\n",
      "[5, 11, 59, 9, 13]\n",
      "[ 5 11 59  9 13]\n"
     ]
    },
    {
     "data": {
      "text/plain": [
       "numpy.ndarray"
      ]
     },
     "execution_count": 28,
     "metadata": {},
     "output_type": "execute_result"
    },
    {
     "data": {
      "application/javascript": [
       "\n",
       "            setTimeout(function() {\n",
       "                var nbb_cell_id = 28;\n",
       "                var nbb_unformatted_code = \"print(mfpt)\\ninverse_mfpt = np.zeros_like(mfpt)\\nprint(inverse_mfpt)\\nnz = mfpt.nonzero()\\ninverse_mfpt[nz] = 1.0 / mfpt[nz]\\nprint(inverse_mfpt)\\ndisc_size = []\\nfor i, s in enumerate(msm.metastable_sets):\\n    p = msm.pi[s].sum()\\n    disc_size.append(int(p * 100))\\nprint(disc_size)\\ntype(disc_size)\\ndisc_size = np.array(disc_size)\\nprint(disc_size)\\ntype(disc_size)\";\n",
       "                var nbb_formatted_code = \"print(mfpt)\\ninverse_mfpt = np.zeros_like(mfpt)\\nprint(inverse_mfpt)\\nnz = mfpt.nonzero()\\ninverse_mfpt[nz] = 1.0 / mfpt[nz]\\nprint(inverse_mfpt)\\ndisc_size = []\\nfor i, s in enumerate(msm.metastable_sets):\\n    p = msm.pi[s].sum()\\n    disc_size.append(int(p * 100))\\nprint(disc_size)\\ntype(disc_size)\\ndisc_size = np.array(disc_size)\\nprint(disc_size)\\ntype(disc_size)\";\n",
       "                var nbb_cells = Jupyter.notebook.get_cells();\n",
       "                for (var i = 0; i < nbb_cells.length; ++i) {\n",
       "                    if (nbb_cells[i].input_prompt_number == nbb_cell_id) {\n",
       "                        if (nbb_cells[i].get_text() == nbb_unformatted_code) {\n",
       "                             nbb_cells[i].set_text(nbb_formatted_code);\n",
       "                        }\n",
       "                        break;\n",
       "                    }\n",
       "                }\n",
       "            }, 500);\n",
       "            "
      ],
      "text/plain": [
       "<IPython.core.display.Javascript object>"
      ]
     },
     "metadata": {},
     "output_type": "display_data"
    }
   ],
   "source": [
    "print(mfpt)\n",
    "inverse_mfpt = np.zeros_like(mfpt)\n",
    "print(inverse_mfpt)\n",
    "nz = mfpt.nonzero()\n",
    "inverse_mfpt[nz] = 1.0 / mfpt[nz]\n",
    "print(inverse_mfpt)\n",
    "disc_size = []\n",
    "for i, s in enumerate(msm.metastable_sets):\n",
    "    p = msm.pi[s].sum()\n",
    "    disc_size.append(int(p * 100))\n",
    "print(disc_size)\n",
    "type(disc_size)\n",
    "disc_size = np.array(disc_size)\n",
    "print(disc_size)\n",
    "type(disc_size)"
   ]
  },
  {
   "cell_type": "code",
   "execution_count": 29,
   "id": "5658dae9",
   "metadata": {
    "ExecuteTime": {
     "end_time": "2022-05-31T00:43:06.918352Z",
     "start_time": "2022-05-31T00:43:06.074704Z"
    }
   },
   "outputs": [
    {
     "data": {
      "text/plain": [
       "(<Figure size 864x558.465 with 1 Axes>,\n",
       " array([[0.57601581, 0.36983805],\n",
       "        [0.        , 0.        ],\n",
       "        [1.        , 0.64637141],\n",
       "        [0.33592954, 0.49426325],\n",
       "        [0.58812417, 0.0952703 ]]))"
      ]
     },
     "execution_count": 29,
     "metadata": {},
     "output_type": "execute_result"
    },
    {
     "data": {
      "image/png": "[encoded data removed]",
      "text/plain": [
       "<Figure size 864x558.465 with 1 Axes>"
      ]
     },
     "metadata": {},
     "output_type": "display_data"
    },
    {
     "data": {
      "application/javascript": [
       "\n",
       "            setTimeout(function() {\n",
       "                var nbb_cell_id = 29;\n",
       "                var nbb_unformatted_code = \"pyemma.plots.plot_network(\\n    inverse_mfpt,\\n    arrow_label_format=\\\"%.1f ps\\\",\\n    arrow_labels=mfpt,\\n    state_labels=range(1, nstates + 1),\\n    state_sizes=disc_size,\\n)\\n\\n# arrow_label_format=\\\"%.1f ps\\\" -- float\\u7c7b\\u578b\\uff0c\\u8f93\\u51fa\\u65f6\\u5c0f\\u6570\\u70b9\\u540e\\u6709\\u4e00\\u4f4d\\u5c0f\\u6570\\n# arrow_label_format=\\\"%10.2f\\\"  -- %10.2f \\u5b9e\\u6570\\u8f93\\u51fa\\uff0c10\\u5217\\uff0c\\u4fdd\\u7559\\u4e24\\u4f4d\\u5c0f\\u6570\\u4f4d\\n# state_labels=range(1, nstates + 1) -- \\u6807\\u7b7e\";\n",
       "                var nbb_formatted_code = \"pyemma.plots.plot_network(\\n    inverse_mfpt,\\n    arrow_label_format=\\\"%.1f ps\\\",\\n    arrow_labels=mfpt,\\n    state_labels=range(1, nstates + 1),\\n    state_sizes=disc_size,\\n)\\n\\n# arrow_label_format=\\\"%.1f ps\\\" -- float\\u7c7b\\u578b\\uff0c\\u8f93\\u51fa\\u65f6\\u5c0f\\u6570\\u70b9\\u540e\\u6709\\u4e00\\u4f4d\\u5c0f\\u6570\\n# arrow_label_format=\\\"%10.2f\\\"  -- %10.2f \\u5b9e\\u6570\\u8f93\\u51fa\\uff0c10\\u5217\\uff0c\\u4fdd\\u7559\\u4e24\\u4f4d\\u5c0f\\u6570\\u4f4d\\n# state_labels=range(1, nstates + 1) -- \\u6807\\u7b7e\";\n",
       "                var nbb_cells = Jupyter.notebook.get_cells();\n",
       "                for (var i = 0; i < nbb_cells.length; ++i) {\n",
       "                    if (nbb_cells[i].input_prompt_number == nbb_cell_id) {\n",
       "                        if (nbb_cells[i].get_text() == nbb_unformatted_code) {\n",
       "                             nbb_cells[i].set_text(nbb_formatted_code);\n",
       "                        }\n",
       "                        break;\n",
       "                    }\n",
       "                }\n",
       "            }, 500);\n",
       "            "
      ],
      "text/plain": [
       "<IPython.core.display.Javascript object>"
      ]
     },
     "metadata": {},
     "output_type": "display_data"
    }
   ],
   "source": [
    "pyemma.plots.plot_network(\n",
    "    inverse_mfpt,\n",
    "    arrow_label_format=\"%.1f ps\",\n",
    "    arrow_labels=mfpt,\n",
    "    state_labels=range(1, nstates + 1),\n",
    "    state_sizes=disc_size,\n",
    ")\n",
    "\n",
    "# arrow_label_format=\"%.1f ps\" -- float类型，输出时小数点后有一位小数\n",
    "# arrow_label_format=\"%10.2f\"  -- %10.2f 实数输出，10列，保留两位小数位\n",
    "# state_labels=range(1, nstates + 1) -- 标签"
   ]
  },
  {
   "cell_type": "code",
   "execution_count": null,
   "id": "d8904640",
   "metadata": {},
   "outputs": [],
   "source": []
  },
  {
   "cell_type": "code",
   "execution_count": null,
   "id": "95d19c59",
   "metadata": {
    "scrolled": true
   },
   "outputs": [],
   "source": []
  },
  {
   "cell_type": "code",
   "execution_count": null,
   "id": "89762a52",
   "metadata": {},
   "outputs": [],
   "source": []
  },
  {
   "cell_type": "code",
   "execution_count": null,
   "id": "add4f756",
   "metadata": {},
   "outputs": [],
   "source": []
  },
  {
   "cell_type": "code",
   "execution_count": null,
   "id": "48dae3b8",
   "metadata": {},
   "outputs": [],
   "source": [
    "# print(msm.metastable_sets)"
   ]
  },
  {
   "cell_type": "code",
   "execution_count": null,
   "id": "6252bf06",
   "metadata": {},
   "outputs": [],
   "source": [
    "# paths, path_fluxes = cgflux.pathways(fraction=0.99)\n",
    "# print(\"percentage       \\tpath\")\n",
    "# print(\"-------------------------------------\")\n",
    "# for i in range(len(paths)):\n",
    "#    print((path_fluxes[i] / np.sum(path_fluxes)), \" \\t\", paths[i] + 1)\n",
    "#  print((path_fluxes[i] / np.sum(path_fluxes)), \" \\t\", paths[i]) -- 未修正标签"
   ]
  },
  {
   "cell_type": "code",
   "execution_count": null,
   "id": "e238d5c2",
   "metadata": {},
   "outputs": [],
   "source": [
    "# print(\"\\n**Gross flux illustration**: \")\n",
    "# mplt.plot_flux(\n",
    "#    cgflux,\n",
    "#    arrow_label_format=\"%10.4f\",\n",
    "#    state_labels=range(1, nstates + 1),\n",
    "#    attribute_to_plot=\"gross_flux\",\n",
    "#    state_sizes=disc_size,\n",
    "# )\n",
    "# state_labels=range(1, nstates + 1),"
   ]
  }
 ],
 "metadata": {
  "hide_input": false,
  "kernelspec": {
   "display_name": "Python 3 (ipykernel)",
   "language": "python",
   "name": "python3"
  },
  "language_info": {
   "codemirror_mode": {
    "name": "ipython",
    "version": 3
   },
   "file_extension": ".py",
   "mimetype": "text/x-python",
   "name": "python",
   "nbconvert_exporter": "python",
   "pygments_lexer": "ipython3",
   "version": "3.8.12"
  },
  "toc": {
   "base_numbering": 1,
   "nav_menu": {},
   "number_sections": true,
   "sideBar": true,
   "skip_h1_title": false,
   "title_cell": "Table of Contents",
   "title_sidebar": "Contents",
   "toc_cell": false,
   "toc_position": {
    "height": "534px",
    "left": "94px",
    "top": "141px",
    "width": "205px"
   },
   "toc_section_display": true,
   "toc_window_display": true
  }
 },
 "nbformat": 4,
 "nbformat_minor": 5
}
