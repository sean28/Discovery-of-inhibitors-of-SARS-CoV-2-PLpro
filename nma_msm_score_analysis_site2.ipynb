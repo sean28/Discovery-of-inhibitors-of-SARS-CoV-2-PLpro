{
 "cells": [
  {
   "cell_type": "markdown",
   "id": "7b181ee2",
   "metadata": {},
   "source": [
    "# 导入文件"
   ]
  },
  {
   "cell_type": "code",
   "execution_count": 3,
   "id": "822c72a2",
   "metadata": {
    "ExecuteTime": {
     "end_time": "2022-06-28T02:58:40.340270Z",
     "start_time": "2022-06-28T02:58:40.330229Z"
    }
   },
   "outputs": [
    {
     "name": "stdout",
     "output_type": "stream",
     "text": [
      "The nb_black extension is already loaded. To reload it, use:\n",
      "  %reload_ext nb_black\n"
     ]
    },
    {
     "data": {
      "application/javascript": [
       "\n",
       "            setTimeout(function() {\n",
       "                var nbb_cell_id = 3;\n",
       "                var nbb_unformatted_code = \"%matplotlib inline\\n%load_ext nb_black\\nimport matplotlib.pyplot as plt\\nimport matplotlib as mpl\\n\\nfrom numpy import *\\nimport numpy as np\\n\\nimport pyemma\\nfrom pyemma.util.contexts import settings\\nimport pyemma.plots as mplt\\nimport pyemma.msm as msm\\n\\nfrom __future__ import print_function\\nimport mdtraj\\nimport mdtraj as md\\n\\nfrom tqdm import tqdm\\nfrom time import sleep\\n\\n# import mdshare\";\n",
       "                var nbb_formatted_code = \"%matplotlib inline\\n%load_ext nb_black\\nimport matplotlib.pyplot as plt\\nimport matplotlib as mpl\\n\\nfrom numpy import *\\nimport numpy as np\\n\\nimport pyemma\\nfrom pyemma.util.contexts import settings\\nimport pyemma.plots as mplt\\nimport pyemma.msm as msm\\n\\nfrom __future__ import print_function\\nimport mdtraj\\nimport mdtraj as md\\n\\nfrom tqdm import tqdm\\nfrom time import sleep\\n\\n# import mdshare\";\n",
       "                var nbb_cells = Jupyter.notebook.get_cells();\n",
       "                for (var i = 0; i < nbb_cells.length; ++i) {\n",
       "                    if (nbb_cells[i].input_prompt_number == nbb_cell_id) {\n",
       "                        if (nbb_cells[i].get_text() == nbb_unformatted_code) {\n",
       "                             nbb_cells[i].set_text(nbb_formatted_code);\n",
       "                        }\n",
       "                        break;\n",
       "                    }\n",
       "                }\n",
       "            }, 500);\n",
       "            "
      ],
      "text/plain": [
       "<IPython.core.display.Javascript object>"
      ]
     },
     "metadata": {},
     "output_type": "display_data"
    }
   ],
   "source": [
    "%matplotlib inline\n",
    "%load_ext nb_black\n",
    "import matplotlib.pyplot as plt\n",
    "import matplotlib as mpl\n",
    "\n",
    "from numpy import *\n",
    "import numpy as np\n",
    "\n",
    "import pyemma\n",
    "from pyemma.util.contexts import settings\n",
    "import pyemma.plots as mplt\n",
    "import pyemma.msm as msm\n",
    "\n",
    "from __future__ import print_function\n",
    "import mdtraj\n",
    "import mdtraj as md\n",
    "\n",
    "from tqdm import tqdm\n",
    "from time import sleep\n",
    "\n",
    "# import mdshare"
   ]
  },
  {
   "cell_type": "code",
   "execution_count": 7,
   "id": "c5ef5f57",
   "metadata": {
    "ExecuteTime": {
     "end_time": "2022-06-28T03:00:52.425418Z",
     "start_time": "2022-06-28T03:00:52.265701Z"
    }
   },
   "outputs": [
    {
     "name": "stdout",
     "output_type": "stream",
     "text": [
      "/home/sean/Desktop/disk/cadd/MSM/zong-nma-msm/zong-msm-align.trr\n",
      "<mdtraj.Trajectory with 1 frames, 4969 atoms, 316 residues, and unitcells>\n",
      "<mdtraj.Topology with 1 chains, 316 residues, 4969 atoms, 4865 bonds>\n"
     ]
    },
    {
     "data": {
      "application/javascript": [
       "\n",
       "            setTimeout(function() {\n",
       "                var nbb_cell_id = 7;\n",
       "                var nbb_unformatted_code = \"# \\u5bfc\\u5165\\u8f68\\u8ff9\\u6587\\u4ef6\\n# pdb = \\\"../6wuu.pdb\\\"\\n# files = \\\"../md_dry_jump_center_mol_center_fit.trr\\\"\\n# files = \\\"/home/sean/Desktop/Share/plpro_result/MSM/mix_zong_acn/zong.trr\\\"\\npdb = \\\"/home/sean/Desktop/disk/cadd/MSM/zong-nma-msm/nma_top.pdb\\\"\\nfiles = \\\"/home/sean/Desktop/disk/cadd/MSM/zong-nma-msm/zong-msm-align.trr\\\"\\n#files = (\\n#    \\\"/home/sean/Desktop/disk/cadd/MSM/zong-nma-msm/md_dry_jump_center_mol_center_fit1.trr\\\",\\n#    \\\"/home/sean/Desktop/disk/cadd/MSM/zong-nma-msm/md_dry_jump_center_mol_center_fit2.trr\\\",\\n#    \\\"/home/sean/Desktop/disk/cadd/MSM/zong-nma-msm/md_dry_jump_center_mol_center_fit3.trr\\\",\\n#    \\\"/home/sean/Desktop/disk/cadd/MSM/zong-nma-msm/md_dry_jump_center_mol_center_fit4.trr\\\",\\n#    \\\"/home/sean/Desktop/disk/cadd/MSM/zong-nma-msm/md_dry_jump_center_mol_center_fit5.trr\\\",\\n#    \\\"/home/sean/Desktop/disk/cadd/MSM/zong-nma-msm/md_dry_jump_center_mol_center_fit6.trr\\\",\\n#    \\\"/home/sean/Desktop/disk/cadd/MSM/zong-nma-msm/md_dry_jump_center_mol_center_fit7.trr\\\",\\n#    \\\"/home/sean/Desktop/disk/cadd/MSM/zong-nma-msm/md_dry_jump_center_mol_center_fit8.trr\\\",\\n#    \\\"/home/sean/Desktop/disk/cadd/MSM/zong-nma-msm/md_dry_jump_center_mol_center_fit9.trr\\\",\\n#    \\\"/home/sean/Desktop/disk/cadd/MSM/zong-nma-msm/md_dry_jump_center_mol_center_fit10.trr\\\",\\n#)\\n#print(pdb)\\nprint(files)\\n\\n# \\u5b9a\\u4e49mdtraj\\ntraj = md.load(pdb, files)\\ntopology = traj.topology\\nprint(traj)\\nprint(topology)\";\n",
       "                var nbb_formatted_code = \"# \\u5bfc\\u5165\\u8f68\\u8ff9\\u6587\\u4ef6\\n# pdb = \\\"../6wuu.pdb\\\"\\n# files = \\\"../md_dry_jump_center_mol_center_fit.trr\\\"\\n# files = \\\"/home/sean/Desktop/Share/plpro_result/MSM/mix_zong_acn/zong.trr\\\"\\npdb = \\\"/home/sean/Desktop/disk/cadd/MSM/zong-nma-msm/nma_top.pdb\\\"\\nfiles = \\\"/home/sean/Desktop/disk/cadd/MSM/zong-nma-msm/zong-msm-align.trr\\\"\\n# files = (\\n#    \\\"/home/sean/Desktop/disk/cadd/MSM/zong-nma-msm/md_dry_jump_center_mol_center_fit1.trr\\\",\\n#    \\\"/home/sean/Desktop/disk/cadd/MSM/zong-nma-msm/md_dry_jump_center_mol_center_fit2.trr\\\",\\n#    \\\"/home/sean/Desktop/disk/cadd/MSM/zong-nma-msm/md_dry_jump_center_mol_center_fit3.trr\\\",\\n#    \\\"/home/sean/Desktop/disk/cadd/MSM/zong-nma-msm/md_dry_jump_center_mol_center_fit4.trr\\\",\\n#    \\\"/home/sean/Desktop/disk/cadd/MSM/zong-nma-msm/md_dry_jump_center_mol_center_fit5.trr\\\",\\n#    \\\"/home/sean/Desktop/disk/cadd/MSM/zong-nma-msm/md_dry_jump_center_mol_center_fit6.trr\\\",\\n#    \\\"/home/sean/Desktop/disk/cadd/MSM/zong-nma-msm/md_dry_jump_center_mol_center_fit7.trr\\\",\\n#    \\\"/home/sean/Desktop/disk/cadd/MSM/zong-nma-msm/md_dry_jump_center_mol_center_fit8.trr\\\",\\n#    \\\"/home/sean/Desktop/disk/cadd/MSM/zong-nma-msm/md_dry_jump_center_mol_center_fit9.trr\\\",\\n#    \\\"/home/sean/Desktop/disk/cadd/MSM/zong-nma-msm/md_dry_jump_center_mol_center_fit10.trr\\\",\\n# )\\n# print(pdb)\\nprint(files)\\n\\n# \\u5b9a\\u4e49mdtraj\\ntraj = md.load(pdb, files)\\ntopology = traj.topology\\nprint(traj)\\nprint(topology)\";\n",
       "                var nbb_cells = Jupyter.notebook.get_cells();\n",
       "                for (var i = 0; i < nbb_cells.length; ++i) {\n",
       "                    if (nbb_cells[i].input_prompt_number == nbb_cell_id) {\n",
       "                        if (nbb_cells[i].get_text() == nbb_unformatted_code) {\n",
       "                             nbb_cells[i].set_text(nbb_formatted_code);\n",
       "                        }\n",
       "                        break;\n",
       "                    }\n",
       "                }\n",
       "            }, 500);\n",
       "            "
      ],
      "text/plain": [
       "<IPython.core.display.Javascript object>"
      ]
     },
     "metadata": {},
     "output_type": "display_data"
    }
   ],
   "source": [
    "# 导入轨迹文件\n",
    "# pdb = \"../6wuu.pdb\"\n",
    "# files = \"../md_dry_jump_center_mol_center_fit.trr\"\n",
    "# files = \"/home/sean/Desktop/Share/plpro_result/MSM/mix_zong_acn/zong.trr\"\n",
    "pdb = \"/home/sean/Desktop/disk/cadd/MSM/zong-nma-msm/nma_top.pdb\"\n",
    "files = \"/home/sean/Desktop/disk/cadd/MSM/zong-nma-msm/zong-msm-align.trr\"\n",
    "# files = (\n",
    "#    \"/home/sean/Desktop/disk/cadd/MSM/zong-nma-msm/md_dry_jump_center_mol_center_fit1.trr\",\n",
    "#    \"/home/sean/Desktop/disk/cadd/MSM/zong-nma-msm/md_dry_jump_center_mol_center_fit2.trr\",\n",
    "#    \"/home/sean/Desktop/disk/cadd/MSM/zong-nma-msm/md_dry_jump_center_mol_center_fit3.trr\",\n",
    "#    \"/home/sean/Desktop/disk/cadd/MSM/zong-nma-msm/md_dry_jump_center_mol_center_fit4.trr\",\n",
    "#    \"/home/sean/Desktop/disk/cadd/MSM/zong-nma-msm/md_dry_jump_center_mol_center_fit5.trr\",\n",
    "#    \"/home/sean/Desktop/disk/cadd/MSM/zong-nma-msm/md_dry_jump_center_mol_center_fit6.trr\",\n",
    "#    \"/home/sean/Desktop/disk/cadd/MSM/zong-nma-msm/md_dry_jump_center_mol_center_fit7.trr\",\n",
    "#    \"/home/sean/Desktop/disk/cadd/MSM/zong-nma-msm/md_dry_jump_center_mol_center_fit8.trr\",\n",
    "#    \"/home/sean/Desktop/disk/cadd/MSM/zong-nma-msm/md_dry_jump_center_mol_center_fit9.trr\",\n",
    "#    \"/home/sean/Desktop/disk/cadd/MSM/zong-nma-msm/md_dry_jump_center_mol_center_fit10.trr\",\n",
    "# )\n",
    "# print(pdb)\n",
    "print(files)\n",
    "\n",
    "# 定义mdtraj\n",
    "traj = md.load(pdb, files)\n",
    "topology = traj.topology\n",
    "print(traj)\n",
    "print(topology)"
   ]
  },
  {
   "cell_type": "markdown",
   "id": "2b3c516d",
   "metadata": {},
   "source": [
    "# 选择评分残基"
   ]
  },
  {
   "cell_type": "markdown",
   "id": "8171352b",
   "metadata": {},
   "source": [
    "## 选定残基"
   ]
  },
  {
   "cell_type": "code",
   "execution_count": 13,
   "id": "29db37cc",
   "metadata": {
    "ExecuteTime": {
     "end_time": "2022-05-24T02:41:30.360826Z",
     "start_time": "2022-05-24T02:41:30.350257Z"
    }
   },
   "outputs": [
    {
     "name": "stdout",
     "output_type": "stream",
     "text": [
      "[163 164 165 245 246 247 263 272 300 301 163 164 165 245 246 247 263 272\n",
      " 300 301]\n"
     ]
    },
    {
     "data": {
      "application/javascript": [
       "\n",
       "            setTimeout(function() {\n",
       "                var nbb_cell_id = 13;\n",
       "                var nbb_unformatted_code = \"# \\u6b8b\\u57fa\\u9009\\u62e9\\u4fee\\u6b63\\nselected_resi = [\\n    164,\\n    165,\\n    166,\\n    246,\\n    247,\\n    248,\\n    264,\\n    273,\\n    301,\\n    302,\\n    164,\\n    165,\\n    166,\\n    246,\\n    247,\\n    248,\\n    264,\\n    273,\\n    301,\\n    302,\\n]\\n# selected_resi = [12, 13, 71, 72, 83, 131, 132, 134, 135, 138, 146, 150]\\nselected_resi_xiu = np.array(selected_resi) - 1\\nprint(selected_resi_xiu)\";\n",
       "                var nbb_formatted_code = \"# \\u6b8b\\u57fa\\u9009\\u62e9\\u4fee\\u6b63\\nselected_resi = [\\n    164,\\n    165,\\n    166,\\n    246,\\n    247,\\n    248,\\n    264,\\n    273,\\n    301,\\n    302,\\n    164,\\n    165,\\n    166,\\n    246,\\n    247,\\n    248,\\n    264,\\n    273,\\n    301,\\n    302,\\n]\\n# selected_resi = [12, 13, 71, 72, 83, 131, 132, 134, 135, 138, 146, 150]\\nselected_resi_xiu = np.array(selected_resi) - 1\\nprint(selected_resi_xiu)\";\n",
       "                var nbb_cells = Jupyter.notebook.get_cells();\n",
       "                for (var i = 0; i < nbb_cells.length; ++i) {\n",
       "                    if (nbb_cells[i].input_prompt_number == nbb_cell_id) {\n",
       "                        if (nbb_cells[i].get_text() == nbb_unformatted_code) {\n",
       "                             nbb_cells[i].set_text(nbb_formatted_code);\n",
       "                        }\n",
       "                        break;\n",
       "                    }\n",
       "                }\n",
       "            }, 500);\n",
       "            "
      ],
      "text/plain": [
       "<IPython.core.display.Javascript object>"
      ]
     },
     "metadata": {},
     "output_type": "display_data"
    }
   ],
   "source": [
    "# 残基选择修正\n",
    "selected_resi = [\n",
    "    164,\n",
    "    165,\n",
    "    166,\n",
    "    246,\n",
    "    247,\n",
    "    248,\n",
    "    264,\n",
    "    273,\n",
    "    301,\n",
    "    302,\n",
    "    164,\n",
    "    165,\n",
    "    166,\n",
    "    246,\n",
    "    247,\n",
    "    248,\n",
    "    264,\n",
    "    273,\n",
    "    301,\n",
    "    302,\n",
    "]\n",
    "# selected_resi = [12, 13, 71, 72, 83, 131, 132, 134, 135, 138, 146, 150]\n",
    "selected_resi_xiu = np.array(selected_resi) - 1\n",
    "print(selected_resi_xiu)"
   ]
  },
  {
   "cell_type": "code",
   "execution_count": 14,
   "id": "c75b92cf",
   "metadata": {
    "ExecuteTime": {
     "end_time": "2022-05-24T02:41:43.209560Z",
     "start_time": "2022-05-24T02:41:31.782993Z"
    }
   },
   "outputs": [
    {
     "name": "stderr",
     "output_type": "stream",
     "text": [
      "/home/sean/miniconda3/envs/env_py3.8/lib/python3.8/site-packages/pyemma/coordinates/data/featurization/angles.py:211: FutureWarning: arrays to stack must be passed as a \"sequence\" type such as list or tuple. Support for non-sequence iterables such as generators is deprecated as of NumPy 1.16 and will raise an error in the future.\n",
      "  indices = np.vstack(valid.values())\n"
     ]
    },
    {
     "data": {
      "text/plain": [
       "['DIST: ASP 164 CA 2577 - VAL 165 CA 2589',\n",
       " 'DIST: ASP 164 CA 2577 - ARG 166 CA 2605',\n",
       " 'DIST: ASP 164 CA 2577 - ALA 246 CA 3868',\n",
       " 'DIST: ASP 164 CA 2577 - PRO 247 CA 3880',\n",
       " 'DIST: ASP 164 CA 2577 - PRO 248 CA 3894',\n",
       " 'DIST: ASP 164 CA 2577 - TYR 264 CA 4129',\n",
       " 'DIST: ASP 164 CA 2577 - TYR 273 CA 4259',\n",
       " 'DIST: ASP 164 CA 2577 - THR 301 CA 4707',\n",
       " 'DIST: ASP 164 CA 2577 - ASP 302 CA 4721',\n",
       " 'DIST: VAL 165 CA 2589 - ARG 166 CA 2605',\n",
       " 'DIST: VAL 165 CA 2589 - ALA 246 CA 3868',\n",
       " 'DIST: VAL 165 CA 2589 - PRO 247 CA 3880',\n",
       " 'DIST: VAL 165 CA 2589 - PRO 248 CA 3894',\n",
       " 'DIST: VAL 165 CA 2589 - TYR 264 CA 4129',\n",
       " 'DIST: VAL 165 CA 2589 - TYR 273 CA 4259',\n",
       " 'DIST: VAL 165 CA 2589 - THR 301 CA 4707',\n",
       " 'DIST: VAL 165 CA 2589 - ASP 302 CA 4721',\n",
       " 'DIST: ARG 166 CA 2605 - ALA 246 CA 3868',\n",
       " 'DIST: ARG 166 CA 2605 - PRO 247 CA 3880',\n",
       " 'DIST: ARG 166 CA 2605 - PRO 248 CA 3894',\n",
       " 'DIST: ARG 166 CA 2605 - TYR 264 CA 4129',\n",
       " 'DIST: ARG 166 CA 2605 - TYR 273 CA 4259',\n",
       " 'DIST: ARG 166 CA 2605 - THR 301 CA 4707',\n",
       " 'DIST: ARG 166 CA 2605 - ASP 302 CA 4721',\n",
       " 'DIST: ALA 246 CA 3868 - PRO 247 CA 3880',\n",
       " 'DIST: ALA 246 CA 3868 - PRO 248 CA 3894',\n",
       " 'DIST: ALA 246 CA 3868 - TYR 264 CA 4129',\n",
       " 'DIST: ALA 246 CA 3868 - TYR 273 CA 4259',\n",
       " 'DIST: ALA 246 CA 3868 - THR 301 CA 4707',\n",
       " 'DIST: ALA 246 CA 3868 - ASP 302 CA 4721',\n",
       " 'DIST: PRO 247 CA 3880 - PRO 248 CA 3894',\n",
       " 'DIST: PRO 247 CA 3880 - TYR 264 CA 4129',\n",
       " 'DIST: PRO 247 CA 3880 - TYR 273 CA 4259',\n",
       " 'DIST: PRO 247 CA 3880 - THR 301 CA 4707',\n",
       " 'DIST: PRO 247 CA 3880 - ASP 302 CA 4721',\n",
       " 'DIST: PRO 248 CA 3894 - TYR 264 CA 4129',\n",
       " 'DIST: PRO 248 CA 3894 - TYR 273 CA 4259',\n",
       " 'DIST: PRO 248 CA 3894 - THR 301 CA 4707',\n",
       " 'DIST: PRO 248 CA 3894 - ASP 302 CA 4721',\n",
       " 'DIST: TYR 264 CA 4129 - TYR 273 CA 4259',\n",
       " 'DIST: TYR 264 CA 4129 - THR 301 CA 4707',\n",
       " 'DIST: TYR 264 CA 4129 - ASP 302 CA 4721',\n",
       " 'DIST: TYR 273 CA 4259 - THR 301 CA 4707',\n",
       " 'DIST: TYR 273 CA 4259 - ASP 302 CA 4721',\n",
       " 'DIST: THR 301 CA 4707 - ASP 302 CA 4721']"
      ]
     },
     "execution_count": 14,
     "metadata": {},
     "output_type": "execute_result"
    },
    {
     "data": {
      "application/javascript": [
       "\n",
       "            setTimeout(function() {\n",
       "                var nbb_cell_id = 14;\n",
       "                var nbb_unformatted_code = \"# \\u9009\\u5b9a\\u6b8b\\u57fa\\n\\n# add_sidechain_torsions (same to chi1 angle)\\ntorsions_feat = pyemma.coordinates.featurizer(pdb)\\ntorsions_feat.add_sidechain_torsions(\\n    selstr=\\\"name CA and resi 163 164 165 245 246 247 263 272 300 301 163 164 165 245 246 247 263 272 300 301\\\",\\n    cossin=True,\\n    periodic=False,\\n)\\ntorsions_data = pyemma.coordinates.load(files, features=torsions_feat)\\nlabels = [\\\"backbone\\\\ntorsions\\\"]\\ntorsions_feat.describe()\\n# type(torsions_feat)\\n# type(torsions_data)\\n\\n# \\u6b8b\\u57fa\\u5750\\u6807\\nactive_residue = [\\n    164,\\n    165,\\n    166,\\n    246,\\n    247,\\n    248,\\n    264,\\n    273,\\n    301,\\n    302,\\n    164,\\n    165,\\n    166,\\n    246,\\n    247,\\n    248,\\n    264,\\n    273,\\n    301,\\n    302,\\n]\\nactive_residue1 = np.array(active_residue) - 1\\npositions_feat = pyemma.coordinates.featurizer(pdb)\\npositions_feat.add_residue_COM(active_residue1)\\npositions_data = pyemma.coordinates.load(files, features=positions_feat)\\nlabels += [\\\"backbone atom\\\\npositions\\\"]\\npositions_feat.describe()\\n\\n# \\u914d\\u5bf9\\u539f\\u5b50\\u8ddd\\u79bb\\nactive_atom = topology.select(\\n    \\\"name CA and resi 163 164 165 245 246 247 263 272 300 301 163 164 165 245 246 247 263 272 300 301\\\"\\n)\\ndistances_feat = pyemma.coordinates.featurizer(pdb)\\ndistances_feat.add_distances(\\n    distances_feat.pairs(active_atom, excluded_neighbors=2), periodic=False\\n)\\ndistances_data = pyemma.coordinates.load(files, features=distances_feat)\\nlabels += [\\\"backbone atom\\\\ndistances\\\"]\\ndistances_feat.describe()\";\n",
       "                var nbb_formatted_code = \"# \\u9009\\u5b9a\\u6b8b\\u57fa\\n\\n# add_sidechain_torsions (same to chi1 angle)\\ntorsions_feat = pyemma.coordinates.featurizer(pdb)\\ntorsions_feat.add_sidechain_torsions(\\n    selstr=\\\"name CA and resi 163 164 165 245 246 247 263 272 300 301 163 164 165 245 246 247 263 272 300 301\\\",\\n    cossin=True,\\n    periodic=False,\\n)\\ntorsions_data = pyemma.coordinates.load(files, features=torsions_feat)\\nlabels = [\\\"backbone\\\\ntorsions\\\"]\\ntorsions_feat.describe()\\n# type(torsions_feat)\\n# type(torsions_data)\\n\\n# \\u6b8b\\u57fa\\u5750\\u6807\\nactive_residue = [\\n    164,\\n    165,\\n    166,\\n    246,\\n    247,\\n    248,\\n    264,\\n    273,\\n    301,\\n    302,\\n    164,\\n    165,\\n    166,\\n    246,\\n    247,\\n    248,\\n    264,\\n    273,\\n    301,\\n    302,\\n]\\nactive_residue1 = np.array(active_residue) - 1\\npositions_feat = pyemma.coordinates.featurizer(pdb)\\npositions_feat.add_residue_COM(active_residue1)\\npositions_data = pyemma.coordinates.load(files, features=positions_feat)\\nlabels += [\\\"backbone atom\\\\npositions\\\"]\\npositions_feat.describe()\\n\\n# \\u914d\\u5bf9\\u539f\\u5b50\\u8ddd\\u79bb\\nactive_atom = topology.select(\\n    \\\"name CA and resi 163 164 165 245 246 247 263 272 300 301 163 164 165 245 246 247 263 272 300 301\\\"\\n)\\ndistances_feat = pyemma.coordinates.featurizer(pdb)\\ndistances_feat.add_distances(\\n    distances_feat.pairs(active_atom, excluded_neighbors=2), periodic=False\\n)\\ndistances_data = pyemma.coordinates.load(files, features=distances_feat)\\nlabels += [\\\"backbone atom\\\\ndistances\\\"]\\ndistances_feat.describe()\";\n",
       "                var nbb_cells = Jupyter.notebook.get_cells();\n",
       "                for (var i = 0; i < nbb_cells.length; ++i) {\n",
       "                    if (nbb_cells[i].input_prompt_number == nbb_cell_id) {\n",
       "                        if (nbb_cells[i].get_text() == nbb_unformatted_code) {\n",
       "                             nbb_cells[i].set_text(nbb_formatted_code);\n",
       "                        }\n",
       "                        break;\n",
       "                    }\n",
       "                }\n",
       "            }, 500);\n",
       "            "
      ],
      "text/plain": [
       "<IPython.core.display.Javascript object>"
      ]
     },
     "metadata": {},
     "output_type": "display_data"
    }
   ],
   "source": [
    "# 选定残基\n",
    "\n",
    "# add_sidechain_torsions (same to chi1 angle)\n",
    "torsions_feat = pyemma.coordinates.featurizer(pdb)\n",
    "torsions_feat.add_sidechain_torsions(\n",
    "    selstr=\"name CA and resi 163 164 165 245 246 247 263 272 300 301 163 164 165 245 246 247 263 272 300 301\",\n",
    "    cossin=True,\n",
    "    periodic=False,\n",
    ")\n",
    "torsions_data = pyemma.coordinates.load(files, features=torsions_feat)\n",
    "labels = [\"backbone\\ntorsions\"]\n",
    "torsions_feat.describe()\n",
    "# type(torsions_feat)\n",
    "# type(torsions_data)\n",
    "\n",
    "# 残基坐标\n",
    "active_residue = [\n",
    "    164,\n",
    "    165,\n",
    "    166,\n",
    "    246,\n",
    "    247,\n",
    "    248,\n",
    "    264,\n",
    "    273,\n",
    "    301,\n",
    "    302,\n",
    "    164,\n",
    "    165,\n",
    "    166,\n",
    "    246,\n",
    "    247,\n",
    "    248,\n",
    "    264,\n",
    "    273,\n",
    "    301,\n",
    "    302,\n",
    "]\n",
    "active_residue1 = np.array(active_residue) - 1\n",
    "positions_feat = pyemma.coordinates.featurizer(pdb)\n",
    "positions_feat.add_residue_COM(active_residue1)\n",
    "positions_data = pyemma.coordinates.load(files, features=positions_feat)\n",
    "labels += [\"backbone atom\\npositions\"]\n",
    "positions_feat.describe()\n",
    "\n",
    "# 配对原子距离\n",
    "active_atom = topology.select(\n",
    "    \"name CA and resi 163 164 165 245 246 247 263 272 300 301 163 164 165 245 246 247 263 272 300 301\"\n",
    ")\n",
    "distances_feat = pyemma.coordinates.featurizer(pdb)\n",
    "distances_feat.add_distances(\n",
    "    distances_feat.pairs(active_atom, excluded_neighbors=2), periodic=False\n",
    ")\n",
    "distances_data = pyemma.coordinates.load(files, features=distances_feat)\n",
    "labels += [\"backbone atom\\ndistances\"]\n",
    "distances_feat.describe()"
   ]
  },
  {
   "cell_type": "markdown",
   "id": "5a11bebc",
   "metadata": {},
   "source": [
    "## 单段评分"
   ]
  },
  {
   "cell_type": "code",
   "execution_count": 7,
   "id": "15d27d9a",
   "metadata": {
    "scrolled": true
   },
   "outputs": [
    {
     "ename": "ValueError",
     "evalue": "xyz must be shape (Any, 17414, 3). You supplied  (1, 4969, 3)",
     "output_type": "error",
     "traceback": [
      "\u001b[0;31m---------------------------------------------------------------------------\u001b[0m",
      "\u001b[0;31mValueError\u001b[0m                                Traceback (most recent call last)",
      "\u001b[0;32m/tmp/ipykernel_3431/623943167.py\u001b[0m in \u001b[0;36m<module>\u001b[0;34m\u001b[0m\n\u001b[1;32m      6\u001b[0m     \u001b[0mselstr\u001b[0m\u001b[0;34m=\u001b[0m\u001b[0;34m\"name CA and resi 259 to 289\"\u001b[0m\u001b[0;34m,\u001b[0m \u001b[0mcossin\u001b[0m\u001b[0;34m=\u001b[0m\u001b[0;32mTrue\u001b[0m\u001b[0;34m,\u001b[0m \u001b[0mperiodic\u001b[0m\u001b[0;34m=\u001b[0m\u001b[0;32mFalse\u001b[0m\u001b[0;34m\u001b[0m\u001b[0;34m\u001b[0m\u001b[0m\n\u001b[1;32m      7\u001b[0m )\n\u001b[0;32m----> 8\u001b[0;31m \u001b[0mtorsions_data\u001b[0m \u001b[0;34m=\u001b[0m \u001b[0mpyemma\u001b[0m\u001b[0;34m.\u001b[0m\u001b[0mcoordinates\u001b[0m\u001b[0;34m.\u001b[0m\u001b[0mload\u001b[0m\u001b[0;34m(\u001b[0m\u001b[0mfiles\u001b[0m\u001b[0;34m,\u001b[0m \u001b[0mfeatures\u001b[0m\u001b[0;34m=\u001b[0m\u001b[0mtorsions_feat\u001b[0m\u001b[0;34m)\u001b[0m\u001b[0;34m\u001b[0m\u001b[0;34m\u001b[0m\u001b[0m\n\u001b[0m\u001b[1;32m      9\u001b[0m \u001b[0mlabels\u001b[0m \u001b[0;34m=\u001b[0m \u001b[0;34m[\u001b[0m\u001b[0;34m\"backbone\\ntorsions\"\u001b[0m\u001b[0;34m]\u001b[0m\u001b[0;34m\u001b[0m\u001b[0;34m\u001b[0m\u001b[0m\n\u001b[1;32m     10\u001b[0m \u001b[0;31m# torsions_feat.describe()\u001b[0m\u001b[0;34m\u001b[0m\u001b[0;34m\u001b[0m\u001b[0;34m\u001b[0m\u001b[0m\n",
      "\u001b[0;32m~/.local/lib/python3.8/site-packages/pyemma/coordinates/api.py\u001b[0m in \u001b[0;36mload\u001b[0;34m(trajfiles, features, top, stride, chunksize, **kw)\u001b[0m\n\u001b[1;32m    241\u001b[0m             and (any(isinstance(item, (list, tuple, str)) for item in trajfiles)\n\u001b[1;32m    242\u001b[0m                  or len(trajfiles) == 0)):\n\u001b[0;32m--> 243\u001b[0;31m         \u001b[0mreader\u001b[0m \u001b[0;34m=\u001b[0m \u001b[0mcreate_file_reader\u001b[0m\u001b[0;34m(\u001b[0m\u001b[0mtrajfiles\u001b[0m\u001b[0;34m,\u001b[0m \u001b[0mtop\u001b[0m\u001b[0;34m,\u001b[0m \u001b[0mfeatures\u001b[0m\u001b[0;34m,\u001b[0m \u001b[0mchunksize\u001b[0m\u001b[0;34m=\u001b[0m\u001b[0mcs\u001b[0m\u001b[0;34m,\u001b[0m \u001b[0;34m**\u001b[0m\u001b[0mkw\u001b[0m\u001b[0;34m)\u001b[0m\u001b[0;34m\u001b[0m\u001b[0;34m\u001b[0m\u001b[0m\n\u001b[0m\u001b[1;32m    244\u001b[0m         \u001b[0mtrajs\u001b[0m \u001b[0;34m=\u001b[0m \u001b[0mreader\u001b[0m\u001b[0;34m.\u001b[0m\u001b[0mget_output\u001b[0m\u001b[0;34m(\u001b[0m\u001b[0mstride\u001b[0m\u001b[0;34m=\u001b[0m\u001b[0mstride\u001b[0m\u001b[0;34m)\u001b[0m\u001b[0;34m\u001b[0m\u001b[0;34m\u001b[0m\u001b[0m\n\u001b[1;32m    245\u001b[0m         \u001b[0;32mif\u001b[0m \u001b[0mlen\u001b[0m\u001b[0;34m(\u001b[0m\u001b[0mtrajs\u001b[0m\u001b[0;34m)\u001b[0m \u001b[0;34m==\u001b[0m \u001b[0;36m1\u001b[0m\u001b[0;34m:\u001b[0m\u001b[0;34m\u001b[0m\u001b[0;34m\u001b[0m\u001b[0m\n",
      "\u001b[0;32m~/.local/lib/python3.8/site-packages/pyemma/coordinates/data/util/reader_utils.py\u001b[0m in \u001b[0;36mcreate_file_reader\u001b[0;34m(input_files, topology, featurizer, chunksize, **kw)\u001b[0m\n\u001b[1;32m    108\u001b[0m                                      'Please consider using a sane trajectory format (e.g. xtc, dcd).')\n\u001b[1;32m    109\u001b[0m \u001b[0;34m\u001b[0m\u001b[0m\n\u001b[0;32m--> 110\u001b[0;31m                 reader = FeatureReader(input_list, featurizer=featurizer, topologyfile=topology,\n\u001b[0m\u001b[1;32m    111\u001b[0m                                        chunksize=chunksize)\n\u001b[1;32m    112\u001b[0m             \u001b[0;32melif\u001b[0m \u001b[0msuffix\u001b[0m \u001b[0;32min\u001b[0m \u001b[0;34m(\u001b[0m\u001b[0;34m'.npy'\u001b[0m\u001b[0;34m,\u001b[0m \u001b[0;34m'.npz'\u001b[0m\u001b[0;34m)\u001b[0m\u001b[0;34m:\u001b[0m\u001b[0;34m\u001b[0m\u001b[0;34m\u001b[0m\u001b[0m\n",
      "\u001b[0;32m~/.local/lib/python3.8/site-packages/pyemma/coordinates/data/feature_reader.py\u001b[0m in \u001b[0;36m__init__\u001b[0;34m(self, trajectories, topologyfile, chunksize, featurizer)\u001b[0m\n\u001b[1;32m    121\u001b[0m \u001b[0;34m\u001b[0m\u001b[0m\n\u001b[1;32m    122\u001b[0m         \u001b[0;31m# Check that the topology and the files in the filelist can actually work together\u001b[0m\u001b[0;34m\u001b[0m\u001b[0;34m\u001b[0m\u001b[0;34m\u001b[0m\u001b[0m\n\u001b[0;32m--> 123\u001b[0;31m         \u001b[0mself\u001b[0m\u001b[0;34m.\u001b[0m\u001b[0m_assert_toptraj_consistency\u001b[0m\u001b[0;34m(\u001b[0m\u001b[0;34m)\u001b[0m\u001b[0;34m\u001b[0m\u001b[0;34m\u001b[0m\u001b[0m\n\u001b[0m\u001b[1;32m    124\u001b[0m \u001b[0;34m\u001b[0m\u001b[0m\n\u001b[1;32m    125\u001b[0m     \u001b[0;34m@\u001b[0m\u001b[0mproperty\u001b[0m\u001b[0;34m\u001b[0m\u001b[0;34m\u001b[0m\u001b[0m\n",
      "\u001b[0;32m~/.local/lib/python3.8/site-packages/pyemma/coordinates/data/feature_reader.py\u001b[0m in \u001b[0;36m_assert_toptraj_consistency\u001b[0;34m(self)\u001b[0m\n\u001b[1;32m    205\u001b[0m         \u001b[0;34mr\"\"\" Check if the topology and the filenames of the reader have the same n_atoms\"\"\"\u001b[0m\u001b[0;34m\u001b[0m\u001b[0;34m\u001b[0m\u001b[0m\n\u001b[1;32m    206\u001b[0m         \u001b[0mtop\u001b[0m \u001b[0;34m=\u001b[0m \u001b[0mself\u001b[0m\u001b[0;34m.\u001b[0m\u001b[0mfeaturizer\u001b[0m\u001b[0;34m.\u001b[0m\u001b[0mtopology\u001b[0m\u001b[0;34m\u001b[0m\u001b[0;34m\u001b[0m\u001b[0m\n\u001b[0;32m--> 207\u001b[0;31m         \u001b[0mtraj\u001b[0m \u001b[0;34m=\u001b[0m \u001b[0mmdtraj\u001b[0m\u001b[0;34m.\u001b[0m\u001b[0mload_frame\u001b[0m\u001b[0;34m(\u001b[0m\u001b[0mself\u001b[0m\u001b[0;34m.\u001b[0m\u001b[0mfilenames\u001b[0m\u001b[0;34m[\u001b[0m\u001b[0;36m0\u001b[0m\u001b[0;34m]\u001b[0m\u001b[0;34m,\u001b[0m \u001b[0mindex\u001b[0m\u001b[0;34m=\u001b[0m\u001b[0;36m0\u001b[0m\u001b[0;34m,\u001b[0m \u001b[0mtop\u001b[0m\u001b[0;34m=\u001b[0m\u001b[0mtop\u001b[0m\u001b[0;34m)\u001b[0m\u001b[0;34m\u001b[0m\u001b[0;34m\u001b[0m\u001b[0m\n\u001b[0m\u001b[1;32m    208\u001b[0m         \u001b[0mdesired_n_atoms\u001b[0m \u001b[0;34m=\u001b[0m \u001b[0mtop\u001b[0m\u001b[0;34m.\u001b[0m\u001b[0mn_atoms\u001b[0m\u001b[0;34m\u001b[0m\u001b[0;34m\u001b[0m\u001b[0m\n\u001b[1;32m    209\u001b[0m         \u001b[0;32massert\u001b[0m \u001b[0mtraj\u001b[0m\u001b[0;34m.\u001b[0m\u001b[0mxyz\u001b[0m\u001b[0;34m.\u001b[0m\u001b[0mshape\u001b[0m\u001b[0;34m[\u001b[0m\u001b[0;36m1\u001b[0m\u001b[0;34m]\u001b[0m \u001b[0;34m==\u001b[0m \u001b[0mdesired_n_atoms\u001b[0m\u001b[0;34m,\u001b[0m \u001b[0;34m\"Mismatch in the number of atoms between the topology\"\u001b[0m\u001b[0;31m \u001b[0m\u001b[0;31m\\\u001b[0m\u001b[0;34m\u001b[0m\u001b[0;34m\u001b[0m\u001b[0m\n",
      "\u001b[0;32m~/.local/lib/python3.8/site-packages/mdtraj/core/trajectory.py\u001b[0m in \u001b[0;36mload_frame\u001b[0;34m(filename, index, top, atom_indices, **kwargs)\u001b[0m\n\u001b[1;32m    312\u001b[0m         \u001b[0m_assert_files_or_dirs_exist\u001b[0m\u001b[0;34m(\u001b[0m\u001b[0mfilename\u001b[0m\u001b[0;34m)\u001b[0m\u001b[0;34m\u001b[0m\u001b[0;34m\u001b[0m\u001b[0m\n\u001b[1;32m    313\u001b[0m \u001b[0;34m\u001b[0m\u001b[0m\n\u001b[0;32m--> 314\u001b[0;31m     \u001b[0;32mreturn\u001b[0m \u001b[0mloader\u001b[0m\u001b[0;34m(\u001b[0m\u001b[0mfilename\u001b[0m\u001b[0;34m,\u001b[0m \u001b[0mframe\u001b[0m\u001b[0;34m=\u001b[0m\u001b[0mindex\u001b[0m\u001b[0;34m,\u001b[0m \u001b[0;34m**\u001b[0m\u001b[0mkwargs\u001b[0m\u001b[0;34m)\u001b[0m\u001b[0;34m\u001b[0m\u001b[0;34m\u001b[0m\u001b[0m\n\u001b[0m\u001b[1;32m    315\u001b[0m \u001b[0;34m\u001b[0m\u001b[0m\n\u001b[1;32m    316\u001b[0m \u001b[0;34m\u001b[0m\u001b[0m\n",
      "\u001b[0;32mmdtraj/formats/xtc/trr.pyx\u001b[0m in \u001b[0;36mmdtraj.formats.trr.load_trr\u001b[0;34m()\u001b[0m\n",
      "\u001b[0;32mmdtraj/formats/xtc/trr.pyx\u001b[0m in \u001b[0;36mmdtraj.formats.trr.load_trr\u001b[0;34m()\u001b[0m\n",
      "\u001b[0;32mmdtraj/formats/xtc/trr.pyx\u001b[0m in \u001b[0;36mmdtraj.formats.trr.TRRTrajectoryFile.read_as_traj\u001b[0;34m()\u001b[0m\n",
      "\u001b[0;32m~/.local/lib/python3.8/site-packages/mdtraj/core/trajectory.py\u001b[0m in \u001b[0;36m__init__\u001b[0;34m(self, xyz, topology, time, unitcell_lengths, unitcell_angles)\u001b[0m\n\u001b[1;32m   1167\u001b[0m         \u001b[0;31m# the xyz, we can check that it lines up (e.g. n_atoms), with the topology\u001b[0m\u001b[0;34m\u001b[0m\u001b[0;34m\u001b[0m\u001b[0;34m\u001b[0m\u001b[0m\n\u001b[1;32m   1168\u001b[0m         \u001b[0mself\u001b[0m\u001b[0;34m.\u001b[0m\u001b[0mtopology\u001b[0m \u001b[0;34m=\u001b[0m \u001b[0mtopology\u001b[0m\u001b[0;34m\u001b[0m\u001b[0;34m\u001b[0m\u001b[0m\n\u001b[0;32m-> 1169\u001b[0;31m         \u001b[0mself\u001b[0m\u001b[0;34m.\u001b[0m\u001b[0mxyz\u001b[0m \u001b[0;34m=\u001b[0m \u001b[0mxyz\u001b[0m\u001b[0;34m\u001b[0m\u001b[0;34m\u001b[0m\u001b[0m\n\u001b[0m\u001b[1;32m   1170\u001b[0m \u001b[0;34m\u001b[0m\u001b[0m\n\u001b[1;32m   1171\u001b[0m         \u001b[0;31m# _rmsd_traces are the inner product of each centered conformation,\u001b[0m\u001b[0;34m\u001b[0m\u001b[0;34m\u001b[0m\u001b[0;34m\u001b[0m\u001b[0m\n",
      "\u001b[0;32m~/.local/lib/python3.8/site-packages/mdtraj/core/trajectory.py\u001b[0m in \u001b[0;36mxyz\u001b[0;34m(self, value)\u001b[0m\n\u001b[1;32m    880\u001b[0m             \u001b[0mshape\u001b[0m \u001b[0;34m=\u001b[0m \u001b[0;34m(\u001b[0m\u001b[0;32mNone\u001b[0m\u001b[0;34m,\u001b[0m \u001b[0;32mNone\u001b[0m\u001b[0;34m,\u001b[0m \u001b[0;36m3\u001b[0m\u001b[0;34m)\u001b[0m\u001b[0;34m\u001b[0m\u001b[0;34m\u001b[0m\u001b[0m\n\u001b[1;32m    881\u001b[0m \u001b[0;34m\u001b[0m\u001b[0m\n\u001b[0;32m--> 882\u001b[0;31m         value = ensure_type(value, np.float32, 3, 'xyz', shape=shape,\n\u001b[0m\u001b[1;32m    883\u001b[0m                             warn_on_cast=False, add_newaxis_on_deficient_ndim=True)\n\u001b[1;32m    884\u001b[0m         \u001b[0mself\u001b[0m\u001b[0;34m.\u001b[0m\u001b[0m_xyz\u001b[0m \u001b[0;34m=\u001b[0m \u001b[0mvalue\u001b[0m\u001b[0;34m\u001b[0m\u001b[0;34m\u001b[0m\u001b[0m\n",
      "\u001b[0;32m~/.local/lib/python3.8/site-packages/mdtraj/utils/validation.py\u001b[0m in \u001b[0;36mensure_type\u001b[0;34m(val, dtype, ndim, name, length, can_be_none, shape, warn_on_cast, add_newaxis_on_deficient_ndim)\u001b[0m\n\u001b[1;32m    146\u001b[0m             \u001b[0;32mif\u001b[0m \u001b[0ma\u001b[0m \u001b[0;34m!=\u001b[0m \u001b[0mb\u001b[0m\u001b[0;34m:\u001b[0m\u001b[0;34m\u001b[0m\u001b[0;34m\u001b[0m\u001b[0m\n\u001b[1;32m    147\u001b[0m                 \u001b[0;31m# check for equality\u001b[0m\u001b[0;34m\u001b[0m\u001b[0;34m\u001b[0m\u001b[0;34m\u001b[0m\u001b[0m\n\u001b[0;32m--> 148\u001b[0;31m                 \u001b[0;32mraise\u001b[0m \u001b[0merror\u001b[0m\u001b[0;34m\u001b[0m\u001b[0;34m\u001b[0m\u001b[0m\n\u001b[0m\u001b[1;32m    149\u001b[0m \u001b[0;34m\u001b[0m\u001b[0m\n\u001b[1;32m    150\u001b[0m     \u001b[0;32mreturn\u001b[0m \u001b[0mval\u001b[0m\u001b[0;34m\u001b[0m\u001b[0;34m\u001b[0m\u001b[0m\n",
      "\u001b[0;31mValueError\u001b[0m: xyz must be shape (Any, 17414, 3). You supplied  (1, 4969, 3)"
     ]
    },
    {
     "data": {
      "application/javascript": [
       "\n",
       "            setTimeout(function() {\n",
       "                var nbb_cell_id = 7;\n",
       "                var nbb_unformatted_code = \"# \\u5355\\u6bb5\\u8bc4\\u5206\\n\\n# add_sidechain_torsions (same to chi1 angle)\\ntorsions_feat = pyemma.coordinates.featurizer(pdb)\\ntorsions_feat.add_sidechain_torsions(\\n    selstr=\\\"name CA and resi 259 to 289\\\", cossin=True, periodic=False\\n)\\ntorsions_data = pyemma.coordinates.load(files, features=torsions_feat)\\nlabels = [\\\"backbone\\\\ntorsions\\\"]\\n# torsions_feat.describe()\\n# type(torsions_feat)\\n# type(torsions_data)\\n\\n# \\u6b8b\\u57fa\\u5750\\u6807\\nactive_residue1 = arange(259, 290)\\npositions_feat = pyemma.coordinates.featurizer(pdb)\\npositions_feat.add_residue_COM(active_residue1)\\npositions_data = pyemma.coordinates.load(files, features=positions_feat)\\nlabels += [\\\"backbone atom\\\\npositions\\\"]\\n# positions_feat.describe()\\n\\n# \\u914d\\u5bf9\\u539f\\u5b50\\u8ddd\\u79bb\\nactive_atom = topology.select(\\\"name CA and resi 259 to 289\\\")\\ndistances_feat = pyemma.coordinates.featurizer(pdb)\\ndistances_feat.add_distances(\\n    distances_feat.pairs(active_atom, excluded_neighbors=2), periodic=False\\n)\\ndistances_data = pyemma.coordinates.load(files, features=distances_feat)\\nlabels += [\\\"backbone atom\\\\ndistances\\\"]\\n# distances_feat.describe()\";\n",
       "                var nbb_formatted_code = \"# \\u5355\\u6bb5\\u8bc4\\u5206\\n\\n# add_sidechain_torsions (same to chi1 angle)\\ntorsions_feat = pyemma.coordinates.featurizer(pdb)\\ntorsions_feat.add_sidechain_torsions(\\n    selstr=\\\"name CA and resi 259 to 289\\\", cossin=True, periodic=False\\n)\\ntorsions_data = pyemma.coordinates.load(files, features=torsions_feat)\\nlabels = [\\\"backbone\\\\ntorsions\\\"]\\n# torsions_feat.describe()\\n# type(torsions_feat)\\n# type(torsions_data)\\n\\n# \\u6b8b\\u57fa\\u5750\\u6807\\nactive_residue1 = arange(259, 290)\\npositions_feat = pyemma.coordinates.featurizer(pdb)\\npositions_feat.add_residue_COM(active_residue1)\\npositions_data = pyemma.coordinates.load(files, features=positions_feat)\\nlabels += [\\\"backbone atom\\\\npositions\\\"]\\n# positions_feat.describe()\\n\\n# \\u914d\\u5bf9\\u539f\\u5b50\\u8ddd\\u79bb\\nactive_atom = topology.select(\\\"name CA and resi 259 to 289\\\")\\ndistances_feat = pyemma.coordinates.featurizer(pdb)\\ndistances_feat.add_distances(\\n    distances_feat.pairs(active_atom, excluded_neighbors=2), periodic=False\\n)\\ndistances_data = pyemma.coordinates.load(files, features=distances_feat)\\nlabels += [\\\"backbone atom\\\\ndistances\\\"]\\n# distances_feat.describe()\";\n",
       "                var nbb_cells = Jupyter.notebook.get_cells();\n",
       "                for (var i = 0; i < nbb_cells.length; ++i) {\n",
       "                    if (nbb_cells[i].input_prompt_number == nbb_cell_id) {\n",
       "                        if (nbb_cells[i].get_text() == nbb_unformatted_code) {\n",
       "                             nbb_cells[i].set_text(nbb_formatted_code);\n",
       "                        }\n",
       "                        break;\n",
       "                    }\n",
       "                }\n",
       "            }, 500);\n",
       "            "
      ],
      "text/plain": [
       "<IPython.core.display.Javascript object>"
      ]
     },
     "metadata": {},
     "output_type": "display_data"
    }
   ],
   "source": [
    "# 单段评分\n",
    "\n",
    "# add_sidechain_torsions (same to chi1 angle)\n",
    "torsions_feat = pyemma.coordinates.featurizer(pdb)\n",
    "torsions_feat.add_sidechain_torsions(\n",
    "    selstr=\"name CA and resi 259 to 289\", cossin=True, periodic=False\n",
    ")\n",
    "torsions_data = pyemma.coordinates.load(files, features=torsions_feat)\n",
    "labels = [\"backbone\\ntorsions\"]\n",
    "# torsions_feat.describe()\n",
    "# type(torsions_feat)\n",
    "# type(torsions_data)\n",
    "\n",
    "# 残基坐标\n",
    "active_residue1 = arange(259, 290)\n",
    "positions_feat = pyemma.coordinates.featurizer(pdb)\n",
    "positions_feat.add_residue_COM(active_residue1)\n",
    "positions_data = pyemma.coordinates.load(files, features=positions_feat)\n",
    "labels += [\"backbone atom\\npositions\"]\n",
    "# positions_feat.describe()\n",
    "\n",
    "# 配对原子距离\n",
    "active_atom = topology.select(\"name CA and resi 259 to 289\")\n",
    "distances_feat = pyemma.coordinates.featurizer(pdb)\n",
    "distances_feat.add_distances(\n",
    "    distances_feat.pairs(active_atom, excluded_neighbors=2), periodic=False\n",
    ")\n",
    "distances_data = pyemma.coordinates.load(files, features=distances_feat)\n",
    "labels += [\"backbone atom\\ndistances\"]\n",
    "# distances_feat.describe()"
   ]
  },
  {
   "cell_type": "markdown",
   "id": "68863331",
   "metadata": {},
   "source": [
    "## 多段评分"
   ]
  },
  {
   "cell_type": "code",
   "execution_count": 3,
   "id": "e24c7dbb",
   "metadata": {},
   "outputs": [
    {
     "name": "stderr",
     "output_type": "stream",
     "text": [
      "/home/sean/.local/lib/python3.8/site-packages/pyemma/coordinates/data/featurization/angles.py:211: FutureWarning: arrays to stack must be passed as a \"sequence\" type such as list or tuple. Support for non-sequence iterables such as generators is deprecated as of NumPy 1.16 and will raise an error in the future.\n",
      "  indices = np.vstack(valid.values())\n"
     ]
    },
    {
     "data": {
      "application/vnd.jupyter.widget-view+json": {
       "model_id": "387a879a0a674ca6b20296ac49fd1efe",
       "version_major": 2,
       "version_minor": 0
      },
      "text/plain": [
       "Obtaining file info:   0%|                               | 0/10 [00:00<?, ?it/s]"
      ]
     },
     "metadata": {},
     "output_type": "display_data"
    },
    {
     "data": {
      "application/vnd.jupyter.widget-view+json": {
       "model_id": "50bea2bcf90a48089c0d258018467250",
       "version_major": 2,
       "version_minor": 0
      },
      "text/plain": [
       "getting output of FeatureReader:   0%|                   | 0/10 [00:00<?, ?it/s]"
      ]
     },
     "metadata": {},
     "output_type": "display_data"
    },
    {
     "data": {
      "application/vnd.jupyter.widget-view+json": {
       "model_id": "5a0ac7f1fe424ae6aa8a49f122104719",
       "version_major": 2,
       "version_minor": 0
      },
      "text/plain": [
       "Obtaining file info:   0%|                               | 0/10 [00:00<?, ?it/s]"
      ]
     },
     "metadata": {},
     "output_type": "display_data"
    },
    {
     "data": {
      "application/vnd.jupyter.widget-view+json": {
       "model_id": "d91ff13300b3490bacbf20a3626492ed",
       "version_major": 2,
       "version_minor": 0
      },
      "text/plain": [
       "getting output of FeatureReader:   0%|                   | 0/10 [00:00<?, ?it/s]"
      ]
     },
     "metadata": {},
     "output_type": "display_data"
    },
    {
     "data": {
      "application/vnd.jupyter.widget-view+json": {
       "model_id": "da4dd8b7e3314e16b4f5706e24eca41c",
       "version_major": 2,
       "version_minor": 0
      },
      "text/plain": [
       "Obtaining file info:   0%|                               | 0/10 [00:00<?, ?it/s]"
      ]
     },
     "metadata": {},
     "output_type": "display_data"
    },
    {
     "data": {
      "application/vnd.jupyter.widget-view+json": {
       "model_id": "90334205b9064737bc08f8b517a5c648",
       "version_major": 2,
       "version_minor": 0
      },
      "text/plain": [
       "getting output of FeatureReader:   0%|                   | 0/10 [00:00<?, ?it/s]"
      ]
     },
     "metadata": {},
     "output_type": "display_data"
    },
    {
     "data": {
      "application/javascript": [
       "\n",
       "            setTimeout(function() {\n",
       "                var nbb_cell_id = 3;\n",
       "                var nbb_unformatted_code = \"# \\u591a\\u6bb5\\u8bc4\\u5206\\n\\n# \\u591a\\u6bb5\\u626d\\u8f6c\\u89d2\\nactive_resi1 = \\\"resi 100 to 120\\\"\\nactive_resi2 = \\\"resi 259 to 290\\\"\\ntorsions_feat = pyemma.coordinates.featurizer(pdb)\\ntorsions_feat.add_sidechain_torsions(selstr=active_resi1, cossin=True, periodic=False)\\ntorsions_feat.add_sidechain_torsions(selstr=active_resi2, cossin=True, periodic=False)\\ntorsions_data = pyemma.coordinates.load(files, features=torsions_feat)\\nlabels = [\\\"backbone\\\\ntorsions\\\"]\\n# torsions_feat.describe()\\n\\n# \\u591a\\u6bb5\\u6b8b\\u57fa\\u5750\\u6807\\nactive_residue1 = arange(99, 120)\\nactive_residue2 = arange(259, 290)\\nactive_residue = list(active_residue1) + list(active_residue2)\\npositions_feat = pyemma.coordinates.featurizer(pdb)\\npositions_feat.add_residue_COM(active_residue)\\npositions_data = pyemma.coordinates.load(files, features=positions_feat)\\nlabels += [\\\"backbone atom\\\\npositions\\\"]\\n# positions_feat.describe()\\n\\n# \\u591a\\u6bb5\\u914d\\u5bf9\\u539f\\u5b50\\u8ddd\\u79bb\\nactive_atom1 = topology.select(\\\"name CA and resi 99 to 120\\\")\\nactive_atom2 = topology.select(\\\"name CA and resi 259 to 290\\\")\\ndistances_feat = pyemma.coordinates.featurizer(pdb)\\ndistances_feat.add_distances(\\n    distances_feat.pairs(active_atom1, excluded_neighbors=2), periodic=False\\n)\\ndistances_feat.add_distances(\\n    distances_feat.pairs(active_atom2, excluded_neighbors=2), periodic=False\\n)\\ndistances_data = pyemma.coordinates.load(files, features=distances_feat)\\nlabels += [\\\"backbone atom\\\\ndistances\\\"]\\n# distances_feat.describe()\";\n",
       "                var nbb_formatted_code = \"# \\u591a\\u6bb5\\u8bc4\\u5206\\n\\n# \\u591a\\u6bb5\\u626d\\u8f6c\\u89d2\\nactive_resi1 = \\\"resi 100 to 120\\\"\\nactive_resi2 = \\\"resi 259 to 290\\\"\\ntorsions_feat = pyemma.coordinates.featurizer(pdb)\\ntorsions_feat.add_sidechain_torsions(selstr=active_resi1, cossin=True, periodic=False)\\ntorsions_feat.add_sidechain_torsions(selstr=active_resi2, cossin=True, periodic=False)\\ntorsions_data = pyemma.coordinates.load(files, features=torsions_feat)\\nlabels = [\\\"backbone\\\\ntorsions\\\"]\\n# torsions_feat.describe()\\n\\n# \\u591a\\u6bb5\\u6b8b\\u57fa\\u5750\\u6807\\nactive_residue1 = arange(99, 120)\\nactive_residue2 = arange(259, 290)\\nactive_residue = list(active_residue1) + list(active_residue2)\\npositions_feat = pyemma.coordinates.featurizer(pdb)\\npositions_feat.add_residue_COM(active_residue)\\npositions_data = pyemma.coordinates.load(files, features=positions_feat)\\nlabels += [\\\"backbone atom\\\\npositions\\\"]\\n# positions_feat.describe()\\n\\n# \\u591a\\u6bb5\\u914d\\u5bf9\\u539f\\u5b50\\u8ddd\\u79bb\\nactive_atom1 = topology.select(\\\"name CA and resi 99 to 120\\\")\\nactive_atom2 = topology.select(\\\"name CA and resi 259 to 290\\\")\\ndistances_feat = pyemma.coordinates.featurizer(pdb)\\ndistances_feat.add_distances(\\n    distances_feat.pairs(active_atom1, excluded_neighbors=2), periodic=False\\n)\\ndistances_feat.add_distances(\\n    distances_feat.pairs(active_atom2, excluded_neighbors=2), periodic=False\\n)\\ndistances_data = pyemma.coordinates.load(files, features=distances_feat)\\nlabels += [\\\"backbone atom\\\\ndistances\\\"]\\n# distances_feat.describe()\";\n",
       "                var nbb_cells = Jupyter.notebook.get_cells();\n",
       "                for (var i = 0; i < nbb_cells.length; ++i) {\n",
       "                    if (nbb_cells[i].input_prompt_number == nbb_cell_id) {\n",
       "                        if (nbb_cells[i].get_text() == nbb_unformatted_code) {\n",
       "                             nbb_cells[i].set_text(nbb_formatted_code);\n",
       "                        }\n",
       "                        break;\n",
       "                    }\n",
       "                }\n",
       "            }, 500);\n",
       "            "
      ],
      "text/plain": [
       "<IPython.core.display.Javascript object>"
      ]
     },
     "metadata": {},
     "output_type": "display_data"
    }
   ],
   "source": [
    "# 多段评分\n",
    "\n",
    "# 多段扭转角\n",
    "active_resi1 = \"resi 100 to 120\"\n",
    "active_resi2 = \"resi 259 to 290\"\n",
    "torsions_feat = pyemma.coordinates.featurizer(pdb)\n",
    "torsions_feat.add_sidechain_torsions(selstr=active_resi1, cossin=True, periodic=False)\n",
    "torsions_feat.add_sidechain_torsions(selstr=active_resi2, cossin=True, periodic=False)\n",
    "torsions_data = pyemma.coordinates.load(files, features=torsions_feat)\n",
    "labels = [\"backbone\\ntorsions\"]\n",
    "# torsions_feat.describe()\n",
    "\n",
    "# 多段残基坐标\n",
    "active_residue1 = arange(99, 120)\n",
    "active_residue2 = arange(259, 290)\n",
    "active_residue = list(active_residue1) + list(active_residue2)\n",
    "positions_feat = pyemma.coordinates.featurizer(pdb)\n",
    "positions_feat.add_residue_COM(active_residue)\n",
    "positions_data = pyemma.coordinates.load(files, features=positions_feat)\n",
    "labels += [\"backbone atom\\npositions\"]\n",
    "# positions_feat.describe()\n",
    "\n",
    "# 多段配对原子距离\n",
    "active_atom1 = topology.select(\"name CA and resi 99 to 120\")\n",
    "active_atom2 = topology.select(\"name CA and resi 259 to 290\")\n",
    "distances_feat = pyemma.coordinates.featurizer(pdb)\n",
    "distances_feat.add_distances(\n",
    "    distances_feat.pairs(active_atom1, excluded_neighbors=2), periodic=False\n",
    ")\n",
    "distances_feat.add_distances(\n",
    "    distances_feat.pairs(active_atom2, excluded_neighbors=2), periodic=False\n",
    ")\n",
    "distances_data = pyemma.coordinates.load(files, features=distances_feat)\n",
    "labels += [\"backbone atom\\ndistances\"]\n",
    "# distances_feat.describe()"
   ]
  },
  {
   "cell_type": "code",
   "execution_count": 8,
   "id": "5e9442ba",
   "metadata": {
    "ExecuteTime": {
     "end_time": "2022-06-28T03:01:08.872734Z",
     "start_time": "2022-06-28T03:00:56.465018Z"
    }
   },
   "outputs": [
    {
     "name": "stderr",
     "output_type": "stream",
     "text": [
      "/home/sean/miniconda3/envs/env_py3.8/lib/python3.8/site-packages/pyemma/coordinates/data/featurization/angles.py:211: FutureWarning: arrays to stack must be passed as a \"sequence\" type such as list or tuple. Support for non-sequence iterables such as generators is deprecated as of NumPy 1.16 and will raise an error in the future.\n",
      "  indices = np.vstack(valid.values())\n"
     ]
    },
    {
     "data": {
      "text/plain": [
       "['DIST: TRP 106 CA 1688 - ALA 107 CA 1712',\n",
       " 'DIST: TRP 106 CA 1688 - ASP 108 CA 1722',\n",
       " 'DIST: TRP 106 CA 1688 - ASN 109 CA 1734',\n",
       " 'DIST: TRP 106 CA 1688 - ASN 110 CA 1748',\n",
       " 'DIST: TRP 106 CA 1688 - CYS 111 CA 1762',\n",
       " 'DIST: TRP 106 CA 1688 - TYR 112 CA 1773',\n",
       " 'DIST: TRP 106 CA 1688 - LEU 113 CA 1794',\n",
       " 'DIST: TRP 106 CA 1688 - ALA 114 CA 1813',\n",
       " 'DIST: TRP 106 CA 1688 - THR 115 CA 1823',\n",
       " 'DIST: TRP 106 CA 1688 - ALA 116 CA 1837',\n",
       " 'DIST: TRP 106 CA 1688 - LEU 117 CA 1847',\n",
       " 'DIST: TRP 106 CA 1688 - LEU 118 CA 1866',\n",
       " 'DIST: TRP 106 CA 1688 - THR 119 CA 1885',\n",
       " 'DIST: ALA 107 CA 1712 - ASP 108 CA 1722',\n",
       " 'DIST: ALA 107 CA 1712 - ASN 109 CA 1734',\n",
       " 'DIST: ALA 107 CA 1712 - ASN 110 CA 1748',\n",
       " 'DIST: ALA 107 CA 1712 - CYS 111 CA 1762',\n",
       " 'DIST: ALA 107 CA 1712 - TYR 112 CA 1773',\n",
       " 'DIST: ALA 107 CA 1712 - LEU 113 CA 1794',\n",
       " 'DIST: ALA 107 CA 1712 - ALA 114 CA 1813',\n",
       " 'DIST: ALA 107 CA 1712 - THR 115 CA 1823',\n",
       " 'DIST: ALA 107 CA 1712 - ALA 116 CA 1837',\n",
       " 'DIST: ALA 107 CA 1712 - LEU 117 CA 1847',\n",
       " 'DIST: ALA 107 CA 1712 - LEU 118 CA 1866',\n",
       " 'DIST: ALA 107 CA 1712 - THR 119 CA 1885',\n",
       " 'DIST: ASP 108 CA 1722 - ASN 109 CA 1734',\n",
       " 'DIST: ASP 108 CA 1722 - ASN 110 CA 1748',\n",
       " 'DIST: ASP 108 CA 1722 - CYS 111 CA 1762',\n",
       " 'DIST: ASP 108 CA 1722 - TYR 112 CA 1773',\n",
       " 'DIST: ASP 108 CA 1722 - LEU 113 CA 1794',\n",
       " 'DIST: ASP 108 CA 1722 - ALA 114 CA 1813',\n",
       " 'DIST: ASP 108 CA 1722 - THR 115 CA 1823',\n",
       " 'DIST: ASP 108 CA 1722 - ALA 116 CA 1837',\n",
       " 'DIST: ASP 108 CA 1722 - LEU 117 CA 1847',\n",
       " 'DIST: ASP 108 CA 1722 - LEU 118 CA 1866',\n",
       " 'DIST: ASP 108 CA 1722 - THR 119 CA 1885',\n",
       " 'DIST: ASN 109 CA 1734 - ASN 110 CA 1748',\n",
       " 'DIST: ASN 109 CA 1734 - CYS 111 CA 1762',\n",
       " 'DIST: ASN 109 CA 1734 - TYR 112 CA 1773',\n",
       " 'DIST: ASN 109 CA 1734 - LEU 113 CA 1794',\n",
       " 'DIST: ASN 109 CA 1734 - ALA 114 CA 1813',\n",
       " 'DIST: ASN 109 CA 1734 - THR 115 CA 1823',\n",
       " 'DIST: ASN 109 CA 1734 - ALA 116 CA 1837',\n",
       " 'DIST: ASN 109 CA 1734 - LEU 117 CA 1847',\n",
       " 'DIST: ASN 109 CA 1734 - LEU 118 CA 1866',\n",
       " 'DIST: ASN 109 CA 1734 - THR 119 CA 1885',\n",
       " 'DIST: ASN 110 CA 1748 - CYS 111 CA 1762',\n",
       " 'DIST: ASN 110 CA 1748 - TYR 112 CA 1773',\n",
       " 'DIST: ASN 110 CA 1748 - LEU 113 CA 1794',\n",
       " 'DIST: ASN 110 CA 1748 - ALA 114 CA 1813',\n",
       " 'DIST: ASN 110 CA 1748 - THR 115 CA 1823',\n",
       " 'DIST: ASN 110 CA 1748 - ALA 116 CA 1837',\n",
       " 'DIST: ASN 110 CA 1748 - LEU 117 CA 1847',\n",
       " 'DIST: ASN 110 CA 1748 - LEU 118 CA 1866',\n",
       " 'DIST: ASN 110 CA 1748 - THR 119 CA 1885',\n",
       " 'DIST: CYS 111 CA 1762 - TYR 112 CA 1773',\n",
       " 'DIST: CYS 111 CA 1762 - LEU 113 CA 1794',\n",
       " 'DIST: CYS 111 CA 1762 - ALA 114 CA 1813',\n",
       " 'DIST: CYS 111 CA 1762 - THR 115 CA 1823',\n",
       " 'DIST: CYS 111 CA 1762 - ALA 116 CA 1837',\n",
       " 'DIST: CYS 111 CA 1762 - LEU 117 CA 1847',\n",
       " 'DIST: CYS 111 CA 1762 - LEU 118 CA 1866',\n",
       " 'DIST: CYS 111 CA 1762 - THR 119 CA 1885',\n",
       " 'DIST: TYR 112 CA 1773 - LEU 113 CA 1794',\n",
       " 'DIST: TYR 112 CA 1773 - ALA 114 CA 1813',\n",
       " 'DIST: TYR 112 CA 1773 - THR 115 CA 1823',\n",
       " 'DIST: TYR 112 CA 1773 - ALA 116 CA 1837',\n",
       " 'DIST: TYR 112 CA 1773 - LEU 117 CA 1847',\n",
       " 'DIST: TYR 112 CA 1773 - LEU 118 CA 1866',\n",
       " 'DIST: TYR 112 CA 1773 - THR 119 CA 1885',\n",
       " 'DIST: LEU 113 CA 1794 - ALA 114 CA 1813',\n",
       " 'DIST: LEU 113 CA 1794 - THR 115 CA 1823',\n",
       " 'DIST: LEU 113 CA 1794 - ALA 116 CA 1837',\n",
       " 'DIST: LEU 113 CA 1794 - LEU 117 CA 1847',\n",
       " 'DIST: LEU 113 CA 1794 - LEU 118 CA 1866',\n",
       " 'DIST: LEU 113 CA 1794 - THR 119 CA 1885',\n",
       " 'DIST: ALA 114 CA 1813 - THR 115 CA 1823',\n",
       " 'DIST: ALA 114 CA 1813 - ALA 116 CA 1837',\n",
       " 'DIST: ALA 114 CA 1813 - LEU 117 CA 1847',\n",
       " 'DIST: ALA 114 CA 1813 - LEU 118 CA 1866',\n",
       " 'DIST: ALA 114 CA 1813 - THR 119 CA 1885',\n",
       " 'DIST: THR 115 CA 1823 - ALA 116 CA 1837',\n",
       " 'DIST: THR 115 CA 1823 - LEU 117 CA 1847',\n",
       " 'DIST: THR 115 CA 1823 - LEU 118 CA 1866',\n",
       " 'DIST: THR 115 CA 1823 - THR 119 CA 1885',\n",
       " 'DIST: ALA 116 CA 1837 - LEU 117 CA 1847',\n",
       " 'DIST: ALA 116 CA 1837 - LEU 118 CA 1866',\n",
       " 'DIST: ALA 116 CA 1837 - THR 119 CA 1885',\n",
       " 'DIST: LEU 117 CA 1847 - LEU 118 CA 1866',\n",
       " 'DIST: LEU 117 CA 1847 - THR 119 CA 1885',\n",
       " 'DIST: LEU 118 CA 1866 - THR 119 CA 1885',\n",
       " 'DIST: LEU 162 CA 2551 - GLY 163 CA 2570',\n",
       " 'DIST: LEU 162 CA 2551 - ASP 164 CA 2577',\n",
       " 'DIST: LEU 162 CA 2551 - VAL 165 CA 2589',\n",
       " 'DIST: LEU 162 CA 2551 - ARG 166 CA 2605',\n",
       " 'DIST: LEU 162 CA 2551 - GLU 167 CA 2629',\n",
       " 'DIST: LEU 162 CA 2551 - THR 168 CA 2644',\n",
       " 'DIST: LEU 162 CA 2551 - MET 169 CA 2658',\n",
       " 'DIST: LEU 162 CA 2551 - SER 170 CA 2675',\n",
       " 'DIST: LEU 162 CA 2551 - TYR 171 CA 2686',\n",
       " 'DIST: LEU 162 CA 2551 - LEU 172 CA 2707',\n",
       " 'DIST: LEU 162 CA 2551 - PHE 173 CA 2726',\n",
       " 'DIST: LEU 162 CA 2551 - GLN 174 CA 2746',\n",
       " 'DIST: GLY 163 CA 2570 - ASP 164 CA 2577',\n",
       " 'DIST: GLY 163 CA 2570 - VAL 165 CA 2589',\n",
       " 'DIST: GLY 163 CA 2570 - ARG 166 CA 2605',\n",
       " 'DIST: GLY 163 CA 2570 - GLU 167 CA 2629',\n",
       " 'DIST: GLY 163 CA 2570 - THR 168 CA 2644',\n",
       " 'DIST: GLY 163 CA 2570 - MET 169 CA 2658',\n",
       " 'DIST: GLY 163 CA 2570 - SER 170 CA 2675',\n",
       " 'DIST: GLY 163 CA 2570 - TYR 171 CA 2686',\n",
       " 'DIST: GLY 163 CA 2570 - LEU 172 CA 2707',\n",
       " 'DIST: GLY 163 CA 2570 - PHE 173 CA 2726',\n",
       " 'DIST: GLY 163 CA 2570 - GLN 174 CA 2746',\n",
       " 'DIST: ASP 164 CA 2577 - VAL 165 CA 2589',\n",
       " 'DIST: ASP 164 CA 2577 - ARG 166 CA 2605',\n",
       " 'DIST: ASP 164 CA 2577 - GLU 167 CA 2629',\n",
       " 'DIST: ASP 164 CA 2577 - THR 168 CA 2644',\n",
       " 'DIST: ASP 164 CA 2577 - MET 169 CA 2658',\n",
       " 'DIST: ASP 164 CA 2577 - SER 170 CA 2675',\n",
       " 'DIST: ASP 164 CA 2577 - TYR 171 CA 2686',\n",
       " 'DIST: ASP 164 CA 2577 - LEU 172 CA 2707',\n",
       " 'DIST: ASP 164 CA 2577 - PHE 173 CA 2726',\n",
       " 'DIST: ASP 164 CA 2577 - GLN 174 CA 2746',\n",
       " 'DIST: VAL 165 CA 2589 - ARG 166 CA 2605',\n",
       " 'DIST: VAL 165 CA 2589 - GLU 167 CA 2629',\n",
       " 'DIST: VAL 165 CA 2589 - THR 168 CA 2644',\n",
       " 'DIST: VAL 165 CA 2589 - MET 169 CA 2658',\n",
       " 'DIST: VAL 165 CA 2589 - SER 170 CA 2675',\n",
       " 'DIST: VAL 165 CA 2589 - TYR 171 CA 2686',\n",
       " 'DIST: VAL 165 CA 2589 - LEU 172 CA 2707',\n",
       " 'DIST: VAL 165 CA 2589 - PHE 173 CA 2726',\n",
       " 'DIST: VAL 165 CA 2589 - GLN 174 CA 2746',\n",
       " 'DIST: ARG 166 CA 2605 - GLU 167 CA 2629',\n",
       " 'DIST: ARG 166 CA 2605 - THR 168 CA 2644',\n",
       " 'DIST: ARG 166 CA 2605 - MET 169 CA 2658',\n",
       " 'DIST: ARG 166 CA 2605 - SER 170 CA 2675',\n",
       " 'DIST: ARG 166 CA 2605 - TYR 171 CA 2686',\n",
       " 'DIST: ARG 166 CA 2605 - LEU 172 CA 2707',\n",
       " 'DIST: ARG 166 CA 2605 - PHE 173 CA 2726',\n",
       " 'DIST: ARG 166 CA 2605 - GLN 174 CA 2746',\n",
       " 'DIST: GLU 167 CA 2629 - THR 168 CA 2644',\n",
       " 'DIST: GLU 167 CA 2629 - MET 169 CA 2658',\n",
       " 'DIST: GLU 167 CA 2629 - SER 170 CA 2675',\n",
       " 'DIST: GLU 167 CA 2629 - TYR 171 CA 2686',\n",
       " 'DIST: GLU 167 CA 2629 - LEU 172 CA 2707',\n",
       " 'DIST: GLU 167 CA 2629 - PHE 173 CA 2726',\n",
       " 'DIST: GLU 167 CA 2629 - GLN 174 CA 2746',\n",
       " 'DIST: THR 168 CA 2644 - MET 169 CA 2658',\n",
       " 'DIST: THR 168 CA 2644 - SER 170 CA 2675',\n",
       " 'DIST: THR 168 CA 2644 - TYR 171 CA 2686',\n",
       " 'DIST: THR 168 CA 2644 - LEU 172 CA 2707',\n",
       " 'DIST: THR 168 CA 2644 - PHE 173 CA 2726',\n",
       " 'DIST: THR 168 CA 2644 - GLN 174 CA 2746',\n",
       " 'DIST: MET 169 CA 2658 - SER 170 CA 2675',\n",
       " 'DIST: MET 169 CA 2658 - TYR 171 CA 2686',\n",
       " 'DIST: MET 169 CA 2658 - LEU 172 CA 2707',\n",
       " 'DIST: MET 169 CA 2658 - PHE 173 CA 2726',\n",
       " 'DIST: MET 169 CA 2658 - GLN 174 CA 2746',\n",
       " 'DIST: SER 170 CA 2675 - TYR 171 CA 2686',\n",
       " 'DIST: SER 170 CA 2675 - LEU 172 CA 2707',\n",
       " 'DIST: SER 170 CA 2675 - PHE 173 CA 2726',\n",
       " 'DIST: SER 170 CA 2675 - GLN 174 CA 2746',\n",
       " 'DIST: TYR 171 CA 2686 - LEU 172 CA 2707',\n",
       " 'DIST: TYR 171 CA 2686 - PHE 173 CA 2726',\n",
       " 'DIST: TYR 171 CA 2686 - GLN 174 CA 2746',\n",
       " 'DIST: LEU 172 CA 2707 - PHE 173 CA 2726',\n",
       " 'DIST: LEU 172 CA 2707 - GLN 174 CA 2746',\n",
       " 'DIST: PHE 173 CA 2726 - GLN 174 CA 2746',\n",
       " 'DIST: VAL 205 CA 3217 - MET 206 CA 3233',\n",
       " 'DIST: VAL 205 CA 3217 - TYR 207 CA 3250',\n",
       " 'DIST: VAL 205 CA 3217 - MET 208 CA 3271',\n",
       " 'DIST: VAL 205 CA 3217 - GLY 209 CA 3288',\n",
       " 'DIST: VAL 205 CA 3217 - THR 210 CA 3295',\n",
       " 'DIST: VAL 205 CA 3217 - LEU 211 CA 3309',\n",
       " 'DIST: VAL 205 CA 3217 - SER 212 CA 3328',\n",
       " 'DIST: MET 206 CA 3233 - TYR 207 CA 3250',\n",
       " 'DIST: MET 206 CA 3233 - MET 208 CA 3271',\n",
       " 'DIST: MET 206 CA 3233 - GLY 209 CA 3288',\n",
       " 'DIST: MET 206 CA 3233 - THR 210 CA 3295',\n",
       " 'DIST: MET 206 CA 3233 - LEU 211 CA 3309',\n",
       " 'DIST: MET 206 CA 3233 - SER 212 CA 3328',\n",
       " 'DIST: TYR 207 CA 3250 - MET 208 CA 3271',\n",
       " 'DIST: TYR 207 CA 3250 - GLY 209 CA 3288',\n",
       " 'DIST: TYR 207 CA 3250 - THR 210 CA 3295',\n",
       " 'DIST: TYR 207 CA 3250 - LEU 211 CA 3309',\n",
       " 'DIST: TYR 207 CA 3250 - SER 212 CA 3328',\n",
       " 'DIST: MET 208 CA 3271 - GLY 209 CA 3288',\n",
       " 'DIST: MET 208 CA 3271 - THR 210 CA 3295',\n",
       " 'DIST: MET 208 CA 3271 - LEU 211 CA 3309',\n",
       " 'DIST: MET 208 CA 3271 - SER 212 CA 3328',\n",
       " 'DIST: GLY 209 CA 3288 - THR 210 CA 3295',\n",
       " 'DIST: GLY 209 CA 3288 - LEU 211 CA 3309',\n",
       " 'DIST: GLY 209 CA 3288 - SER 212 CA 3328',\n",
       " 'DIST: THR 210 CA 3295 - LEU 211 CA 3309',\n",
       " 'DIST: THR 210 CA 3295 - SER 212 CA 3328',\n",
       " 'DIST: LEU 211 CA 3309 - SER 212 CA 3328',\n",
       " 'DIST: MET 243 CA 3823 - MET 244 CA 3840',\n",
       " 'DIST: MET 243 CA 3823 - SER 245 CA 3857',\n",
       " 'DIST: MET 243 CA 3823 - ALA 246 CA 3868',\n",
       " 'DIST: MET 243 CA 3823 - PRO 247 CA 3880',\n",
       " 'DIST: MET 243 CA 3823 - PRO 248 CA 3894',\n",
       " 'DIST: MET 243 CA 3823 - ALA 249 CA 3906',\n",
       " 'DIST: MET 243 CA 3823 - GLN 250 CA 3916',\n",
       " 'DIST: MET 243 CA 3823 - TYR 251 CA 3933',\n",
       " 'DIST: MET 244 CA 3840 - SER 245 CA 3857',\n",
       " 'DIST: MET 244 CA 3840 - ALA 246 CA 3868',\n",
       " 'DIST: MET 244 CA 3840 - PRO 247 CA 3880',\n",
       " 'DIST: MET 244 CA 3840 - PRO 248 CA 3894',\n",
       " 'DIST: MET 244 CA 3840 - ALA 249 CA 3906',\n",
       " 'DIST: MET 244 CA 3840 - GLN 250 CA 3916',\n",
       " 'DIST: MET 244 CA 3840 - TYR 251 CA 3933',\n",
       " 'DIST: SER 245 CA 3857 - ALA 246 CA 3868',\n",
       " 'DIST: SER 245 CA 3857 - PRO 247 CA 3880',\n",
       " 'DIST: SER 245 CA 3857 - PRO 248 CA 3894',\n",
       " 'DIST: SER 245 CA 3857 - ALA 249 CA 3906',\n",
       " 'DIST: SER 245 CA 3857 - GLN 250 CA 3916',\n",
       " 'DIST: SER 245 CA 3857 - TYR 251 CA 3933',\n",
       " 'DIST: ALA 246 CA 3868 - PRO 247 CA 3880',\n",
       " 'DIST: ALA 246 CA 3868 - PRO 248 CA 3894',\n",
       " 'DIST: ALA 246 CA 3868 - ALA 249 CA 3906',\n",
       " 'DIST: ALA 246 CA 3868 - GLN 250 CA 3916',\n",
       " 'DIST: ALA 246 CA 3868 - TYR 251 CA 3933',\n",
       " 'DIST: PRO 247 CA 3880 - PRO 248 CA 3894',\n",
       " 'DIST: PRO 247 CA 3880 - ALA 249 CA 3906',\n",
       " 'DIST: PRO 247 CA 3880 - GLN 250 CA 3916',\n",
       " 'DIST: PRO 247 CA 3880 - TYR 251 CA 3933',\n",
       " 'DIST: PRO 248 CA 3894 - ALA 249 CA 3906',\n",
       " 'DIST: PRO 248 CA 3894 - GLN 250 CA 3916',\n",
       " 'DIST: PRO 248 CA 3894 - TYR 251 CA 3933',\n",
       " 'DIST: ALA 249 CA 3906 - GLN 250 CA 3916',\n",
       " 'DIST: ALA 249 CA 3906 - TYR 251 CA 3933',\n",
       " 'DIST: GLN 250 CA 3916 - TYR 251 CA 3933',\n",
       " 'DIST: CYS 260 CA 4082 - ALA 261 CA 4093',\n",
       " 'DIST: CYS 260 CA 4082 - SER 262 CA 4103',\n",
       " 'DIST: CYS 260 CA 4082 - GLU 263 CA 4114',\n",
       " 'DIST: CYS 260 CA 4082 - TYR 264 CA 4129',\n",
       " 'DIST: CYS 260 CA 4082 - THR 265 CA 4150',\n",
       " 'DIST: CYS 260 CA 4082 - GLY 266 CA 4164',\n",
       " 'DIST: CYS 260 CA 4082 - ASN 267 CA 4171',\n",
       " 'DIST: CYS 260 CA 4082 - TYR 268 CA 4185',\n",
       " 'DIST: CYS 260 CA 4082 - GLN 269 CA 4206',\n",
       " 'DIST: CYS 260 CA 4082 - CYS 270 CA 4223',\n",
       " 'DIST: CYS 260 CA 4082 - GLY 271 CA 4234',\n",
       " 'DIST: CYS 260 CA 4082 - HISH 272 CA 4241',\n",
       " 'DIST: CYS 260 CA 4082 - TYR 273 CA 4259',\n",
       " 'DIST: CYS 260 CA 4082 - LYS 274 CA 4280',\n",
       " 'DIST: CYS 260 CA 4082 - HISD 275 CA 4302',\n",
       " 'DIST: CYS 260 CA 4082 - ILE 276 CA 4319',\n",
       " 'DIST: CYS 260 CA 4082 - THR 277 CA 4338',\n",
       " 'DIST: ALA 261 CA 4093 - SER 262 CA 4103',\n",
       " 'DIST: ALA 261 CA 4093 - GLU 263 CA 4114',\n",
       " 'DIST: ALA 261 CA 4093 - TYR 264 CA 4129',\n",
       " 'DIST: ALA 261 CA 4093 - THR 265 CA 4150',\n",
       " 'DIST: ALA 261 CA 4093 - GLY 266 CA 4164',\n",
       " 'DIST: ALA 261 CA 4093 - ASN 267 CA 4171',\n",
       " 'DIST: ALA 261 CA 4093 - TYR 268 CA 4185',\n",
       " 'DIST: ALA 261 CA 4093 - GLN 269 CA 4206',\n",
       " 'DIST: ALA 261 CA 4093 - CYS 270 CA 4223',\n",
       " 'DIST: ALA 261 CA 4093 - GLY 271 CA 4234',\n",
       " 'DIST: ALA 261 CA 4093 - HISH 272 CA 4241',\n",
       " 'DIST: ALA 261 CA 4093 - TYR 273 CA 4259',\n",
       " 'DIST: ALA 261 CA 4093 - LYS 274 CA 4280',\n",
       " 'DIST: ALA 261 CA 4093 - HISD 275 CA 4302',\n",
       " 'DIST: ALA 261 CA 4093 - ILE 276 CA 4319',\n",
       " 'DIST: ALA 261 CA 4093 - THR 277 CA 4338',\n",
       " 'DIST: SER 262 CA 4103 - GLU 263 CA 4114',\n",
       " 'DIST: SER 262 CA 4103 - TYR 264 CA 4129',\n",
       " 'DIST: SER 262 CA 4103 - THR 265 CA 4150',\n",
       " 'DIST: SER 262 CA 4103 - GLY 266 CA 4164',\n",
       " 'DIST: SER 262 CA 4103 - ASN 267 CA 4171',\n",
       " 'DIST: SER 262 CA 4103 - TYR 268 CA 4185',\n",
       " 'DIST: SER 262 CA 4103 - GLN 269 CA 4206',\n",
       " 'DIST: SER 262 CA 4103 - CYS 270 CA 4223',\n",
       " 'DIST: SER 262 CA 4103 - GLY 271 CA 4234',\n",
       " 'DIST: SER 262 CA 4103 - HISH 272 CA 4241',\n",
       " 'DIST: SER 262 CA 4103 - TYR 273 CA 4259',\n",
       " 'DIST: SER 262 CA 4103 - LYS 274 CA 4280',\n",
       " 'DIST: SER 262 CA 4103 - HISD 275 CA 4302',\n",
       " 'DIST: SER 262 CA 4103 - ILE 276 CA 4319',\n",
       " 'DIST: SER 262 CA 4103 - THR 277 CA 4338',\n",
       " 'DIST: GLU 263 CA 4114 - TYR 264 CA 4129',\n",
       " 'DIST: GLU 263 CA 4114 - THR 265 CA 4150',\n",
       " 'DIST: GLU 263 CA 4114 - GLY 266 CA 4164',\n",
       " 'DIST: GLU 263 CA 4114 - ASN 267 CA 4171',\n",
       " 'DIST: GLU 263 CA 4114 - TYR 268 CA 4185',\n",
       " 'DIST: GLU 263 CA 4114 - GLN 269 CA 4206',\n",
       " 'DIST: GLU 263 CA 4114 - CYS 270 CA 4223',\n",
       " 'DIST: GLU 263 CA 4114 - GLY 271 CA 4234',\n",
       " 'DIST: GLU 263 CA 4114 - HISH 272 CA 4241',\n",
       " 'DIST: GLU 263 CA 4114 - TYR 273 CA 4259',\n",
       " 'DIST: GLU 263 CA 4114 - LYS 274 CA 4280',\n",
       " 'DIST: GLU 263 CA 4114 - HISD 275 CA 4302',\n",
       " 'DIST: GLU 263 CA 4114 - ILE 276 CA 4319',\n",
       " 'DIST: GLU 263 CA 4114 - THR 277 CA 4338',\n",
       " 'DIST: TYR 264 CA 4129 - THR 265 CA 4150',\n",
       " 'DIST: TYR 264 CA 4129 - GLY 266 CA 4164',\n",
       " 'DIST: TYR 264 CA 4129 - ASN 267 CA 4171',\n",
       " 'DIST: TYR 264 CA 4129 - TYR 268 CA 4185',\n",
       " 'DIST: TYR 264 CA 4129 - GLN 269 CA 4206',\n",
       " 'DIST: TYR 264 CA 4129 - CYS 270 CA 4223',\n",
       " 'DIST: TYR 264 CA 4129 - GLY 271 CA 4234',\n",
       " 'DIST: TYR 264 CA 4129 - HISH 272 CA 4241',\n",
       " 'DIST: TYR 264 CA 4129 - TYR 273 CA 4259',\n",
       " 'DIST: TYR 264 CA 4129 - LYS 274 CA 4280',\n",
       " 'DIST: TYR 264 CA 4129 - HISD 275 CA 4302',\n",
       " 'DIST: TYR 264 CA 4129 - ILE 276 CA 4319',\n",
       " 'DIST: TYR 264 CA 4129 - THR 277 CA 4338',\n",
       " 'DIST: THR 265 CA 4150 - GLY 266 CA 4164',\n",
       " 'DIST: THR 265 CA 4150 - ASN 267 CA 4171',\n",
       " 'DIST: THR 265 CA 4150 - TYR 268 CA 4185',\n",
       " 'DIST: THR 265 CA 4150 - GLN 269 CA 4206',\n",
       " 'DIST: THR 265 CA 4150 - CYS 270 CA 4223',\n",
       " 'DIST: THR 265 CA 4150 - GLY 271 CA 4234',\n",
       " 'DIST: THR 265 CA 4150 - HISH 272 CA 4241',\n",
       " 'DIST: THR 265 CA 4150 - TYR 273 CA 4259',\n",
       " 'DIST: THR 265 CA 4150 - LYS 274 CA 4280',\n",
       " 'DIST: THR 265 CA 4150 - HISD 275 CA 4302',\n",
       " 'DIST: THR 265 CA 4150 - ILE 276 CA 4319',\n",
       " 'DIST: THR 265 CA 4150 - THR 277 CA 4338',\n",
       " 'DIST: GLY 266 CA 4164 - ASN 267 CA 4171',\n",
       " 'DIST: GLY 266 CA 4164 - TYR 268 CA 4185',\n",
       " 'DIST: GLY 266 CA 4164 - GLN 269 CA 4206',\n",
       " 'DIST: GLY 266 CA 4164 - CYS 270 CA 4223',\n",
       " 'DIST: GLY 266 CA 4164 - GLY 271 CA 4234',\n",
       " 'DIST: GLY 266 CA 4164 - HISH 272 CA 4241',\n",
       " 'DIST: GLY 266 CA 4164 - TYR 273 CA 4259',\n",
       " 'DIST: GLY 266 CA 4164 - LYS 274 CA 4280',\n",
       " 'DIST: GLY 266 CA 4164 - HISD 275 CA 4302',\n",
       " 'DIST: GLY 266 CA 4164 - ILE 276 CA 4319',\n",
       " 'DIST: GLY 266 CA 4164 - THR 277 CA 4338',\n",
       " 'DIST: ASN 267 CA 4171 - TYR 268 CA 4185',\n",
       " 'DIST: ASN 267 CA 4171 - GLN 269 CA 4206',\n",
       " 'DIST: ASN 267 CA 4171 - CYS 270 CA 4223',\n",
       " 'DIST: ASN 267 CA 4171 - GLY 271 CA 4234',\n",
       " 'DIST: ASN 267 CA 4171 - HISH 272 CA 4241',\n",
       " 'DIST: ASN 267 CA 4171 - TYR 273 CA 4259',\n",
       " 'DIST: ASN 267 CA 4171 - LYS 274 CA 4280',\n",
       " 'DIST: ASN 267 CA 4171 - HISD 275 CA 4302',\n",
       " 'DIST: ASN 267 CA 4171 - ILE 276 CA 4319',\n",
       " 'DIST: ASN 267 CA 4171 - THR 277 CA 4338',\n",
       " 'DIST: TYR 268 CA 4185 - GLN 269 CA 4206',\n",
       " 'DIST: TYR 268 CA 4185 - CYS 270 CA 4223',\n",
       " 'DIST: TYR 268 CA 4185 - GLY 271 CA 4234',\n",
       " 'DIST: TYR 268 CA 4185 - HISH 272 CA 4241',\n",
       " 'DIST: TYR 268 CA 4185 - TYR 273 CA 4259',\n",
       " 'DIST: TYR 268 CA 4185 - LYS 274 CA 4280',\n",
       " 'DIST: TYR 268 CA 4185 - HISD 275 CA 4302',\n",
       " 'DIST: TYR 268 CA 4185 - ILE 276 CA 4319',\n",
       " 'DIST: TYR 268 CA 4185 - THR 277 CA 4338',\n",
       " 'DIST: GLN 269 CA 4206 - CYS 270 CA 4223',\n",
       " 'DIST: GLN 269 CA 4206 - GLY 271 CA 4234',\n",
       " 'DIST: GLN 269 CA 4206 - HISH 272 CA 4241',\n",
       " 'DIST: GLN 269 CA 4206 - TYR 273 CA 4259',\n",
       " 'DIST: GLN 269 CA 4206 - LYS 274 CA 4280',\n",
       " 'DIST: GLN 269 CA 4206 - HISD 275 CA 4302',\n",
       " 'DIST: GLN 269 CA 4206 - ILE 276 CA 4319',\n",
       " 'DIST: GLN 269 CA 4206 - THR 277 CA 4338',\n",
       " 'DIST: CYS 270 CA 4223 - GLY 271 CA 4234',\n",
       " 'DIST: CYS 270 CA 4223 - HISH 272 CA 4241',\n",
       " 'DIST: CYS 270 CA 4223 - TYR 273 CA 4259',\n",
       " 'DIST: CYS 270 CA 4223 - LYS 274 CA 4280',\n",
       " 'DIST: CYS 270 CA 4223 - HISD 275 CA 4302',\n",
       " 'DIST: CYS 270 CA 4223 - ILE 276 CA 4319',\n",
       " 'DIST: CYS 270 CA 4223 - THR 277 CA 4338',\n",
       " 'DIST: GLY 271 CA 4234 - HISH 272 CA 4241',\n",
       " 'DIST: GLY 271 CA 4234 - TYR 273 CA 4259',\n",
       " 'DIST: GLY 271 CA 4234 - LYS 274 CA 4280',\n",
       " 'DIST: GLY 271 CA 4234 - HISD 275 CA 4302',\n",
       " 'DIST: GLY 271 CA 4234 - ILE 276 CA 4319',\n",
       " 'DIST: GLY 271 CA 4234 - THR 277 CA 4338',\n",
       " 'DIST: HISH 272 CA 4241 - TYR 273 CA 4259',\n",
       " 'DIST: HISH 272 CA 4241 - LYS 274 CA 4280',\n",
       " 'DIST: HISH 272 CA 4241 - HISD 275 CA 4302',\n",
       " 'DIST: HISH 272 CA 4241 - ILE 276 CA 4319',\n",
       " 'DIST: HISH 272 CA 4241 - THR 277 CA 4338',\n",
       " 'DIST: TYR 273 CA 4259 - LYS 274 CA 4280',\n",
       " 'DIST: TYR 273 CA 4259 - HISD 275 CA 4302',\n",
       " 'DIST: TYR 273 CA 4259 - ILE 276 CA 4319',\n",
       " 'DIST: TYR 273 CA 4259 - THR 277 CA 4338',\n",
       " 'DIST: LYS 274 CA 4280 - HISD 275 CA 4302',\n",
       " 'DIST: LYS 274 CA 4280 - ILE 276 CA 4319',\n",
       " 'DIST: LYS 274 CA 4280 - THR 277 CA 4338',\n",
       " 'DIST: HISD 275 CA 4302 - ILE 276 CA 4319',\n",
       " 'DIST: HISD 275 CA 4302 - THR 277 CA 4338',\n",
       " 'DIST: ILE 276 CA 4319 - THR 277 CA 4338',\n",
       " 'DIST: LYS 297 CA 4645 - GLY 298 CA 4667',\n",
       " 'DIST: LYS 297 CA 4645 - PRO 299 CA 4676',\n",
       " 'DIST: LYS 297 CA 4645 - ILE 300 CA 4688',\n",
       " 'DIST: LYS 297 CA 4645 - THR 301 CA 4707',\n",
       " 'DIST: LYS 297 CA 4645 - ASP 302 CA 4721',\n",
       " 'DIST: LYS 297 CA 4645 - VAL 303 CA 4733',\n",
       " 'DIST: LYS 297 CA 4645 - PHE 304 CA 4749',\n",
       " 'DIST: GLY 298 CA 4667 - PRO 299 CA 4676',\n",
       " 'DIST: GLY 298 CA 4667 - ILE 300 CA 4688',\n",
       " 'DIST: GLY 298 CA 4667 - THR 301 CA 4707',\n",
       " 'DIST: GLY 298 CA 4667 - ASP 302 CA 4721',\n",
       " 'DIST: GLY 298 CA 4667 - VAL 303 CA 4733',\n",
       " 'DIST: GLY 298 CA 4667 - PHE 304 CA 4749',\n",
       " 'DIST: PRO 299 CA 4676 - ILE 300 CA 4688',\n",
       " 'DIST: PRO 299 CA 4676 - THR 301 CA 4707',\n",
       " 'DIST: PRO 299 CA 4676 - ASP 302 CA 4721',\n",
       " 'DIST: PRO 299 CA 4676 - VAL 303 CA 4733',\n",
       " 'DIST: PRO 299 CA 4676 - PHE 304 CA 4749',\n",
       " 'DIST: ILE 300 CA 4688 - THR 301 CA 4707',\n",
       " 'DIST: ILE 300 CA 4688 - ASP 302 CA 4721',\n",
       " 'DIST: ILE 300 CA 4688 - VAL 303 CA 4733',\n",
       " 'DIST: ILE 300 CA 4688 - PHE 304 CA 4749',\n",
       " 'DIST: THR 301 CA 4707 - ASP 302 CA 4721',\n",
       " 'DIST: THR 301 CA 4707 - VAL 303 CA 4733',\n",
       " 'DIST: THR 301 CA 4707 - PHE 304 CA 4749',\n",
       " 'DIST: ASP 302 CA 4721 - VAL 303 CA 4733',\n",
       " 'DIST: ASP 302 CA 4721 - PHE 304 CA 4749',\n",
       " 'DIST: VAL 303 CA 4733 - PHE 304 CA 4749']"
      ]
     },
     "execution_count": 8,
     "metadata": {},
     "output_type": "execute_result"
    },
    {
     "data": {
      "application/javascript": [
       "\n",
       "            setTimeout(function() {\n",
       "                var nbb_cell_id = 8;\n",
       "                var nbb_unformatted_code = \"# nma\\u591a\\u6bb5\\u626d\\u8f6c\\u89d2\\n# 106 - 119, 162 - 174\\uff0c205 - 212, 243 - 251, 260 - 277 , 297 - 304\\n\\nactive_resi1 = \\\"resi 105 to 118\\\"\\nactive_resi2 = \\\"resi 161 to 173\\\"\\nactive_resi3 = \\\"resi 204 to 211\\\"\\nactive_resi4 = \\\"resi 242 to 250\\\"\\nactive_resi5 = \\\"resi 259 to 276\\\"\\nactive_resi6 = \\\"resi 296 to 303\\\"\\n\\ntorsions_feat = pyemma.coordinates.featurizer(pdb)\\ntorsions_feat.add_sidechain_torsions(selstr=active_resi1, cossin=True, periodic=False)\\ntorsions_feat.add_sidechain_torsions(selstr=active_resi2, cossin=True, periodic=False)\\ntorsions_feat.add_sidechain_torsions(selstr=active_resi3, cossin=True, periodic=False)\\ntorsions_feat.add_sidechain_torsions(selstr=active_resi4, cossin=True, periodic=False)\\ntorsions_feat.add_sidechain_torsions(selstr=active_resi5, cossin=True, periodic=False)\\ntorsions_feat.add_sidechain_torsions(selstr=active_resi6, cossin=True, periodic=False)\\n\\n\\ntorsions_data = pyemma.coordinates.load(files, features=torsions_feat)\\nlabels = [\\\"backbone\\\\ntorsions\\\"]\\ntorsions_feat.describe()\\n\\n# nma\\u591a\\u6bb5\\u6b8b\\u57fa\\u5750\\u6807\\n# 106 - 119, 162 - 174\\uff0c205 - 212, 243 - 251, 260 - 277 , 297 - 304\\nactive_residue1 = arange(105, 119)\\nactive_residue2 = arange(161, 174)\\nactive_residue3 = arange(204, 212)\\nactive_residue4 = arange(242, 251)\\nactive_residue5 = arange(259, 277)\\nactive_residue6 = arange(296, 304)\\n\\nactive_residue = (\\n    list(active_residue1)\\n    + list(active_residue2)\\n    + list(active_residue3)\\n    + list(active_residue4)\\n    + list(active_residue5)\\n    + list(active_residue6)\\n)\\npositions_feat = pyemma.coordinates.featurizer(pdb)\\npositions_feat.add_residue_COM(active_residue)\\npositions_data = pyemma.coordinates.load(files, features=positions_feat)\\nlabels += [\\\"backbone atom\\\\npositions\\\"]\\npositions_feat.describe()\\n\\n# nma\\u591a\\u6bb5\\u914d\\u5bf9\\u539f\\u5b50\\u8ddd\\u79bb\\n# 106 - 119, 162 - 174\\uff0c205 - 212, 243 - 251, 260 - 277 , 297 - 304\\nactive_atom1 = topology.select(\\\"name CA and resi 105 to 118\\\")\\nactive_atom2 = topology.select(\\\"name CA and resi 161 to 173\\\")\\nactive_atom3 = topology.select(\\\"name CA and resi 204 to 211\\\")\\nactive_atom4 = topology.select(\\\"name CA and resi 242 to 250\\\")\\nactive_atom5 = topology.select(\\\"name CA and resi 259 to 276\\\")\\nactive_atom6 = topology.select(\\\"name CA and resi 296 to 303\\\")\\n\\ndistances_feat = pyemma.coordinates.featurizer(pdb)\\ndistances_feat.add_distances(\\n    distances_feat.pairs(active_atom1, excluded_neighbors=2), periodic=False\\n)\\ndistances_feat.add_distances(\\n    distances_feat.pairs(active_atom2, excluded_neighbors=2), periodic=False\\n)\\ndistances_feat.add_distances(\\n    distances_feat.pairs(active_atom3, excluded_neighbors=2), periodic=False\\n)\\ndistances_feat.add_distances(\\n    distances_feat.pairs(active_atom4, excluded_neighbors=2), periodic=False\\n)\\ndistances_feat.add_distances(\\n    distances_feat.pairs(active_atom5, excluded_neighbors=2), periodic=False\\n)\\ndistances_feat.add_distances(\\n    distances_feat.pairs(active_atom6, excluded_neighbors=2), periodic=False\\n)\\ndistances_data = pyemma.coordinates.load(files, features=distances_feat)\\nlabels += [\\\"backbone atom\\\\ndistances\\\"]\\ndistances_feat.describe()\";\n",
       "                var nbb_formatted_code = \"# nma\\u591a\\u6bb5\\u626d\\u8f6c\\u89d2\\n# 106 - 119, 162 - 174\\uff0c205 - 212, 243 - 251, 260 - 277 , 297 - 304\\n\\nactive_resi1 = \\\"resi 105 to 118\\\"\\nactive_resi2 = \\\"resi 161 to 173\\\"\\nactive_resi3 = \\\"resi 204 to 211\\\"\\nactive_resi4 = \\\"resi 242 to 250\\\"\\nactive_resi5 = \\\"resi 259 to 276\\\"\\nactive_resi6 = \\\"resi 296 to 303\\\"\\n\\ntorsions_feat = pyemma.coordinates.featurizer(pdb)\\ntorsions_feat.add_sidechain_torsions(selstr=active_resi1, cossin=True, periodic=False)\\ntorsions_feat.add_sidechain_torsions(selstr=active_resi2, cossin=True, periodic=False)\\ntorsions_feat.add_sidechain_torsions(selstr=active_resi3, cossin=True, periodic=False)\\ntorsions_feat.add_sidechain_torsions(selstr=active_resi4, cossin=True, periodic=False)\\ntorsions_feat.add_sidechain_torsions(selstr=active_resi5, cossin=True, periodic=False)\\ntorsions_feat.add_sidechain_torsions(selstr=active_resi6, cossin=True, periodic=False)\\n\\n\\ntorsions_data = pyemma.coordinates.load(files, features=torsions_feat)\\nlabels = [\\\"backbone\\\\ntorsions\\\"]\\ntorsions_feat.describe()\\n\\n# nma\\u591a\\u6bb5\\u6b8b\\u57fa\\u5750\\u6807\\n# 106 - 119, 162 - 174\\uff0c205 - 212, 243 - 251, 260 - 277 , 297 - 304\\nactive_residue1 = arange(105, 119)\\nactive_residue2 = arange(161, 174)\\nactive_residue3 = arange(204, 212)\\nactive_residue4 = arange(242, 251)\\nactive_residue5 = arange(259, 277)\\nactive_residue6 = arange(296, 304)\\n\\nactive_residue = (\\n    list(active_residue1)\\n    + list(active_residue2)\\n    + list(active_residue3)\\n    + list(active_residue4)\\n    + list(active_residue5)\\n    + list(active_residue6)\\n)\\npositions_feat = pyemma.coordinates.featurizer(pdb)\\npositions_feat.add_residue_COM(active_residue)\\npositions_data = pyemma.coordinates.load(files, features=positions_feat)\\nlabels += [\\\"backbone atom\\\\npositions\\\"]\\npositions_feat.describe()\\n\\n# nma\\u591a\\u6bb5\\u914d\\u5bf9\\u539f\\u5b50\\u8ddd\\u79bb\\n# 106 - 119, 162 - 174\\uff0c205 - 212, 243 - 251, 260 - 277 , 297 - 304\\nactive_atom1 = topology.select(\\\"name CA and resi 105 to 118\\\")\\nactive_atom2 = topology.select(\\\"name CA and resi 161 to 173\\\")\\nactive_atom3 = topology.select(\\\"name CA and resi 204 to 211\\\")\\nactive_atom4 = topology.select(\\\"name CA and resi 242 to 250\\\")\\nactive_atom5 = topology.select(\\\"name CA and resi 259 to 276\\\")\\nactive_atom6 = topology.select(\\\"name CA and resi 296 to 303\\\")\\n\\ndistances_feat = pyemma.coordinates.featurizer(pdb)\\ndistances_feat.add_distances(\\n    distances_feat.pairs(active_atom1, excluded_neighbors=2), periodic=False\\n)\\ndistances_feat.add_distances(\\n    distances_feat.pairs(active_atom2, excluded_neighbors=2), periodic=False\\n)\\ndistances_feat.add_distances(\\n    distances_feat.pairs(active_atom3, excluded_neighbors=2), periodic=False\\n)\\ndistances_feat.add_distances(\\n    distances_feat.pairs(active_atom4, excluded_neighbors=2), periodic=False\\n)\\ndistances_feat.add_distances(\\n    distances_feat.pairs(active_atom5, excluded_neighbors=2), periodic=False\\n)\\ndistances_feat.add_distances(\\n    distances_feat.pairs(active_atom6, excluded_neighbors=2), periodic=False\\n)\\ndistances_data = pyemma.coordinates.load(files, features=distances_feat)\\nlabels += [\\\"backbone atom\\\\ndistances\\\"]\\ndistances_feat.describe()\";\n",
       "                var nbb_cells = Jupyter.notebook.get_cells();\n",
       "                for (var i = 0; i < nbb_cells.length; ++i) {\n",
       "                    if (nbb_cells[i].input_prompt_number == nbb_cell_id) {\n",
       "                        if (nbb_cells[i].get_text() == nbb_unformatted_code) {\n",
       "                             nbb_cells[i].set_text(nbb_formatted_code);\n",
       "                        }\n",
       "                        break;\n",
       "                    }\n",
       "                }\n",
       "            }, 500);\n",
       "            "
      ],
      "text/plain": [
       "<IPython.core.display.Javascript object>"
      ]
     },
     "metadata": {},
     "output_type": "display_data"
    }
   ],
   "source": [
    "# nma多段扭转角\n",
    "# 106 - 119, 162 - 174，205 - 212, 243 - 251, 260 - 277 , 297 - 304\n",
    "\n",
    "active_resi1 = \"resi 105 to 118\"\n",
    "active_resi2 = \"resi 161 to 173\"\n",
    "active_resi3 = \"resi 204 to 211\"\n",
    "active_resi4 = \"resi 242 to 250\"\n",
    "active_resi5 = \"resi 259 to 276\"\n",
    "active_resi6 = \"resi 296 to 303\"\n",
    "\n",
    "torsions_feat = pyemma.coordinates.featurizer(pdb)\n",
    "torsions_feat.add_sidechain_torsions(selstr=active_resi1, cossin=True, periodic=False)\n",
    "torsions_feat.add_sidechain_torsions(selstr=active_resi2, cossin=True, periodic=False)\n",
    "torsions_feat.add_sidechain_torsions(selstr=active_resi3, cossin=True, periodic=False)\n",
    "torsions_feat.add_sidechain_torsions(selstr=active_resi4, cossin=True, periodic=False)\n",
    "torsions_feat.add_sidechain_torsions(selstr=active_resi5, cossin=True, periodic=False)\n",
    "torsions_feat.add_sidechain_torsions(selstr=active_resi6, cossin=True, periodic=False)\n",
    "\n",
    "\n",
    "torsions_data = pyemma.coordinates.load(files, features=torsions_feat)\n",
    "labels = [\"backbone\\ntorsions\"]\n",
    "torsions_feat.describe()\n",
    "\n",
    "# nma多段残基坐标\n",
    "# 106 - 119, 162 - 174，205 - 212, 243 - 251, 260 - 277 , 297 - 304\n",
    "active_residue1 = arange(105, 119)\n",
    "active_residue2 = arange(161, 174)\n",
    "active_residue3 = arange(204, 212)\n",
    "active_residue4 = arange(242, 251)\n",
    "active_residue5 = arange(259, 277)\n",
    "active_residue6 = arange(296, 304)\n",
    "\n",
    "active_residue = (\n",
    "    list(active_residue1)\n",
    "    + list(active_residue2)\n",
    "    + list(active_residue3)\n",
    "    + list(active_residue4)\n",
    "    + list(active_residue5)\n",
    "    + list(active_residue6)\n",
    ")\n",
    "positions_feat = pyemma.coordinates.featurizer(pdb)\n",
    "positions_feat.add_residue_COM(active_residue)\n",
    "positions_data = pyemma.coordinates.load(files, features=positions_feat)\n",
    "labels += [\"backbone atom\\npositions\"]\n",
    "positions_feat.describe()\n",
    "\n",
    "# nma多段配对原子距离\n",
    "# 106 - 119, 162 - 174，205 - 212, 243 - 251, 260 - 277 , 297 - 304\n",
    "active_atom1 = topology.select(\"name CA and resi 105 to 118\")\n",
    "active_atom2 = topology.select(\"name CA and resi 161 to 173\")\n",
    "active_atom3 = topology.select(\"name CA and resi 204 to 211\")\n",
    "active_atom4 = topology.select(\"name CA and resi 242 to 250\")\n",
    "active_atom5 = topology.select(\"name CA and resi 259 to 276\")\n",
    "active_atom6 = topology.select(\"name CA and resi 296 to 303\")\n",
    "\n",
    "distances_feat = pyemma.coordinates.featurizer(pdb)\n",
    "distances_feat.add_distances(\n",
    "    distances_feat.pairs(active_atom1, excluded_neighbors=2), periodic=False\n",
    ")\n",
    "distances_feat.add_distances(\n",
    "    distances_feat.pairs(active_atom2, excluded_neighbors=2), periodic=False\n",
    ")\n",
    "distances_feat.add_distances(\n",
    "    distances_feat.pairs(active_atom3, excluded_neighbors=2), periodic=False\n",
    ")\n",
    "distances_feat.add_distances(\n",
    "    distances_feat.pairs(active_atom4, excluded_neighbors=2), periodic=False\n",
    ")\n",
    "distances_feat.add_distances(\n",
    "    distances_feat.pairs(active_atom5, excluded_neighbors=2), periodic=False\n",
    ")\n",
    "distances_feat.add_distances(\n",
    "    distances_feat.pairs(active_atom6, excluded_neighbors=2), periodic=False\n",
    ")\n",
    "distances_data = pyemma.coordinates.load(files, features=distances_feat)\n",
    "labels += [\"backbone atom\\ndistances\"]\n",
    "distances_feat.describe()"
   ]
  },
  {
   "cell_type": "markdown",
   "id": "7d264209",
   "metadata": {},
   "source": [
    "# 打分"
   ]
  },
  {
   "cell_type": "markdown",
   "id": "842001dc",
   "metadata": {
    "ExecuteTime": {
     "end_time": "2022-05-24T02:39:08.261704Z",
     "start_time": "2022-05-24T02:39:08.255839Z"
    }
   },
   "source": [
    "## 对比"
   ]
  },
  {
   "cell_type": "code",
   "execution_count": 9,
   "id": "c7c955fc",
   "metadata": {
    "ExecuteTime": {
     "end_time": "2022-06-28T03:04:03.082480Z",
     "start_time": "2022-06-28T03:01:16.335513Z"
    }
   },
   "outputs": [
    {
     "name": "stderr",
     "output_type": "stream",
     "text": [
      "100%|\u001b[34m███████████████████████████████████████████\u001b[0m| 10/10 [00:18<00:00,  1.84s/it]\u001b[0m\n",
      "100%|\u001b[34m███████████████████████████████████████████\u001b[0m| 10/10 [00:18<00:00,  1.84s/it]\u001b[0m\n",
      "100%|\u001b[34m███████████████████████████████████████████\u001b[0m| 10/10 [00:18<00:00,  1.87s/it]\u001b[0m\n",
      "100%|\u001b[34m███████████████████████████████████████████\u001b[0m| 10/10 [00:18<00:00,  1.84s/it]\u001b[0m\n",
      "100%|\u001b[34m███████████████████████████████████████████\u001b[0m| 10/10 [00:18<00:00,  1.84s/it]\u001b[0m\n",
      "100%|\u001b[34m███████████████████████████████████████████\u001b[0m| 10/10 [00:18<00:00,  1.87s/it]\u001b[0m\n",
      "100%|\u001b[34m███████████████████████████████████████████\u001b[0m| 10/10 [00:18<00:00,  1.84s/it]\u001b[0m\n",
      "100%|\u001b[34m███████████████████████████████████████████\u001b[0m| 10/10 [00:18<00:00,  1.84s/it]\u001b[0m\n",
      "100%|\u001b[34m███████████████████████████████████████████\u001b[0m| 10/10 [00:18<00:00,  1.87s/it]\u001b[0m"
     ]
    },
    {
     "name": "stdout",
     "output_type": "stream",
     "text": [
      "[1.00145065 1.00153126 1.0015173  1.00155628 1.00151441 1.00150915\n",
      " 1.00147954 1.00157212 1.00146807 1.00145833]\n",
      "[1.04132293 1.04120528 1.04138313 1.04122757 1.04125841 1.04126599\n",
      " 1.04125478 1.04121287 1.04119583 1.04110075]\n",
      "[1.00003493 1.00003506 1.00003574 1.00003578 1.00003488 1.00003552\n",
      " 1.00003637 1.00003657 1.00003486 1.0000353 ]\n"
     ]
    },
    {
     "name": "stderr",
     "output_type": "stream",
     "text": [
      "\n"
     ]
    },
    {
     "data": {
      "image/png": "[encoded data removed]",
      "text/plain": [
       "<Figure size 864x216 with 3 Axes>"
      ]
     },
     "metadata": {
      "needs_background": "light"
     },
     "output_type": "display_data"
    },
    {
     "data": {
      "application/javascript": [
       "\n",
       "            setTimeout(function() {\n",
       "                var nbb_cell_id = 9;\n",
       "                var nbb_unformatted_code = \"import os\\n\\nos.environ[\\\"KMP_DUPLICATE_LIB_OK\\\"] = \\\"TRUE\\\"\\n\\n\\ndef score_cv(data, dim, lag, number_of_splits=10, validation_fraction=0.5):\\n    \\\"\\\"\\\"Compute a cross-validated VAMP2 score.\\n\\n    We randomly split the list of independent trajectories into\\n    a training and a validation set, compute the VAMP2 score,\\n    and repeat this process several times.\\n\\n    Parameters\\n    ----------\\n    data : list of numpy.ndarrays\\n        The input data.\\n    dim : int\\n        Number of processes to score; equivalent to the dimension\\n        after projecting the data with VAMP2.\\n    lag : int\\n        Lag time for the VAMP2 scoring.\\n    number_of_splits : int, optional, default=10\\n        How often do we repeat the splitting and score calculation.\\n    validation_fraction : int, optional, default=0.5\\n        Fraction of trajectories which should go into the validation\\n        set during a split.\\n    \\\"\\\"\\\"\\n    # we temporarily suppress very short-lived progress bars\\n    with pyemma.util.contexts.settings(show_progress_bars=False):\\n        nval = int(len(data) * validation_fraction)\\n        scores = np.zeros(number_of_splits)\\n        for n in tqdm(range(number_of_splits), ncols=80, colour=\\\"blue\\\"):\\n            sleep(0.05)\\n            ival = np.random.choice(len(data), size=nval, replace=False)\\n            vamp = pyemma.coordinates.vamp(\\n                [d for i, d in enumerate(data) if i not in ival], lag=lag, dim=dim\\n            )\\n            scores[n] = vamp.score([d for i, d in enumerate(data) if i in ival])\\n    return scores\\n\\n\\ndim = 1\\n# \\u8bb0\\u5f97\\u8f68\\u8ff9\\u6761\\u6570\\uff01\\n\\nfig, axes = plt.subplots(1, 3, figsize=(12, 3), sharey=True)\\nfor ax, lag in zip(axes.flat, [5, 10, 20]):\\n    torsions_scores = score_cv(torsions_data, lag=lag, dim=dim)\\n    scores = [torsions_scores.mean()]\\n    errors = [torsions_scores.std()]\\n    positions_scores = score_cv(positions_data, lag=lag, dim=dim)\\n    scores += [positions_scores.mean()]\\n    errors += [positions_scores.std()]\\n    distances_scores = score_cv(distances_data, lag=lag, dim=dim)\\n    scores += [distances_scores.mean()]\\n    errors += [distances_scores.std()]\\n    ax.bar(labels, scores, yerr=errors, color=[\\\"C0\\\", \\\"C1\\\", \\\"C2\\\"])\\n    ax.set_title(r\\\"lag time $\\\\tau$={:.1f}ns\\\".format(lag * 0.1))\\n    if lag == 5:\\n        # save for later\\n        vamp_bars_plot = dict(\\n            labels=labels, scores=scores, errors=errors, dim=dim, lag=lag\\n        )\\naxes[0].set_ylabel(\\\"VAMP2 score\\\")\\nfig.tight_layout()\\n\\nprint(torsions_scores)\\nprint(positions_scores)\\nprint(distances_scores)\";\n",
       "                var nbb_formatted_code = \"import os\\n\\nos.environ[\\\"KMP_DUPLICATE_LIB_OK\\\"] = \\\"TRUE\\\"\\n\\n\\ndef score_cv(data, dim, lag, number_of_splits=10, validation_fraction=0.5):\\n    \\\"\\\"\\\"Compute a cross-validated VAMP2 score.\\n\\n    We randomly split the list of independent trajectories into\\n    a training and a validation set, compute the VAMP2 score,\\n    and repeat this process several times.\\n\\n    Parameters\\n    ----------\\n    data : list of numpy.ndarrays\\n        The input data.\\n    dim : int\\n        Number of processes to score; equivalent to the dimension\\n        after projecting the data with VAMP2.\\n    lag : int\\n        Lag time for the VAMP2 scoring.\\n    number_of_splits : int, optional, default=10\\n        How often do we repeat the splitting and score calculation.\\n    validation_fraction : int, optional, default=0.5\\n        Fraction of trajectories which should go into the validation\\n        set during a split.\\n    \\\"\\\"\\\"\\n    # we temporarily suppress very short-lived progress bars\\n    with pyemma.util.contexts.settings(show_progress_bars=False):\\n        nval = int(len(data) * validation_fraction)\\n        scores = np.zeros(number_of_splits)\\n        for n in tqdm(range(number_of_splits), ncols=80, colour=\\\"blue\\\"):\\n            sleep(0.05)\\n            ival = np.random.choice(len(data), size=nval, replace=False)\\n            vamp = pyemma.coordinates.vamp(\\n                [d for i, d in enumerate(data) if i not in ival], lag=lag, dim=dim\\n            )\\n            scores[n] = vamp.score([d for i, d in enumerate(data) if i in ival])\\n    return scores\\n\\n\\ndim = 1\\n# \\u8bb0\\u5f97\\u8f68\\u8ff9\\u6761\\u6570\\uff01\\n\\nfig, axes = plt.subplots(1, 3, figsize=(12, 3), sharey=True)\\nfor ax, lag in zip(axes.flat, [5, 10, 20]):\\n    torsions_scores = score_cv(torsions_data, lag=lag, dim=dim)\\n    scores = [torsions_scores.mean()]\\n    errors = [torsions_scores.std()]\\n    positions_scores = score_cv(positions_data, lag=lag, dim=dim)\\n    scores += [positions_scores.mean()]\\n    errors += [positions_scores.std()]\\n    distances_scores = score_cv(distances_data, lag=lag, dim=dim)\\n    scores += [distances_scores.mean()]\\n    errors += [distances_scores.std()]\\n    ax.bar(labels, scores, yerr=errors, color=[\\\"C0\\\", \\\"C1\\\", \\\"C2\\\"])\\n    ax.set_title(r\\\"lag time $\\\\tau$={:.1f}ns\\\".format(lag * 0.1))\\n    if lag == 5:\\n        # save for later\\n        vamp_bars_plot = dict(\\n            labels=labels, scores=scores, errors=errors, dim=dim, lag=lag\\n        )\\naxes[0].set_ylabel(\\\"VAMP2 score\\\")\\nfig.tight_layout()\\n\\nprint(torsions_scores)\\nprint(positions_scores)\\nprint(distances_scores)\";\n",
       "                var nbb_cells = Jupyter.notebook.get_cells();\n",
       "                for (var i = 0; i < nbb_cells.length; ++i) {\n",
       "                    if (nbb_cells[i].input_prompt_number == nbb_cell_id) {\n",
       "                        if (nbb_cells[i].get_text() == nbb_unformatted_code) {\n",
       "                             nbb_cells[i].set_text(nbb_formatted_code);\n",
       "                        }\n",
       "                        break;\n",
       "                    }\n",
       "                }\n",
       "            }, 500);\n",
       "            "
      ],
      "text/plain": [
       "<IPython.core.display.Javascript object>"
      ]
     },
     "metadata": {},
     "output_type": "display_data"
    }
   ],
   "source": [
    "import os\n",
    "\n",
    "os.environ[\"KMP_DUPLICATE_LIB_OK\"] = \"TRUE\"\n",
    "\n",
    "\n",
    "def score_cv(data, dim, lag, number_of_splits=10, validation_fraction=0.5):\n",
    "    \"\"\"Compute a cross-validated VAMP2 score.\n",
    "\n",
    "    We randomly split the list of independent trajectories into\n",
    "    a training and a validation set, compute the VAMP2 score,\n",
    "    and repeat this process several times.\n",
    "\n",
    "    Parameters\n",
    "    ----------\n",
    "    data : list of numpy.ndarrays\n",
    "        The input data.\n",
    "    dim : int\n",
    "        Number of processes to score; equivalent to the dimension\n",
    "        after projecting the data with VAMP2.\n",
    "    lag : int\n",
    "        Lag time for the VAMP2 scoring.\n",
    "    number_of_splits : int, optional, default=10\n",
    "        How often do we repeat the splitting and score calculation.\n",
    "    validation_fraction : int, optional, default=0.5\n",
    "        Fraction of trajectories which should go into the validation\n",
    "        set during a split.\n",
    "    \"\"\"\n",
    "    # we temporarily suppress very short-lived progress bars\n",
    "    with pyemma.util.contexts.settings(show_progress_bars=False):\n",
    "        nval = int(len(data) * validation_fraction)\n",
    "        scores = np.zeros(number_of_splits)\n",
    "        for n in tqdm(range(number_of_splits), ncols=80, colour=\"blue\"):\n",
    "            sleep(0.05)\n",
    "            ival = np.random.choice(len(data), size=nval, replace=False)\n",
    "            vamp = pyemma.coordinates.vamp(\n",
    "                [d for i, d in enumerate(data) if i not in ival], lag=lag, dim=dim\n",
    "            )\n",
    "            scores[n] = vamp.score([d for i, d in enumerate(data) if i in ival])\n",
    "    return scores\n",
    "\n",
    "\n",
    "dim = 1\n",
    "# 记得轨迹条数！\n",
    "\n",
    "fig, axes = plt.subplots(1, 3, figsize=(12, 3), sharey=True)\n",
    "for ax, lag in zip(axes.flat, [5, 10, 20]):\n",
    "    torsions_scores = score_cv(torsions_data, lag=lag, dim=dim)\n",
    "    scores = [torsions_scores.mean()]\n",
    "    errors = [torsions_scores.std()]\n",
    "    positions_scores = score_cv(positions_data, lag=lag, dim=dim)\n",
    "    scores += [positions_scores.mean()]\n",
    "    errors += [positions_scores.std()]\n",
    "    distances_scores = score_cv(distances_data, lag=lag, dim=dim)\n",
    "    scores += [distances_scores.mean()]\n",
    "    errors += [distances_scores.std()]\n",
    "    ax.bar(labels, scores, yerr=errors, color=[\"C0\", \"C1\", \"C2\"])\n",
    "    ax.set_title(r\"lag time $\\tau$={:.1f}ns\".format(lag * 0.1))\n",
    "    if lag == 5:\n",
    "        # save for later\n",
    "        vamp_bars_plot = dict(\n",
    "            labels=labels, scores=scores, errors=errors, dim=dim, lag=lag\n",
    "        )\n",
    "axes[0].set_ylabel(\"VAMP2 score\")\n",
    "fig.tight_layout()\n",
    "\n",
    "print(torsions_scores)\n",
    "print(positions_scores)\n",
    "print(distances_scores)"
   ]
  },
  {
   "cell_type": "markdown",
   "id": "31e9cbc4",
   "metadata": {},
   "source": [
    "# 趋势线"
   ]
  },
  {
   "cell_type": "markdown",
   "id": "b48d7033",
   "metadata": {},
   "source": [
    "## 单段轨迹"
   ]
  },
  {
   "cell_type": "code",
   "execution_count": 17,
   "id": "26ab2b98",
   "metadata": {
    "ExecuteTime": {
     "end_time": "2022-05-24T02:47:39.484643Z",
     "start_time": "2022-05-24T02:46:28.055960Z"
    },
    "scrolled": true
   },
   "outputs": [
    {
     "name": "stderr",
     "output_type": "stream",
     "text": [
      "bar: 0it [00:00, ?it/s]\n",
      "  0%|\u001b[34m                                                    \u001b[0m| 0/10 [00:00<?, ?it/s]\u001b[0m\u001b[A\n",
      " 10%|\u001b[34m████▍                                       \u001b[0m| 1/10 [00:01<00:15,  1.76s/it]\u001b[0m\u001b[A\n",
      " 20%|\u001b[34m████████▊                                   \u001b[0m| 2/10 [00:03<00:14,  1.76s/it]\u001b[0m\u001b[A\n",
      " 30%|\u001b[34m█████████████▏                              \u001b[0m| 3/10 [00:05<00:12,  1.76s/it]\u001b[0m\u001b[A\n",
      " 40%|\u001b[34m█████████████████▌                          \u001b[0m| 4/10 [00:07<00:10,  1.77s/it]\u001b[0m\u001b[A\n",
      " 50%|\u001b[34m██████████████████████                      \u001b[0m| 5/10 [00:08<00:08,  1.77s/it]\u001b[0m\u001b[A\n",
      " 60%|\u001b[34m██████████████████████████▍                 \u001b[0m| 6/10 [00:10<00:07,  1.76s/it]\u001b[0m\u001b[A\n",
      " 70%|\u001b[34m██████████████████████████████▊             \u001b[0m| 7/10 [00:12<00:05,  1.76s/it]\u001b[0m\u001b[A\n",
      " 80%|\u001b[34m███████████████████████████████████▏        \u001b[0m| 8/10 [00:14<00:03,  1.77s/it]\u001b[0m\u001b[A\n",
      " 90%|\u001b[34m███████████████████████████████████████▌    \u001b[0m| 9/10 [00:15<00:01,  1.77s/it]\u001b[0m\u001b[A\n",
      "100%|\u001b[34m███████████████████████████████████████████\u001b[0m| 10/10 [00:17<00:00,  1.77s/it]\u001b[0m\u001b[A\n",
      "bar: 1it [00:17, 17.72s/it]\n",
      "  0%|\u001b[34m                                                    \u001b[0m| 0/10 [00:00<?, ?it/s]\u001b[0m\u001b[A\n",
      " 10%|\u001b[34m████▍                                       \u001b[0m| 1/10 [00:01<00:16,  1.82s/it]\u001b[0m\u001b[A\n",
      " 20%|\u001b[34m████████▊                                   \u001b[0m| 2/10 [00:03<00:14,  1.79s/it]\u001b[0m\u001b[A\n",
      " 30%|\u001b[34m█████████████▏                              \u001b[0m| 3/10 [00:05<00:12,  1.78s/it]\u001b[0m\u001b[A\n",
      " 40%|\u001b[34m█████████████████▌                          \u001b[0m| 4/10 [00:07<00:10,  1.78s/it]\u001b[0m\u001b[A\n",
      " 50%|\u001b[34m██████████████████████                      \u001b[0m| 5/10 [00:08<00:08,  1.79s/it]\u001b[0m\u001b[A\n",
      " 60%|\u001b[34m██████████████████████████▍                 \u001b[0m| 6/10 [00:10<00:07,  1.78s/it]\u001b[0m\u001b[A\n",
      " 70%|\u001b[34m██████████████████████████████▊             \u001b[0m| 7/10 [00:12<00:05,  1.78s/it]\u001b[0m\u001b[A\n",
      " 80%|\u001b[34m███████████████████████████████████▏        \u001b[0m| 8/10 [00:14<00:03,  1.77s/it]\u001b[0m\u001b[A\n",
      " 90%|\u001b[34m███████████████████████████████████████▌    \u001b[0m| 9/10 [00:15<00:01,  1.77s/it]\u001b[0m\u001b[A\n",
      "100%|\u001b[34m███████████████████████████████████████████\u001b[0m| 10/10 [00:17<00:00,  1.78s/it]\u001b[0m\u001b[A\n",
      "bar: 2it [00:35, 17.78s/it]\n",
      "  0%|\u001b[34m                                                    \u001b[0m| 0/10 [00:00<?, ?it/s]\u001b[0m\u001b[A\n",
      " 10%|\u001b[34m████▍                                       \u001b[0m| 1/10 [00:01<00:16,  1.81s/it]\u001b[0m\u001b[A\n",
      " 20%|\u001b[34m████████▊                                   \u001b[0m| 2/10 [00:03<00:14,  1.79s/it]\u001b[0m\u001b[A\n",
      " 30%|\u001b[34m█████████████▏                              \u001b[0m| 3/10 [00:05<00:12,  1.78s/it]\u001b[0m\u001b[A\n",
      " 40%|\u001b[34m█████████████████▌                          \u001b[0m| 4/10 [00:07<00:10,  1.77s/it]\u001b[0m\u001b[A\n",
      " 50%|\u001b[34m██████████████████████                      \u001b[0m| 5/10 [00:08<00:08,  1.77s/it]\u001b[0m\u001b[A\n",
      " 60%|\u001b[34m██████████████████████████▍                 \u001b[0m| 6/10 [00:10<00:07,  1.78s/it]\u001b[0m\u001b[A\n",
      " 70%|\u001b[34m██████████████████████████████▊             \u001b[0m| 7/10 [00:12<00:05,  1.78s/it]\u001b[0m\u001b[A\n",
      " 80%|\u001b[34m███████████████████████████████████▏        \u001b[0m| 8/10 [00:14<00:03,  1.78s/it]\u001b[0m\u001b[A\n",
      " 90%|\u001b[34m███████████████████████████████████████▌    \u001b[0m| 9/10 [00:15<00:01,  1.77s/it]\u001b[0m\u001b[A\n",
      "100%|\u001b[34m███████████████████████████████████████████\u001b[0m| 10/10 [00:17<00:00,  1.78s/it]\u001b[0m\u001b[A\n",
      "bar: 3it [00:53, 17.79s/it]\n",
      "  0%|\u001b[34m                                                    \u001b[0m| 0/10 [00:00<?, ?it/s]\u001b[0m\u001b[A\n",
      " 10%|\u001b[34m████▍                                       \u001b[0m| 1/10 [00:01<00:16,  1.80s/it]\u001b[0m\u001b[A\n",
      " 20%|\u001b[34m████████▊                                   \u001b[0m| 2/10 [00:03<00:14,  1.78s/it]\u001b[0m\u001b[A\n",
      " 30%|\u001b[34m█████████████▏                              \u001b[0m| 3/10 [00:05<00:12,  1.78s/it]\u001b[0m\u001b[A\n",
      " 40%|\u001b[34m█████████████████▌                          \u001b[0m| 4/10 [00:07<00:10,  1.77s/it]\u001b[0m\u001b[A\n",
      " 50%|\u001b[34m██████████████████████                      \u001b[0m| 5/10 [00:08<00:08,  1.77s/it]\u001b[0m\u001b[A\n",
      " 60%|\u001b[34m██████████████████████████▍                 \u001b[0m| 6/10 [00:10<00:07,  1.77s/it]\u001b[0m\u001b[A\n",
      " 70%|\u001b[34m██████████████████████████████▊             \u001b[0m| 7/10 [00:12<00:05,  1.77s/it]\u001b[0m\u001b[A\n",
      " 80%|\u001b[34m███████████████████████████████████▏        \u001b[0m| 8/10 [00:14<00:03,  1.77s/it]\u001b[0m\u001b[A\n",
      " 90%|\u001b[34m███████████████████████████████████████▌    \u001b[0m| 9/10 [00:15<00:01,  1.77s/it]\u001b[0m\u001b[A\n",
      "100%|\u001b[34m███████████████████████████████████████████\u001b[0m| 10/10 [00:17<00:00,  1.77s/it]\u001b[0m\u001b[A\n",
      "bar: 4it [01:11, 17.79s/it]\n",
      "  0%|\u001b[34m                                                    \u001b[0m| 0/10 [00:00<?, ?it/s]\u001b[0m\u001b[A\n",
      "bar: 4it [01:11, 17.83s/it]\n"
     ]
    },
    {
     "ename": "ValueError",
     "evalue": "None single dataset [longest=18] is longer than lag+skip [20].",
     "output_type": "error",
     "traceback": [
      "\u001b[0;31m---------------------------------------------------------------------------\u001b[0m",
      "\u001b[0;31mValueError\u001b[0m                                Traceback (most recent call last)",
      "\u001b[0;32m/tmp/ipykernel_7357/4034024096.py\u001b[0m in \u001b[0;36m<module>\u001b[0;34m\u001b[0m\n\u001b[1;32m     11\u001b[0m \u001b[0;32mfor\u001b[0m \u001b[0mi\u001b[0m\u001b[0;34m,\u001b[0m \u001b[0mlag\u001b[0m \u001b[0;32min\u001b[0m \u001b[0mtqdm\u001b[0m\u001b[0;34m(\u001b[0m\u001b[0menumerate\u001b[0m\u001b[0;34m(\u001b[0m\u001b[0mlags\u001b[0m\u001b[0;34m)\u001b[0m\u001b[0;34m,\u001b[0m \u001b[0mncols\u001b[0m\u001b[0;34m=\u001b[0m\u001b[0;36m80\u001b[0m\u001b[0;34m,\u001b[0m \u001b[0mdesc\u001b[0m\u001b[0;34m=\u001b[0m\u001b[0;34m\"bar\"\u001b[0m\u001b[0;34m,\u001b[0m \u001b[0mcolour\u001b[0m\u001b[0;34m=\u001b[0m\u001b[0;34m\"blue\"\u001b[0m\u001b[0;34m)\u001b[0m\u001b[0;34m:\u001b[0m\u001b[0;34m\u001b[0m\u001b[0;34m\u001b[0m\u001b[0m\n\u001b[1;32m     12\u001b[0m     \u001b[0msleep\u001b[0m\u001b[0;34m(\u001b[0m\u001b[0;36m0.05\u001b[0m\u001b[0;34m)\u001b[0m\u001b[0;34m\u001b[0m\u001b[0;34m\u001b[0m\u001b[0m\n\u001b[0;32m---> 13\u001b[0;31m     \u001b[0mscores_\u001b[0m \u001b[0;34m=\u001b[0m \u001b[0mnp\u001b[0m\u001b[0;34m.\u001b[0m\u001b[0marray\u001b[0m\u001b[0;34m(\u001b[0m\u001b[0;34m[\u001b[0m\u001b[0mscore_cv\u001b[0m\u001b[0;34m(\u001b[0m\u001b[0mtorsions_data\u001b[0m\u001b[0;34m,\u001b[0m \u001b[0mdim\u001b[0m\u001b[0;34m,\u001b[0m \u001b[0mlag\u001b[0m\u001b[0;34m)\u001b[0m\u001b[0;34m]\u001b[0m\u001b[0;34m)\u001b[0m  \u001b[0;31m# 改目标\u001b[0m\u001b[0;34m\u001b[0m\u001b[0;34m\u001b[0m\u001b[0m\n\u001b[0m\u001b[1;32m     14\u001b[0m     \u001b[0mscores\u001b[0m \u001b[0;34m=\u001b[0m \u001b[0mnp\u001b[0m\u001b[0;34m.\u001b[0m\u001b[0mmean\u001b[0m\u001b[0;34m(\u001b[0m\u001b[0mscores_\u001b[0m\u001b[0;34m,\u001b[0m \u001b[0maxis\u001b[0m\u001b[0;34m=\u001b[0m\u001b[0;36m1\u001b[0m\u001b[0;34m)\u001b[0m\u001b[0;34m\u001b[0m\u001b[0;34m\u001b[0m\u001b[0m\n\u001b[1;32m     15\u001b[0m     \u001b[0merrors\u001b[0m \u001b[0;34m=\u001b[0m \u001b[0mnp\u001b[0m\u001b[0;34m.\u001b[0m\u001b[0mstd\u001b[0m\u001b[0;34m(\u001b[0m\u001b[0mscores_\u001b[0m\u001b[0;34m,\u001b[0m \u001b[0maxis\u001b[0m\u001b[0;34m=\u001b[0m\u001b[0;36m1\u001b[0m\u001b[0;34m,\u001b[0m \u001b[0mddof\u001b[0m\u001b[0;34m=\u001b[0m\u001b[0;36m1\u001b[0m\u001b[0;34m)\u001b[0m\u001b[0;34m\u001b[0m\u001b[0;34m\u001b[0m\u001b[0m\n",
      "\u001b[0;32m/tmp/ipykernel_7357/564872109.py\u001b[0m in \u001b[0;36mscore_cv\u001b[0;34m(data, dim, lag, number_of_splits, validation_fraction)\u001b[0m\n\u001b[1;32m     33\u001b[0m             \u001b[0msleep\u001b[0m\u001b[0;34m(\u001b[0m\u001b[0;36m0.05\u001b[0m\u001b[0;34m)\u001b[0m\u001b[0;34m\u001b[0m\u001b[0;34m\u001b[0m\u001b[0m\n\u001b[1;32m     34\u001b[0m             \u001b[0mival\u001b[0m \u001b[0;34m=\u001b[0m \u001b[0mnp\u001b[0m\u001b[0;34m.\u001b[0m\u001b[0mrandom\u001b[0m\u001b[0;34m.\u001b[0m\u001b[0mchoice\u001b[0m\u001b[0;34m(\u001b[0m\u001b[0mlen\u001b[0m\u001b[0;34m(\u001b[0m\u001b[0mdata\u001b[0m\u001b[0;34m)\u001b[0m\u001b[0;34m,\u001b[0m \u001b[0msize\u001b[0m\u001b[0;34m=\u001b[0m\u001b[0mnval\u001b[0m\u001b[0;34m,\u001b[0m \u001b[0mreplace\u001b[0m\u001b[0;34m=\u001b[0m\u001b[0;32mFalse\u001b[0m\u001b[0;34m)\u001b[0m\u001b[0;34m\u001b[0m\u001b[0;34m\u001b[0m\u001b[0m\n\u001b[0;32m---> 35\u001b[0;31m             vamp = pyemma.coordinates.vamp(\n\u001b[0m\u001b[1;32m     36\u001b[0m                 \u001b[0;34m[\u001b[0m\u001b[0md\u001b[0m \u001b[0;32mfor\u001b[0m \u001b[0mi\u001b[0m\u001b[0;34m,\u001b[0m \u001b[0md\u001b[0m \u001b[0;32min\u001b[0m \u001b[0menumerate\u001b[0m\u001b[0;34m(\u001b[0m\u001b[0mdata\u001b[0m\u001b[0;34m)\u001b[0m \u001b[0;32mif\u001b[0m \u001b[0mi\u001b[0m \u001b[0;32mnot\u001b[0m \u001b[0;32min\u001b[0m \u001b[0mival\u001b[0m\u001b[0;34m]\u001b[0m\u001b[0;34m,\u001b[0m \u001b[0mlag\u001b[0m\u001b[0;34m=\u001b[0m\u001b[0mlag\u001b[0m\u001b[0;34m,\u001b[0m \u001b[0mdim\u001b[0m\u001b[0;34m=\u001b[0m\u001b[0mdim\u001b[0m\u001b[0;34m\u001b[0m\u001b[0;34m\u001b[0m\u001b[0m\n\u001b[1;32m     37\u001b[0m             )\n",
      "\u001b[0;32m~/miniconda3/envs/env_py3.8/lib/python3.8/site-packages/pyemma/coordinates/api.py\u001b[0m in \u001b[0;36mvamp\u001b[0;34m(data, lag, dim, scaling, right, ncov_max, stride, skip, chunksize)\u001b[0m\n\u001b[1;32m   1427\u001b[0m     \u001b[0mres\u001b[0m \u001b[0;34m=\u001b[0m \u001b[0mVAMP\u001b[0m\u001b[0;34m(\u001b[0m\u001b[0mlag\u001b[0m\u001b[0;34m,\u001b[0m \u001b[0mdim\u001b[0m\u001b[0;34m=\u001b[0m\u001b[0mdim\u001b[0m\u001b[0;34m,\u001b[0m \u001b[0mscaling\u001b[0m\u001b[0;34m=\u001b[0m\u001b[0mscaling\u001b[0m\u001b[0;34m,\u001b[0m \u001b[0mright\u001b[0m\u001b[0;34m=\u001b[0m\u001b[0mright\u001b[0m\u001b[0;34m,\u001b[0m \u001b[0mskip\u001b[0m\u001b[0;34m=\u001b[0m\u001b[0mskip\u001b[0m\u001b[0;34m,\u001b[0m \u001b[0mncov_max\u001b[0m\u001b[0;34m=\u001b[0m\u001b[0mncov_max\u001b[0m\u001b[0;34m)\u001b[0m\u001b[0;34m\u001b[0m\u001b[0;34m\u001b[0m\u001b[0m\n\u001b[1;32m   1428\u001b[0m     \u001b[0;32mif\u001b[0m \u001b[0mdata\u001b[0m \u001b[0;32mis\u001b[0m \u001b[0;32mnot\u001b[0m \u001b[0;32mNone\u001b[0m\u001b[0;34m:\u001b[0m\u001b[0;34m\u001b[0m\u001b[0;34m\u001b[0m\u001b[0m\n\u001b[0;32m-> 1429\u001b[0;31m         \u001b[0mres\u001b[0m\u001b[0;34m.\u001b[0m\u001b[0mestimate\u001b[0m\u001b[0;34m(\u001b[0m\u001b[0mdata\u001b[0m\u001b[0;34m,\u001b[0m \u001b[0mstride\u001b[0m\u001b[0;34m=\u001b[0m\u001b[0mstride\u001b[0m\u001b[0;34m,\u001b[0m \u001b[0mchunksize\u001b[0m\u001b[0;34m=\u001b[0m\u001b[0mchunksize\u001b[0m\u001b[0;34m)\u001b[0m\u001b[0;34m\u001b[0m\u001b[0;34m\u001b[0m\u001b[0m\n\u001b[0m\u001b[1;32m   1430\u001b[0m     \u001b[0;32melse\u001b[0m\u001b[0;34m:\u001b[0m\u001b[0;34m\u001b[0m\u001b[0;34m\u001b[0m\u001b[0m\n\u001b[1;32m   1431\u001b[0m         \u001b[0mres\u001b[0m\u001b[0;34m.\u001b[0m\u001b[0mchunksize\u001b[0m \u001b[0;34m=\u001b[0m \u001b[0mchunksize\u001b[0m\u001b[0;34m\u001b[0m\u001b[0;34m\u001b[0m\u001b[0m\n",
      "\u001b[0;32m~/miniconda3/envs/env_py3.8/lib/python3.8/site-packages/pyemma/coordinates/data/_base/transformer.py\u001b[0m in \u001b[0;36mestimate\u001b[0;34m(self, X, **kwargs)\u001b[0m\n\u001b[1;32m    213\u001b[0m     \u001b[0;34m\"\"\" Basis class for pipelined Transformers, which perform also estimation. \"\"\"\u001b[0m\u001b[0;34m\u001b[0m\u001b[0;34m\u001b[0m\u001b[0m\n\u001b[1;32m    214\u001b[0m     \u001b[0;32mdef\u001b[0m \u001b[0mestimate\u001b[0m\u001b[0;34m(\u001b[0m\u001b[0mself\u001b[0m\u001b[0;34m,\u001b[0m \u001b[0mX\u001b[0m\u001b[0;34m,\u001b[0m \u001b[0;34m**\u001b[0m\u001b[0mkwargs\u001b[0m\u001b[0;34m)\u001b[0m\u001b[0;34m:\u001b[0m\u001b[0;34m\u001b[0m\u001b[0;34m\u001b[0m\u001b[0m\n\u001b[0;32m--> 215\u001b[0;31m         \u001b[0msuper\u001b[0m\u001b[0;34m(\u001b[0m\u001b[0mStreamingEstimationTransformer\u001b[0m\u001b[0;34m,\u001b[0m \u001b[0mself\u001b[0m\u001b[0;34m)\u001b[0m\u001b[0;34m.\u001b[0m\u001b[0mestimate\u001b[0m\u001b[0;34m(\u001b[0m\u001b[0mX\u001b[0m\u001b[0;34m,\u001b[0m \u001b[0;34m**\u001b[0m\u001b[0mkwargs\u001b[0m\u001b[0;34m)\u001b[0m\u001b[0;34m\u001b[0m\u001b[0;34m\u001b[0m\u001b[0m\n\u001b[0m\u001b[1;32m    216\u001b[0m         \u001b[0;31m# we perform the mapping to memory exactly here, because a StreamingEstimator on its own\u001b[0m\u001b[0;34m\u001b[0m\u001b[0;34m\u001b[0m\u001b[0;34m\u001b[0m\u001b[0m\n\u001b[1;32m    217\u001b[0m         \u001b[0;31m# has not output to be mapped. Only the combination of Estimation/Transforming has this feature.\u001b[0m\u001b[0;34m\u001b[0m\u001b[0;34m\u001b[0m\u001b[0;34m\u001b[0m\u001b[0m\n",
      "\u001b[0;32m~/miniconda3/envs/env_py3.8/lib/python3.8/site-packages/pyemma/coordinates/data/_base/streaming_estimator.py\u001b[0m in \u001b[0;36mestimate\u001b[0;34m(self, X, chunksize, **kwargs)\u001b[0m\n\u001b[1;32m     42\u001b[0m         \u001b[0;31m# run estimation\u001b[0m\u001b[0;34m\u001b[0m\u001b[0;34m\u001b[0m\u001b[0;34m\u001b[0m\u001b[0m\n\u001b[1;32m     43\u001b[0m         \u001b[0;32mtry\u001b[0m\u001b[0;34m:\u001b[0m\u001b[0;34m\u001b[0m\u001b[0;34m\u001b[0m\u001b[0m\n\u001b[0;32m---> 44\u001b[0;31m             \u001b[0msuper\u001b[0m\u001b[0;34m(\u001b[0m\u001b[0mStreamingEstimator\u001b[0m\u001b[0;34m,\u001b[0m \u001b[0mself\u001b[0m\u001b[0;34m)\u001b[0m\u001b[0;34m.\u001b[0m\u001b[0mestimate\u001b[0m\u001b[0;34m(\u001b[0m\u001b[0mX\u001b[0m\u001b[0;34m,\u001b[0m \u001b[0;34m**\u001b[0m\u001b[0mkwargs\u001b[0m\u001b[0;34m)\u001b[0m\u001b[0;34m\u001b[0m\u001b[0;34m\u001b[0m\u001b[0m\n\u001b[0m\u001b[1;32m     45\u001b[0m         \u001b[0;32mexcept\u001b[0m \u001b[0mNotConvergedWarning\u001b[0m \u001b[0;32mas\u001b[0m \u001b[0mncw\u001b[0m\u001b[0;34m:\u001b[0m\u001b[0;34m\u001b[0m\u001b[0;34m\u001b[0m\u001b[0m\n\u001b[1;32m     46\u001b[0m             self.logger.info(\n",
      "\u001b[0;32m~/miniconda3/envs/env_py3.8/lib/python3.8/site-packages/pyemma/_base/estimator.py\u001b[0m in \u001b[0;36mestimate\u001b[0;34m(self, X, **params)\u001b[0m\n\u001b[1;32m    405\u001b[0m         \u001b[0;32mif\u001b[0m \u001b[0mparams\u001b[0m\u001b[0;34m:\u001b[0m\u001b[0;34m\u001b[0m\u001b[0;34m\u001b[0m\u001b[0m\n\u001b[1;32m    406\u001b[0m             \u001b[0mself\u001b[0m\u001b[0;34m.\u001b[0m\u001b[0mset_params\u001b[0m\u001b[0;34m(\u001b[0m\u001b[0;34m**\u001b[0m\u001b[0mparams\u001b[0m\u001b[0;34m)\u001b[0m\u001b[0;34m\u001b[0m\u001b[0;34m\u001b[0m\u001b[0m\n\u001b[0;32m--> 407\u001b[0;31m         \u001b[0mself\u001b[0m\u001b[0;34m.\u001b[0m\u001b[0m_model\u001b[0m \u001b[0;34m=\u001b[0m \u001b[0mself\u001b[0m\u001b[0;34m.\u001b[0m\u001b[0m_estimate\u001b[0m\u001b[0;34m(\u001b[0m\u001b[0mX\u001b[0m\u001b[0;34m)\u001b[0m\u001b[0;34m\u001b[0m\u001b[0;34m\u001b[0m\u001b[0m\n\u001b[0m\u001b[1;32m    408\u001b[0m         \u001b[0;31m# ensure _estimate returned something\u001b[0m\u001b[0;34m\u001b[0m\u001b[0;34m\u001b[0m\u001b[0;34m\u001b[0m\u001b[0m\n\u001b[1;32m    409\u001b[0m         \u001b[0;32massert\u001b[0m \u001b[0mself\u001b[0m\u001b[0;34m.\u001b[0m\u001b[0m_model\u001b[0m \u001b[0;32mis\u001b[0m \u001b[0;32mnot\u001b[0m \u001b[0;32mNone\u001b[0m\u001b[0;34m\u001b[0m\u001b[0;34m\u001b[0m\u001b[0m\n",
      "\u001b[0;32m~/miniconda3/envs/env_py3.8/lib/python3.8/site-packages/pyemma/coordinates/transform/vamp.py\u001b[0m in \u001b[0;36m_estimate\u001b[0;34m(self, iterable, **kw)\u001b[0m\n\u001b[1;32m    609\u001b[0m                               \" with dimension (%i, %i)\" % (self._lag, indim, indim))\n\u001b[1;32m    610\u001b[0m \u001b[0;34m\u001b[0m\u001b[0m\n\u001b[0;32m--> 611\u001b[0;31m         \u001b[0mcovar\u001b[0m\u001b[0;34m.\u001b[0m\u001b[0mestimate\u001b[0m\u001b[0;34m(\u001b[0m\u001b[0miterable\u001b[0m\u001b[0;34m,\u001b[0m \u001b[0;34m**\u001b[0m\u001b[0mkw\u001b[0m\u001b[0;34m)\u001b[0m\u001b[0;34m\u001b[0m\u001b[0;34m\u001b[0m\u001b[0m\n\u001b[0m\u001b[1;32m    612\u001b[0m         self.model.update_model_params(mean_0=covar.mean,\n\u001b[1;32m    613\u001b[0m                                        \u001b[0mmean_t\u001b[0m\u001b[0;34m=\u001b[0m\u001b[0mcovar\u001b[0m\u001b[0;34m.\u001b[0m\u001b[0mmean_tau\u001b[0m\u001b[0;34m,\u001b[0m\u001b[0;34m\u001b[0m\u001b[0;34m\u001b[0m\u001b[0m\n",
      "\u001b[0;32m~/miniconda3/envs/env_py3.8/lib/python3.8/site-packages/pyemma/coordinates/data/_base/streaming_estimator.py\u001b[0m in \u001b[0;36mestimate\u001b[0;34m(self, X, chunksize, **kwargs)\u001b[0m\n\u001b[1;32m     42\u001b[0m         \u001b[0;31m# run estimation\u001b[0m\u001b[0;34m\u001b[0m\u001b[0;34m\u001b[0m\u001b[0;34m\u001b[0m\u001b[0m\n\u001b[1;32m     43\u001b[0m         \u001b[0;32mtry\u001b[0m\u001b[0;34m:\u001b[0m\u001b[0;34m\u001b[0m\u001b[0;34m\u001b[0m\u001b[0m\n\u001b[0;32m---> 44\u001b[0;31m             \u001b[0msuper\u001b[0m\u001b[0;34m(\u001b[0m\u001b[0mStreamingEstimator\u001b[0m\u001b[0;34m,\u001b[0m \u001b[0mself\u001b[0m\u001b[0;34m)\u001b[0m\u001b[0;34m.\u001b[0m\u001b[0mestimate\u001b[0m\u001b[0;34m(\u001b[0m\u001b[0mX\u001b[0m\u001b[0;34m,\u001b[0m \u001b[0;34m**\u001b[0m\u001b[0mkwargs\u001b[0m\u001b[0;34m)\u001b[0m\u001b[0;34m\u001b[0m\u001b[0;34m\u001b[0m\u001b[0m\n\u001b[0m\u001b[1;32m     45\u001b[0m         \u001b[0;32mexcept\u001b[0m \u001b[0mNotConvergedWarning\u001b[0m \u001b[0;32mas\u001b[0m \u001b[0mncw\u001b[0m\u001b[0;34m:\u001b[0m\u001b[0;34m\u001b[0m\u001b[0;34m\u001b[0m\u001b[0m\n\u001b[1;32m     46\u001b[0m             self.logger.info(\n",
      "\u001b[0;32m~/miniconda3/envs/env_py3.8/lib/python3.8/site-packages/pyemma/_base/estimator.py\u001b[0m in \u001b[0;36mestimate\u001b[0;34m(self, X, **params)\u001b[0m\n\u001b[1;32m    405\u001b[0m         \u001b[0;32mif\u001b[0m \u001b[0mparams\u001b[0m\u001b[0;34m:\u001b[0m\u001b[0;34m\u001b[0m\u001b[0;34m\u001b[0m\u001b[0m\n\u001b[1;32m    406\u001b[0m             \u001b[0mself\u001b[0m\u001b[0;34m.\u001b[0m\u001b[0mset_params\u001b[0m\u001b[0;34m(\u001b[0m\u001b[0;34m**\u001b[0m\u001b[0mparams\u001b[0m\u001b[0;34m)\u001b[0m\u001b[0;34m\u001b[0m\u001b[0;34m\u001b[0m\u001b[0m\n\u001b[0;32m--> 407\u001b[0;31m         \u001b[0mself\u001b[0m\u001b[0;34m.\u001b[0m\u001b[0m_model\u001b[0m \u001b[0;34m=\u001b[0m \u001b[0mself\u001b[0m\u001b[0;34m.\u001b[0m\u001b[0m_estimate\u001b[0m\u001b[0;34m(\u001b[0m\u001b[0mX\u001b[0m\u001b[0;34m)\u001b[0m\u001b[0;34m\u001b[0m\u001b[0;34m\u001b[0m\u001b[0m\n\u001b[0m\u001b[1;32m    408\u001b[0m         \u001b[0;31m# ensure _estimate returned something\u001b[0m\u001b[0;34m\u001b[0m\u001b[0;34m\u001b[0m\u001b[0;34m\u001b[0m\u001b[0m\n\u001b[1;32m    409\u001b[0m         \u001b[0;32massert\u001b[0m \u001b[0mself\u001b[0m\u001b[0;34m.\u001b[0m\u001b[0m_model\u001b[0m \u001b[0;32mis\u001b[0m \u001b[0;32mnot\u001b[0m \u001b[0;32mNone\u001b[0m\u001b[0;34m\u001b[0m\u001b[0;34m\u001b[0m\u001b[0m\n",
      "\u001b[0;32m~/miniconda3/envs/env_py3.8/lib/python3.8/site-packages/pyemma/coordinates/estimation/covariance.py\u001b[0m in \u001b[0;36m_estimate\u001b[0;34m(self, iterable, partial_fit)\u001b[0m\n\u001b[1;32m    180\u001b[0m                 \u001b[0;32mreturn\u001b[0m \u001b[0mself\u001b[0m\u001b[0;34m\u001b[0m\u001b[0;34m\u001b[0m\u001b[0m\n\u001b[1;32m    181\u001b[0m             \u001b[0;32melse\u001b[0m\u001b[0;34m:\u001b[0m\u001b[0;34m\u001b[0m\u001b[0;34m\u001b[0m\u001b[0m\n\u001b[0;32m--> 182\u001b[0;31m                 raise ValueError(\"None single dataset [longest=%i] is longer than\"\n\u001b[0m\u001b[1;32m    183\u001b[0m                                  \" lag+skip [%i].\" % (max(iterable.trajectory_lengths(self.stride, skip=self.skip)),\n\u001b[1;32m    184\u001b[0m                                                       self.lag+self.skip))\n",
      "\u001b[0;31mValueError\u001b[0m: None single dataset [longest=18] is longer than lag+skip [20]."
     ]
    },
    {
     "data": {
      "image/png": "[encoded data removed]",
      "text/plain": [
       "<Figure size 432x288 with 1 Axes>"
      ]
     },
     "metadata": {
      "needs_background": "light"
     },
     "output_type": "display_data"
    },
    {
     "data": {
      "application/javascript": [
       "\n",
       "            setTimeout(function() {\n",
       "                var nbb_cell_id = 17;\n",
       "                var nbb_unformatted_code = \"import os\\n\\nos.environ[\\\"KMP_DUPLICATE_LIB_OK\\\"] = \\\"TRUE\\\"\\n\\nlags = [1, 2, 5, 10, 20]\\n\\n# \\u8f68\\u8ff9\\u6761\\u6570 range(n)\\ndims = 1\\n\\nfig, ax = plt.subplots()\\nfor i, lag in tqdm(enumerate(lags), ncols=80, desc=\\\"bar\\\", colour=\\\"blue\\\"):\\n    sleep(0.05)\\n    scores_ = np.array([score_cv(torsions_data, dim, lag)])  # \\u6539\\u76ee\\u6807\\n    scores = np.mean(scores_, axis=1)\\n    errors = np.std(scores_, axis=1, ddof=1)\\n    color = \\\"C{}\\\".format(i)\\n    ax.fill_between(dims, scores - errors, scores + errors, alpha=0.3, facecolor=color)\\n    ax.plot(dims, scores, \\\"--o\\\", color=color, label=\\\"lag={:.1f}ns\\\".format(lag * 0.1))\\nax.legend()\\nax.set_xlabel(\\\"number of dimensions\\\")\\nax.set_ylabel(\\\"VAMP2 score\\\")\\nfig.tight_layout()\";\n",
       "                var nbb_formatted_code = \"import os\\n\\nos.environ[\\\"KMP_DUPLICATE_LIB_OK\\\"] = \\\"TRUE\\\"\\n\\nlags = [1, 2, 5, 10, 20]\\n\\n# \\u8f68\\u8ff9\\u6761\\u6570 range(n)\\ndims = 1\\n\\nfig, ax = plt.subplots()\\nfor i, lag in tqdm(enumerate(lags), ncols=80, desc=\\\"bar\\\", colour=\\\"blue\\\"):\\n    sleep(0.05)\\n    scores_ = np.array([score_cv(torsions_data, dim, lag)])  # \\u6539\\u76ee\\u6807\\n    scores = np.mean(scores_, axis=1)\\n    errors = np.std(scores_, axis=1, ddof=1)\\n    color = \\\"C{}\\\".format(i)\\n    ax.fill_between(dims, scores - errors, scores + errors, alpha=0.3, facecolor=color)\\n    ax.plot(dims, scores, \\\"--o\\\", color=color, label=\\\"lag={:.1f}ns\\\".format(lag * 0.1))\\nax.legend()\\nax.set_xlabel(\\\"number of dimensions\\\")\\nax.set_ylabel(\\\"VAMP2 score\\\")\\nfig.tight_layout()\";\n",
       "                var nbb_cells = Jupyter.notebook.get_cells();\n",
       "                for (var i = 0; i < nbb_cells.length; ++i) {\n",
       "                    if (nbb_cells[i].input_prompt_number == nbb_cell_id) {\n",
       "                        if (nbb_cells[i].get_text() == nbb_unformatted_code) {\n",
       "                             nbb_cells[i].set_text(nbb_formatted_code);\n",
       "                        }\n",
       "                        break;\n",
       "                    }\n",
       "                }\n",
       "            }, 500);\n",
       "            "
      ],
      "text/plain": [
       "<IPython.core.display.Javascript object>"
      ]
     },
     "metadata": {},
     "output_type": "display_data"
    }
   ],
   "source": [
    "import os\n",
    "\n",
    "os.environ[\"KMP_DUPLICATE_LIB_OK\"] = \"TRUE\"\n",
    "\n",
    "lags = [1, 2, 5, 10, 20]\n",
    "\n",
    "# 轨迹条数 range(n)\n",
    "dims = 1\n",
    "\n",
    "fig, ax = plt.subplots()\n",
    "for i, lag in tqdm(enumerate(lags), ncols=80, desc=\"bar\", colour=\"blue\"):\n",
    "    sleep(0.05)\n",
    "    scores_ = np.array([score_cv(torsions_data, dim, lag)])  # 改目标\n",
    "    scores = np.mean(scores_, axis=1)\n",
    "    errors = np.std(scores_, axis=1, ddof=1)\n",
    "    color = \"C{}\".format(i)\n",
    "    ax.fill_between(dims, scores - errors, scores + errors, alpha=0.3, facecolor=color)\n",
    "    ax.plot(dims, scores, \"--o\", color=color, label=\"lag={:.1f}ns\".format(lag * 0.1))\n",
    "ax.legend()\n",
    "ax.set_xlabel(\"number of dimensions\")\n",
    "ax.set_ylabel(\"VAMP2 score\")\n",
    "fig.tight_layout()"
   ]
  },
  {
   "cell_type": "markdown",
   "id": "131de252",
   "metadata": {},
   "source": [
    "## 多段轨迹"
   ]
  },
  {
   "cell_type": "code",
   "execution_count": null,
   "id": "fdba9583",
   "metadata": {},
   "outputs": [],
   "source": [
    "import os\n",
    "\n",
    "os.environ[\"KMP_DUPLICATE_LIB_OK\"] = \"TRUE\"\n",
    "\n",
    "lags = [1, 2, 5, 10, 20]\n",
    "\n",
    "# 轨迹条数 range(n)\n",
    "dims = [i + 1 for i in range(10)]\n",
    "\n",
    "fig, ax = plt.subplots()\n",
    "for i, lag in tqdm(enumerate(lags), ncols=80, desc=\"bar\", colour=\"blue\"):\n",
    "    sleep(0.05)\n",
    "    scores_ = np.array([score_cv(torsions_data, dim, lag) for dim in dims])  # 改目标\n",
    "    scores = np.mean(scores_, axis=1)\n",
    "    errors = np.std(scores_, axis=1, ddof=1)\n",
    "    color = \"C{}\".format(i)\n",
    "    ax.fill_between(dims, scores - errors, scores + errors, alpha=0.3, facecolor=color)\n",
    "    ax.plot(dims, scores, \"--o\", color=color, label=\"lag={:.1f}ns\".format(lag * 0.1))\n",
    "ax.legend()\n",
    "ax.set_xlabel(\"number of dimensions\")\n",
    "ax.set_ylabel(\"VAMP2 score\")\n",
    "fig.tight_layout()"
   ]
  },
  {
   "cell_type": "markdown",
   "id": "e3afaa9c",
   "metadata": {},
   "source": [
    "# 计算 RMSD"
   ]
  },
  {
   "cell_type": "code",
   "execution_count": 3,
   "id": "ac8b23bd",
   "metadata": {},
   "outputs": [
    {
     "name": "stdout",
     "output_type": "stream",
     "text": [
      "./data/pcca1_10samples.pdb [10.295552]\n",
      "./data/pcca2_10samples.pdb [10.126722]\n",
      "./data/pcca3_10samples.pdb [10.245277]\n",
      "./data/pcca4_10samples.pdb [10.239408]\n",
      "./data/pcca5_10samples.pdb [10.16946]\n"
     ]
    },
    {
     "data": {
      "application/javascript": [
       "\n",
       "            setTimeout(function() {\n",
       "                var nbb_cell_id = 3;\n",
       "                var nbb_unformatted_code = \"# calculate rmsd\\ntarget1 = \\\"./data/pcca1_10samples.pdb\\\"\\nfirst_frame1 = md.load_frame(target1, 0, topology)\\nrmsd1 = md.rmsd(first_frame1, traj, 0)\\n\\ntarget2 = \\\"./data/pcca2_10samples.pdb\\\"\\nfirst_frame2 = md.load_frame(target2, 0, topology)\\nrmsd2 = md.rmsd(first_frame2, traj, 0)\\n\\ntarget3 = \\\"./data/pcca3_10samples.pdb\\\"\\nfirst_frame3 = md.load_frame(target3, 0, topology)\\nrmsd3 = md.rmsd(first_frame3, traj, 0)\\n\\ntarget4 = \\\"./data/pcca4_10samples.pdb\\\"\\nfirst_frame4 = md.load_frame(target4, 0, topology)\\nrmsd4 = md.rmsd(first_frame4, traj, 0)\\n\\ntarget5 = \\\"./data/pcca5_10samples.pdb\\\"\\nfirst_frame5 = md.load_frame(target5, 0, topology)\\nrmsd5 = md.rmsd(first_frame5, traj, 0)\\n\\nprint(target1, rmsd1)\\nprint(target2, rmsd2)\\nprint(target3, rmsd3)\\nprint(target4, rmsd4)\\nprint(target5, rmsd5)\\n# rmsda = rmsd * 10\\n# print(\\\"rmsda\\\", \\\"\\u00c5\\\")\";\n",
       "                var nbb_formatted_code = \"# calculate rmsd\\ntarget1 = \\\"./data/pcca1_10samples.pdb\\\"\\nfirst_frame1 = md.load_frame(target1, 0, topology)\\nrmsd1 = md.rmsd(first_frame1, traj, 0)\\n\\ntarget2 = \\\"./data/pcca2_10samples.pdb\\\"\\nfirst_frame2 = md.load_frame(target2, 0, topology)\\nrmsd2 = md.rmsd(first_frame2, traj, 0)\\n\\ntarget3 = \\\"./data/pcca3_10samples.pdb\\\"\\nfirst_frame3 = md.load_frame(target3, 0, topology)\\nrmsd3 = md.rmsd(first_frame3, traj, 0)\\n\\ntarget4 = \\\"./data/pcca4_10samples.pdb\\\"\\nfirst_frame4 = md.load_frame(target4, 0, topology)\\nrmsd4 = md.rmsd(first_frame4, traj, 0)\\n\\ntarget5 = \\\"./data/pcca5_10samples.pdb\\\"\\nfirst_frame5 = md.load_frame(target5, 0, topology)\\nrmsd5 = md.rmsd(first_frame5, traj, 0)\\n\\nprint(target1, rmsd1)\\nprint(target2, rmsd2)\\nprint(target3, rmsd3)\\nprint(target4, rmsd4)\\nprint(target5, rmsd5)\\n# rmsda = rmsd * 10\\n# print(\\\"rmsda\\\", \\\"\\u00c5\\\")\";\n",
       "                var nbb_cells = Jupyter.notebook.get_cells();\n",
       "                for (var i = 0; i < nbb_cells.length; ++i) {\n",
       "                    if (nbb_cells[i].input_prompt_number == nbb_cell_id) {\n",
       "                        if (nbb_cells[i].get_text() == nbb_unformatted_code) {\n",
       "                             nbb_cells[i].set_text(nbb_formatted_code);\n",
       "                        }\n",
       "                        break;\n",
       "                    }\n",
       "                }\n",
       "            }, 500);\n",
       "            "
      ],
      "text/plain": [
       "<IPython.core.display.Javascript object>"
      ]
     },
     "metadata": {},
     "output_type": "display_data"
    }
   ],
   "source": [
    "# calculate rmsd\n",
    "target1 = \"./data/pcca1_10samples.pdb\"\n",
    "first_frame1 = md.load_frame(target1, 0, topology)\n",
    "rmsd1 = md.rmsd(first_frame1, traj, 0)\n",
    "\n",
    "target2 = \"./data/pcca2_10samples.pdb\"\n",
    "first_frame2 = md.load_frame(target2, 0, topology)\n",
    "rmsd2 = md.rmsd(first_frame2, traj, 0)\n",
    "\n",
    "target3 = \"./data/pcca3_10samples.pdb\"\n",
    "first_frame3 = md.load_frame(target3, 0, topology)\n",
    "rmsd3 = md.rmsd(first_frame3, traj, 0)\n",
    "\n",
    "target4 = \"./data/pcca4_10samples.pdb\"\n",
    "first_frame4 = md.load_frame(target4, 0, topology)\n",
    "rmsd4 = md.rmsd(first_frame4, traj, 0)\n",
    "\n",
    "target5 = \"./data/pcca5_10samples.pdb\"\n",
    "first_frame5 = md.load_frame(target5, 0, topology)\n",
    "rmsd5 = md.rmsd(first_frame5, traj, 0)\n",
    "\n",
    "print(target1, rmsd1)\n",
    "print(target2, rmsd2)\n",
    "print(target3, rmsd3)\n",
    "print(target4, rmsd4)\n",
    "print(target5, rmsd5)\n",
    "# rmsda = rmsd * 10\n",
    "# print(\"rmsda\", \"Å\")"
   ]
  },
  {
   "cell_type": "code",
   "execution_count": null,
   "id": "9f15fa21",
   "metadata": {},
   "outputs": [],
   "source": []
  },
  {
   "cell_type": "code",
   "execution_count": null,
   "id": "d65833d6",
   "metadata": {},
   "outputs": [],
   "source": []
  },
  {
   "cell_type": "code",
   "execution_count": null,
   "id": "459531ae",
   "metadata": {},
   "outputs": [],
   "source": []
  },
  {
   "cell_type": "code",
   "execution_count": null,
   "id": "7e9e1693",
   "metadata": {},
   "outputs": [],
   "source": []
  },
  {
   "cell_type": "code",
   "execution_count": null,
   "id": "95a6bf87",
   "metadata": {},
   "outputs": [],
   "source": []
  },
  {
   "cell_type": "code",
   "execution_count": null,
   "id": "a2131493",
   "metadata": {},
   "outputs": [],
   "source": []
  },
  {
   "cell_type": "code",
   "execution_count": null,
   "id": "dbb2dc75",
   "metadata": {},
   "outputs": [],
   "source": []
  },
  {
   "cell_type": "code",
   "execution_count": null,
   "id": "adebb67d",
   "metadata": {},
   "outputs": [],
   "source": []
  },
  {
   "cell_type": "code",
   "execution_count": null,
   "id": "2b6c6e46",
   "metadata": {},
   "outputs": [],
   "source": []
  },
  {
   "cell_type": "code",
   "execution_count": null,
   "id": "f0c581a5",
   "metadata": {},
   "outputs": [],
   "source": [
    "files = (\n",
    "   \"/home/sean/Desktop/Share/plpro_result/MSM/mix_zong_acn/zong_acn/6wuu_mix_acn1.trr\",\n",
    "    \"/home/sean/Desktop/Share/plpro_result/MSM/mix_zong_acn/zong_acn/6wuu_mix_acn2.trr\",\n",
    "    \"/home/sean/Desktop/Share/plpro_result/MSM/mix_zong_acn/zong_acn/6wuu_mix_acn3.trr\",\n",
    "    \"/home/sean/Desktop/Share/plpro_result/MSM/mix_zong_acn/zong_acn/6wuu_mix_acn4.trr\",\n",
    "    \"/home/sean/Desktop/Share/plpro_result/MSM/mix_zong_acn/zong_acn/6wuu_mix_acn5.trr\",\n",
    "    \"/home/sean/Desktop/Share/plpro_result/MSM/mix_zong_acn/zong_acn/6wuu_mix_acn6.trr\",\n",
    "    \"/home/sean/Desktop/Share/plpro_result/MSM/mix_zong_acn/zong_acn/6wuu_mix_acn7.trr\",\n",
    "    \"/home/sean/Desktop/Share/plpro_result/MSM/mix_zong_acn/zong_acn/6wuu_mix_acn8.trr\",\n",
    "    \"/home/sean/Desktop/Share/plpro_result/MSM/mix_zong_acn/zong_acn/6wuu_mix_acn9.trr\",\n",
    "    \"/home/sean/Desktop/Share/plpro_result/MSM/mix_zong_acn/zong_acn/6wuu_mix_acn10.trr\",\n",
    ")"
   ]
  },
  {
   "cell_type": "code",
   "execution_count": null,
   "id": "9c62d6ec",
   "metadata": {},
   "outputs": [],
   "source": [
    "files = (\n",
    "   \"/home/sean/Desktop/Share/plpro_result/MSM/mix_zong_acn/zong_protein/md_dry_jump_center_mol_center_fit1.trr\",\n",
    "    \"/home/sean/Desktop/Share/plpro_result/MSM/mix_zong_acn/zong_protein/md_dry_jump_center_mol_center_fit2.trr\",\n",
    "    \"/home/sean/Desktop/Share/plpro_result/MSM/mix_zong_acn/zong_protein/md_dry_jump_center_mol_center_fit3.trr\",\n",
    "    \"/home/sean/Desktop/Share/plpro_result/MSM/mix_zong_acn/zong_protein/md_dry_jump_center_mol_center_fit4.trr\",\n",
    "    \"/home/sean/Desktop/Share/plpro_result/MSM/mix_zong_acn/zong_protein/md_dry_jump_center_mol_center_fit5.trr\",\n",
    "    \"/home/sean/Desktop/Share/plpro_result/MSM/mix_zong_acn/zong_protein/md_dry_jump_center_mol_center_fit6.trr\",\n",
    "    \"/home/sean/Desktop/Share/plpro_result/MSM/mix_zong_acn/zong_protein/md_dry_jump_center_mol_center_fit7.trr\",\n",
    "    \"/home/sean/Desktop/Share/plpro_result/MSM/mix_zong_acn/zong_protein/md_dry_jump_center_mol_center_fit8.trr\",\n",
    "    \"/home/sean/Desktop/Share/plpro_result/MSM/mix_zong_acn/zong_protein/md_dry_jump_center_mol_center_fit9.trr\",\n",
    "    \"/home/sean/Desktop/Share/plpro_result/MSM/mix_zong_acn/zong_protein/md_dry_jump_center_mol_center_fit10.trr\",\n",
    ")"
   ]
  }
 ],
 "metadata": {
  "hide_input": false,
  "kernelspec": {
   "display_name": "Python 3 (ipykernel)",
   "language": "python",
   "name": "python3"
  },
  "language_info": {
   "codemirror_mode": {
    "name": "ipython",
    "version": 3
   },
   "file_extension": ".py",
   "mimetype": "text/x-python",
   "name": "python",
   "nbconvert_exporter": "python",
   "pygments_lexer": "ipython3",
   "version": "3.8.18"
  },
  "toc": {
   "base_numbering": 1,
   "nav_menu": {},
   "number_sections": true,
   "sideBar": true,
   "skip_h1_title": false,
   "title_cell": "Table of Contents",
   "title_sidebar": "Contents",
   "toc_cell": false,
   "toc_position": {
    "height": "calc(100% - 180px)",
    "left": "10px",
    "top": "150px",
    "width": "256px"
   },
   "toc_section_display": true,
   "toc_window_display": true
  }
 },
 "nbformat": 4,
 "nbformat_minor": 5
}
