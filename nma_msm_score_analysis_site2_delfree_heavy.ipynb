{
 "cells": [
  {
   "cell_type": "markdown",
   "id": "7b181ee2",
   "metadata": {},
   "source": [
    "# 导入文件"
   ]
  },
  {
   "cell_type": "code",
   "execution_count": 1,
   "id": "822c72a2",
   "metadata": {
    "ExecuteTime": {
     "end_time": "2022-05-23T01:52:08.063415Z",
     "start_time": "2022-05-23T01:52:06.869794Z"
    }
   },
   "outputs": [
    {
     "data": {
      "application/javascript": [
       "\n",
       "            setTimeout(function() {\n",
       "                var nbb_cell_id = 1;\n",
       "                var nbb_unformatted_code = \"%matplotlib inline\\n%load_ext nb_black\\nimport matplotlib.pyplot as plt\\nimport matplotlib as mpl\\n\\nfrom numpy import *\\nimport numpy as np\\n\\nimport pyemma\\nfrom pyemma.util.contexts import settings\\nimport pyemma.plots as mplt\\nimport pyemma.msm as msm\\n\\nfrom __future__ import print_function\\nimport mdtraj\\nimport mdtraj as md\\n\\nfrom tqdm import tqdm\\nfrom time import sleep\\n\\n# import mdshare\";\n",
       "                var nbb_formatted_code = \"%matplotlib inline\\n%load_ext nb_black\\nimport matplotlib.pyplot as plt\\nimport matplotlib as mpl\\n\\nfrom numpy import *\\nimport numpy as np\\n\\nimport pyemma\\nfrom pyemma.util.contexts import settings\\nimport pyemma.plots as mplt\\nimport pyemma.msm as msm\\n\\nfrom __future__ import print_function\\nimport mdtraj\\nimport mdtraj as md\\n\\nfrom tqdm import tqdm\\nfrom time import sleep\\n\\n# import mdshare\";\n",
       "                var nbb_cells = Jupyter.notebook.get_cells();\n",
       "                for (var i = 0; i < nbb_cells.length; ++i) {\n",
       "                    if (nbb_cells[i].input_prompt_number == nbb_cell_id) {\n",
       "                        if (nbb_cells[i].get_text() == nbb_unformatted_code) {\n",
       "                             nbb_cells[i].set_text(nbb_formatted_code);\n",
       "                        }\n",
       "                        break;\n",
       "                    }\n",
       "                }\n",
       "            }, 500);\n",
       "            "
      ],
      "text/plain": [
       "<IPython.core.display.Javascript object>"
      ]
     },
     "metadata": {},
     "output_type": "display_data"
    }
   ],
   "source": [
    "%matplotlib inline\n",
    "%load_ext nb_black\n",
    "import matplotlib.pyplot as plt\n",
    "import matplotlib as mpl\n",
    "\n",
    "from numpy import *\n",
    "import numpy as np\n",
    "\n",
    "import pyemma\n",
    "from pyemma.util.contexts import settings\n",
    "import pyemma.plots as mplt\n",
    "import pyemma.msm as msm\n",
    "\n",
    "from __future__ import print_function\n",
    "import mdtraj\n",
    "import mdtraj as md\n",
    "\n",
    "from tqdm import tqdm\n",
    "from time import sleep\n",
    "\n",
    "# import mdshare"
   ]
  },
  {
   "cell_type": "code",
   "execution_count": 3,
   "id": "c5ef5f57",
   "metadata": {
    "ExecuteTime": {
     "end_time": "2022-05-23T01:52:38.543840Z",
     "start_time": "2022-05-23T01:52:38.372940Z"
    }
   },
   "outputs": [
    {
     "name": "stdout",
     "output_type": "stream",
     "text": [
      "/home/sean/Desktop/disk/cadd/MSM/zong-nma-msm/msm_nma_6wuuhide.pdb\n",
      "/home/sean/Desktop/disk/cadd/MSM/zong-nma-msm/delfree_hatom.trr\n",
      "<mdtraj.Trajectory with 1 frames, 4969 atoms, 316 residues, and unitcells>\n",
      "<mdtraj.Topology with 1 chains, 316 residues, 4969 atoms, 4865 bonds>\n"
     ]
    },
    {
     "data": {
      "application/javascript": [
       "\n",
       "            setTimeout(function() {\n",
       "                var nbb_cell_id = 3;\n",
       "                var nbb_unformatted_code = \"# \\u5bfc\\u5165\\u8f68\\u8ff9\\u6587\\u4ef6\\n# pdb = \\\"../6wuu.pdb\\\"\\n# files = \\\"../md_dry_jump_center_mol_center_fit.trr\\\"\\n# files = \\\"/home/sean/Desktop/Share/plpro_result/MSM/mix_zong_acn/zong.trr\\\"\\npdb = \\\"/home/sean/Desktop/disk/cadd/MSM/zong-nma-msm/msm_nma_6wuuhide.pdb\\\"\\nfiles = \\\"/home/sean/Desktop/disk/cadd/MSM/zong-nma-msm/delfree_hatom.trr\\\"\\n\\n\\nprint(pdb)\\nprint(files)\\n\\n# \\u5b9a\\u4e49mdtraj\\ntraj = md.load(pdb, files)\\ntopology = traj.topology\\nprint(traj)\\nprint(topology)\";\n",
       "                var nbb_formatted_code = \"# \\u5bfc\\u5165\\u8f68\\u8ff9\\u6587\\u4ef6\\n# pdb = \\\"../6wuu.pdb\\\"\\n# files = \\\"../md_dry_jump_center_mol_center_fit.trr\\\"\\n# files = \\\"/home/sean/Desktop/Share/plpro_result/MSM/mix_zong_acn/zong.trr\\\"\\npdb = \\\"/home/sean/Desktop/disk/cadd/MSM/zong-nma-msm/msm_nma_6wuuhide.pdb\\\"\\nfiles = \\\"/home/sean/Desktop/disk/cadd/MSM/zong-nma-msm/delfree_hatom.trr\\\"\\n\\n\\nprint(pdb)\\nprint(files)\\n\\n# \\u5b9a\\u4e49mdtraj\\ntraj = md.load(pdb, files)\\ntopology = traj.topology\\nprint(traj)\\nprint(topology)\";\n",
       "                var nbb_cells = Jupyter.notebook.get_cells();\n",
       "                for (var i = 0; i < nbb_cells.length; ++i) {\n",
       "                    if (nbb_cells[i].input_prompt_number == nbb_cell_id) {\n",
       "                        if (nbb_cells[i].get_text() == nbb_unformatted_code) {\n",
       "                             nbb_cells[i].set_text(nbb_formatted_code);\n",
       "                        }\n",
       "                        break;\n",
       "                    }\n",
       "                }\n",
       "            }, 500);\n",
       "            "
      ],
      "text/plain": [
       "<IPython.core.display.Javascript object>"
      ]
     },
     "metadata": {},
     "output_type": "display_data"
    }
   ],
   "source": [
    "# 导入轨迹文件\n",
    "# pdb = \"../6wuu.pdb\"\n",
    "# files = \"../md_dry_jump_center_mol_center_fit.trr\"\n",
    "# files = \"/home/sean/Desktop/Share/plpro_result/MSM/mix_zong_acn/zong.trr\"\n",
    "pdb = \"/home/sean/Desktop/disk/cadd/MSM/zong-nma-msm/msm_nma_6wuuhide.pdb\"\n",
    "files = \"/home/sean/Desktop/disk/cadd/MSM/zong-nma-msm/delfree_hatom.trr\"\n",
    "\n",
    "\n",
    "print(pdb)\n",
    "print(files)\n",
    "\n",
    "# 定义mdtraj\n",
    "traj = md.load(pdb, files)\n",
    "topology = traj.topology\n",
    "print(traj)\n",
    "print(topology)"
   ]
  },
  {
   "cell_type": "markdown",
   "id": "2b3c516d",
   "metadata": {},
   "source": [
    "# 选择评分残基"
   ]
  },
  {
   "cell_type": "markdown",
   "id": "8171352b",
   "metadata": {},
   "source": [
    "## 选定残基"
   ]
  },
  {
   "cell_type": "code",
   "execution_count": 4,
   "id": "c75b92cf",
   "metadata": {
    "ExecuteTime": {
     "end_time": "2022-05-23T01:52:55.968650Z",
     "start_time": "2022-05-23T01:52:43.482040Z"
    }
   },
   "outputs": [
    {
     "name": "stderr",
     "output_type": "stream",
     "text": [
      "/home/sean/miniconda3/envs/env_py3.8/lib/python3.8/site-packages/pyemma/coordinates/data/featurization/angles.py:211: FutureWarning: arrays to stack must be passed as a \"sequence\" type such as list or tuple. Support for non-sequence iterables such as generators is deprecated as of NumPy 1.16 and will raise an error in the future.\n",
      "  indices = np.vstack(valid.values())\n"
     ]
    },
    {
     "data": {
      "text/plain": [
       "['DIST: VAL 165 CA 2589 - ARG 166 CA 2605',\n",
       " 'DIST: VAL 165 CA 2589 - GLU 167 CA 2629',\n",
       " 'DIST: VAL 165 CA 2589 - PRO 247 CA 3880',\n",
       " 'DIST: VAL 165 CA 2589 - PRO 248 CA 3894',\n",
       " 'DIST: VAL 165 CA 2589 - ALA 249 CA 3906',\n",
       " 'DIST: VAL 165 CA 2589 - THR 265 CA 4150',\n",
       " 'DIST: VAL 165 CA 2589 - LYS 274 CA 4280',\n",
       " 'DIST: VAL 165 CA 2589 - ASP 302 CA 4721',\n",
       " 'DIST: VAL 165 CA 2589 - VAL 303 CA 4733',\n",
       " 'DIST: ARG 166 CA 2605 - GLU 167 CA 2629',\n",
       " 'DIST: ARG 166 CA 2605 - PRO 247 CA 3880',\n",
       " 'DIST: ARG 166 CA 2605 - PRO 248 CA 3894',\n",
       " 'DIST: ARG 166 CA 2605 - ALA 249 CA 3906',\n",
       " 'DIST: ARG 166 CA 2605 - THR 265 CA 4150',\n",
       " 'DIST: ARG 166 CA 2605 - LYS 274 CA 4280',\n",
       " 'DIST: ARG 166 CA 2605 - ASP 302 CA 4721',\n",
       " 'DIST: ARG 166 CA 2605 - VAL 303 CA 4733',\n",
       " 'DIST: GLU 167 CA 2629 - PRO 247 CA 3880',\n",
       " 'DIST: GLU 167 CA 2629 - PRO 248 CA 3894',\n",
       " 'DIST: GLU 167 CA 2629 - ALA 249 CA 3906',\n",
       " 'DIST: GLU 167 CA 2629 - THR 265 CA 4150',\n",
       " 'DIST: GLU 167 CA 2629 - LYS 274 CA 4280',\n",
       " 'DIST: GLU 167 CA 2629 - ASP 302 CA 4721',\n",
       " 'DIST: GLU 167 CA 2629 - VAL 303 CA 4733',\n",
       " 'DIST: PRO 247 CA 3880 - PRO 248 CA 3894',\n",
       " 'DIST: PRO 247 CA 3880 - ALA 249 CA 3906',\n",
       " 'DIST: PRO 247 CA 3880 - THR 265 CA 4150',\n",
       " 'DIST: PRO 247 CA 3880 - LYS 274 CA 4280',\n",
       " 'DIST: PRO 247 CA 3880 - ASP 302 CA 4721',\n",
       " 'DIST: PRO 247 CA 3880 - VAL 303 CA 4733',\n",
       " 'DIST: PRO 248 CA 3894 - ALA 249 CA 3906',\n",
       " 'DIST: PRO 248 CA 3894 - THR 265 CA 4150',\n",
       " 'DIST: PRO 248 CA 3894 - LYS 274 CA 4280',\n",
       " 'DIST: PRO 248 CA 3894 - ASP 302 CA 4721',\n",
       " 'DIST: PRO 248 CA 3894 - VAL 303 CA 4733',\n",
       " 'DIST: ALA 249 CA 3906 - THR 265 CA 4150',\n",
       " 'DIST: ALA 249 CA 3906 - LYS 274 CA 4280',\n",
       " 'DIST: ALA 249 CA 3906 - ASP 302 CA 4721',\n",
       " 'DIST: ALA 249 CA 3906 - VAL 303 CA 4733',\n",
       " 'DIST: THR 265 CA 4150 - LYS 274 CA 4280',\n",
       " 'DIST: THR 265 CA 4150 - ASP 302 CA 4721',\n",
       " 'DIST: THR 265 CA 4150 - VAL 303 CA 4733',\n",
       " 'DIST: LYS 274 CA 4280 - ASP 302 CA 4721',\n",
       " 'DIST: LYS 274 CA 4280 - VAL 303 CA 4733',\n",
       " 'DIST: ASP 302 CA 4721 - VAL 303 CA 4733']"
      ]
     },
     "execution_count": 4,
     "metadata": {},
     "output_type": "execute_result"
    },
    {
     "data": {
      "application/javascript": [
       "\n",
       "            setTimeout(function() {\n",
       "                var nbb_cell_id = 4;\n",
       "                var nbb_unformatted_code = \"# \\u9009\\u5b9a\\u6b8b\\u57fa\\n\\n# add_sidechain_torsions (same to chi1 angle)\\ntorsions_feat = pyemma.coordinates.featurizer(pdb)\\ntorsions_feat.add_sidechain_torsions(\\n    selstr=\\\"name CA and resi 164 165 166 246 247 248 264 273 301 302 164 165 166 246 247 248 264 273 301 302\\\",\\n    cossin=True,\\n    periodic=False,\\n)\\ntorsions_data = pyemma.coordinates.load(files, features=torsions_feat)\\nlabels = [\\\"backbone\\\\ntorsions\\\"]\\ntorsions_feat.describe()\\n# type(torsions_feat)\\n# type(torsions_data)\\n\\n# \\u6b8b\\u57fa\\u5750\\u6807\\nactive_residue1 = [\\n    164,\\n    165,\\n    166,\\n    246,\\n    247,\\n    248,\\n    264,\\n    273,\\n    301,\\n    302,\\n    164,\\n    165,\\n    166,\\n    246,\\n    247,\\n    248,\\n    264,\\n    273,\\n    301,\\n    302,\\n]\\npositions_feat = pyemma.coordinates.featurizer(pdb)\\npositions_feat.add_residue_COM(active_residue1)\\npositions_data = pyemma.coordinates.load(files, features=positions_feat)\\nlabels += [\\\"backbone atom\\\\npositions\\\"]\\npositions_feat.describe()\\n\\n# \\u914d\\u5bf9\\u539f\\u5b50\\u8ddd\\u79bb\\nactive_atom = topology.select(\\n    \\\"name CA and resi 164 165 166 246 247 248 264 273 301 302 164 165 166 246 247 248 264 273 301 302\\\"\\n)\\ndistances_feat = pyemma.coordinates.featurizer(pdb)\\ndistances_feat.add_distances(\\n    distances_feat.pairs(active_atom, excluded_neighbors=2), periodic=False\\n)\\ndistances_data = pyemma.coordinates.load(files, features=distances_feat)\\nlabels += [\\\"backbone atom\\\\ndistances\\\"]\\ndistances_feat.describe()\";\n",
       "                var nbb_formatted_code = \"# \\u9009\\u5b9a\\u6b8b\\u57fa\\n\\n# add_sidechain_torsions (same to chi1 angle)\\ntorsions_feat = pyemma.coordinates.featurizer(pdb)\\ntorsions_feat.add_sidechain_torsions(\\n    selstr=\\\"name CA and resi 164 165 166 246 247 248 264 273 301 302 164 165 166 246 247 248 264 273 301 302\\\",\\n    cossin=True,\\n    periodic=False,\\n)\\ntorsions_data = pyemma.coordinates.load(files, features=torsions_feat)\\nlabels = [\\\"backbone\\\\ntorsions\\\"]\\ntorsions_feat.describe()\\n# type(torsions_feat)\\n# type(torsions_data)\\n\\n# \\u6b8b\\u57fa\\u5750\\u6807\\nactive_residue1 = [\\n    164,\\n    165,\\n    166,\\n    246,\\n    247,\\n    248,\\n    264,\\n    273,\\n    301,\\n    302,\\n    164,\\n    165,\\n    166,\\n    246,\\n    247,\\n    248,\\n    264,\\n    273,\\n    301,\\n    302,\\n]\\npositions_feat = pyemma.coordinates.featurizer(pdb)\\npositions_feat.add_residue_COM(active_residue1)\\npositions_data = pyemma.coordinates.load(files, features=positions_feat)\\nlabels += [\\\"backbone atom\\\\npositions\\\"]\\npositions_feat.describe()\\n\\n# \\u914d\\u5bf9\\u539f\\u5b50\\u8ddd\\u79bb\\nactive_atom = topology.select(\\n    \\\"name CA and resi 164 165 166 246 247 248 264 273 301 302 164 165 166 246 247 248 264 273 301 302\\\"\\n)\\ndistances_feat = pyemma.coordinates.featurizer(pdb)\\ndistances_feat.add_distances(\\n    distances_feat.pairs(active_atom, excluded_neighbors=2), periodic=False\\n)\\ndistances_data = pyemma.coordinates.load(files, features=distances_feat)\\nlabels += [\\\"backbone atom\\\\ndistances\\\"]\\ndistances_feat.describe()\";\n",
       "                var nbb_cells = Jupyter.notebook.get_cells();\n",
       "                for (var i = 0; i < nbb_cells.length; ++i) {\n",
       "                    if (nbb_cells[i].input_prompt_number == nbb_cell_id) {\n",
       "                        if (nbb_cells[i].get_text() == nbb_unformatted_code) {\n",
       "                             nbb_cells[i].set_text(nbb_formatted_code);\n",
       "                        }\n",
       "                        break;\n",
       "                    }\n",
       "                }\n",
       "            }, 500);\n",
       "            "
      ],
      "text/plain": [
       "<IPython.core.display.Javascript object>"
      ]
     },
     "metadata": {},
     "output_type": "display_data"
    }
   ],
   "source": [
    "# 选定残基\n",
    "\n",
    "# add_sidechain_torsions (same to chi1 angle)\n",
    "torsions_feat = pyemma.coordinates.featurizer(pdb)\n",
    "torsions_feat.add_sidechain_torsions(\n",
    "    selstr=\"name CA and resi 164 165 166 246 247 248 264 273 301 302 164 165 166 246 247 248 264 273 301 302\",\n",
    "    cossin=True,\n",
    "    periodic=False,\n",
    ")\n",
    "torsions_data = pyemma.coordinates.load(files, features=torsions_feat)\n",
    "labels = [\"backbone\\ntorsions\"]\n",
    "torsions_feat.describe()\n",
    "# type(torsions_feat)\n",
    "# type(torsions_data)\n",
    "\n",
    "# 残基坐标\n",
    "active_residue1 = [\n",
    "    164,\n",
    "    165,\n",
    "    166,\n",
    "    246,\n",
    "    247,\n",
    "    248,\n",
    "    264,\n",
    "    273,\n",
    "    301,\n",
    "    302,\n",
    "    164,\n",
    "    165,\n",
    "    166,\n",
    "    246,\n",
    "    247,\n",
    "    248,\n",
    "    264,\n",
    "    273,\n",
    "    301,\n",
    "    302,\n",
    "]\n",
    "positions_feat = pyemma.coordinates.featurizer(pdb)\n",
    "positions_feat.add_residue_COM(active_residue1)\n",
    "positions_data = pyemma.coordinates.load(files, features=positions_feat)\n",
    "labels += [\"backbone atom\\npositions\"]\n",
    "positions_feat.describe()\n",
    "\n",
    "# 配对原子距离\n",
    "active_atom = topology.select(\n",
    "    \"name CA and resi 164 165 166 246 247 248 264 273 301 302 164 165 166 246 247 248 264 273 301 302\"\n",
    ")\n",
    "distances_feat = pyemma.coordinates.featurizer(pdb)\n",
    "distances_feat.add_distances(\n",
    "    distances_feat.pairs(active_atom, excluded_neighbors=2), periodic=False\n",
    ")\n",
    "distances_data = pyemma.coordinates.load(files, features=distances_feat)\n",
    "labels += [\"backbone atom\\ndistances\"]\n",
    "distances_feat.describe()"
   ]
  },
  {
   "cell_type": "markdown",
   "id": "5a11bebc",
   "metadata": {},
   "source": [
    "## 单段评分"
   ]
  },
  {
   "cell_type": "code",
   "execution_count": 5,
   "id": "15d27d9a",
   "metadata": {
    "ExecuteTime": {
     "end_time": "2022-05-16T00:46:34.562914Z",
     "start_time": "2022-05-16T00:46:26.330125Z"
    },
    "scrolled": true
   },
   "outputs": [
    {
     "data": {
      "application/javascript": [
       "\n",
       "            setTimeout(function() {\n",
       "                var nbb_cell_id = 5;\n",
       "                var nbb_unformatted_code = \"# \\u5355\\u6bb5\\u8bc4\\u5206\\n\\n# add_sidechain_torsions (same to chi1 angle)\\ntorsions_feat = pyemma.coordinates.featurizer(pdb)\\ntorsions_feat.add_sidechain_torsions(\\n    selstr=\\\"name CA and resi 259 to 289\\\", cossin=True, periodic=False\\n)\\ntorsions_data = pyemma.coordinates.load(files, features=torsions_feat)\\nlabels = [\\\"backbone\\\\ntorsions\\\"]\\n# torsions_feat.describe()\\n# type(torsions_feat)\\n# type(torsions_data)\\n\\n# \\u6b8b\\u57fa\\u5750\\u6807\\nactive_residue1 = arange(259, 290)\\npositions_feat = pyemma.coordinates.featurizer(pdb)\\npositions_feat.add_residue_COM(active_residue1)\\npositions_data = pyemma.coordinates.load(files, features=positions_feat)\\nlabels += [\\\"backbone atom\\\\npositions\\\"]\\n# positions_feat.describe()\\n\\n# \\u914d\\u5bf9\\u539f\\u5b50\\u8ddd\\u79bb\\nactive_atom = topology.select(\\\"name CA and resi 259 to 289\\\")\\ndistances_feat = pyemma.coordinates.featurizer(pdb)\\ndistances_feat.add_distances(\\n    distances_feat.pairs(active_atom, excluded_neighbors=2), periodic=False\\n)\\ndistances_data = pyemma.coordinates.load(files, features=distances_feat)\\nlabels += [\\\"backbone atom\\\\ndistances\\\"]\\n# distances_feat.describe()\";\n",
       "                var nbb_formatted_code = \"# \\u5355\\u6bb5\\u8bc4\\u5206\\n\\n# add_sidechain_torsions (same to chi1 angle)\\ntorsions_feat = pyemma.coordinates.featurizer(pdb)\\ntorsions_feat.add_sidechain_torsions(\\n    selstr=\\\"name CA and resi 259 to 289\\\", cossin=True, periodic=False\\n)\\ntorsions_data = pyemma.coordinates.load(files, features=torsions_feat)\\nlabels = [\\\"backbone\\\\ntorsions\\\"]\\n# torsions_feat.describe()\\n# type(torsions_feat)\\n# type(torsions_data)\\n\\n# \\u6b8b\\u57fa\\u5750\\u6807\\nactive_residue1 = arange(259, 290)\\npositions_feat = pyemma.coordinates.featurizer(pdb)\\npositions_feat.add_residue_COM(active_residue1)\\npositions_data = pyemma.coordinates.load(files, features=positions_feat)\\nlabels += [\\\"backbone atom\\\\npositions\\\"]\\n# positions_feat.describe()\\n\\n# \\u914d\\u5bf9\\u539f\\u5b50\\u8ddd\\u79bb\\nactive_atom = topology.select(\\\"name CA and resi 259 to 289\\\")\\ndistances_feat = pyemma.coordinates.featurizer(pdb)\\ndistances_feat.add_distances(\\n    distances_feat.pairs(active_atom, excluded_neighbors=2), periodic=False\\n)\\ndistances_data = pyemma.coordinates.load(files, features=distances_feat)\\nlabels += [\\\"backbone atom\\\\ndistances\\\"]\\n# distances_feat.describe()\";\n",
       "                var nbb_cells = Jupyter.notebook.get_cells();\n",
       "                for (var i = 0; i < nbb_cells.length; ++i) {\n",
       "                    if (nbb_cells[i].input_prompt_number == nbb_cell_id) {\n",
       "                        if (nbb_cells[i].get_text() == nbb_unformatted_code) {\n",
       "                             nbb_cells[i].set_text(nbb_formatted_code);\n",
       "                        }\n",
       "                        break;\n",
       "                    }\n",
       "                }\n",
       "            }, 500);\n",
       "            "
      ],
      "text/plain": [
       "<IPython.core.display.Javascript object>"
      ]
     },
     "metadata": {},
     "output_type": "display_data"
    }
   ],
   "source": [
    "# 单段评分\n",
    "\n",
    "# add_sidechain_torsions (same to chi1 angle)\n",
    "torsions_feat = pyemma.coordinates.featurizer(pdb)\n",
    "torsions_feat.add_sidechain_torsions(\n",
    "    selstr=\"name CA and resi 259 to 289\", cossin=True, periodic=False\n",
    ")\n",
    "torsions_data = pyemma.coordinates.load(files, features=torsions_feat)\n",
    "labels = [\"backbone\\ntorsions\"]\n",
    "# torsions_feat.describe()\n",
    "# type(torsions_feat)\n",
    "# type(torsions_data)\n",
    "\n",
    "# 残基坐标\n",
    "active_residue1 = arange(259, 290)\n",
    "positions_feat = pyemma.coordinates.featurizer(pdb)\n",
    "positions_feat.add_residue_COM(active_residue1)\n",
    "positions_data = pyemma.coordinates.load(files, features=positions_feat)\n",
    "labels += [\"backbone atom\\npositions\"]\n",
    "# positions_feat.describe()\n",
    "\n",
    "# 配对原子距离\n",
    "active_atom = topology.select(\"name CA and resi 259 to 289\")\n",
    "distances_feat = pyemma.coordinates.featurizer(pdb)\n",
    "distances_feat.add_distances(\n",
    "    distances_feat.pairs(active_atom, excluded_neighbors=2), periodic=False\n",
    ")\n",
    "distances_data = pyemma.coordinates.load(files, features=distances_feat)\n",
    "labels += [\"backbone atom\\ndistances\"]\n",
    "# distances_feat.describe()"
   ]
  },
  {
   "cell_type": "markdown",
   "id": "68863331",
   "metadata": {},
   "source": [
    "## 多段评分"
   ]
  },
  {
   "cell_type": "code",
   "execution_count": 3,
   "id": "e24c7dbb",
   "metadata": {},
   "outputs": [
    {
     "name": "stderr",
     "output_type": "stream",
     "text": [
      "/home/sean/.local/lib/python3.8/site-packages/pyemma/coordinates/data/featurization/angles.py:211: FutureWarning: arrays to stack must be passed as a \"sequence\" type such as list or tuple. Support for non-sequence iterables such as generators is deprecated as of NumPy 1.16 and will raise an error in the future.\n",
      "  indices = np.vstack(valid.values())\n"
     ]
    },
    {
     "data": {
      "application/vnd.jupyter.widget-view+json": {
       "model_id": "387a879a0a674ca6b20296ac49fd1efe",
       "version_major": 2,
       "version_minor": 0
      },
      "text/plain": [
       "Obtaining file info:   0%|                               | 0/10 [00:00<?, ?it/s]"
      ]
     },
     "metadata": {},
     "output_type": "display_data"
    },
    {
     "data": {
      "application/vnd.jupyter.widget-view+json": {
       "model_id": "50bea2bcf90a48089c0d258018467250",
       "version_major": 2,
       "version_minor": 0
      },
      "text/plain": [
       "getting output of FeatureReader:   0%|                   | 0/10 [00:00<?, ?it/s]"
      ]
     },
     "metadata": {},
     "output_type": "display_data"
    },
    {
     "data": {
      "application/vnd.jupyter.widget-view+json": {
       "model_id": "5a0ac7f1fe424ae6aa8a49f122104719",
       "version_major": 2,
       "version_minor": 0
      },
      "text/plain": [
       "Obtaining file info:   0%|                               | 0/10 [00:00<?, ?it/s]"
      ]
     },
     "metadata": {},
     "output_type": "display_data"
    },
    {
     "data": {
      "application/vnd.jupyter.widget-view+json": {
       "model_id": "d91ff13300b3490bacbf20a3626492ed",
       "version_major": 2,
       "version_minor": 0
      },
      "text/plain": [
       "getting output of FeatureReader:   0%|                   | 0/10 [00:00<?, ?it/s]"
      ]
     },
     "metadata": {},
     "output_type": "display_data"
    },
    {
     "data": {
      "application/vnd.jupyter.widget-view+json": {
       "model_id": "da4dd8b7e3314e16b4f5706e24eca41c",
       "version_major": 2,
       "version_minor": 0
      },
      "text/plain": [
       "Obtaining file info:   0%|                               | 0/10 [00:00<?, ?it/s]"
      ]
     },
     "metadata": {},
     "output_type": "display_data"
    },
    {
     "data": {
      "application/vnd.jupyter.widget-view+json": {
       "model_id": "90334205b9064737bc08f8b517a5c648",
       "version_major": 2,
       "version_minor": 0
      },
      "text/plain": [
       "getting output of FeatureReader:   0%|                   | 0/10 [00:00<?, ?it/s]"
      ]
     },
     "metadata": {},
     "output_type": "display_data"
    },
    {
     "data": {
      "application/javascript": [
       "\n",
       "            setTimeout(function() {\n",
       "                var nbb_cell_id = 3;\n",
       "                var nbb_unformatted_code = \"# \\u591a\\u6bb5\\u8bc4\\u5206\\n\\n# \\u591a\\u6bb5\\u626d\\u8f6c\\u89d2\\nactive_resi1 = \\\"resi 100 to 120\\\"\\nactive_resi2 = \\\"resi 259 to 290\\\"\\ntorsions_feat = pyemma.coordinates.featurizer(pdb)\\ntorsions_feat.add_sidechain_torsions(selstr=active_resi1, cossin=True, periodic=False)\\ntorsions_feat.add_sidechain_torsions(selstr=active_resi2, cossin=True, periodic=False)\\ntorsions_data = pyemma.coordinates.load(files, features=torsions_feat)\\nlabels = [\\\"backbone\\\\ntorsions\\\"]\\n# torsions_feat.describe()\\n\\n# \\u591a\\u6bb5\\u6b8b\\u57fa\\u5750\\u6807\\nactive_residue1 = arange(99, 120)\\nactive_residue2 = arange(259, 290)\\nactive_residue = list(active_residue1) + list(active_residue2)\\npositions_feat = pyemma.coordinates.featurizer(pdb)\\npositions_feat.add_residue_COM(active_residue)\\npositions_data = pyemma.coordinates.load(files, features=positions_feat)\\nlabels += [\\\"backbone atom\\\\npositions\\\"]\\n# positions_feat.describe()\\n\\n# \\u591a\\u6bb5\\u914d\\u5bf9\\u539f\\u5b50\\u8ddd\\u79bb\\nactive_atom1 = topology.select(\\\"name CA and resi 99 to 120\\\")\\nactive_atom2 = topology.select(\\\"name CA and resi 259 to 290\\\")\\ndistances_feat = pyemma.coordinates.featurizer(pdb)\\ndistances_feat.add_distances(\\n    distances_feat.pairs(active_atom1, excluded_neighbors=2), periodic=False\\n)\\ndistances_feat.add_distances(\\n    distances_feat.pairs(active_atom2, excluded_neighbors=2), periodic=False\\n)\\ndistances_data = pyemma.coordinates.load(files, features=distances_feat)\\nlabels += [\\\"backbone atom\\\\ndistances\\\"]\\n# distances_feat.describe()\";\n",
       "                var nbb_formatted_code = \"# \\u591a\\u6bb5\\u8bc4\\u5206\\n\\n# \\u591a\\u6bb5\\u626d\\u8f6c\\u89d2\\nactive_resi1 = \\\"resi 100 to 120\\\"\\nactive_resi2 = \\\"resi 259 to 290\\\"\\ntorsions_feat = pyemma.coordinates.featurizer(pdb)\\ntorsions_feat.add_sidechain_torsions(selstr=active_resi1, cossin=True, periodic=False)\\ntorsions_feat.add_sidechain_torsions(selstr=active_resi2, cossin=True, periodic=False)\\ntorsions_data = pyemma.coordinates.load(files, features=torsions_feat)\\nlabels = [\\\"backbone\\\\ntorsions\\\"]\\n# torsions_feat.describe()\\n\\n# \\u591a\\u6bb5\\u6b8b\\u57fa\\u5750\\u6807\\nactive_residue1 = arange(99, 120)\\nactive_residue2 = arange(259, 290)\\nactive_residue = list(active_residue1) + list(active_residue2)\\npositions_feat = pyemma.coordinates.featurizer(pdb)\\npositions_feat.add_residue_COM(active_residue)\\npositions_data = pyemma.coordinates.load(files, features=positions_feat)\\nlabels += [\\\"backbone atom\\\\npositions\\\"]\\n# positions_feat.describe()\\n\\n# \\u591a\\u6bb5\\u914d\\u5bf9\\u539f\\u5b50\\u8ddd\\u79bb\\nactive_atom1 = topology.select(\\\"name CA and resi 99 to 120\\\")\\nactive_atom2 = topology.select(\\\"name CA and resi 259 to 290\\\")\\ndistances_feat = pyemma.coordinates.featurizer(pdb)\\ndistances_feat.add_distances(\\n    distances_feat.pairs(active_atom1, excluded_neighbors=2), periodic=False\\n)\\ndistances_feat.add_distances(\\n    distances_feat.pairs(active_atom2, excluded_neighbors=2), periodic=False\\n)\\ndistances_data = pyemma.coordinates.load(files, features=distances_feat)\\nlabels += [\\\"backbone atom\\\\ndistances\\\"]\\n# distances_feat.describe()\";\n",
       "                var nbb_cells = Jupyter.notebook.get_cells();\n",
       "                for (var i = 0; i < nbb_cells.length; ++i) {\n",
       "                    if (nbb_cells[i].input_prompt_number == nbb_cell_id) {\n",
       "                        if (nbb_cells[i].get_text() == nbb_unformatted_code) {\n",
       "                             nbb_cells[i].set_text(nbb_formatted_code);\n",
       "                        }\n",
       "                        break;\n",
       "                    }\n",
       "                }\n",
       "            }, 500);\n",
       "            "
      ],
      "text/plain": [
       "<IPython.core.display.Javascript object>"
      ]
     },
     "metadata": {},
     "output_type": "display_data"
    }
   ],
   "source": [
    "# 多段评分\n",
    "\n",
    "# 多段扭转角\n",
    "active_resi1 = \"resi 100 to 120\"\n",
    "active_resi2 = \"resi 259 to 290\"\n",
    "torsions_feat = pyemma.coordinates.featurizer(pdb)\n",
    "torsions_feat.add_sidechain_torsions(selstr=active_resi1, cossin=True, periodic=False)\n",
    "torsions_feat.add_sidechain_torsions(selstr=active_resi2, cossin=True, periodic=False)\n",
    "torsions_data = pyemma.coordinates.load(files, features=torsions_feat)\n",
    "labels = [\"backbone\\ntorsions\"]\n",
    "# torsions_feat.describe()\n",
    "\n",
    "# 多段残基坐标\n",
    "active_residue1 = arange(99, 120)\n",
    "active_residue2 = arange(259, 290)\n",
    "active_residue = list(active_residue1) + list(active_residue2)\n",
    "positions_feat = pyemma.coordinates.featurizer(pdb)\n",
    "positions_feat.add_residue_COM(active_residue)\n",
    "positions_data = pyemma.coordinates.load(files, features=positions_feat)\n",
    "labels += [\"backbone atom\\npositions\"]\n",
    "# positions_feat.describe()\n",
    "\n",
    "# 多段配对原子距离\n",
    "active_atom1 = topology.select(\"name CA and resi 99 to 120\")\n",
    "active_atom2 = topology.select(\"name CA and resi 259 to 290\")\n",
    "distances_feat = pyemma.coordinates.featurizer(pdb)\n",
    "distances_feat.add_distances(\n",
    "    distances_feat.pairs(active_atom1, excluded_neighbors=2), periodic=False\n",
    ")\n",
    "distances_feat.add_distances(\n",
    "    distances_feat.pairs(active_atom2, excluded_neighbors=2), periodic=False\n",
    ")\n",
    "distances_data = pyemma.coordinates.load(files, features=distances_feat)\n",
    "labels += [\"backbone atom\\ndistances\"]\n",
    "# distances_feat.describe()"
   ]
  },
  {
   "cell_type": "markdown",
   "id": "7d264209",
   "metadata": {},
   "source": [
    "# 打分"
   ]
  },
  {
   "cell_type": "code",
   "execution_count": 6,
   "id": "c7c955fc",
   "metadata": {
    "ExecuteTime": {
     "end_time": "2022-05-23T01:57:50.583736Z",
     "start_time": "2022-05-23T01:55:12.830368Z"
    }
   },
   "outputs": [
    {
     "name": "stderr",
     "output_type": "stream",
     "text": [
      "100%|\u001b[34m███████████████████████████████████████████\u001b[0m| 10/10 [00:17<00:00,  1.75s/it]\u001b[0m\n",
      "100%|\u001b[34m███████████████████████████████████████████\u001b[0m| 10/10 [00:17<00:00,  1.75s/it]\u001b[0m\n",
      "100%|\u001b[34m███████████████████████████████████████████\u001b[0m| 10/10 [00:17<00:00,  1.77s/it]\u001b[0m\n",
      "100%|\u001b[34m███████████████████████████████████████████\u001b[0m| 10/10 [00:17<00:00,  1.76s/it]\u001b[0m\n",
      "100%|\u001b[34m███████████████████████████████████████████\u001b[0m| 10/10 [00:17<00:00,  1.77s/it]\u001b[0m\n",
      "100%|\u001b[34m███████████████████████████████████████████\u001b[0m| 10/10 [00:17<00:00,  1.75s/it]\u001b[0m\n",
      "100%|\u001b[34m███████████████████████████████████████████\u001b[0m| 10/10 [00:17<00:00,  1.73s/it]\u001b[0m\n",
      "100%|\u001b[34m███████████████████████████████████████████\u001b[0m| 10/10 [00:17<00:00,  1.73s/it]\u001b[0m\n",
      "100%|\u001b[34m███████████████████████████████████████████\u001b[0m| 10/10 [00:17<00:00,  1.74s/it]\u001b[0m"
     ]
    },
    {
     "name": "stdout",
     "output_type": "stream",
     "text": [
      "[1.00116494 1.00070931 1.00076735 1.00144991 1.00092061 1.00107467\n",
      " 1.00094673 1.00040081 1.00108363 1.00165443]\n",
      "[1.69108078 1.69093461 1.69125369 1.69101663 1.69105129 1.69092391\n",
      " 1.69095788 1.69131463 1.69103287 1.69095624]\n",
      "[1.15902085 1.15971913 1.15943735 1.15855233 1.15956106 1.15899052\n",
      " 1.15919106 1.15924286 1.1598815  1.15931134]\n"
     ]
    },
    {
     "name": "stderr",
     "output_type": "stream",
     "text": [
      "\n"
     ]
    },
    {
     "data": {
      "image/png": "[encoded data removed]",
      "text/plain": [
       "<Figure size 864x216 with 3 Axes>"
      ]
     },
     "metadata": {
      "needs_background": "light"
     },
     "output_type": "display_data"
    },
    {
     "data": {
      "application/javascript": [
       "\n",
       "            setTimeout(function() {\n",
       "                var nbb_cell_id = 6;\n",
       "                var nbb_unformatted_code = \"import os\\n\\nos.environ[\\\"KMP_DUPLICATE_LIB_OK\\\"] = \\\"TRUE\\\"\\n\\n\\ndef score_cv(data, dim, lag, number_of_splits=10, validation_fraction=0.5):\\n    \\\"\\\"\\\"Compute a cross-validated VAMP2 score.\\n\\n    We randomly split the list of independent trajectories into\\n    a training and a validation set, compute the VAMP2 score,\\n    and repeat this process several times.\\n\\n    Parameters\\n    ----------\\n    data : list of numpy.ndarrays\\n        The input data.\\n    dim : int\\n        Number of processes to score; equivalent to the dimension\\n        after projecting the data with VAMP2.\\n    lag : int\\n        Lag time for the VAMP2 scoring.\\n    number_of_splits : int, optional, default=10\\n        How often do we repeat the splitting and score calculation.\\n    validation_fraction : int, optional, default=0.5\\n        Fraction of trajectories which should go into the validation\\n        set during a split.\\n    \\\"\\\"\\\"\\n    # we temporarily suppress very short-lived progress bars\\n    with pyemma.util.contexts.settings(show_progress_bars=False):\\n        nval = int(len(data) * validation_fraction)\\n        scores = np.zeros(number_of_splits)\\n        for n in tqdm(range(number_of_splits), ncols=80, colour=\\\"blue\\\"):\\n            sleep(0.05)\\n            ival = np.random.choice(len(data), size=nval, replace=False)\\n            vamp = pyemma.coordinates.vamp(\\n                [d for i, d in enumerate(data) if i not in ival], lag=lag, dim=dim\\n            )\\n            scores[n] = vamp.score([d for i, d in enumerate(data) if i in ival])\\n    return scores\\n\\n\\ndim = 1\\n# \\u8f68\\u8ff9\\u6761\\u6570\\n\\nfig, axes = plt.subplots(1, 3, figsize=(12, 3), sharey=True)\\nfor ax, lag in zip(axes.flat, [5, 10, 15]):\\n    torsions_scores = score_cv(torsions_data, lag=lag, dim=dim)\\n    scores = [torsions_scores.mean()]\\n    errors = [torsions_scores.std()]\\n    positions_scores = score_cv(positions_data, lag=lag, dim=dim)\\n    scores += [positions_scores.mean()]\\n    errors += [positions_scores.std()]\\n    distances_scores = score_cv(distances_data, lag=lag, dim=dim)\\n    scores += [distances_scores.mean()]\\n    errors += [distances_scores.std()]\\n    ax.bar(labels, scores, yerr=errors, color=[\\\"C0\\\", \\\"C1\\\", \\\"C2\\\"])\\n    ax.set_title(r\\\"lag time $\\\\tau$={:.1f}ns\\\".format(lag * 0.1))\\n    if lag == 5:\\n        # save for later\\n        vamp_bars_plot = dict(\\n            labels=labels, scores=scores, errors=errors, dim=dim, lag=lag\\n        )\\naxes[0].set_ylabel(\\\"VAMP2 score\\\")\\nfig.tight_layout()\\n\\nprint(torsions_scores)\\nprint(positions_scores)\\nprint(distances_scores)\";\n",
       "                var nbb_formatted_code = \"import os\\n\\nos.environ[\\\"KMP_DUPLICATE_LIB_OK\\\"] = \\\"TRUE\\\"\\n\\n\\ndef score_cv(data, dim, lag, number_of_splits=10, validation_fraction=0.5):\\n    \\\"\\\"\\\"Compute a cross-validated VAMP2 score.\\n\\n    We randomly split the list of independent trajectories into\\n    a training and a validation set, compute the VAMP2 score,\\n    and repeat this process several times.\\n\\n    Parameters\\n    ----------\\n    data : list of numpy.ndarrays\\n        The input data.\\n    dim : int\\n        Number of processes to score; equivalent to the dimension\\n        after projecting the data with VAMP2.\\n    lag : int\\n        Lag time for the VAMP2 scoring.\\n    number_of_splits : int, optional, default=10\\n        How often do we repeat the splitting and score calculation.\\n    validation_fraction : int, optional, default=0.5\\n        Fraction of trajectories which should go into the validation\\n        set during a split.\\n    \\\"\\\"\\\"\\n    # we temporarily suppress very short-lived progress bars\\n    with pyemma.util.contexts.settings(show_progress_bars=False):\\n        nval = int(len(data) * validation_fraction)\\n        scores = np.zeros(number_of_splits)\\n        for n in tqdm(range(number_of_splits), ncols=80, colour=\\\"blue\\\"):\\n            sleep(0.05)\\n            ival = np.random.choice(len(data), size=nval, replace=False)\\n            vamp = pyemma.coordinates.vamp(\\n                [d for i, d in enumerate(data) if i not in ival], lag=lag, dim=dim\\n            )\\n            scores[n] = vamp.score([d for i, d in enumerate(data) if i in ival])\\n    return scores\\n\\n\\ndim = 1\\n# \\u8f68\\u8ff9\\u6761\\u6570\\n\\nfig, axes = plt.subplots(1, 3, figsize=(12, 3), sharey=True)\\nfor ax, lag in zip(axes.flat, [5, 10, 15]):\\n    torsions_scores = score_cv(torsions_data, lag=lag, dim=dim)\\n    scores = [torsions_scores.mean()]\\n    errors = [torsions_scores.std()]\\n    positions_scores = score_cv(positions_data, lag=lag, dim=dim)\\n    scores += [positions_scores.mean()]\\n    errors += [positions_scores.std()]\\n    distances_scores = score_cv(distances_data, lag=lag, dim=dim)\\n    scores += [distances_scores.mean()]\\n    errors += [distances_scores.std()]\\n    ax.bar(labels, scores, yerr=errors, color=[\\\"C0\\\", \\\"C1\\\", \\\"C2\\\"])\\n    ax.set_title(r\\\"lag time $\\\\tau$={:.1f}ns\\\".format(lag * 0.1))\\n    if lag == 5:\\n        # save for later\\n        vamp_bars_plot = dict(\\n            labels=labels, scores=scores, errors=errors, dim=dim, lag=lag\\n        )\\naxes[0].set_ylabel(\\\"VAMP2 score\\\")\\nfig.tight_layout()\\n\\nprint(torsions_scores)\\nprint(positions_scores)\\nprint(distances_scores)\";\n",
       "                var nbb_cells = Jupyter.notebook.get_cells();\n",
       "                for (var i = 0; i < nbb_cells.length; ++i) {\n",
       "                    if (nbb_cells[i].input_prompt_number == nbb_cell_id) {\n",
       "                        if (nbb_cells[i].get_text() == nbb_unformatted_code) {\n",
       "                             nbb_cells[i].set_text(nbb_formatted_code);\n",
       "                        }\n",
       "                        break;\n",
       "                    }\n",
       "                }\n",
       "            }, 500);\n",
       "            "
      ],
      "text/plain": [
       "<IPython.core.display.Javascript object>"
      ]
     },
     "metadata": {},
     "output_type": "display_data"
    }
   ],
   "source": [
    "import os\n",
    "\n",
    "os.environ[\"KMP_DUPLICATE_LIB_OK\"] = \"TRUE\"\n",
    "\n",
    "\n",
    "def score_cv(data, dim, lag, number_of_splits=10, validation_fraction=0.5):\n",
    "    \"\"\"Compute a cross-validated VAMP2 score.\n",
    "\n",
    "    We randomly split the list of independent trajectories into\n",
    "    a training and a validation set, compute the VAMP2 score,\n",
    "    and repeat this process several times.\n",
    "\n",
    "    Parameters\n",
    "    ----------\n",
    "    data : list of numpy.ndarrays\n",
    "        The input data.\n",
    "    dim : int\n",
    "        Number of processes to score; equivalent to the dimension\n",
    "        after projecting the data with VAMP2.\n",
    "    lag : int\n",
    "        Lag time for the VAMP2 scoring.\n",
    "    number_of_splits : int, optional, default=10\n",
    "        How often do we repeat the splitting and score calculation.\n",
    "    validation_fraction : int, optional, default=0.5\n",
    "        Fraction of trajectories which should go into the validation\n",
    "        set during a split.\n",
    "    \"\"\"\n",
    "    # we temporarily suppress very short-lived progress bars\n",
    "    with pyemma.util.contexts.settings(show_progress_bars=False):\n",
    "        nval = int(len(data) * validation_fraction)\n",
    "        scores = np.zeros(number_of_splits)\n",
    "        for n in tqdm(range(number_of_splits), ncols=80, colour=\"blue\"):\n",
    "            sleep(0.05)\n",
    "            ival = np.random.choice(len(data), size=nval, replace=False)\n",
    "            vamp = pyemma.coordinates.vamp(\n",
    "                [d for i, d in enumerate(data) if i not in ival], lag=lag, dim=dim\n",
    "            )\n",
    "            scores[n] = vamp.score([d for i, d in enumerate(data) if i in ival])\n",
    "    return scores\n",
    "\n",
    "\n",
    "dim = 1\n",
    "# 轨迹条数\n",
    "\n",
    "fig, axes = plt.subplots(1, 3, figsize=(12, 3), sharey=True)\n",
    "for ax, lag in zip(axes.flat, [5, 10, 15]):\n",
    "    torsions_scores = score_cv(torsions_data, lag=lag, dim=dim)\n",
    "    scores = [torsions_scores.mean()]\n",
    "    errors = [torsions_scores.std()]\n",
    "    positions_scores = score_cv(positions_data, lag=lag, dim=dim)\n",
    "    scores += [positions_scores.mean()]\n",
    "    errors += [positions_scores.std()]\n",
    "    distances_scores = score_cv(distances_data, lag=lag, dim=dim)\n",
    "    scores += [distances_scores.mean()]\n",
    "    errors += [distances_scores.std()]\n",
    "    ax.bar(labels, scores, yerr=errors, color=[\"C0\", \"C1\", \"C2\"])\n",
    "    ax.set_title(r\"lag time $\\tau$={:.1f}ns\".format(lag * 0.1))\n",
    "    if lag == 5:\n",
    "        # save for later\n",
    "        vamp_bars_plot = dict(\n",
    "            labels=labels, scores=scores, errors=errors, dim=dim, lag=lag\n",
    "        )\n",
    "axes[0].set_ylabel(\"VAMP2 score\")\n",
    "fig.tight_layout()\n",
    "\n",
    "print(torsions_scores)\n",
    "print(positions_scores)\n",
    "print(distances_scores)"
   ]
  },
  {
   "cell_type": "code",
   "execution_count": 5,
   "id": "26ab2b98",
   "metadata": {
    "ExecuteTime": {
     "end_time": "2022-05-16T00:50:15.307475Z",
     "start_time": "2022-05-16T00:50:02.393225Z"
    },
    "scrolled": true
   },
   "outputs": [
    {
     "name": "stderr",
     "output_type": "stream",
     "text": [
      "bar: 0it [00:00, ?it/s]\n",
      "  0%|\u001b[34m                                                    \u001b[0m| 0/10 [00:00<?, ?it/s]\u001b[0m\u001b[A\n",
      " 10%|\u001b[34m████▍                                       \u001b[0m| 1/10 [00:01<00:11,  1.30s/it]\u001b[0m\u001b[A\n",
      " 20%|\u001b[34m████████▊                                   \u001b[0m| 2/10 [00:02<00:10,  1.27s/it]\u001b[0m\u001b[A\n",
      " 30%|\u001b[34m█████████████▏                              \u001b[0m| 3/10 [00:03<00:08,  1.27s/it]\u001b[0m\u001b[A\n",
      " 40%|\u001b[34m█████████████████▌                          \u001b[0m| 4/10 [00:05<00:07,  1.26s/it]\u001b[0m\u001b[A\n",
      " 50%|\u001b[34m██████████████████████                      \u001b[0m| 5/10 [00:06<00:06,  1.26s/it]\u001b[0m\u001b[A\n",
      " 60%|\u001b[34m██████████████████████████▍                 \u001b[0m| 6/10 [00:07<00:05,  1.26s/it]\u001b[0m\u001b[A\n",
      " 70%|\u001b[34m██████████████████████████████▊             \u001b[0m| 7/10 [00:08<00:03,  1.26s/it]\u001b[0m\u001b[A\n",
      " 80%|\u001b[34m███████████████████████████████████▏        \u001b[0m| 8/10 [00:10<00:02,  1.26s/it]\u001b[0m\u001b[A\n",
      " 90%|\u001b[34m███████████████████████████████████████▌    \u001b[0m| 9/10 [00:11<00:01,  1.26s/it]\u001b[0m\u001b[A\n",
      "100%|\u001b[34m███████████████████████████████████████████\u001b[0m| 10/10 [00:12<00:00,  1.26s/it]\u001b[0m\u001b[A\n",
      "\n",
      "  0%|\u001b[34m                                                    \u001b[0m| 0/10 [00:00<?, ?it/s]\u001b[0m\u001b[A\n",
      "bar: 0it [00:12, ?it/s]\n"
     ]
    },
    {
     "ename": "RuntimeError",
     "evalue": "requested more output dimensions (2) than dimension of input data (1)",
     "output_type": "error",
     "traceback": [
      "\u001b[0;31m---------------------------------------------------------------------------\u001b[0m",
      "\u001b[0;31mRuntimeError\u001b[0m                              Traceback (most recent call last)",
      "\u001b[0;32m/tmp/ipykernel_3643/417335453.py\u001b[0m in \u001b[0;36m<module>\u001b[0;34m\u001b[0m\n\u001b[1;32m     11\u001b[0m \u001b[0;32mfor\u001b[0m \u001b[0mi\u001b[0m\u001b[0;34m,\u001b[0m \u001b[0mlag\u001b[0m \u001b[0;32min\u001b[0m \u001b[0mtqdm\u001b[0m\u001b[0;34m(\u001b[0m\u001b[0menumerate\u001b[0m\u001b[0;34m(\u001b[0m\u001b[0mlags\u001b[0m\u001b[0;34m)\u001b[0m\u001b[0;34m,\u001b[0m \u001b[0mncols\u001b[0m\u001b[0;34m=\u001b[0m\u001b[0;36m80\u001b[0m\u001b[0;34m,\u001b[0m \u001b[0mdesc\u001b[0m\u001b[0;34m=\u001b[0m\u001b[0;34m\"bar\"\u001b[0m\u001b[0;34m,\u001b[0m \u001b[0mcolour\u001b[0m\u001b[0;34m=\u001b[0m\u001b[0;34m\"blue\"\u001b[0m\u001b[0;34m)\u001b[0m\u001b[0;34m:\u001b[0m\u001b[0;34m\u001b[0m\u001b[0;34m\u001b[0m\u001b[0m\n\u001b[1;32m     12\u001b[0m     \u001b[0msleep\u001b[0m\u001b[0;34m(\u001b[0m\u001b[0;36m0.05\u001b[0m\u001b[0;34m)\u001b[0m\u001b[0;34m\u001b[0m\u001b[0;34m\u001b[0m\u001b[0m\n\u001b[0;32m---> 13\u001b[0;31m     \u001b[0mscores_\u001b[0m \u001b[0;34m=\u001b[0m \u001b[0mnp\u001b[0m\u001b[0;34m.\u001b[0m\u001b[0marray\u001b[0m\u001b[0;34m(\u001b[0m\u001b[0;34m[\u001b[0m\u001b[0mscore_cv\u001b[0m\u001b[0;34m(\u001b[0m\u001b[0mtorsions_data\u001b[0m\u001b[0;34m,\u001b[0m \u001b[0mdim\u001b[0m\u001b[0;34m,\u001b[0m \u001b[0mlag\u001b[0m\u001b[0;34m)\u001b[0m \u001b[0;32mfor\u001b[0m \u001b[0mdim\u001b[0m \u001b[0;32min\u001b[0m \u001b[0mdims\u001b[0m\u001b[0;34m]\u001b[0m\u001b[0;34m)\u001b[0m  \u001b[0;31m# 改目标\u001b[0m\u001b[0;34m\u001b[0m\u001b[0;34m\u001b[0m\u001b[0m\n\u001b[0m\u001b[1;32m     14\u001b[0m     \u001b[0mscores\u001b[0m \u001b[0;34m=\u001b[0m \u001b[0mnp\u001b[0m\u001b[0;34m.\u001b[0m\u001b[0mmean\u001b[0m\u001b[0;34m(\u001b[0m\u001b[0mscores_\u001b[0m\u001b[0;34m,\u001b[0m \u001b[0maxis\u001b[0m\u001b[0;34m=\u001b[0m\u001b[0;36m1\u001b[0m\u001b[0;34m)\u001b[0m\u001b[0;34m\u001b[0m\u001b[0;34m\u001b[0m\u001b[0m\n\u001b[1;32m     15\u001b[0m     \u001b[0merrors\u001b[0m \u001b[0;34m=\u001b[0m \u001b[0mnp\u001b[0m\u001b[0;34m.\u001b[0m\u001b[0mstd\u001b[0m\u001b[0;34m(\u001b[0m\u001b[0mscores_\u001b[0m\u001b[0;34m,\u001b[0m \u001b[0maxis\u001b[0m\u001b[0;34m=\u001b[0m\u001b[0;36m1\u001b[0m\u001b[0;34m,\u001b[0m \u001b[0mddof\u001b[0m\u001b[0;34m=\u001b[0m\u001b[0;36m1\u001b[0m\u001b[0;34m)\u001b[0m\u001b[0;34m\u001b[0m\u001b[0;34m\u001b[0m\u001b[0m\n",
      "\u001b[0;32m/tmp/ipykernel_3643/417335453.py\u001b[0m in \u001b[0;36m<listcomp>\u001b[0;34m(.0)\u001b[0m\n\u001b[1;32m     11\u001b[0m \u001b[0;32mfor\u001b[0m \u001b[0mi\u001b[0m\u001b[0;34m,\u001b[0m \u001b[0mlag\u001b[0m \u001b[0;32min\u001b[0m \u001b[0mtqdm\u001b[0m\u001b[0;34m(\u001b[0m\u001b[0menumerate\u001b[0m\u001b[0;34m(\u001b[0m\u001b[0mlags\u001b[0m\u001b[0;34m)\u001b[0m\u001b[0;34m,\u001b[0m \u001b[0mncols\u001b[0m\u001b[0;34m=\u001b[0m\u001b[0;36m80\u001b[0m\u001b[0;34m,\u001b[0m \u001b[0mdesc\u001b[0m\u001b[0;34m=\u001b[0m\u001b[0;34m\"bar\"\u001b[0m\u001b[0;34m,\u001b[0m \u001b[0mcolour\u001b[0m\u001b[0;34m=\u001b[0m\u001b[0;34m\"blue\"\u001b[0m\u001b[0;34m)\u001b[0m\u001b[0;34m:\u001b[0m\u001b[0;34m\u001b[0m\u001b[0;34m\u001b[0m\u001b[0m\n\u001b[1;32m     12\u001b[0m     \u001b[0msleep\u001b[0m\u001b[0;34m(\u001b[0m\u001b[0;36m0.05\u001b[0m\u001b[0;34m)\u001b[0m\u001b[0;34m\u001b[0m\u001b[0;34m\u001b[0m\u001b[0m\n\u001b[0;32m---> 13\u001b[0;31m     \u001b[0mscores_\u001b[0m \u001b[0;34m=\u001b[0m \u001b[0mnp\u001b[0m\u001b[0;34m.\u001b[0m\u001b[0marray\u001b[0m\u001b[0;34m(\u001b[0m\u001b[0;34m[\u001b[0m\u001b[0mscore_cv\u001b[0m\u001b[0;34m(\u001b[0m\u001b[0mtorsions_data\u001b[0m\u001b[0;34m,\u001b[0m \u001b[0mdim\u001b[0m\u001b[0;34m,\u001b[0m \u001b[0mlag\u001b[0m\u001b[0;34m)\u001b[0m \u001b[0;32mfor\u001b[0m \u001b[0mdim\u001b[0m \u001b[0;32min\u001b[0m \u001b[0mdims\u001b[0m\u001b[0;34m]\u001b[0m\u001b[0;34m)\u001b[0m  \u001b[0;31m# 改目标\u001b[0m\u001b[0;34m\u001b[0m\u001b[0;34m\u001b[0m\u001b[0m\n\u001b[0m\u001b[1;32m     14\u001b[0m     \u001b[0mscores\u001b[0m \u001b[0;34m=\u001b[0m \u001b[0mnp\u001b[0m\u001b[0;34m.\u001b[0m\u001b[0mmean\u001b[0m\u001b[0;34m(\u001b[0m\u001b[0mscores_\u001b[0m\u001b[0;34m,\u001b[0m \u001b[0maxis\u001b[0m\u001b[0;34m=\u001b[0m\u001b[0;36m1\u001b[0m\u001b[0;34m)\u001b[0m\u001b[0;34m\u001b[0m\u001b[0;34m\u001b[0m\u001b[0m\n\u001b[1;32m     15\u001b[0m     \u001b[0merrors\u001b[0m \u001b[0;34m=\u001b[0m \u001b[0mnp\u001b[0m\u001b[0;34m.\u001b[0m\u001b[0mstd\u001b[0m\u001b[0;34m(\u001b[0m\u001b[0mscores_\u001b[0m\u001b[0;34m,\u001b[0m \u001b[0maxis\u001b[0m\u001b[0;34m=\u001b[0m\u001b[0;36m1\u001b[0m\u001b[0;34m,\u001b[0m \u001b[0mddof\u001b[0m\u001b[0;34m=\u001b[0m\u001b[0;36m1\u001b[0m\u001b[0;34m)\u001b[0m\u001b[0;34m\u001b[0m\u001b[0;34m\u001b[0m\u001b[0m\n",
      "\u001b[0;32m/tmp/ipykernel_3643/564872109.py\u001b[0m in \u001b[0;36mscore_cv\u001b[0;34m(data, dim, lag, number_of_splits, validation_fraction)\u001b[0m\n\u001b[1;32m     33\u001b[0m             \u001b[0msleep\u001b[0m\u001b[0;34m(\u001b[0m\u001b[0;36m0.05\u001b[0m\u001b[0;34m)\u001b[0m\u001b[0;34m\u001b[0m\u001b[0;34m\u001b[0m\u001b[0m\n\u001b[1;32m     34\u001b[0m             \u001b[0mival\u001b[0m \u001b[0;34m=\u001b[0m \u001b[0mnp\u001b[0m\u001b[0;34m.\u001b[0m\u001b[0mrandom\u001b[0m\u001b[0;34m.\u001b[0m\u001b[0mchoice\u001b[0m\u001b[0;34m(\u001b[0m\u001b[0mlen\u001b[0m\u001b[0;34m(\u001b[0m\u001b[0mdata\u001b[0m\u001b[0;34m)\u001b[0m\u001b[0;34m,\u001b[0m \u001b[0msize\u001b[0m\u001b[0;34m=\u001b[0m\u001b[0mnval\u001b[0m\u001b[0;34m,\u001b[0m \u001b[0mreplace\u001b[0m\u001b[0;34m=\u001b[0m\u001b[0;32mFalse\u001b[0m\u001b[0;34m)\u001b[0m\u001b[0;34m\u001b[0m\u001b[0;34m\u001b[0m\u001b[0m\n\u001b[0;32m---> 35\u001b[0;31m             vamp = pyemma.coordinates.vamp(\n\u001b[0m\u001b[1;32m     36\u001b[0m                 \u001b[0;34m[\u001b[0m\u001b[0md\u001b[0m \u001b[0;32mfor\u001b[0m \u001b[0mi\u001b[0m\u001b[0;34m,\u001b[0m \u001b[0md\u001b[0m \u001b[0;32min\u001b[0m \u001b[0menumerate\u001b[0m\u001b[0;34m(\u001b[0m\u001b[0mdata\u001b[0m\u001b[0;34m)\u001b[0m \u001b[0;32mif\u001b[0m \u001b[0mi\u001b[0m \u001b[0;32mnot\u001b[0m \u001b[0;32min\u001b[0m \u001b[0mival\u001b[0m\u001b[0;34m]\u001b[0m\u001b[0;34m,\u001b[0m \u001b[0mlag\u001b[0m\u001b[0;34m=\u001b[0m\u001b[0mlag\u001b[0m\u001b[0;34m,\u001b[0m \u001b[0mdim\u001b[0m\u001b[0;34m=\u001b[0m\u001b[0mdim\u001b[0m\u001b[0;34m\u001b[0m\u001b[0;34m\u001b[0m\u001b[0m\n\u001b[1;32m     37\u001b[0m             )\n",
      "\u001b[0;32m~/miniconda3/envs/env_py3.8/lib/python3.8/site-packages/pyemma/coordinates/api.py\u001b[0m in \u001b[0;36mvamp\u001b[0;34m(data, lag, dim, scaling, right, ncov_max, stride, skip, chunksize)\u001b[0m\n\u001b[1;32m   1427\u001b[0m     \u001b[0mres\u001b[0m \u001b[0;34m=\u001b[0m \u001b[0mVAMP\u001b[0m\u001b[0;34m(\u001b[0m\u001b[0mlag\u001b[0m\u001b[0;34m,\u001b[0m \u001b[0mdim\u001b[0m\u001b[0;34m=\u001b[0m\u001b[0mdim\u001b[0m\u001b[0;34m,\u001b[0m \u001b[0mscaling\u001b[0m\u001b[0;34m=\u001b[0m\u001b[0mscaling\u001b[0m\u001b[0;34m,\u001b[0m \u001b[0mright\u001b[0m\u001b[0;34m=\u001b[0m\u001b[0mright\u001b[0m\u001b[0;34m,\u001b[0m \u001b[0mskip\u001b[0m\u001b[0;34m=\u001b[0m\u001b[0mskip\u001b[0m\u001b[0;34m,\u001b[0m \u001b[0mncov_max\u001b[0m\u001b[0;34m=\u001b[0m\u001b[0mncov_max\u001b[0m\u001b[0;34m)\u001b[0m\u001b[0;34m\u001b[0m\u001b[0;34m\u001b[0m\u001b[0m\n\u001b[1;32m   1428\u001b[0m     \u001b[0;32mif\u001b[0m \u001b[0mdata\u001b[0m \u001b[0;32mis\u001b[0m \u001b[0;32mnot\u001b[0m \u001b[0;32mNone\u001b[0m\u001b[0;34m:\u001b[0m\u001b[0;34m\u001b[0m\u001b[0;34m\u001b[0m\u001b[0m\n\u001b[0;32m-> 1429\u001b[0;31m         \u001b[0mres\u001b[0m\u001b[0;34m.\u001b[0m\u001b[0mestimate\u001b[0m\u001b[0;34m(\u001b[0m\u001b[0mdata\u001b[0m\u001b[0;34m,\u001b[0m \u001b[0mstride\u001b[0m\u001b[0;34m=\u001b[0m\u001b[0mstride\u001b[0m\u001b[0;34m,\u001b[0m \u001b[0mchunksize\u001b[0m\u001b[0;34m=\u001b[0m\u001b[0mchunksize\u001b[0m\u001b[0;34m)\u001b[0m\u001b[0;34m\u001b[0m\u001b[0;34m\u001b[0m\u001b[0m\n\u001b[0m\u001b[1;32m   1430\u001b[0m     \u001b[0;32melse\u001b[0m\u001b[0;34m:\u001b[0m\u001b[0;34m\u001b[0m\u001b[0;34m\u001b[0m\u001b[0m\n\u001b[1;32m   1431\u001b[0m         \u001b[0mres\u001b[0m\u001b[0;34m.\u001b[0m\u001b[0mchunksize\u001b[0m \u001b[0;34m=\u001b[0m \u001b[0mchunksize\u001b[0m\u001b[0;34m\u001b[0m\u001b[0;34m\u001b[0m\u001b[0m\n",
      "\u001b[0;32m~/miniconda3/envs/env_py3.8/lib/python3.8/site-packages/pyemma/coordinates/data/_base/transformer.py\u001b[0m in \u001b[0;36mestimate\u001b[0;34m(self, X, **kwargs)\u001b[0m\n\u001b[1;32m    213\u001b[0m     \u001b[0;34m\"\"\" Basis class for pipelined Transformers, which perform also estimation. \"\"\"\u001b[0m\u001b[0;34m\u001b[0m\u001b[0;34m\u001b[0m\u001b[0m\n\u001b[1;32m    214\u001b[0m     \u001b[0;32mdef\u001b[0m \u001b[0mestimate\u001b[0m\u001b[0;34m(\u001b[0m\u001b[0mself\u001b[0m\u001b[0;34m,\u001b[0m \u001b[0mX\u001b[0m\u001b[0;34m,\u001b[0m \u001b[0;34m**\u001b[0m\u001b[0mkwargs\u001b[0m\u001b[0;34m)\u001b[0m\u001b[0;34m:\u001b[0m\u001b[0;34m\u001b[0m\u001b[0;34m\u001b[0m\u001b[0m\n\u001b[0;32m--> 215\u001b[0;31m         \u001b[0msuper\u001b[0m\u001b[0;34m(\u001b[0m\u001b[0mStreamingEstimationTransformer\u001b[0m\u001b[0;34m,\u001b[0m \u001b[0mself\u001b[0m\u001b[0;34m)\u001b[0m\u001b[0;34m.\u001b[0m\u001b[0mestimate\u001b[0m\u001b[0;34m(\u001b[0m\u001b[0mX\u001b[0m\u001b[0;34m,\u001b[0m \u001b[0;34m**\u001b[0m\u001b[0mkwargs\u001b[0m\u001b[0;34m)\u001b[0m\u001b[0;34m\u001b[0m\u001b[0;34m\u001b[0m\u001b[0m\n\u001b[0m\u001b[1;32m    216\u001b[0m         \u001b[0;31m# we perform the mapping to memory exactly here, because a StreamingEstimator on its own\u001b[0m\u001b[0;34m\u001b[0m\u001b[0;34m\u001b[0m\u001b[0;34m\u001b[0m\u001b[0m\n\u001b[1;32m    217\u001b[0m         \u001b[0;31m# has not output to be mapped. Only the combination of Estimation/Transforming has this feature.\u001b[0m\u001b[0;34m\u001b[0m\u001b[0;34m\u001b[0m\u001b[0;34m\u001b[0m\u001b[0m\n",
      "\u001b[0;32m~/miniconda3/envs/env_py3.8/lib/python3.8/site-packages/pyemma/coordinates/data/_base/streaming_estimator.py\u001b[0m in \u001b[0;36mestimate\u001b[0;34m(self, X, chunksize, **kwargs)\u001b[0m\n\u001b[1;32m     42\u001b[0m         \u001b[0;31m# run estimation\u001b[0m\u001b[0;34m\u001b[0m\u001b[0;34m\u001b[0m\u001b[0;34m\u001b[0m\u001b[0m\n\u001b[1;32m     43\u001b[0m         \u001b[0;32mtry\u001b[0m\u001b[0;34m:\u001b[0m\u001b[0;34m\u001b[0m\u001b[0;34m\u001b[0m\u001b[0m\n\u001b[0;32m---> 44\u001b[0;31m             \u001b[0msuper\u001b[0m\u001b[0;34m(\u001b[0m\u001b[0mStreamingEstimator\u001b[0m\u001b[0;34m,\u001b[0m \u001b[0mself\u001b[0m\u001b[0;34m)\u001b[0m\u001b[0;34m.\u001b[0m\u001b[0mestimate\u001b[0m\u001b[0;34m(\u001b[0m\u001b[0mX\u001b[0m\u001b[0;34m,\u001b[0m \u001b[0;34m**\u001b[0m\u001b[0mkwargs\u001b[0m\u001b[0;34m)\u001b[0m\u001b[0;34m\u001b[0m\u001b[0;34m\u001b[0m\u001b[0m\n\u001b[0m\u001b[1;32m     45\u001b[0m         \u001b[0;32mexcept\u001b[0m \u001b[0mNotConvergedWarning\u001b[0m \u001b[0;32mas\u001b[0m \u001b[0mncw\u001b[0m\u001b[0;34m:\u001b[0m\u001b[0;34m\u001b[0m\u001b[0;34m\u001b[0m\u001b[0m\n\u001b[1;32m     46\u001b[0m             self.logger.info(\n",
      "\u001b[0;32m~/miniconda3/envs/env_py3.8/lib/python3.8/site-packages/pyemma/_base/estimator.py\u001b[0m in \u001b[0;36mestimate\u001b[0;34m(self, X, **params)\u001b[0m\n\u001b[1;32m    405\u001b[0m         \u001b[0;32mif\u001b[0m \u001b[0mparams\u001b[0m\u001b[0;34m:\u001b[0m\u001b[0;34m\u001b[0m\u001b[0;34m\u001b[0m\u001b[0m\n\u001b[1;32m    406\u001b[0m             \u001b[0mself\u001b[0m\u001b[0;34m.\u001b[0m\u001b[0mset_params\u001b[0m\u001b[0;34m(\u001b[0m\u001b[0;34m**\u001b[0m\u001b[0mparams\u001b[0m\u001b[0;34m)\u001b[0m\u001b[0;34m\u001b[0m\u001b[0;34m\u001b[0m\u001b[0m\n\u001b[0;32m--> 407\u001b[0;31m         \u001b[0mself\u001b[0m\u001b[0;34m.\u001b[0m\u001b[0m_model\u001b[0m \u001b[0;34m=\u001b[0m \u001b[0mself\u001b[0m\u001b[0;34m.\u001b[0m\u001b[0m_estimate\u001b[0m\u001b[0;34m(\u001b[0m\u001b[0mX\u001b[0m\u001b[0;34m)\u001b[0m\u001b[0;34m\u001b[0m\u001b[0;34m\u001b[0m\u001b[0m\n\u001b[0m\u001b[1;32m    408\u001b[0m         \u001b[0;31m# ensure _estimate returned something\u001b[0m\u001b[0;34m\u001b[0m\u001b[0;34m\u001b[0m\u001b[0;34m\u001b[0m\u001b[0m\n\u001b[1;32m    409\u001b[0m         \u001b[0;32massert\u001b[0m \u001b[0mself\u001b[0m\u001b[0;34m.\u001b[0m\u001b[0m_model\u001b[0m \u001b[0;32mis\u001b[0m \u001b[0;32mnot\u001b[0m \u001b[0;32mNone\u001b[0m\u001b[0;34m\u001b[0m\u001b[0;34m\u001b[0m\u001b[0m\n",
      "\u001b[0;32m~/miniconda3/envs/env_py3.8/lib/python3.8/site-packages/pyemma/coordinates/transform/vamp.py\u001b[0m in \u001b[0;36m_estimate\u001b[0;34m(self, iterable, **kw)\u001b[0m\n\u001b[1;32m    602\u001b[0m \u001b[0;34m\u001b[0m\u001b[0m\n\u001b[1;32m    603\u001b[0m         \u001b[0;32mif\u001b[0m \u001b[0misinstance\u001b[0m\u001b[0;34m(\u001b[0m\u001b[0mself\u001b[0m\u001b[0;34m.\u001b[0m\u001b[0mdim\u001b[0m\u001b[0;34m,\u001b[0m \u001b[0mint\u001b[0m\u001b[0;34m)\u001b[0m \u001b[0;32mand\u001b[0m \u001b[0;32mnot\u001b[0m \u001b[0mself\u001b[0m\u001b[0;34m.\u001b[0m\u001b[0mdim\u001b[0m \u001b[0;34m<=\u001b[0m \u001b[0mindim\u001b[0m\u001b[0;34m:\u001b[0m\u001b[0;34m\u001b[0m\u001b[0;34m\u001b[0m\u001b[0m\n\u001b[0;32m--> 604\u001b[0;31m             raise RuntimeError(\"requested more output dimensions (%i) than dimension\"\n\u001b[0m\u001b[1;32m    605\u001b[0m                                \" of input data (%i)\" % (self.dim, indim))\n\u001b[1;32m    606\u001b[0m \u001b[0;34m\u001b[0m\u001b[0m\n",
      "\u001b[0;31mRuntimeError\u001b[0m: requested more output dimensions (2) than dimension of input data (1)"
     ]
    },
    {
     "data": {
      "image/png": "[encoded data removed]",
      "text/plain": [
       "<Figure size 432x288 with 1 Axes>"
      ]
     },
     "metadata": {
      "needs_background": "light"
     },
     "output_type": "display_data"
    },
    {
     "data": {
      "application/javascript": [
       "\n",
       "            setTimeout(function() {\n",
       "                var nbb_cell_id = 5;\n",
       "                var nbb_unformatted_code = \"import os\\n\\nos.environ[\\\"KMP_DUPLICATE_LIB_OK\\\"] = \\\"TRUE\\\"\\n\\nlags = [1, 2, 5, 10, 20]\\n\\n# \\u8f68\\u8ff9\\u6761\\u6570 range(n)\\ndims = [i + 1 for i in range(10)]\\n\\nfig, ax = plt.subplots()\\nfor i, lag in tqdm(enumerate(lags), ncols=80, desc=\\\"bar\\\", colour=\\\"blue\\\"):\\n    sleep(0.05)\\n    scores_ = np.array([score_cv(torsions_data, dim, lag) for dim in dims])  # \\u6539\\u76ee\\u6807\\n    scores = np.mean(scores_, axis=1)\\n    errors = np.std(scores_, axis=1, ddof=1)\\n    color = \\\"C{}\\\".format(i)\\n    ax.fill_between(dims, scores - errors, scores + errors, alpha=0.3, facecolor=color)\\n    ax.plot(dims, scores, \\\"--o\\\", color=color, label=\\\"lag={:.1f}ns\\\".format(lag * 0.1))\\nax.legend()\\nax.set_xlabel(\\\"number of dimensions\\\")\\nax.set_ylabel(\\\"VAMP2 score\\\")\\nfig.tight_layout()\";\n",
       "                var nbb_formatted_code = \"import os\\n\\nos.environ[\\\"KMP_DUPLICATE_LIB_OK\\\"] = \\\"TRUE\\\"\\n\\nlags = [1, 2, 5, 10, 20]\\n\\n# \\u8f68\\u8ff9\\u6761\\u6570 range(n)\\ndims = [i + 1 for i in range(10)]\\n\\nfig, ax = plt.subplots()\\nfor i, lag in tqdm(enumerate(lags), ncols=80, desc=\\\"bar\\\", colour=\\\"blue\\\"):\\n    sleep(0.05)\\n    scores_ = np.array([score_cv(torsions_data, dim, lag) for dim in dims])  # \\u6539\\u76ee\\u6807\\n    scores = np.mean(scores_, axis=1)\\n    errors = np.std(scores_, axis=1, ddof=1)\\n    color = \\\"C{}\\\".format(i)\\n    ax.fill_between(dims, scores - errors, scores + errors, alpha=0.3, facecolor=color)\\n    ax.plot(dims, scores, \\\"--o\\\", color=color, label=\\\"lag={:.1f}ns\\\".format(lag * 0.1))\\nax.legend()\\nax.set_xlabel(\\\"number of dimensions\\\")\\nax.set_ylabel(\\\"VAMP2 score\\\")\\nfig.tight_layout()\";\n",
       "                var nbb_cells = Jupyter.notebook.get_cells();\n",
       "                for (var i = 0; i < nbb_cells.length; ++i) {\n",
       "                    if (nbb_cells[i].input_prompt_number == nbb_cell_id) {\n",
       "                        if (nbb_cells[i].get_text() == nbb_unformatted_code) {\n",
       "                             nbb_cells[i].set_text(nbb_formatted_code);\n",
       "                        }\n",
       "                        break;\n",
       "                    }\n",
       "                }\n",
       "            }, 500);\n",
       "            "
      ],
      "text/plain": [
       "<IPython.core.display.Javascript object>"
      ]
     },
     "metadata": {},
     "output_type": "display_data"
    }
   ],
   "source": [
    "import os\n",
    "\n",
    "os.environ[\"KMP_DUPLICATE_LIB_OK\"] = \"TRUE\"\n",
    "\n",
    "lags = [1, 2, 5, 10, 20]\n",
    "\n",
    "# 轨迹条数 range(n)\n",
    "dims = [i + 1 for i in range(10)]\n",
    "\n",
    "fig, ax = plt.subplots()\n",
    "for i, lag in tqdm(enumerate(lags), ncols=80, desc=\"bar\", colour=\"blue\"):\n",
    "    sleep(0.05)\n",
    "    scores_ = np.array([score_cv(torsions_data, dim, lag) for dim in dims])  # 改目标\n",
    "    scores = np.mean(scores_, axis=1)\n",
    "    errors = np.std(scores_, axis=1, ddof=1)\n",
    "    color = \"C{}\".format(i)\n",
    "    ax.fill_between(dims, scores - errors, scores + errors, alpha=0.3, facecolor=color)\n",
    "    ax.plot(dims, scores, \"--o\", color=color, label=\"lag={:.1f}ns\".format(lag * 0.1))\n",
    "ax.legend()\n",
    "ax.set_xlabel(\"number of dimensions\")\n",
    "ax.set_ylabel(\"VAMP2 score\")\n",
    "fig.tight_layout()"
   ]
  },
  {
   "cell_type": "markdown",
   "id": "e3afaa9c",
   "metadata": {},
   "source": [
    "# 计算 RMSD"
   ]
  },
  {
   "cell_type": "code",
   "execution_count": 3,
   "id": "ac8b23bd",
   "metadata": {},
   "outputs": [
    {
     "name": "stdout",
     "output_type": "stream",
     "text": [
      "./data/pcca1_10samples.pdb [10.295552]\n",
      "./data/pcca2_10samples.pdb [10.126722]\n",
      "./data/pcca3_10samples.pdb [10.245277]\n",
      "./data/pcca4_10samples.pdb [10.239408]\n",
      "./data/pcca5_10samples.pdb [10.16946]\n"
     ]
    },
    {
     "data": {
      "application/javascript": [
       "\n",
       "            setTimeout(function() {\n",
       "                var nbb_cell_id = 3;\n",
       "                var nbb_unformatted_code = \"# calculate rmsd\\ntarget1 = \\\"./data/pcca1_10samples.pdb\\\"\\nfirst_frame1 = md.load_frame(target1, 0, topology)\\nrmsd1 = md.rmsd(first_frame1, traj, 0)\\n\\ntarget2 = \\\"./data/pcca2_10samples.pdb\\\"\\nfirst_frame2 = md.load_frame(target2, 0, topology)\\nrmsd2 = md.rmsd(first_frame2, traj, 0)\\n\\ntarget3 = \\\"./data/pcca3_10samples.pdb\\\"\\nfirst_frame3 = md.load_frame(target3, 0, topology)\\nrmsd3 = md.rmsd(first_frame3, traj, 0)\\n\\ntarget4 = \\\"./data/pcca4_10samples.pdb\\\"\\nfirst_frame4 = md.load_frame(target4, 0, topology)\\nrmsd4 = md.rmsd(first_frame4, traj, 0)\\n\\ntarget5 = \\\"./data/pcca5_10samples.pdb\\\"\\nfirst_frame5 = md.load_frame(target5, 0, topology)\\nrmsd5 = md.rmsd(first_frame5, traj, 0)\\n\\nprint(target1, rmsd1)\\nprint(target2, rmsd2)\\nprint(target3, rmsd3)\\nprint(target4, rmsd4)\\nprint(target5, rmsd5)\\n# rmsda = rmsd * 10\\n# print(\\\"rmsda\\\", \\\"\\u00c5\\\")\";\n",
       "                var nbb_formatted_code = \"# calculate rmsd\\ntarget1 = \\\"./data/pcca1_10samples.pdb\\\"\\nfirst_frame1 = md.load_frame(target1, 0, topology)\\nrmsd1 = md.rmsd(first_frame1, traj, 0)\\n\\ntarget2 = \\\"./data/pcca2_10samples.pdb\\\"\\nfirst_frame2 = md.load_frame(target2, 0, topology)\\nrmsd2 = md.rmsd(first_frame2, traj, 0)\\n\\ntarget3 = \\\"./data/pcca3_10samples.pdb\\\"\\nfirst_frame3 = md.load_frame(target3, 0, topology)\\nrmsd3 = md.rmsd(first_frame3, traj, 0)\\n\\ntarget4 = \\\"./data/pcca4_10samples.pdb\\\"\\nfirst_frame4 = md.load_frame(target4, 0, topology)\\nrmsd4 = md.rmsd(first_frame4, traj, 0)\\n\\ntarget5 = \\\"./data/pcca5_10samples.pdb\\\"\\nfirst_frame5 = md.load_frame(target5, 0, topology)\\nrmsd5 = md.rmsd(first_frame5, traj, 0)\\n\\nprint(target1, rmsd1)\\nprint(target2, rmsd2)\\nprint(target3, rmsd3)\\nprint(target4, rmsd4)\\nprint(target5, rmsd5)\\n# rmsda = rmsd * 10\\n# print(\\\"rmsda\\\", \\\"\\u00c5\\\")\";\n",
       "                var nbb_cells = Jupyter.notebook.get_cells();\n",
       "                for (var i = 0; i < nbb_cells.length; ++i) {\n",
       "                    if (nbb_cells[i].input_prompt_number == nbb_cell_id) {\n",
       "                        if (nbb_cells[i].get_text() == nbb_unformatted_code) {\n",
       "                             nbb_cells[i].set_text(nbb_formatted_code);\n",
       "                        }\n",
       "                        break;\n",
       "                    }\n",
       "                }\n",
       "            }, 500);\n",
       "            "
      ],
      "text/plain": [
       "<IPython.core.display.Javascript object>"
      ]
     },
     "metadata": {},
     "output_type": "display_data"
    }
   ],
   "source": [
    "# calculate rmsd\n",
    "target1 = \"./data/pcca1_10samples.pdb\"\n",
    "first_frame1 = md.load_frame(target1, 0, topology)\n",
    "rmsd1 = md.rmsd(first_frame1, traj, 0)\n",
    "\n",
    "target2 = \"./data/pcca2_10samples.pdb\"\n",
    "first_frame2 = md.load_frame(target2, 0, topology)\n",
    "rmsd2 = md.rmsd(first_frame2, traj, 0)\n",
    "\n",
    "target3 = \"./data/pcca3_10samples.pdb\"\n",
    "first_frame3 = md.load_frame(target3, 0, topology)\n",
    "rmsd3 = md.rmsd(first_frame3, traj, 0)\n",
    "\n",
    "target4 = \"./data/pcca4_10samples.pdb\"\n",
    "first_frame4 = md.load_frame(target4, 0, topology)\n",
    "rmsd4 = md.rmsd(first_frame4, traj, 0)\n",
    "\n",
    "target5 = \"./data/pcca5_10samples.pdb\"\n",
    "first_frame5 = md.load_frame(target5, 0, topology)\n",
    "rmsd5 = md.rmsd(first_frame5, traj, 0)\n",
    "\n",
    "print(target1, rmsd1)\n",
    "print(target2, rmsd2)\n",
    "print(target3, rmsd3)\n",
    "print(target4, rmsd4)\n",
    "print(target5, rmsd5)\n",
    "# rmsda = rmsd * 10\n",
    "# print(\"rmsda\", \"Å\")"
   ]
  },
  {
   "cell_type": "code",
   "execution_count": null,
   "id": "9f15fa21",
   "metadata": {},
   "outputs": [],
   "source": []
  },
  {
   "cell_type": "code",
   "execution_count": null,
   "id": "d65833d6",
   "metadata": {},
   "outputs": [],
   "source": []
  },
  {
   "cell_type": "code",
   "execution_count": null,
   "id": "459531ae",
   "metadata": {},
   "outputs": [],
   "source": []
  },
  {
   "cell_type": "code",
   "execution_count": null,
   "id": "7e9e1693",
   "metadata": {},
   "outputs": [],
   "source": []
  },
  {
   "cell_type": "code",
   "execution_count": null,
   "id": "95a6bf87",
   "metadata": {},
   "outputs": [],
   "source": []
  },
  {
   "cell_type": "code",
   "execution_count": null,
   "id": "a2131493",
   "metadata": {},
   "outputs": [],
   "source": []
  },
  {
   "cell_type": "code",
   "execution_count": null,
   "id": "dbb2dc75",
   "metadata": {},
   "outputs": [],
   "source": []
  },
  {
   "cell_type": "code",
   "execution_count": null,
   "id": "adebb67d",
   "metadata": {},
   "outputs": [],
   "source": []
  },
  {
   "cell_type": "code",
   "execution_count": null,
   "id": "2b6c6e46",
   "metadata": {},
   "outputs": [],
   "source": []
  },
  {
   "cell_type": "code",
   "execution_count": null,
   "id": "f0c581a5",
   "metadata": {},
   "outputs": [],
   "source": [
    "files = (\n",
    "   \"/home/sean/Desktop/Share/plpro_result/MSM/mix_zong_acn/zong_acn/6wuu_mix_acn1.trr\",\n",
    "    \"/home/sean/Desktop/Share/plpro_result/MSM/mix_zong_acn/zong_acn/6wuu_mix_acn2.trr\",\n",
    "    \"/home/sean/Desktop/Share/plpro_result/MSM/mix_zong_acn/zong_acn/6wuu_mix_acn3.trr\",\n",
    "    \"/home/sean/Desktop/Share/plpro_result/MSM/mix_zong_acn/zong_acn/6wuu_mix_acn4.trr\",\n",
    "    \"/home/sean/Desktop/Share/plpro_result/MSM/mix_zong_acn/zong_acn/6wuu_mix_acn5.trr\",\n",
    "    \"/home/sean/Desktop/Share/plpro_result/MSM/mix_zong_acn/zong_acn/6wuu_mix_acn6.trr\",\n",
    "    \"/home/sean/Desktop/Share/plpro_result/MSM/mix_zong_acn/zong_acn/6wuu_mix_acn7.trr\",\n",
    "    \"/home/sean/Desktop/Share/plpro_result/MSM/mix_zong_acn/zong_acn/6wuu_mix_acn8.trr\",\n",
    "    \"/home/sean/Desktop/Share/plpro_result/MSM/mix_zong_acn/zong_acn/6wuu_mix_acn9.trr\",\n",
    "    \"/home/sean/Desktop/Share/plpro_result/MSM/mix_zong_acn/zong_acn/6wuu_mix_acn10.trr\",\n",
    ")"
   ]
  },
  {
   "cell_type": "code",
   "execution_count": null,
   "id": "9c62d6ec",
   "metadata": {},
   "outputs": [],
   "source": [
    "files = (\n",
    "   \"/home/sean/Desktop/Share/plpro_result/MSM/mix_zong_acn/zong_protein/md_dry_jump_center_mol_center_fit1.trr\",\n",
    "    \"/home/sean/Desktop/Share/plpro_result/MSM/mix_zong_acn/zong_protein/md_dry_jump_center_mol_center_fit2.trr\",\n",
    "    \"/home/sean/Desktop/Share/plpro_result/MSM/mix_zong_acn/zong_protein/md_dry_jump_center_mol_center_fit3.trr\",\n",
    "    \"/home/sean/Desktop/Share/plpro_result/MSM/mix_zong_acn/zong_protein/md_dry_jump_center_mol_center_fit4.trr\",\n",
    "    \"/home/sean/Desktop/Share/plpro_result/MSM/mix_zong_acn/zong_protein/md_dry_jump_center_mol_center_fit5.trr\",\n",
    "    \"/home/sean/Desktop/Share/plpro_result/MSM/mix_zong_acn/zong_protein/md_dry_jump_center_mol_center_fit6.trr\",\n",
    "    \"/home/sean/Desktop/Share/plpro_result/MSM/mix_zong_acn/zong_protein/md_dry_jump_center_mol_center_fit7.trr\",\n",
    "    \"/home/sean/Desktop/Share/plpro_result/MSM/mix_zong_acn/zong_protein/md_dry_jump_center_mol_center_fit8.trr\",\n",
    "    \"/home/sean/Desktop/Share/plpro_result/MSM/mix_zong_acn/zong_protein/md_dry_jump_center_mol_center_fit9.trr\",\n",
    "    \"/home/sean/Desktop/Share/plpro_result/MSM/mix_zong_acn/zong_protein/md_dry_jump_center_mol_center_fit10.trr\",\n",
    ")"
   ]
  }
 ],
 "metadata": {
  "hide_input": false,
  "kernelspec": {
   "display_name": "Python 3 (ipykernel)",
   "language": "python",
   "name": "python3"
  },
  "language_info": {
   "codemirror_mode": {
    "name": "ipython",
    "version": 3
   },
   "file_extension": ".py",
   "mimetype": "text/x-python",
   "name": "python",
   "nbconvert_exporter": "python",
   "pygments_lexer": "ipython3",
   "version": "3.8.12"
  },
  "toc": {
   "base_numbering": 1,
   "nav_menu": {},
   "number_sections": true,
   "sideBar": true,
   "skip_h1_title": false,
   "title_cell": "Table of Contents",
   "title_sidebar": "Contents",
   "toc_cell": false,
   "toc_position": {
    "height": "calc(100% - 180px)",
    "left": "10px",
    "top": "150px",
    "width": "256px"
   },
   "toc_section_display": true,
   "toc_window_display": true
  }
 },
 "nbformat": 4,
 "nbformat_minor": 5
}
