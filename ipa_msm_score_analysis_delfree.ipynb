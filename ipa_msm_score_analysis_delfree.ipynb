{
 "cells": [
  {
   "cell_type": "markdown",
   "id": "52424f4d",
   "metadata": {},
   "source": [
    "# 导入文件"
   ]
  },
  {
   "cell_type": "code",
   "execution_count": 2,
   "id": "9ea18fd9",
   "metadata": {
    "ExecuteTime": {
     "end_time": "2022-05-16T01:13:38.576068Z",
     "start_time": "2022-05-16T01:13:37.866779Z"
    }
   },
   "outputs": [
    {
     "data": {
      "application/javascript": [
       "\n",
       "            setTimeout(function() {\n",
       "                var nbb_cell_id = 2;\n",
       "                var nbb_unformatted_code = \"%matplotlib inline\\n%load_ext nb_black\\nimport matplotlib.pyplot as plt\\nimport matplotlib as mpl\\n\\nfrom numpy import *\\nimport numpy as np\\n\\nimport pyemma\\nfrom pyemma.util.contexts import settings\\nimport pyemma.plots as mplt\\nimport pyemma.msm as msm\\n\\nfrom __future__ import print_function\\nimport mdtraj\\nimport mdtraj as md\\n\\nfrom tqdm import tqdm\\nfrom time import sleep\\n\\n# import mdshare\";\n",
       "                var nbb_formatted_code = \"%matplotlib inline\\n%load_ext nb_black\\nimport matplotlib.pyplot as plt\\nimport matplotlib as mpl\\n\\nfrom numpy import *\\nimport numpy as np\\n\\nimport pyemma\\nfrom pyemma.util.contexts import settings\\nimport pyemma.plots as mplt\\nimport pyemma.msm as msm\\n\\nfrom __future__ import print_function\\nimport mdtraj\\nimport mdtraj as md\\n\\nfrom tqdm import tqdm\\nfrom time import sleep\\n\\n# import mdshare\";\n",
       "                var nbb_cells = Jupyter.notebook.get_cells();\n",
       "                for (var i = 0; i < nbb_cells.length; ++i) {\n",
       "                    if (nbb_cells[i].input_prompt_number == nbb_cell_id) {\n",
       "                        if (nbb_cells[i].get_text() == nbb_unformatted_code) {\n",
       "                             nbb_cells[i].set_text(nbb_formatted_code);\n",
       "                        }\n",
       "                        break;\n",
       "                    }\n",
       "                }\n",
       "            }, 500);\n",
       "            "
      ],
      "text/plain": [
       "<IPython.core.display.Javascript object>"
      ]
     },
     "metadata": {},
     "output_type": "display_data"
    }
   ],
   "source": [
    "%matplotlib inline\n",
    "%load_ext nb_black\n",
    "import matplotlib.pyplot as plt\n",
    "import matplotlib as mpl\n",
    "\n",
    "from numpy import *\n",
    "import numpy as np\n",
    "\n",
    "import pyemma\n",
    "from pyemma.util.contexts import settings\n",
    "import pyemma.plots as mplt\n",
    "import pyemma.msm as msm\n",
    "\n",
    "from __future__ import print_function\n",
    "import mdtraj\n",
    "import mdtraj as md\n",
    "\n",
    "from tqdm import tqdm\n",
    "from time import sleep\n",
    "\n",
    "# import mdshare"
   ]
  },
  {
   "cell_type": "code",
   "execution_count": 3,
   "id": "dbee31f1",
   "metadata": {
    "ExecuteTime": {
     "end_time": "2022-05-16T01:13:39.254944Z",
     "start_time": "2022-05-16T01:13:39.104353Z"
    }
   },
   "outputs": [
    {
     "name": "stdout",
     "output_type": "stream",
     "text": [
      "/home/sean/Desktop/disk/cadd/MSM/zong-ipa-msm/msm_ipa_6wuuhide.pdb\n",
      "/home/sean/Desktop/disk/cadd/MSM/zong-ipa-msm/delfree_ipa.trr\n",
      "<mdtraj.Trajectory with 1 frames, 4969 atoms, 316 residues, and unitcells>\n",
      "<mdtraj.Topology with 1 chains, 316 residues, 4969 atoms, 4865 bonds>\n"
     ]
    },
    {
     "data": {
      "application/javascript": [
       "\n",
       "            setTimeout(function() {\n",
       "                var nbb_cell_id = 3;\n",
       "                var nbb_unformatted_code = \"# \\u5bfc\\u5165\\u8f68\\u8ff9\\u6587\\u4ef6\\n# pdb = \\\"../6wuu.pdb\\\"\\n# files = \\\"../md_dry_jump_center_mol_center_fit.trr\\\"\\n# files = \\\"/home/sean/Desktop/Share/plpro_result/MSM/mix_zong_acn/zong.trr\\\"\\npdb = \\\"/home/sean/Desktop/disk/cadd/MSM/zong-ipa-msm/msm_ipa_6wuuhide.pdb\\\"\\nfiles = \\\"/home/sean/Desktop/disk/cadd/MSM/zong-ipa-msm/delfree_ipa.trr\\\"\\n#files = (\\n#    \\\"/home/sean/Desktop/disk/cadd/MSM/zong-ipa-msm/md_dry_jump_center_mol_center_fit1.trr\\\",\\n#    \\\"/home/sean/Desktop/disk/cadd/MSM/zong-ipa-msm/md_dry_jump_center_mol_center_fit2.trr\\\",\\n#    \\\"/home/sean/Desktop/disk/cadd/MSM/zong-ipa-msm/md_dry_jump_center_mol_center_fit3.trr\\\",\\n#    \\\"/home/sean/Desktop/disk/cadd/MSM/zong-ipa-msm/md_dry_jump_center_mol_center_fit4.trr\\\",\\n#    \\\"/home/sean/Desktop/disk/cadd/MSM/zong-ipa-msm/md_dry_jump_center_mol_center_fit5.trr\\\",\\n#    \\\"/home/sean/Desktop/disk/cadd/MSM/zong-ipa-msm/md_dry_jump_center_mol_center_fit6.trr\\\",\\n#    \\\"/home/sean/Desktop/disk/cadd/MSM/zong-ipa-msm/md_dry_jump_center_mol_center_fit7.trr\\\",\\n#    \\\"/home/sean/Desktop/disk/cadd/MSM/zong-ipa-msm/md_dry_jump_center_mol_center_fit8.trr\\\",\\n#    \\\"/home/sean/Desktop/disk/cadd/MSM/zong-ipa-msm/md_dry_jump_center_mol_center_fit9.trr\\\",\\n#    \\\"/home/sean/Desktop/disk/cadd/MSM/zong-ipa-msm/md_dry_jump_center_mol_center_fit10.trr\\\",\\n#)\\nprint(pdb)\\nprint(files)\\n\\n# \\u5b9a\\u4e49mdtraj\\ntraj = md.load(pdb, files)\\ntopology = traj.topology\\nprint(traj)\\nprint(topology)\";\n",
       "                var nbb_formatted_code = \"# \\u5bfc\\u5165\\u8f68\\u8ff9\\u6587\\u4ef6\\n# pdb = \\\"../6wuu.pdb\\\"\\n# files = \\\"../md_dry_jump_center_mol_center_fit.trr\\\"\\n# files = \\\"/home/sean/Desktop/Share/plpro_result/MSM/mix_zong_acn/zong.trr\\\"\\npdb = \\\"/home/sean/Desktop/disk/cadd/MSM/zong-ipa-msm/msm_ipa_6wuuhide.pdb\\\"\\nfiles = \\\"/home/sean/Desktop/disk/cadd/MSM/zong-ipa-msm/delfree_ipa.trr\\\"\\n# files = (\\n#    \\\"/home/sean/Desktop/disk/cadd/MSM/zong-ipa-msm/md_dry_jump_center_mol_center_fit1.trr\\\",\\n#    \\\"/home/sean/Desktop/disk/cadd/MSM/zong-ipa-msm/md_dry_jump_center_mol_center_fit2.trr\\\",\\n#    \\\"/home/sean/Desktop/disk/cadd/MSM/zong-ipa-msm/md_dry_jump_center_mol_center_fit3.trr\\\",\\n#    \\\"/home/sean/Desktop/disk/cadd/MSM/zong-ipa-msm/md_dry_jump_center_mol_center_fit4.trr\\\",\\n#    \\\"/home/sean/Desktop/disk/cadd/MSM/zong-ipa-msm/md_dry_jump_center_mol_center_fit5.trr\\\",\\n#    \\\"/home/sean/Desktop/disk/cadd/MSM/zong-ipa-msm/md_dry_jump_center_mol_center_fit6.trr\\\",\\n#    \\\"/home/sean/Desktop/disk/cadd/MSM/zong-ipa-msm/md_dry_jump_center_mol_center_fit7.trr\\\",\\n#    \\\"/home/sean/Desktop/disk/cadd/MSM/zong-ipa-msm/md_dry_jump_center_mol_center_fit8.trr\\\",\\n#    \\\"/home/sean/Desktop/disk/cadd/MSM/zong-ipa-msm/md_dry_jump_center_mol_center_fit9.trr\\\",\\n#    \\\"/home/sean/Desktop/disk/cadd/MSM/zong-ipa-msm/md_dry_jump_center_mol_center_fit10.trr\\\",\\n# )\\nprint(pdb)\\nprint(files)\\n\\n# \\u5b9a\\u4e49mdtraj\\ntraj = md.load(pdb, files)\\ntopology = traj.topology\\nprint(traj)\\nprint(topology)\";\n",
       "                var nbb_cells = Jupyter.notebook.get_cells();\n",
       "                for (var i = 0; i < nbb_cells.length; ++i) {\n",
       "                    if (nbb_cells[i].input_prompt_number == nbb_cell_id) {\n",
       "                        if (nbb_cells[i].get_text() == nbb_unformatted_code) {\n",
       "                             nbb_cells[i].set_text(nbb_formatted_code);\n",
       "                        }\n",
       "                        break;\n",
       "                    }\n",
       "                }\n",
       "            }, 500);\n",
       "            "
      ],
      "text/plain": [
       "<IPython.core.display.Javascript object>"
      ]
     },
     "metadata": {},
     "output_type": "display_data"
    }
   ],
   "source": [
    "# 导入轨迹文件\n",
    "# pdb = \"../6wuu.pdb\"\n",
    "# files = \"../md_dry_jump_center_mol_center_fit.trr\"\n",
    "# files = \"/home/sean/Desktop/Share/plpro_result/MSM/mix_zong_acn/zong.trr\"\n",
    "pdb = \"/home/sean/Desktop/disk/cadd/MSM/zong-ipa-msm/msm_ipa_6wuuhide.pdb\"\n",
    "files = \"/home/sean/Desktop/disk/cadd/MSM/zong-ipa-msm/delfree_ipa.trr\"\n",
    "# files = (\n",
    "#    \"/home/sean/Desktop/disk/cadd/MSM/zong-ipa-msm/md_dry_jump_center_mol_center_fit1.trr\",\n",
    "#    \"/home/sean/Desktop/disk/cadd/MSM/zong-ipa-msm/md_dry_jump_center_mol_center_fit2.trr\",\n",
    "#    \"/home/sean/Desktop/disk/cadd/MSM/zong-ipa-msm/md_dry_jump_center_mol_center_fit3.trr\",\n",
    "#    \"/home/sean/Desktop/disk/cadd/MSM/zong-ipa-msm/md_dry_jump_center_mol_center_fit4.trr\",\n",
    "#    \"/home/sean/Desktop/disk/cadd/MSM/zong-ipa-msm/md_dry_jump_center_mol_center_fit5.trr\",\n",
    "#    \"/home/sean/Desktop/disk/cadd/MSM/zong-ipa-msm/md_dry_jump_center_mol_center_fit6.trr\",\n",
    "#    \"/home/sean/Desktop/disk/cadd/MSM/zong-ipa-msm/md_dry_jump_center_mol_center_fit7.trr\",\n",
    "#    \"/home/sean/Desktop/disk/cadd/MSM/zong-ipa-msm/md_dry_jump_center_mol_center_fit8.trr\",\n",
    "#    \"/home/sean/Desktop/disk/cadd/MSM/zong-ipa-msm/md_dry_jump_center_mol_center_fit9.trr\",\n",
    "#    \"/home/sean/Desktop/disk/cadd/MSM/zong-ipa-msm/md_dry_jump_center_mol_center_fit10.trr\",\n",
    "# )\n",
    "print(pdb)\n",
    "print(files)\n",
    "\n",
    "# 定义mdtraj\n",
    "traj = md.load(pdb, files)\n",
    "topology = traj.topology\n",
    "print(traj)\n",
    "print(topology)"
   ]
  },
  {
   "cell_type": "markdown",
   "id": "a5ed66ed",
   "metadata": {},
   "source": [
    "# 选择评分残基"
   ]
  },
  {
   "cell_type": "markdown",
   "id": "2b473430",
   "metadata": {},
   "source": [
    "## 选定残基"
   ]
  },
  {
   "cell_type": "code",
   "execution_count": 4,
   "id": "e51aa74b",
   "metadata": {
    "ExecuteTime": {
     "end_time": "2022-05-16T01:13:49.703990Z",
     "start_time": "2022-05-16T01:13:42.172845Z"
    }
   },
   "outputs": [
    {
     "name": "stderr",
     "output_type": "stream",
     "text": [
      "/home/sean/miniconda3/envs/env_py3.8/lib/python3.8/site-packages/pyemma/coordinates/data/featurization/angles.py:211: FutureWarning: arrays to stack must be passed as a \"sequence\" type such as list or tuple. Support for non-sequence iterables such as generators is deprecated as of NumPy 1.16 and will raise an error in the future.\n",
      "  indices = np.vstack(valid.values())\n"
     ]
    },
    {
     "data": {
      "text/plain": [
       "['DIST: ASP 12 CA 194 - LEU 58 CA 903',\n",
       " 'DIST: ASP 12 CA 194 - PRO 59 CA 924',\n",
       " 'DIST: ASP 12 CA 194 - ASN 60 CA 936',\n",
       " 'DIST: ASP 12 CA 194 - VAL 66 CA 1031',\n",
       " 'DIST: ASP 12 CA 194 - PHE 69 CA 1072',\n",
       " 'DIST: ASP 12 CA 194 - GLU 70 CA 1092',\n",
       " 'DIST: ASP 12 CA 194 - TYR 72 CA 1128',\n",
       " 'DIST: ASP 12 CA 194 - HISE 73 CA 1149',\n",
       " 'DIST: ASP 12 CA 194 - THR 74 CA 1166',\n",
       " 'DIST: ASP 12 CA 194 - THR 75 CA 1180',\n",
       " 'DIST: ASP 12 CA 194 - ASP 76 CA 1194',\n",
       " 'DIST: ASP 12 CA 194 - PRO 77 CA 1208',\n",
       " 'DIST: ASP 12 CA 194 - SER 78 CA 1220',\n",
       " 'DIST: ASP 12 CA 194 - PHE 79 CA 1231',\n",
       " 'DIST: ASP 12 CA 194 - LEU 80 CA 1251',\n",
       " 'DIST: ASP 12 CA 194 - GLY 81 CA 1270',\n",
       " 'DIST: ASP 12 CA 194 - ARG 82 CA 1277',\n",
       " 'DIST: ASP 12 CA 194 - MET 84 CA 1322',\n",
       " 'DIST: LEU 58 CA 903 - PRO 59 CA 924',\n",
       " 'DIST: LEU 58 CA 903 - ASN 60 CA 936',\n",
       " 'DIST: LEU 58 CA 903 - VAL 66 CA 1031',\n",
       " 'DIST: LEU 58 CA 903 - PHE 69 CA 1072',\n",
       " 'DIST: LEU 58 CA 903 - GLU 70 CA 1092',\n",
       " 'DIST: LEU 58 CA 903 - TYR 72 CA 1128',\n",
       " 'DIST: LEU 58 CA 903 - HISE 73 CA 1149',\n",
       " 'DIST: LEU 58 CA 903 - THR 74 CA 1166',\n",
       " 'DIST: LEU 58 CA 903 - THR 75 CA 1180',\n",
       " 'DIST: LEU 58 CA 903 - ASP 76 CA 1194',\n",
       " 'DIST: LEU 58 CA 903 - PRO 77 CA 1208',\n",
       " 'DIST: LEU 58 CA 903 - SER 78 CA 1220',\n",
       " 'DIST: LEU 58 CA 903 - PHE 79 CA 1231',\n",
       " 'DIST: LEU 58 CA 903 - LEU 80 CA 1251',\n",
       " 'DIST: LEU 58 CA 903 - GLY 81 CA 1270',\n",
       " 'DIST: LEU 58 CA 903 - ARG 82 CA 1277',\n",
       " 'DIST: LEU 58 CA 903 - MET 84 CA 1322',\n",
       " 'DIST: PRO 59 CA 924 - ASN 60 CA 936',\n",
       " 'DIST: PRO 59 CA 924 - VAL 66 CA 1031',\n",
       " 'DIST: PRO 59 CA 924 - PHE 69 CA 1072',\n",
       " 'DIST: PRO 59 CA 924 - GLU 70 CA 1092',\n",
       " 'DIST: PRO 59 CA 924 - TYR 72 CA 1128',\n",
       " 'DIST: PRO 59 CA 924 - HISE 73 CA 1149',\n",
       " 'DIST: PRO 59 CA 924 - THR 74 CA 1166',\n",
       " 'DIST: PRO 59 CA 924 - THR 75 CA 1180',\n",
       " 'DIST: PRO 59 CA 924 - ASP 76 CA 1194',\n",
       " 'DIST: PRO 59 CA 924 - PRO 77 CA 1208',\n",
       " 'DIST: PRO 59 CA 924 - SER 78 CA 1220',\n",
       " 'DIST: PRO 59 CA 924 - PHE 79 CA 1231',\n",
       " 'DIST: PRO 59 CA 924 - LEU 80 CA 1251',\n",
       " 'DIST: PRO 59 CA 924 - GLY 81 CA 1270',\n",
       " 'DIST: PRO 59 CA 924 - ARG 82 CA 1277',\n",
       " 'DIST: PRO 59 CA 924 - MET 84 CA 1322',\n",
       " 'DIST: ASN 60 CA 936 - VAL 66 CA 1031',\n",
       " 'DIST: ASN 60 CA 936 - PHE 69 CA 1072',\n",
       " 'DIST: ASN 60 CA 936 - GLU 70 CA 1092',\n",
       " 'DIST: ASN 60 CA 936 - TYR 72 CA 1128',\n",
       " 'DIST: ASN 60 CA 936 - HISE 73 CA 1149',\n",
       " 'DIST: ASN 60 CA 936 - THR 74 CA 1166',\n",
       " 'DIST: ASN 60 CA 936 - THR 75 CA 1180',\n",
       " 'DIST: ASN 60 CA 936 - ASP 76 CA 1194',\n",
       " 'DIST: ASN 60 CA 936 - PRO 77 CA 1208',\n",
       " 'DIST: ASN 60 CA 936 - SER 78 CA 1220',\n",
       " 'DIST: ASN 60 CA 936 - PHE 79 CA 1231',\n",
       " 'DIST: ASN 60 CA 936 - LEU 80 CA 1251',\n",
       " 'DIST: ASN 60 CA 936 - GLY 81 CA 1270',\n",
       " 'DIST: ASN 60 CA 936 - ARG 82 CA 1277',\n",
       " 'DIST: ASN 60 CA 936 - MET 84 CA 1322',\n",
       " 'DIST: VAL 66 CA 1031 - PHE 69 CA 1072',\n",
       " 'DIST: VAL 66 CA 1031 - GLU 70 CA 1092',\n",
       " 'DIST: VAL 66 CA 1031 - TYR 72 CA 1128',\n",
       " 'DIST: VAL 66 CA 1031 - HISE 73 CA 1149',\n",
       " 'DIST: VAL 66 CA 1031 - THR 74 CA 1166',\n",
       " 'DIST: VAL 66 CA 1031 - THR 75 CA 1180',\n",
       " 'DIST: VAL 66 CA 1031 - ASP 76 CA 1194',\n",
       " 'DIST: VAL 66 CA 1031 - PRO 77 CA 1208',\n",
       " 'DIST: VAL 66 CA 1031 - SER 78 CA 1220',\n",
       " 'DIST: VAL 66 CA 1031 - PHE 79 CA 1231',\n",
       " 'DIST: VAL 66 CA 1031 - LEU 80 CA 1251',\n",
       " 'DIST: VAL 66 CA 1031 - GLY 81 CA 1270',\n",
       " 'DIST: VAL 66 CA 1031 - ARG 82 CA 1277',\n",
       " 'DIST: VAL 66 CA 1031 - MET 84 CA 1322',\n",
       " 'DIST: PHE 69 CA 1072 - GLU 70 CA 1092',\n",
       " 'DIST: PHE 69 CA 1072 - TYR 72 CA 1128',\n",
       " 'DIST: PHE 69 CA 1072 - HISE 73 CA 1149',\n",
       " 'DIST: PHE 69 CA 1072 - THR 74 CA 1166',\n",
       " 'DIST: PHE 69 CA 1072 - THR 75 CA 1180',\n",
       " 'DIST: PHE 69 CA 1072 - ASP 76 CA 1194',\n",
       " 'DIST: PHE 69 CA 1072 - PRO 77 CA 1208',\n",
       " 'DIST: PHE 69 CA 1072 - SER 78 CA 1220',\n",
       " 'DIST: PHE 69 CA 1072 - PHE 79 CA 1231',\n",
       " 'DIST: PHE 69 CA 1072 - LEU 80 CA 1251',\n",
       " 'DIST: PHE 69 CA 1072 - GLY 81 CA 1270',\n",
       " 'DIST: PHE 69 CA 1072 - ARG 82 CA 1277',\n",
       " 'DIST: PHE 69 CA 1072 - MET 84 CA 1322',\n",
       " 'DIST: GLU 70 CA 1092 - TYR 72 CA 1128',\n",
       " 'DIST: GLU 70 CA 1092 - HISE 73 CA 1149',\n",
       " 'DIST: GLU 70 CA 1092 - THR 74 CA 1166',\n",
       " 'DIST: GLU 70 CA 1092 - THR 75 CA 1180',\n",
       " 'DIST: GLU 70 CA 1092 - ASP 76 CA 1194',\n",
       " 'DIST: GLU 70 CA 1092 - PRO 77 CA 1208',\n",
       " 'DIST: GLU 70 CA 1092 - SER 78 CA 1220',\n",
       " 'DIST: GLU 70 CA 1092 - PHE 79 CA 1231',\n",
       " 'DIST: GLU 70 CA 1092 - LEU 80 CA 1251',\n",
       " 'DIST: GLU 70 CA 1092 - GLY 81 CA 1270',\n",
       " 'DIST: GLU 70 CA 1092 - ARG 82 CA 1277',\n",
       " 'DIST: GLU 70 CA 1092 - MET 84 CA 1322',\n",
       " 'DIST: TYR 72 CA 1128 - HISE 73 CA 1149',\n",
       " 'DIST: TYR 72 CA 1128 - THR 74 CA 1166',\n",
       " 'DIST: TYR 72 CA 1128 - THR 75 CA 1180',\n",
       " 'DIST: TYR 72 CA 1128 - ASP 76 CA 1194',\n",
       " 'DIST: TYR 72 CA 1128 - PRO 77 CA 1208',\n",
       " 'DIST: TYR 72 CA 1128 - SER 78 CA 1220',\n",
       " 'DIST: TYR 72 CA 1128 - PHE 79 CA 1231',\n",
       " 'DIST: TYR 72 CA 1128 - LEU 80 CA 1251',\n",
       " 'DIST: TYR 72 CA 1128 - GLY 81 CA 1270',\n",
       " 'DIST: TYR 72 CA 1128 - ARG 82 CA 1277',\n",
       " 'DIST: TYR 72 CA 1128 - MET 84 CA 1322',\n",
       " 'DIST: HISE 73 CA 1149 - THR 74 CA 1166',\n",
       " 'DIST: HISE 73 CA 1149 - THR 75 CA 1180',\n",
       " 'DIST: HISE 73 CA 1149 - ASP 76 CA 1194',\n",
       " 'DIST: HISE 73 CA 1149 - PRO 77 CA 1208',\n",
       " 'DIST: HISE 73 CA 1149 - SER 78 CA 1220',\n",
       " 'DIST: HISE 73 CA 1149 - PHE 79 CA 1231',\n",
       " 'DIST: HISE 73 CA 1149 - LEU 80 CA 1251',\n",
       " 'DIST: HISE 73 CA 1149 - GLY 81 CA 1270',\n",
       " 'DIST: HISE 73 CA 1149 - ARG 82 CA 1277',\n",
       " 'DIST: HISE 73 CA 1149 - MET 84 CA 1322',\n",
       " 'DIST: THR 74 CA 1166 - THR 75 CA 1180',\n",
       " 'DIST: THR 74 CA 1166 - ASP 76 CA 1194',\n",
       " 'DIST: THR 74 CA 1166 - PRO 77 CA 1208',\n",
       " 'DIST: THR 74 CA 1166 - SER 78 CA 1220',\n",
       " 'DIST: THR 74 CA 1166 - PHE 79 CA 1231',\n",
       " 'DIST: THR 74 CA 1166 - LEU 80 CA 1251',\n",
       " 'DIST: THR 74 CA 1166 - GLY 81 CA 1270',\n",
       " 'DIST: THR 74 CA 1166 - ARG 82 CA 1277',\n",
       " 'DIST: THR 74 CA 1166 - MET 84 CA 1322',\n",
       " 'DIST: THR 75 CA 1180 - ASP 76 CA 1194',\n",
       " 'DIST: THR 75 CA 1180 - PRO 77 CA 1208',\n",
       " 'DIST: THR 75 CA 1180 - SER 78 CA 1220',\n",
       " 'DIST: THR 75 CA 1180 - PHE 79 CA 1231',\n",
       " 'DIST: THR 75 CA 1180 - LEU 80 CA 1251',\n",
       " 'DIST: THR 75 CA 1180 - GLY 81 CA 1270',\n",
       " 'DIST: THR 75 CA 1180 - ARG 82 CA 1277',\n",
       " 'DIST: THR 75 CA 1180 - MET 84 CA 1322',\n",
       " 'DIST: ASP 76 CA 1194 - PRO 77 CA 1208',\n",
       " 'DIST: ASP 76 CA 1194 - SER 78 CA 1220',\n",
       " 'DIST: ASP 76 CA 1194 - PHE 79 CA 1231',\n",
       " 'DIST: ASP 76 CA 1194 - LEU 80 CA 1251',\n",
       " 'DIST: ASP 76 CA 1194 - GLY 81 CA 1270',\n",
       " 'DIST: ASP 76 CA 1194 - ARG 82 CA 1277',\n",
       " 'DIST: ASP 76 CA 1194 - MET 84 CA 1322',\n",
       " 'DIST: PRO 77 CA 1208 - SER 78 CA 1220',\n",
       " 'DIST: PRO 77 CA 1208 - PHE 79 CA 1231',\n",
       " 'DIST: PRO 77 CA 1208 - LEU 80 CA 1251',\n",
       " 'DIST: PRO 77 CA 1208 - GLY 81 CA 1270',\n",
       " 'DIST: PRO 77 CA 1208 - ARG 82 CA 1277',\n",
       " 'DIST: PRO 77 CA 1208 - MET 84 CA 1322',\n",
       " 'DIST: SER 78 CA 1220 - PHE 79 CA 1231',\n",
       " 'DIST: SER 78 CA 1220 - LEU 80 CA 1251',\n",
       " 'DIST: SER 78 CA 1220 - GLY 81 CA 1270',\n",
       " 'DIST: SER 78 CA 1220 - ARG 82 CA 1277',\n",
       " 'DIST: SER 78 CA 1220 - MET 84 CA 1322',\n",
       " 'DIST: PHE 79 CA 1231 - LEU 80 CA 1251',\n",
       " 'DIST: PHE 79 CA 1231 - GLY 81 CA 1270',\n",
       " 'DIST: PHE 79 CA 1231 - ARG 82 CA 1277',\n",
       " 'DIST: PHE 79 CA 1231 - MET 84 CA 1322',\n",
       " 'DIST: LEU 80 CA 1251 - GLY 81 CA 1270',\n",
       " 'DIST: LEU 80 CA 1251 - ARG 82 CA 1277',\n",
       " 'DIST: LEU 80 CA 1251 - MET 84 CA 1322',\n",
       " 'DIST: GLY 81 CA 1270 - ARG 82 CA 1277',\n",
       " 'DIST: GLY 81 CA 1270 - MET 84 CA 1322',\n",
       " 'DIST: ARG 82 CA 1277 - MET 84 CA 1322']"
      ]
     },
     "execution_count": 4,
     "metadata": {},
     "output_type": "execute_result"
    },
    {
     "data": {
      "application/javascript": [
       "\n",
       "            setTimeout(function() {\n",
       "                var nbb_cell_id = 4;\n",
       "                var nbb_unformatted_code = \"# \\u9009\\u5b9a\\u6b8b\\u57fa\\n\\n# add_sidechain_torsions (same to chi1 angle)\\ntorsions_feat = pyemma.coordinates.featurizer(pdb)\\ntorsions_feat.add_sidechain_torsions(\\n    selstr=\\\"name CA and resi 11 57 58 59 65 68 69 71 72 73 74 75 76 77 78 79 80 81 83\\\",\\n    cossin=True,\\n    periodic=False,\\n)\\ntorsions_data = pyemma.coordinates.load(files, features=torsions_feat)\\nlabels = [\\\"backbone\\\\ntorsions\\\"]\\ntorsions_feat.describe()\\n# type(torsions_feat)\\n# type(torsions_data)\\n\\n# \\u6b8b\\u57fa\\u5750\\u6807\\nactive_residue1 = [\\n    11,\\n    57,\\n    58,\\n    59,\\n    65,\\n    68,\\n    69,\\n    71,\\n    72,\\n    73,\\n    74,\\n    75,\\n    76,\\n    77,\\n    78,\\n    79,\\n    80,\\n    81,\\n    83,\\n]\\npositions_feat = pyemma.coordinates.featurizer(pdb)\\npositions_feat.add_residue_COM(active_residue1)\\npositions_data = pyemma.coordinates.load(files, features=positions_feat)\\nlabels += [\\\"backbone atom\\\\npositions\\\"]\\npositions_feat.describe()\\n\\n# \\u914d\\u5bf9\\u539f\\u5b50\\u8ddd\\u79bb\\nactive_atom = topology.select(\\n    \\\"name CA and resi 11 57 58 59 65 68 69 71 72 73 74 75 76 77 78 79 80 81 83\\\"\\n)\\ndistances_feat = pyemma.coordinates.featurizer(pdb)\\ndistances_feat.add_distances(\\n    distances_feat.pairs(active_atom, excluded_neighbors=2), periodic=False\\n)\\ndistances_data = pyemma.coordinates.load(files, features=distances_feat)\\nlabels += [\\\"backbone atom\\\\ndistances\\\"]\\ndistances_feat.describe()\";\n",
       "                var nbb_formatted_code = \"# \\u9009\\u5b9a\\u6b8b\\u57fa\\n\\n# add_sidechain_torsions (same to chi1 angle)\\ntorsions_feat = pyemma.coordinates.featurizer(pdb)\\ntorsions_feat.add_sidechain_torsions(\\n    selstr=\\\"name CA and resi 11 57 58 59 65 68 69 71 72 73 74 75 76 77 78 79 80 81 83\\\",\\n    cossin=True,\\n    periodic=False,\\n)\\ntorsions_data = pyemma.coordinates.load(files, features=torsions_feat)\\nlabels = [\\\"backbone\\\\ntorsions\\\"]\\ntorsions_feat.describe()\\n# type(torsions_feat)\\n# type(torsions_data)\\n\\n# \\u6b8b\\u57fa\\u5750\\u6807\\nactive_residue1 = [\\n    11,\\n    57,\\n    58,\\n    59,\\n    65,\\n    68,\\n    69,\\n    71,\\n    72,\\n    73,\\n    74,\\n    75,\\n    76,\\n    77,\\n    78,\\n    79,\\n    80,\\n    81,\\n    83,\\n]\\npositions_feat = pyemma.coordinates.featurizer(pdb)\\npositions_feat.add_residue_COM(active_residue1)\\npositions_data = pyemma.coordinates.load(files, features=positions_feat)\\nlabels += [\\\"backbone atom\\\\npositions\\\"]\\npositions_feat.describe()\\n\\n# \\u914d\\u5bf9\\u539f\\u5b50\\u8ddd\\u79bb\\nactive_atom = topology.select(\\n    \\\"name CA and resi 11 57 58 59 65 68 69 71 72 73 74 75 76 77 78 79 80 81 83\\\"\\n)\\ndistances_feat = pyemma.coordinates.featurizer(pdb)\\ndistances_feat.add_distances(\\n    distances_feat.pairs(active_atom, excluded_neighbors=2), periodic=False\\n)\\ndistances_data = pyemma.coordinates.load(files, features=distances_feat)\\nlabels += [\\\"backbone atom\\\\ndistances\\\"]\\ndistances_feat.describe()\";\n",
       "                var nbb_cells = Jupyter.notebook.get_cells();\n",
       "                for (var i = 0; i < nbb_cells.length; ++i) {\n",
       "                    if (nbb_cells[i].input_prompt_number == nbb_cell_id) {\n",
       "                        if (nbb_cells[i].get_text() == nbb_unformatted_code) {\n",
       "                             nbb_cells[i].set_text(nbb_formatted_code);\n",
       "                        }\n",
       "                        break;\n",
       "                    }\n",
       "                }\n",
       "            }, 500);\n",
       "            "
      ],
      "text/plain": [
       "<IPython.core.display.Javascript object>"
      ]
     },
     "metadata": {},
     "output_type": "display_data"
    }
   ],
   "source": [
    "# 选定残基\n",
    "\n",
    "# add_sidechain_torsions (same to chi1 angle)\n",
    "torsions_feat = pyemma.coordinates.featurizer(pdb)\n",
    "torsions_feat.add_sidechain_torsions(\n",
    "    selstr=\"name CA and resi 11 57 58 59 65 68 69 71 72 73 74 75 76 77 78 79 80 81 83\",\n",
    "    cossin=True,\n",
    "    periodic=False,\n",
    ")\n",
    "torsions_data = pyemma.coordinates.load(files, features=torsions_feat)\n",
    "labels = [\"backbone\\ntorsions\"]\n",
    "torsions_feat.describe()\n",
    "# type(torsions_feat)\n",
    "# type(torsions_data)\n",
    "\n",
    "# 残基坐标\n",
    "active_residue1 = [\n",
    "    11,\n",
    "    57,\n",
    "    58,\n",
    "    59,\n",
    "    65,\n",
    "    68,\n",
    "    69,\n",
    "    71,\n",
    "    72,\n",
    "    73,\n",
    "    74,\n",
    "    75,\n",
    "    76,\n",
    "    77,\n",
    "    78,\n",
    "    79,\n",
    "    80,\n",
    "    81,\n",
    "    83,\n",
    "]\n",
    "positions_feat = pyemma.coordinates.featurizer(pdb)\n",
    "positions_feat.add_residue_COM(active_residue1)\n",
    "positions_data = pyemma.coordinates.load(files, features=positions_feat)\n",
    "labels += [\"backbone atom\\npositions\"]\n",
    "positions_feat.describe()\n",
    "\n",
    "# 配对原子距离\n",
    "active_atom = topology.select(\n",
    "    \"name CA and resi 11 57 58 59 65 68 69 71 72 73 74 75 76 77 78 79 80 81 83\"\n",
    ")\n",
    "distances_feat = pyemma.coordinates.featurizer(pdb)\n",
    "distances_feat.add_distances(\n",
    "    distances_feat.pairs(active_atom, excluded_neighbors=2), periodic=False\n",
    ")\n",
    "distances_data = pyemma.coordinates.load(files, features=distances_feat)\n",
    "labels += [\"backbone atom\\ndistances\"]\n",
    "distances_feat.describe()"
   ]
  },
  {
   "cell_type": "markdown",
   "id": "c93fad8a",
   "metadata": {},
   "source": [
    "## 单段评分"
   ]
  },
  {
   "cell_type": "code",
   "execution_count": 7,
   "id": "756bed3d",
   "metadata": {
    "scrolled": true
   },
   "outputs": [
    {
     "ename": "ValueError",
     "evalue": "xyz must be shape (Any, 17414, 3). You supplied  (1, 4969, 3)",
     "output_type": "error",
     "traceback": [
      "\u001b[0;31m---------------------------------------------------------------------------\u001b[0m",
      "\u001b[0;31mValueError\u001b[0m                                Traceback (most recent call last)",
      "\u001b[0;32m/tmp/ipykernel_3431/623943167.py\u001b[0m in \u001b[0;36m<module>\u001b[0;34m\u001b[0m\n\u001b[1;32m      6\u001b[0m     \u001b[0mselstr\u001b[0m\u001b[0;34m=\u001b[0m\u001b[0;34m\"name CA and resi 259 to 289\"\u001b[0m\u001b[0;34m,\u001b[0m \u001b[0mcossin\u001b[0m\u001b[0;34m=\u001b[0m\u001b[0;32mTrue\u001b[0m\u001b[0;34m,\u001b[0m \u001b[0mperiodic\u001b[0m\u001b[0;34m=\u001b[0m\u001b[0;32mFalse\u001b[0m\u001b[0;34m\u001b[0m\u001b[0;34m\u001b[0m\u001b[0m\n\u001b[1;32m      7\u001b[0m )\n\u001b[0;32m----> 8\u001b[0;31m \u001b[0mtorsions_data\u001b[0m \u001b[0;34m=\u001b[0m \u001b[0mpyemma\u001b[0m\u001b[0;34m.\u001b[0m\u001b[0mcoordinates\u001b[0m\u001b[0;34m.\u001b[0m\u001b[0mload\u001b[0m\u001b[0;34m(\u001b[0m\u001b[0mfiles\u001b[0m\u001b[0;34m,\u001b[0m \u001b[0mfeatures\u001b[0m\u001b[0;34m=\u001b[0m\u001b[0mtorsions_feat\u001b[0m\u001b[0;34m)\u001b[0m\u001b[0;34m\u001b[0m\u001b[0;34m\u001b[0m\u001b[0m\n\u001b[0m\u001b[1;32m      9\u001b[0m \u001b[0mlabels\u001b[0m \u001b[0;34m=\u001b[0m \u001b[0;34m[\u001b[0m\u001b[0;34m\"backbone\\ntorsions\"\u001b[0m\u001b[0;34m]\u001b[0m\u001b[0;34m\u001b[0m\u001b[0;34m\u001b[0m\u001b[0m\n\u001b[1;32m     10\u001b[0m \u001b[0;31m# torsions_feat.describe()\u001b[0m\u001b[0;34m\u001b[0m\u001b[0;34m\u001b[0m\u001b[0;34m\u001b[0m\u001b[0m\n",
      "\u001b[0;32m~/.local/lib/python3.8/site-packages/pyemma/coordinates/api.py\u001b[0m in \u001b[0;36mload\u001b[0;34m(trajfiles, features, top, stride, chunksize, **kw)\u001b[0m\n\u001b[1;32m    241\u001b[0m             and (any(isinstance(item, (list, tuple, str)) for item in trajfiles)\n\u001b[1;32m    242\u001b[0m                  or len(trajfiles) == 0)):\n\u001b[0;32m--> 243\u001b[0;31m         \u001b[0mreader\u001b[0m \u001b[0;34m=\u001b[0m \u001b[0mcreate_file_reader\u001b[0m\u001b[0;34m(\u001b[0m\u001b[0mtrajfiles\u001b[0m\u001b[0;34m,\u001b[0m \u001b[0mtop\u001b[0m\u001b[0;34m,\u001b[0m \u001b[0mfeatures\u001b[0m\u001b[0;34m,\u001b[0m \u001b[0mchunksize\u001b[0m\u001b[0;34m=\u001b[0m\u001b[0mcs\u001b[0m\u001b[0;34m,\u001b[0m \u001b[0;34m**\u001b[0m\u001b[0mkw\u001b[0m\u001b[0;34m)\u001b[0m\u001b[0;34m\u001b[0m\u001b[0;34m\u001b[0m\u001b[0m\n\u001b[0m\u001b[1;32m    244\u001b[0m         \u001b[0mtrajs\u001b[0m \u001b[0;34m=\u001b[0m \u001b[0mreader\u001b[0m\u001b[0;34m.\u001b[0m\u001b[0mget_output\u001b[0m\u001b[0;34m(\u001b[0m\u001b[0mstride\u001b[0m\u001b[0;34m=\u001b[0m\u001b[0mstride\u001b[0m\u001b[0;34m)\u001b[0m\u001b[0;34m\u001b[0m\u001b[0;34m\u001b[0m\u001b[0m\n\u001b[1;32m    245\u001b[0m         \u001b[0;32mif\u001b[0m \u001b[0mlen\u001b[0m\u001b[0;34m(\u001b[0m\u001b[0mtrajs\u001b[0m\u001b[0;34m)\u001b[0m \u001b[0;34m==\u001b[0m \u001b[0;36m1\u001b[0m\u001b[0;34m:\u001b[0m\u001b[0;34m\u001b[0m\u001b[0;34m\u001b[0m\u001b[0m\n",
      "\u001b[0;32m~/.local/lib/python3.8/site-packages/pyemma/coordinates/data/util/reader_utils.py\u001b[0m in \u001b[0;36mcreate_file_reader\u001b[0;34m(input_files, topology, featurizer, chunksize, **kw)\u001b[0m\n\u001b[1;32m    108\u001b[0m                                      'Please consider using a sane trajectory format (e.g. xtc, dcd).')\n\u001b[1;32m    109\u001b[0m \u001b[0;34m\u001b[0m\u001b[0m\n\u001b[0;32m--> 110\u001b[0;31m                 reader = FeatureReader(input_list, featurizer=featurizer, topologyfile=topology,\n\u001b[0m\u001b[1;32m    111\u001b[0m                                        chunksize=chunksize)\n\u001b[1;32m    112\u001b[0m             \u001b[0;32melif\u001b[0m \u001b[0msuffix\u001b[0m \u001b[0;32min\u001b[0m \u001b[0;34m(\u001b[0m\u001b[0;34m'.npy'\u001b[0m\u001b[0;34m,\u001b[0m \u001b[0;34m'.npz'\u001b[0m\u001b[0;34m)\u001b[0m\u001b[0;34m:\u001b[0m\u001b[0;34m\u001b[0m\u001b[0;34m\u001b[0m\u001b[0m\n",
      "\u001b[0;32m~/.local/lib/python3.8/site-packages/pyemma/coordinates/data/feature_reader.py\u001b[0m in \u001b[0;36m__init__\u001b[0;34m(self, trajectories, topologyfile, chunksize, featurizer)\u001b[0m\n\u001b[1;32m    121\u001b[0m \u001b[0;34m\u001b[0m\u001b[0m\n\u001b[1;32m    122\u001b[0m         \u001b[0;31m# Check that the topology and the files in the filelist can actually work together\u001b[0m\u001b[0;34m\u001b[0m\u001b[0;34m\u001b[0m\u001b[0;34m\u001b[0m\u001b[0m\n\u001b[0;32m--> 123\u001b[0;31m         \u001b[0mself\u001b[0m\u001b[0;34m.\u001b[0m\u001b[0m_assert_toptraj_consistency\u001b[0m\u001b[0;34m(\u001b[0m\u001b[0;34m)\u001b[0m\u001b[0;34m\u001b[0m\u001b[0;34m\u001b[0m\u001b[0m\n\u001b[0m\u001b[1;32m    124\u001b[0m \u001b[0;34m\u001b[0m\u001b[0m\n\u001b[1;32m    125\u001b[0m     \u001b[0;34m@\u001b[0m\u001b[0mproperty\u001b[0m\u001b[0;34m\u001b[0m\u001b[0;34m\u001b[0m\u001b[0m\n",
      "\u001b[0;32m~/.local/lib/python3.8/site-packages/pyemma/coordinates/data/feature_reader.py\u001b[0m in \u001b[0;36m_assert_toptraj_consistency\u001b[0;34m(self)\u001b[0m\n\u001b[1;32m    205\u001b[0m         \u001b[0;34mr\"\"\" Check if the topology and the filenames of the reader have the same n_atoms\"\"\"\u001b[0m\u001b[0;34m\u001b[0m\u001b[0;34m\u001b[0m\u001b[0m\n\u001b[1;32m    206\u001b[0m         \u001b[0mtop\u001b[0m \u001b[0;34m=\u001b[0m \u001b[0mself\u001b[0m\u001b[0;34m.\u001b[0m\u001b[0mfeaturizer\u001b[0m\u001b[0;34m.\u001b[0m\u001b[0mtopology\u001b[0m\u001b[0;34m\u001b[0m\u001b[0;34m\u001b[0m\u001b[0m\n\u001b[0;32m--> 207\u001b[0;31m         \u001b[0mtraj\u001b[0m \u001b[0;34m=\u001b[0m \u001b[0mmdtraj\u001b[0m\u001b[0;34m.\u001b[0m\u001b[0mload_frame\u001b[0m\u001b[0;34m(\u001b[0m\u001b[0mself\u001b[0m\u001b[0;34m.\u001b[0m\u001b[0mfilenames\u001b[0m\u001b[0;34m[\u001b[0m\u001b[0;36m0\u001b[0m\u001b[0;34m]\u001b[0m\u001b[0;34m,\u001b[0m \u001b[0mindex\u001b[0m\u001b[0;34m=\u001b[0m\u001b[0;36m0\u001b[0m\u001b[0;34m,\u001b[0m \u001b[0mtop\u001b[0m\u001b[0;34m=\u001b[0m\u001b[0mtop\u001b[0m\u001b[0;34m)\u001b[0m\u001b[0;34m\u001b[0m\u001b[0;34m\u001b[0m\u001b[0m\n\u001b[0m\u001b[1;32m    208\u001b[0m         \u001b[0mdesired_n_atoms\u001b[0m \u001b[0;34m=\u001b[0m \u001b[0mtop\u001b[0m\u001b[0;34m.\u001b[0m\u001b[0mn_atoms\u001b[0m\u001b[0;34m\u001b[0m\u001b[0;34m\u001b[0m\u001b[0m\n\u001b[1;32m    209\u001b[0m         \u001b[0;32massert\u001b[0m \u001b[0mtraj\u001b[0m\u001b[0;34m.\u001b[0m\u001b[0mxyz\u001b[0m\u001b[0;34m.\u001b[0m\u001b[0mshape\u001b[0m\u001b[0;34m[\u001b[0m\u001b[0;36m1\u001b[0m\u001b[0;34m]\u001b[0m \u001b[0;34m==\u001b[0m \u001b[0mdesired_n_atoms\u001b[0m\u001b[0;34m,\u001b[0m \u001b[0;34m\"Mismatch in the number of atoms between the topology\"\u001b[0m\u001b[0;31m \u001b[0m\u001b[0;31m\\\u001b[0m\u001b[0;34m\u001b[0m\u001b[0;34m\u001b[0m\u001b[0m\n",
      "\u001b[0;32m~/.local/lib/python3.8/site-packages/mdtraj/core/trajectory.py\u001b[0m in \u001b[0;36mload_frame\u001b[0;34m(filename, index, top, atom_indices, **kwargs)\u001b[0m\n\u001b[1;32m    312\u001b[0m         \u001b[0m_assert_files_or_dirs_exist\u001b[0m\u001b[0;34m(\u001b[0m\u001b[0mfilename\u001b[0m\u001b[0;34m)\u001b[0m\u001b[0;34m\u001b[0m\u001b[0;34m\u001b[0m\u001b[0m\n\u001b[1;32m    313\u001b[0m \u001b[0;34m\u001b[0m\u001b[0m\n\u001b[0;32m--> 314\u001b[0;31m     \u001b[0;32mreturn\u001b[0m \u001b[0mloader\u001b[0m\u001b[0;34m(\u001b[0m\u001b[0mfilename\u001b[0m\u001b[0;34m,\u001b[0m \u001b[0mframe\u001b[0m\u001b[0;34m=\u001b[0m\u001b[0mindex\u001b[0m\u001b[0;34m,\u001b[0m \u001b[0;34m**\u001b[0m\u001b[0mkwargs\u001b[0m\u001b[0;34m)\u001b[0m\u001b[0;34m\u001b[0m\u001b[0;34m\u001b[0m\u001b[0m\n\u001b[0m\u001b[1;32m    315\u001b[0m \u001b[0;34m\u001b[0m\u001b[0m\n\u001b[1;32m    316\u001b[0m \u001b[0;34m\u001b[0m\u001b[0m\n",
      "\u001b[0;32mmdtraj/formats/xtc/trr.pyx\u001b[0m in \u001b[0;36mmdtraj.formats.trr.load_trr\u001b[0;34m()\u001b[0m\n",
      "\u001b[0;32mmdtraj/formats/xtc/trr.pyx\u001b[0m in \u001b[0;36mmdtraj.formats.trr.load_trr\u001b[0;34m()\u001b[0m\n",
      "\u001b[0;32mmdtraj/formats/xtc/trr.pyx\u001b[0m in \u001b[0;36mmdtraj.formats.trr.TRRTrajectoryFile.read_as_traj\u001b[0;34m()\u001b[0m\n",
      "\u001b[0;32m~/.local/lib/python3.8/site-packages/mdtraj/core/trajectory.py\u001b[0m in \u001b[0;36m__init__\u001b[0;34m(self, xyz, topology, time, unitcell_lengths, unitcell_angles)\u001b[0m\n\u001b[1;32m   1167\u001b[0m         \u001b[0;31m# the xyz, we can check that it lines up (e.g. n_atoms), with the topology\u001b[0m\u001b[0;34m\u001b[0m\u001b[0;34m\u001b[0m\u001b[0;34m\u001b[0m\u001b[0m\n\u001b[1;32m   1168\u001b[0m         \u001b[0mself\u001b[0m\u001b[0;34m.\u001b[0m\u001b[0mtopology\u001b[0m \u001b[0;34m=\u001b[0m \u001b[0mtopology\u001b[0m\u001b[0;34m\u001b[0m\u001b[0;34m\u001b[0m\u001b[0m\n\u001b[0;32m-> 1169\u001b[0;31m         \u001b[0mself\u001b[0m\u001b[0;34m.\u001b[0m\u001b[0mxyz\u001b[0m \u001b[0;34m=\u001b[0m \u001b[0mxyz\u001b[0m\u001b[0;34m\u001b[0m\u001b[0;34m\u001b[0m\u001b[0m\n\u001b[0m\u001b[1;32m   1170\u001b[0m \u001b[0;34m\u001b[0m\u001b[0m\n\u001b[1;32m   1171\u001b[0m         \u001b[0;31m# _rmsd_traces are the inner product of each centered conformation,\u001b[0m\u001b[0;34m\u001b[0m\u001b[0;34m\u001b[0m\u001b[0;34m\u001b[0m\u001b[0m\n",
      "\u001b[0;32m~/.local/lib/python3.8/site-packages/mdtraj/core/trajectory.py\u001b[0m in \u001b[0;36mxyz\u001b[0;34m(self, value)\u001b[0m\n\u001b[1;32m    880\u001b[0m             \u001b[0mshape\u001b[0m \u001b[0;34m=\u001b[0m \u001b[0;34m(\u001b[0m\u001b[0;32mNone\u001b[0m\u001b[0;34m,\u001b[0m \u001b[0;32mNone\u001b[0m\u001b[0;34m,\u001b[0m \u001b[0;36m3\u001b[0m\u001b[0;34m)\u001b[0m\u001b[0;34m\u001b[0m\u001b[0;34m\u001b[0m\u001b[0m\n\u001b[1;32m    881\u001b[0m \u001b[0;34m\u001b[0m\u001b[0m\n\u001b[0;32m--> 882\u001b[0;31m         value = ensure_type(value, np.float32, 3, 'xyz', shape=shape,\n\u001b[0m\u001b[1;32m    883\u001b[0m                             warn_on_cast=False, add_newaxis_on_deficient_ndim=True)\n\u001b[1;32m    884\u001b[0m         \u001b[0mself\u001b[0m\u001b[0;34m.\u001b[0m\u001b[0m_xyz\u001b[0m \u001b[0;34m=\u001b[0m \u001b[0mvalue\u001b[0m\u001b[0;34m\u001b[0m\u001b[0;34m\u001b[0m\u001b[0m\n",
      "\u001b[0;32m~/.local/lib/python3.8/site-packages/mdtraj/utils/validation.py\u001b[0m in \u001b[0;36mensure_type\u001b[0;34m(val, dtype, ndim, name, length, can_be_none, shape, warn_on_cast, add_newaxis_on_deficient_ndim)\u001b[0m\n\u001b[1;32m    146\u001b[0m             \u001b[0;32mif\u001b[0m \u001b[0ma\u001b[0m \u001b[0;34m!=\u001b[0m \u001b[0mb\u001b[0m\u001b[0;34m:\u001b[0m\u001b[0;34m\u001b[0m\u001b[0;34m\u001b[0m\u001b[0m\n\u001b[1;32m    147\u001b[0m                 \u001b[0;31m# check for equality\u001b[0m\u001b[0;34m\u001b[0m\u001b[0;34m\u001b[0m\u001b[0;34m\u001b[0m\u001b[0m\n\u001b[0;32m--> 148\u001b[0;31m                 \u001b[0;32mraise\u001b[0m \u001b[0merror\u001b[0m\u001b[0;34m\u001b[0m\u001b[0;34m\u001b[0m\u001b[0m\n\u001b[0m\u001b[1;32m    149\u001b[0m \u001b[0;34m\u001b[0m\u001b[0m\n\u001b[1;32m    150\u001b[0m     \u001b[0;32mreturn\u001b[0m \u001b[0mval\u001b[0m\u001b[0;34m\u001b[0m\u001b[0;34m\u001b[0m\u001b[0m\n",
      "\u001b[0;31mValueError\u001b[0m: xyz must be shape (Any, 17414, 3). You supplied  (1, 4969, 3)"
     ]
    },
    {
     "data": {
      "application/javascript": [
       "\n",
       "            setTimeout(function() {\n",
       "                var nbb_cell_id = 7;\n",
       "                var nbb_unformatted_code = \"# \\u5355\\u6bb5\\u8bc4\\u5206\\n\\n# add_sidechain_torsions (same to chi1 angle)\\ntorsions_feat = pyemma.coordinates.featurizer(pdb)\\ntorsions_feat.add_sidechain_torsions(\\n    selstr=\\\"name CA and resi 259 to 289\\\", cossin=True, periodic=False\\n)\\ntorsions_data = pyemma.coordinates.load(files, features=torsions_feat)\\nlabels = [\\\"backbone\\\\ntorsions\\\"]\\n# torsions_feat.describe()\\n# type(torsions_feat)\\n# type(torsions_data)\\n\\n# \\u6b8b\\u57fa\\u5750\\u6807\\nactive_residue1 = arange(259, 290)\\npositions_feat = pyemma.coordinates.featurizer(pdb)\\npositions_feat.add_residue_COM(active_residue1)\\npositions_data = pyemma.coordinates.load(files, features=positions_feat)\\nlabels += [\\\"backbone atom\\\\npositions\\\"]\\n# positions_feat.describe()\\n\\n# \\u914d\\u5bf9\\u539f\\u5b50\\u8ddd\\u79bb\\nactive_atom = topology.select(\\\"name CA and resi 259 to 289\\\")\\ndistances_feat = pyemma.coordinates.featurizer(pdb)\\ndistances_feat.add_distances(\\n    distances_feat.pairs(active_atom, excluded_neighbors=2), periodic=False\\n)\\ndistances_data = pyemma.coordinates.load(files, features=distances_feat)\\nlabels += [\\\"backbone atom\\\\ndistances\\\"]\\n# distances_feat.describe()\";\n",
       "                var nbb_formatted_code = \"# \\u5355\\u6bb5\\u8bc4\\u5206\\n\\n# add_sidechain_torsions (same to chi1 angle)\\ntorsions_feat = pyemma.coordinates.featurizer(pdb)\\ntorsions_feat.add_sidechain_torsions(\\n    selstr=\\\"name CA and resi 259 to 289\\\", cossin=True, periodic=False\\n)\\ntorsions_data = pyemma.coordinates.load(files, features=torsions_feat)\\nlabels = [\\\"backbone\\\\ntorsions\\\"]\\n# torsions_feat.describe()\\n# type(torsions_feat)\\n# type(torsions_data)\\n\\n# \\u6b8b\\u57fa\\u5750\\u6807\\nactive_residue1 = arange(259, 290)\\npositions_feat = pyemma.coordinates.featurizer(pdb)\\npositions_feat.add_residue_COM(active_residue1)\\npositions_data = pyemma.coordinates.load(files, features=positions_feat)\\nlabels += [\\\"backbone atom\\\\npositions\\\"]\\n# positions_feat.describe()\\n\\n# \\u914d\\u5bf9\\u539f\\u5b50\\u8ddd\\u79bb\\nactive_atom = topology.select(\\\"name CA and resi 259 to 289\\\")\\ndistances_feat = pyemma.coordinates.featurizer(pdb)\\ndistances_feat.add_distances(\\n    distances_feat.pairs(active_atom, excluded_neighbors=2), periodic=False\\n)\\ndistances_data = pyemma.coordinates.load(files, features=distances_feat)\\nlabels += [\\\"backbone atom\\\\ndistances\\\"]\\n# distances_feat.describe()\";\n",
       "                var nbb_cells = Jupyter.notebook.get_cells();\n",
       "                for (var i = 0; i < nbb_cells.length; ++i) {\n",
       "                    if (nbb_cells[i].input_prompt_number == nbb_cell_id) {\n",
       "                        if (nbb_cells[i].get_text() == nbb_unformatted_code) {\n",
       "                             nbb_cells[i].set_text(nbb_formatted_code);\n",
       "                        }\n",
       "                        break;\n",
       "                    }\n",
       "                }\n",
       "            }, 500);\n",
       "            "
      ],
      "text/plain": [
       "<IPython.core.display.Javascript object>"
      ]
     },
     "metadata": {},
     "output_type": "display_data"
    }
   ],
   "source": [
    "# 单段评分\n",
    "\n",
    "# add_sidechain_torsions (same to chi1 angle)\n",
    "torsions_feat = pyemma.coordinates.featurizer(pdb)\n",
    "torsions_feat.add_sidechain_torsions(\n",
    "    selstr=\"name CA and resi 259 to 289\", cossin=True, periodic=False\n",
    ")\n",
    "torsions_data = pyemma.coordinates.load(files, features=torsions_feat)\n",
    "labels = [\"backbone\\ntorsions\"]\n",
    "# torsions_feat.describe()\n",
    "# type(torsions_feat)\n",
    "# type(torsions_data)\n",
    "\n",
    "# 残基坐标\n",
    "active_residue1 = arange(259, 290)\n",
    "positions_feat = pyemma.coordinates.featurizer(pdb)\n",
    "positions_feat.add_residue_COM(active_residue1)\n",
    "positions_data = pyemma.coordinates.load(files, features=positions_feat)\n",
    "labels += [\"backbone atom\\npositions\"]\n",
    "# positions_feat.describe()\n",
    "\n",
    "# 配对原子距离\n",
    "active_atom = topology.select(\"name CA and resi 259 to 289\")\n",
    "distances_feat = pyemma.coordinates.featurizer(pdb)\n",
    "distances_feat.add_distances(\n",
    "    distances_feat.pairs(active_atom, excluded_neighbors=2), periodic=False\n",
    ")\n",
    "distances_data = pyemma.coordinates.load(files, features=distances_feat)\n",
    "labels += [\"backbone atom\\ndistances\"]\n",
    "# distances_feat.describe()"
   ]
  },
  {
   "cell_type": "markdown",
   "id": "c225cd4c",
   "metadata": {},
   "source": [
    "## 多段评分"
   ]
  },
  {
   "cell_type": "code",
   "execution_count": 3,
   "id": "f1f5fb6d",
   "metadata": {},
   "outputs": [
    {
     "name": "stderr",
     "output_type": "stream",
     "text": [
      "/home/sean/.local/lib/python3.8/site-packages/pyemma/coordinates/data/featurization/angles.py:211: FutureWarning: arrays to stack must be passed as a \"sequence\" type such as list or tuple. Support for non-sequence iterables such as generators is deprecated as of NumPy 1.16 and will raise an error in the future.\n",
      "  indices = np.vstack(valid.values())\n"
     ]
    },
    {
     "data": {
      "application/vnd.jupyter.widget-view+json": {
       "model_id": "387a879a0a674ca6b20296ac49fd1efe",
       "version_major": 2,
       "version_minor": 0
      },
      "text/plain": [
       "Obtaining file info:   0%|                               | 0/10 [00:00<?, ?it/s]"
      ]
     },
     "metadata": {},
     "output_type": "display_data"
    },
    {
     "data": {
      "application/vnd.jupyter.widget-view+json": {
       "model_id": "50bea2bcf90a48089c0d258018467250",
       "version_major": 2,
       "version_minor": 0
      },
      "text/plain": [
       "getting output of FeatureReader:   0%|                   | 0/10 [00:00<?, ?it/s]"
      ]
     },
     "metadata": {},
     "output_type": "display_data"
    },
    {
     "data": {
      "application/vnd.jupyter.widget-view+json": {
       "model_id": "5a0ac7f1fe424ae6aa8a49f122104719",
       "version_major": 2,
       "version_minor": 0
      },
      "text/plain": [
       "Obtaining file info:   0%|                               | 0/10 [00:00<?, ?it/s]"
      ]
     },
     "metadata": {},
     "output_type": "display_data"
    },
    {
     "data": {
      "application/vnd.jupyter.widget-view+json": {
       "model_id": "d91ff13300b3490bacbf20a3626492ed",
       "version_major": 2,
       "version_minor": 0
      },
      "text/plain": [
       "getting output of FeatureReader:   0%|                   | 0/10 [00:00<?, ?it/s]"
      ]
     },
     "metadata": {},
     "output_type": "display_data"
    },
    {
     "data": {
      "application/vnd.jupyter.widget-view+json": {
       "model_id": "da4dd8b7e3314e16b4f5706e24eca41c",
       "version_major": 2,
       "version_minor": 0
      },
      "text/plain": [
       "Obtaining file info:   0%|                               | 0/10 [00:00<?, ?it/s]"
      ]
     },
     "metadata": {},
     "output_type": "display_data"
    },
    {
     "data": {
      "application/vnd.jupyter.widget-view+json": {
       "model_id": "90334205b9064737bc08f8b517a5c648",
       "version_major": 2,
       "version_minor": 0
      },
      "text/plain": [
       "getting output of FeatureReader:   0%|                   | 0/10 [00:00<?, ?it/s]"
      ]
     },
     "metadata": {},
     "output_type": "display_data"
    },
    {
     "data": {
      "application/javascript": [
       "\n",
       "            setTimeout(function() {\n",
       "                var nbb_cell_id = 3;\n",
       "                var nbb_unformatted_code = \"# \\u591a\\u6bb5\\u8bc4\\u5206\\n\\n# \\u591a\\u6bb5\\u626d\\u8f6c\\u89d2\\nactive_resi1 = \\\"resi 100 to 120\\\"\\nactive_resi2 = \\\"resi 259 to 290\\\"\\ntorsions_feat = pyemma.coordinates.featurizer(pdb)\\ntorsions_feat.add_sidechain_torsions(selstr=active_resi1, cossin=True, periodic=False)\\ntorsions_feat.add_sidechain_torsions(selstr=active_resi2, cossin=True, periodic=False)\\ntorsions_data = pyemma.coordinates.load(files, features=torsions_feat)\\nlabels = [\\\"backbone\\\\ntorsions\\\"]\\n# torsions_feat.describe()\\n\\n# \\u591a\\u6bb5\\u6b8b\\u57fa\\u5750\\u6807\\nactive_residue1 = arange(99, 120)\\nactive_residue2 = arange(259, 290)\\nactive_residue = list(active_residue1) + list(active_residue2)\\npositions_feat = pyemma.coordinates.featurizer(pdb)\\npositions_feat.add_residue_COM(active_residue)\\npositions_data = pyemma.coordinates.load(files, features=positions_feat)\\nlabels += [\\\"backbone atom\\\\npositions\\\"]\\n# positions_feat.describe()\\n\\n# \\u591a\\u6bb5\\u914d\\u5bf9\\u539f\\u5b50\\u8ddd\\u79bb\\nactive_atom1 = topology.select(\\\"name CA and resi 99 to 120\\\")\\nactive_atom2 = topology.select(\\\"name CA and resi 259 to 290\\\")\\ndistances_feat = pyemma.coordinates.featurizer(pdb)\\ndistances_feat.add_distances(\\n    distances_feat.pairs(active_atom1, excluded_neighbors=2), periodic=False\\n)\\ndistances_feat.add_distances(\\n    distances_feat.pairs(active_atom2, excluded_neighbors=2), periodic=False\\n)\\ndistances_data = pyemma.coordinates.load(files, features=distances_feat)\\nlabels += [\\\"backbone atom\\\\ndistances\\\"]\\n# distances_feat.describe()\";\n",
       "                var nbb_formatted_code = \"# \\u591a\\u6bb5\\u8bc4\\u5206\\n\\n# \\u591a\\u6bb5\\u626d\\u8f6c\\u89d2\\nactive_resi1 = \\\"resi 100 to 120\\\"\\nactive_resi2 = \\\"resi 259 to 290\\\"\\ntorsions_feat = pyemma.coordinates.featurizer(pdb)\\ntorsions_feat.add_sidechain_torsions(selstr=active_resi1, cossin=True, periodic=False)\\ntorsions_feat.add_sidechain_torsions(selstr=active_resi2, cossin=True, periodic=False)\\ntorsions_data = pyemma.coordinates.load(files, features=torsions_feat)\\nlabels = [\\\"backbone\\\\ntorsions\\\"]\\n# torsions_feat.describe()\\n\\n# \\u591a\\u6bb5\\u6b8b\\u57fa\\u5750\\u6807\\nactive_residue1 = arange(99, 120)\\nactive_residue2 = arange(259, 290)\\nactive_residue = list(active_residue1) + list(active_residue2)\\npositions_feat = pyemma.coordinates.featurizer(pdb)\\npositions_feat.add_residue_COM(active_residue)\\npositions_data = pyemma.coordinates.load(files, features=positions_feat)\\nlabels += [\\\"backbone atom\\\\npositions\\\"]\\n# positions_feat.describe()\\n\\n# \\u591a\\u6bb5\\u914d\\u5bf9\\u539f\\u5b50\\u8ddd\\u79bb\\nactive_atom1 = topology.select(\\\"name CA and resi 99 to 120\\\")\\nactive_atom2 = topology.select(\\\"name CA and resi 259 to 290\\\")\\ndistances_feat = pyemma.coordinates.featurizer(pdb)\\ndistances_feat.add_distances(\\n    distances_feat.pairs(active_atom1, excluded_neighbors=2), periodic=False\\n)\\ndistances_feat.add_distances(\\n    distances_feat.pairs(active_atom2, excluded_neighbors=2), periodic=False\\n)\\ndistances_data = pyemma.coordinates.load(files, features=distances_feat)\\nlabels += [\\\"backbone atom\\\\ndistances\\\"]\\n# distances_feat.describe()\";\n",
       "                var nbb_cells = Jupyter.notebook.get_cells();\n",
       "                for (var i = 0; i < nbb_cells.length; ++i) {\n",
       "                    if (nbb_cells[i].input_prompt_number == nbb_cell_id) {\n",
       "                        if (nbb_cells[i].get_text() == nbb_unformatted_code) {\n",
       "                             nbb_cells[i].set_text(nbb_formatted_code);\n",
       "                        }\n",
       "                        break;\n",
       "                    }\n",
       "                }\n",
       "            }, 500);\n",
       "            "
      ],
      "text/plain": [
       "<IPython.core.display.Javascript object>"
      ]
     },
     "metadata": {},
     "output_type": "display_data"
    }
   ],
   "source": [
    "# 多段评分\n",
    "\n",
    "# 多段扭转角\n",
    "active_resi1 = \"resi 100 to 120\"\n",
    "active_resi2 = \"resi 259 to 290\"\n",
    "torsions_feat = pyemma.coordinates.featurizer(pdb)\n",
    "torsions_feat.add_sidechain_torsions(selstr=active_resi1, cossin=True, periodic=False)\n",
    "torsions_feat.add_sidechain_torsions(selstr=active_resi2, cossin=True, periodic=False)\n",
    "torsions_data = pyemma.coordinates.load(files, features=torsions_feat)\n",
    "labels = [\"backbone\\ntorsions\"]\n",
    "# torsions_feat.describe()\n",
    "\n",
    "# 多段残基坐标\n",
    "active_residue1 = arange(99, 120)\n",
    "active_residue2 = arange(259, 290)\n",
    "active_residue = list(active_residue1) + list(active_residue2)\n",
    "positions_feat = pyemma.coordinates.featurizer(pdb)\n",
    "positions_feat.add_residue_COM(active_residue)\n",
    "positions_data = pyemma.coordinates.load(files, features=positions_feat)\n",
    "labels += [\"backbone atom\\npositions\"]\n",
    "# positions_feat.describe()\n",
    "\n",
    "# 多段配对原子距离\n",
    "active_atom1 = topology.select(\"name CA and resi 99 to 120\")\n",
    "active_atom2 = topology.select(\"name CA and resi 259 to 290\")\n",
    "distances_feat = pyemma.coordinates.featurizer(pdb)\n",
    "distances_feat.add_distances(\n",
    "    distances_feat.pairs(active_atom1, excluded_neighbors=2), periodic=False\n",
    ")\n",
    "distances_feat.add_distances(\n",
    "    distances_feat.pairs(active_atom2, excluded_neighbors=2), periodic=False\n",
    ")\n",
    "distances_data = pyemma.coordinates.load(files, features=distances_feat)\n",
    "labels += [\"backbone atom\\ndistances\"]\n",
    "# distances_feat.describe()"
   ]
  },
  {
   "cell_type": "markdown",
   "id": "1af57de6",
   "metadata": {},
   "source": [
    "# 打分"
   ]
  },
  {
   "cell_type": "code",
   "execution_count": 5,
   "id": "3ef0cf67",
   "metadata": {
    "ExecuteTime": {
     "end_time": "2022-05-16T01:15:33.382912Z",
     "start_time": "2022-05-16T01:13:59.782150Z"
    }
   },
   "outputs": [
    {
     "name": "stderr",
     "output_type": "stream",
     "text": [
      "100%|\u001b[34m███████████████████████████████████████████\u001b[0m| 10/10 [00:10<00:00,  1.04s/it]\u001b[0m\n",
      "100%|\u001b[34m███████████████████████████████████████████\u001b[0m| 10/10 [00:10<00:00,  1.04s/it]\u001b[0m\n",
      "100%|\u001b[34m███████████████████████████████████████████\u001b[0m| 10/10 [00:10<00:00,  1.04s/it]\u001b[0m\n",
      "100%|\u001b[34m███████████████████████████████████████████\u001b[0m| 10/10 [00:10<00:00,  1.03s/it]\u001b[0m\n",
      "100%|\u001b[34m███████████████████████████████████████████\u001b[0m| 10/10 [00:10<00:00,  1.03s/it]\u001b[0m\n",
      "100%|\u001b[34m███████████████████████████████████████████\u001b[0m| 10/10 [00:10<00:00,  1.04s/it]\u001b[0m\n",
      "100%|\u001b[34m███████████████████████████████████████████\u001b[0m| 10/10 [00:10<00:00,  1.03s/it]\u001b[0m\n",
      "100%|\u001b[34m███████████████████████████████████████████\u001b[0m| 10/10 [00:10<00:00,  1.03s/it]\u001b[0m\n",
      "100%|\u001b[34m███████████████████████████████████████████\u001b[0m| 10/10 [00:10<00:00,  1.05s/it]\u001b[0m\n"
     ]
    },
    {
     "name": "stdout",
     "output_type": "stream",
     "text": [
      "[1.21880747 1.22137814 1.21831221 1.22306992 1.22412508 1.21872285\n",
      " 1.22099488 1.21902016 1.21620092 1.21752298]\n",
      "[1.21830765 1.21831728 1.21841358 1.21852062 1.21816176 1.21826445\n",
      " 1.21829214 1.21830575 1.21819651 1.21825899]\n",
      "[1.00109861 1.00111462 1.00117401 1.00107021 1.00117504 1.00116165\n",
      " 1.00114053 1.00113335 1.00108047 1.00108884]\n"
     ]
    },
    {
     "data": {
      "image/png": "[encoded data removed]",
      "text/plain": [
       "<Figure size 864x216 with 3 Axes>"
      ]
     },
     "metadata": {
      "needs_background": "light"
     },
     "output_type": "display_data"
    },
    {
     "data": {
      "application/javascript": [
       "\n",
       "            setTimeout(function() {\n",
       "                var nbb_cell_id = 5;\n",
       "                var nbb_unformatted_code = \"import os\\n\\nos.environ[\\\"KMP_DUPLICATE_LIB_OK\\\"] = \\\"TRUE\\\"\\n\\n\\ndef score_cv(data, dim, lag, number_of_splits=10, validation_fraction=0.5):\\n    \\\"\\\"\\\"Compute a cross-validated VAMP2 score.\\n\\n    We randomly split the list of independent trajectories into\\n    a training and a validation set, compute the VAMP2 score,\\n    and repeat this process several times.\\n\\n    Parameters\\n    ----------\\n    data : list of numpy.ndarrays\\n        The input data.\\n    dim : int\\n        Number of processes to score; equivalent to the dimension\\n        after projecting the data with VAMP2.\\n    lag : int\\n        Lag time for the VAMP2 scoring.\\n    number_of_splits : int, optional, default=10\\n        How often do we repeat the splitting and score calculation.\\n    validation_fraction : int, optional, default=0.5\\n        Fraction of trajectories which should go into the validation\\n        set during a split.\\n    \\\"\\\"\\\"\\n    # we temporarily suppress very short-lived progress bars\\n    with pyemma.util.contexts.settings(show_progress_bars=False):\\n        nval = int(len(data) * validation_fraction)\\n        scores = np.zeros(number_of_splits)\\n        for n in tqdm(range(number_of_splits), ncols=80, colour=\\\"blue\\\"):\\n            sleep(0.05)\\n            ival = np.random.choice(len(data), size=nval, replace=False)\\n            vamp = pyemma.coordinates.vamp(\\n                [d for i, d in enumerate(data) if i not in ival], lag=lag, dim=dim\\n            )\\n            scores[n] = vamp.score([d for i, d in enumerate(data) if i in ival])\\n    return scores\\n\\n\\ndim = 1\\n# \\u8f68\\u8ff9\\u6761\\u6570\\n\\nfig, axes = plt.subplots(1, 3, figsize=(12, 3), sharey=True)\\nfor ax, lag in zip(axes.flat, [5, 10, 20]):\\n    torsions_scores = score_cv(torsions_data, lag=lag, dim=dim)\\n    scores = [torsions_scores.mean()]\\n    errors = [torsions_scores.std()]\\n    positions_scores = score_cv(positions_data, lag=lag, dim=dim)\\n    scores += [positions_scores.mean()]\\n    errors += [positions_scores.std()]\\n    distances_scores = score_cv(distances_data, lag=lag, dim=dim)\\n    scores += [distances_scores.mean()]\\n    errors += [distances_scores.std()]\\n    ax.bar(labels, scores, yerr=errors, color=[\\\"C0\\\", \\\"C1\\\", \\\"C2\\\"])\\n    ax.set_title(r\\\"lag time $\\\\tau$={:.1f}ns\\\".format(lag * 0.1))\\n    if lag == 5:\\n        # save for later\\n        vamp_bars_plot = dict(\\n            labels=labels, scores=scores, errors=errors, dim=dim, lag=lag\\n        )\\naxes[0].set_ylabel(\\\"VAMP2 score\\\")\\nfig.tight_layout()\\n\\nprint(torsions_scores)\\nprint(positions_scores)\\nprint(distances_scores)\";\n",
       "                var nbb_formatted_code = \"import os\\n\\nos.environ[\\\"KMP_DUPLICATE_LIB_OK\\\"] = \\\"TRUE\\\"\\n\\n\\ndef score_cv(data, dim, lag, number_of_splits=10, validation_fraction=0.5):\\n    \\\"\\\"\\\"Compute a cross-validated VAMP2 score.\\n\\n    We randomly split the list of independent trajectories into\\n    a training and a validation set, compute the VAMP2 score,\\n    and repeat this process several times.\\n\\n    Parameters\\n    ----------\\n    data : list of numpy.ndarrays\\n        The input data.\\n    dim : int\\n        Number of processes to score; equivalent to the dimension\\n        after projecting the data with VAMP2.\\n    lag : int\\n        Lag time for the VAMP2 scoring.\\n    number_of_splits : int, optional, default=10\\n        How often do we repeat the splitting and score calculation.\\n    validation_fraction : int, optional, default=0.5\\n        Fraction of trajectories which should go into the validation\\n        set during a split.\\n    \\\"\\\"\\\"\\n    # we temporarily suppress very short-lived progress bars\\n    with pyemma.util.contexts.settings(show_progress_bars=False):\\n        nval = int(len(data) * validation_fraction)\\n        scores = np.zeros(number_of_splits)\\n        for n in tqdm(range(number_of_splits), ncols=80, colour=\\\"blue\\\"):\\n            sleep(0.05)\\n            ival = np.random.choice(len(data), size=nval, replace=False)\\n            vamp = pyemma.coordinates.vamp(\\n                [d for i, d in enumerate(data) if i not in ival], lag=lag, dim=dim\\n            )\\n            scores[n] = vamp.score([d for i, d in enumerate(data) if i in ival])\\n    return scores\\n\\n\\ndim = 1\\n# \\u8f68\\u8ff9\\u6761\\u6570\\n\\nfig, axes = plt.subplots(1, 3, figsize=(12, 3), sharey=True)\\nfor ax, lag in zip(axes.flat, [5, 10, 20]):\\n    torsions_scores = score_cv(torsions_data, lag=lag, dim=dim)\\n    scores = [torsions_scores.mean()]\\n    errors = [torsions_scores.std()]\\n    positions_scores = score_cv(positions_data, lag=lag, dim=dim)\\n    scores += [positions_scores.mean()]\\n    errors += [positions_scores.std()]\\n    distances_scores = score_cv(distances_data, lag=lag, dim=dim)\\n    scores += [distances_scores.mean()]\\n    errors += [distances_scores.std()]\\n    ax.bar(labels, scores, yerr=errors, color=[\\\"C0\\\", \\\"C1\\\", \\\"C2\\\"])\\n    ax.set_title(r\\\"lag time $\\\\tau$={:.1f}ns\\\".format(lag * 0.1))\\n    if lag == 5:\\n        # save for later\\n        vamp_bars_plot = dict(\\n            labels=labels, scores=scores, errors=errors, dim=dim, lag=lag\\n        )\\naxes[0].set_ylabel(\\\"VAMP2 score\\\")\\nfig.tight_layout()\\n\\nprint(torsions_scores)\\nprint(positions_scores)\\nprint(distances_scores)\";\n",
       "                var nbb_cells = Jupyter.notebook.get_cells();\n",
       "                for (var i = 0; i < nbb_cells.length; ++i) {\n",
       "                    if (nbb_cells[i].input_prompt_number == nbb_cell_id) {\n",
       "                        if (nbb_cells[i].get_text() == nbb_unformatted_code) {\n",
       "                             nbb_cells[i].set_text(nbb_formatted_code);\n",
       "                        }\n",
       "                        break;\n",
       "                    }\n",
       "                }\n",
       "            }, 500);\n",
       "            "
      ],
      "text/plain": [
       "<IPython.core.display.Javascript object>"
      ]
     },
     "metadata": {},
     "output_type": "display_data"
    }
   ],
   "source": [
    "import os\n",
    "\n",
    "os.environ[\"KMP_DUPLICATE_LIB_OK\"] = \"TRUE\"\n",
    "\n",
    "\n",
    "def score_cv(data, dim, lag, number_of_splits=10, validation_fraction=0.5):\n",
    "    \"\"\"Compute a cross-validated VAMP2 score.\n",
    "\n",
    "    We randomly split the list of independent trajectories into\n",
    "    a training and a validation set, compute the VAMP2 score,\n",
    "    and repeat this process several times.\n",
    "\n",
    "    Parameters\n",
    "    ----------\n",
    "    data : list of numpy.ndarrays\n",
    "        The input data.\n",
    "    dim : int\n",
    "        Number of processes to score; equivalent to the dimension\n",
    "        after projecting the data with VAMP2.\n",
    "    lag : int\n",
    "        Lag time for the VAMP2 scoring.\n",
    "    number_of_splits : int, optional, default=10\n",
    "        How often do we repeat the splitting and score calculation.\n",
    "    validation_fraction : int, optional, default=0.5\n",
    "        Fraction of trajectories which should go into the validation\n",
    "        set during a split.\n",
    "    \"\"\"\n",
    "    # we temporarily suppress very short-lived progress bars\n",
    "    with pyemma.util.contexts.settings(show_progress_bars=False):\n",
    "        nval = int(len(data) * validation_fraction)\n",
    "        scores = np.zeros(number_of_splits)\n",
    "        for n in tqdm(range(number_of_splits), ncols=80, colour=\"blue\"):\n",
    "            sleep(0.05)\n",
    "            ival = np.random.choice(len(data), size=nval, replace=False)\n",
    "            vamp = pyemma.coordinates.vamp(\n",
    "                [d for i, d in enumerate(data) if i not in ival], lag=lag, dim=dim\n",
    "            )\n",
    "            scores[n] = vamp.score([d for i, d in enumerate(data) if i in ival])\n",
    "    return scores\n",
    "\n",
    "\n",
    "dim = 1\n",
    "# 轨迹条数\n",
    "\n",
    "fig, axes = plt.subplots(1, 3, figsize=(12, 3), sharey=True)\n",
    "for ax, lag in zip(axes.flat, [5, 10, 20]):\n",
    "    torsions_scores = score_cv(torsions_data, lag=lag, dim=dim)\n",
    "    scores = [torsions_scores.mean()]\n",
    "    errors = [torsions_scores.std()]\n",
    "    positions_scores = score_cv(positions_data, lag=lag, dim=dim)\n",
    "    scores += [positions_scores.mean()]\n",
    "    errors += [positions_scores.std()]\n",
    "    distances_scores = score_cv(distances_data, lag=lag, dim=dim)\n",
    "    scores += [distances_scores.mean()]\n",
    "    errors += [distances_scores.std()]\n",
    "    ax.bar(labels, scores, yerr=errors, color=[\"C0\", \"C1\", \"C2\"])\n",
    "    ax.set_title(r\"lag time $\\tau$={:.1f}ns\".format(lag * 0.1))\n",
    "    if lag == 5:\n",
    "        # save for later\n",
    "        vamp_bars_plot = dict(\n",
    "            labels=labels, scores=scores, errors=errors, dim=dim, lag=lag\n",
    "        )\n",
    "axes[0].set_ylabel(\"VAMP2 score\")\n",
    "fig.tight_layout()\n",
    "\n",
    "print(torsions_scores)\n",
    "print(positions_scores)\n",
    "print(distances_scores)"
   ]
  },
  {
   "cell_type": "code",
   "execution_count": 12,
   "id": "b27f1411",
   "metadata": {
    "ExecuteTime": {
     "end_time": "2022-05-16T01:19:24.687737Z",
     "start_time": "2022-05-16T01:18:32.380853Z"
    },
    "scrolled": true
   },
   "outputs": [
    {
     "name": "stderr",
     "output_type": "stream",
     "text": [
      "bar: 0it [00:00, ?it/s]\n",
      "  0%|\u001b[34m                                                    \u001b[0m| 0/10 [00:00<?, ?it/s]\u001b[0m\u001b[A\n",
      " 10%|\u001b[34m████▍                                       \u001b[0m| 1/10 [00:01<00:09,  1.07s/it]\u001b[0m\u001b[A\n",
      " 20%|\u001b[34m████████▊                                   \u001b[0m| 2/10 [00:02<00:08,  1.05s/it]\u001b[0m\u001b[A\n",
      " 30%|\u001b[34m█████████████▏                              \u001b[0m| 3/10 [00:03<00:07,  1.05s/it]\u001b[0m\u001b[A\n",
      " 40%|\u001b[34m█████████████████▌                          \u001b[0m| 4/10 [00:04<00:06,  1.04s/it]\u001b[0m\u001b[A\n",
      " 50%|\u001b[34m██████████████████████                      \u001b[0m| 5/10 [00:05<00:05,  1.04s/it]\u001b[0m\u001b[A\n",
      " 60%|\u001b[34m██████████████████████████▍                 \u001b[0m| 6/10 [00:06<00:04,  1.04s/it]\u001b[0m\u001b[A\n",
      " 70%|\u001b[34m██████████████████████████████▊             \u001b[0m| 7/10 [00:07<00:03,  1.04s/it]\u001b[0m\u001b[A\n",
      " 80%|\u001b[34m███████████████████████████████████▏        \u001b[0m| 8/10 [00:08<00:02,  1.04s/it]\u001b[0m\u001b[A\n",
      " 90%|\u001b[34m███████████████████████████████████████▌    \u001b[0m| 9/10 [00:09<00:01,  1.04s/it]\u001b[0m\u001b[A\n",
      "100%|\u001b[34m███████████████████████████████████████████\u001b[0m| 10/10 [00:10<00:00,  1.04s/it]\u001b[0m\u001b[A\n",
      "bar: 1it [00:10, 10.45s/it]\n",
      "  0%|\u001b[34m                                                    \u001b[0m| 0/10 [00:00<?, ?it/s]\u001b[0m\u001b[A\n",
      " 10%|\u001b[34m████▍                                       \u001b[0m| 1/10 [00:01<00:09,  1.06s/it]\u001b[0m\u001b[A\n",
      " 20%|\u001b[34m████████▊                                   \u001b[0m| 2/10 [00:02<00:08,  1.04s/it]\u001b[0m\u001b[A\n",
      " 30%|\u001b[34m█████████████▏                              \u001b[0m| 3/10 [00:03<00:07,  1.04s/it]\u001b[0m\u001b[A\n",
      " 40%|\u001b[34m█████████████████▌                          \u001b[0m| 4/10 [00:04<00:06,  1.03s/it]\u001b[0m\u001b[A\n",
      " 50%|\u001b[34m██████████████████████                      \u001b[0m| 5/10 [00:05<00:05,  1.03s/it]\u001b[0m\u001b[A\n",
      " 60%|\u001b[34m██████████████████████████▍                 \u001b[0m| 6/10 [00:06<00:04,  1.03s/it]\u001b[0m\u001b[A\n",
      " 70%|\u001b[34m██████████████████████████████▊             \u001b[0m| 7/10 [00:07<00:03,  1.03s/it]\u001b[0m\u001b[A\n",
      " 80%|\u001b[34m███████████████████████████████████▏        \u001b[0m| 8/10 [00:08<00:02,  1.03s/it]\u001b[0m\u001b[A\n",
      " 90%|\u001b[34m███████████████████████████████████████▌    \u001b[0m| 9/10 [00:09<00:01,  1.03s/it]\u001b[0m\u001b[A\n",
      "100%|\u001b[34m███████████████████████████████████████████\u001b[0m| 10/10 [00:10<00:00,  1.03s/it]\u001b[0m\u001b[A\n",
      "bar: 2it [00:20, 10.41s/it]\n",
      "  0%|\u001b[34m                                                    \u001b[0m| 0/10 [00:00<?, ?it/s]\u001b[0m\u001b[A\n",
      " 10%|\u001b[34m████▍                                       \u001b[0m| 1/10 [00:01<00:09,  1.07s/it]\u001b[0m\u001b[A\n",
      " 20%|\u001b[34m████████▊                                   \u001b[0m| 2/10 [00:02<00:08,  1.07s/it]\u001b[0m\u001b[A\n",
      " 30%|\u001b[34m█████████████▏                              \u001b[0m| 3/10 [00:03<00:07,  1.05s/it]\u001b[0m\u001b[A\n",
      " 40%|\u001b[34m█████████████████▌                          \u001b[0m| 4/10 [00:04<00:06,  1.04s/it]\u001b[0m\u001b[A\n",
      " 50%|\u001b[34m██████████████████████                      \u001b[0m| 5/10 [00:05<00:05,  1.04s/it]\u001b[0m\u001b[A\n",
      " 60%|\u001b[34m██████████████████████████▍                 \u001b[0m| 6/10 [00:06<00:04,  1.03s/it]\u001b[0m\u001b[A\n",
      " 70%|\u001b[34m██████████████████████████████▊             \u001b[0m| 7/10 [00:07<00:03,  1.03s/it]\u001b[0m\u001b[A\n",
      " 80%|\u001b[34m███████████████████████████████████▏        \u001b[0m| 8/10 [00:08<00:02,  1.03s/it]\u001b[0m\u001b[A\n",
      " 90%|\u001b[34m███████████████████████████████████████▌    \u001b[0m| 9/10 [00:09<00:01,  1.03s/it]\u001b[0m\u001b[A\n",
      "100%|\u001b[34m███████████████████████████████████████████\u001b[0m| 10/10 [00:10<00:00,  1.04s/it]\u001b[0m\u001b[A\n",
      "bar: 3it [00:31, 10.43s/it]\n",
      "  0%|\u001b[34m                                                    \u001b[0m| 0/10 [00:00<?, ?it/s]\u001b[0m\u001b[A\n",
      " 10%|\u001b[34m████▍                                       \u001b[0m| 1/10 [00:01<00:09,  1.07s/it]\u001b[0m\u001b[A\n",
      " 20%|\u001b[34m████████▊                                   \u001b[0m| 2/10 [00:02<00:08,  1.05s/it]\u001b[0m\u001b[A\n",
      " 30%|\u001b[34m█████████████▏                              \u001b[0m| 3/10 [00:03<00:07,  1.05s/it]\u001b[0m\u001b[A\n",
      " 40%|\u001b[34m█████████████████▌                          \u001b[0m| 4/10 [00:04<00:06,  1.04s/it]\u001b[0m\u001b[A\n",
      " 50%|\u001b[34m██████████████████████                      \u001b[0m| 5/10 [00:05<00:05,  1.04s/it]\u001b[0m\u001b[A\n",
      " 60%|\u001b[34m██████████████████████████▍                 \u001b[0m| 6/10 [00:06<00:04,  1.04s/it]\u001b[0m\u001b[A\n",
      " 70%|\u001b[34m██████████████████████████████▊             \u001b[0m| 7/10 [00:07<00:03,  1.05s/it]\u001b[0m\u001b[A\n",
      " 80%|\u001b[34m███████████████████████████████████▏        \u001b[0m| 8/10 [00:08<00:02,  1.04s/it]\u001b[0m\u001b[A\n",
      " 90%|\u001b[34m███████████████████████████████████████▌    \u001b[0m| 9/10 [00:09<00:01,  1.04s/it]\u001b[0m\u001b[A\n",
      "100%|\u001b[34m███████████████████████████████████████████\u001b[0m| 10/10 [00:10<00:00,  1.04s/it]\u001b[0m\u001b[A\n",
      "bar: 4it [00:41, 10.44s/it]\n",
      "  0%|\u001b[34m                                                    \u001b[0m| 0/10 [00:00<?, ?it/s]\u001b[0m\u001b[A\n",
      " 10%|\u001b[34m████▍                                       \u001b[0m| 1/10 [00:01<00:09,  1.03s/it]\u001b[0m\u001b[A\n",
      " 20%|\u001b[34m████████▊                                   \u001b[0m| 2/10 [00:02<00:08,  1.03s/it]\u001b[0m\u001b[A\n",
      " 30%|\u001b[34m█████████████▏                              \u001b[0m| 3/10 [00:03<00:07,  1.03s/it]\u001b[0m\u001b[A\n",
      " 40%|\u001b[34m█████████████████▌                          \u001b[0m| 4/10 [00:04<00:06,  1.03s/it]\u001b[0m\u001b[A\n",
      " 50%|\u001b[34m██████████████████████                      \u001b[0m| 5/10 [00:05<00:05,  1.03s/it]\u001b[0m\u001b[A\n",
      " 60%|\u001b[34m██████████████████████████▍                 \u001b[0m| 6/10 [00:06<00:04,  1.03s/it]\u001b[0m\u001b[A\n",
      " 70%|\u001b[34m██████████████████████████████▊             \u001b[0m| 7/10 [00:07<00:03,  1.03s/it]\u001b[0m\u001b[A\n",
      " 80%|\u001b[34m███████████████████████████████████▏        \u001b[0m| 8/10 [00:08<00:02,  1.03s/it]\u001b[0m\u001b[A\n",
      " 90%|\u001b[34m███████████████████████████████████████▌    \u001b[0m| 9/10 [00:09<00:01,  1.03s/it]\u001b[0m\u001b[A\n",
      "100%|\u001b[34m███████████████████████████████████████████\u001b[0m| 10/10 [00:10<00:00,  1.03s/it]\u001b[0m\u001b[A\n",
      "bar: 5it [00:52, 10.43s/it]\n"
     ]
    },
    {
     "data": {
      "image/png": "[encoded data removed]",
      "text/plain": [
       "<Figure size 432x288 with 1 Axes>"
      ]
     },
     "metadata": {
      "needs_background": "light"
     },
     "output_type": "display_data"
    },
    {
     "data": {
      "application/javascript": [
       "\n",
       "            setTimeout(function() {\n",
       "                var nbb_cell_id = 12;\n",
       "                var nbb_unformatted_code = \"import os\\n\\nos.environ[\\\"KMP_DUPLICATE_LIB_OK\\\"] = \\\"TRUE\\\"\\n\\nlags = [1, 2, 5, 10, 20]\\n\\n# \\u8f68\\u8ff9\\u6761\\u6570 range(n)\\n# dims = [i + 1 for i in range(10)]\\n\\ndims = 1\\n\\nfig, ax = plt.subplots()\\nfor i, lag in tqdm(enumerate(lags), ncols=80, desc=\\\"bar\\\", colour=\\\"blue\\\"):\\n    sleep(0.05)\\n#    scores_ = np.array([score_cv(torsions_data, dim, lag) for dim in dims])  # \\u6539\\u76ee\\u6807\\n    scores_ = np.array([score_cv(torsions_data, dim, lag)])\\n    scores = np.mean(scores_, axis=1)\\n    errors = np.std(scores_, axis=1, ddof=1)\\n    color = \\\"C{}\\\".format(i)\\n    ax.fill_between(dims, scores - errors, scores + errors, alpha=0.3, facecolor=color)\\n    ax.plot(dims, scores, \\\"--o\\\", color=color, label=\\\"lag={:.1f}ns\\\".format(lag * 0.1))\\nax.legend()\\nax.set_xlabel(\\\"number of dimensions\\\")\\nax.set_ylabel(\\\"VAMP2 score\\\")\\nfig.tight_layout()\";\n",
       "                var nbb_formatted_code = \"import os\\n\\nos.environ[\\\"KMP_DUPLICATE_LIB_OK\\\"] = \\\"TRUE\\\"\\n\\nlags = [1, 2, 5, 10, 20]\\n\\n# \\u8f68\\u8ff9\\u6761\\u6570 range(n)\\n# dims = [i + 1 for i in range(10)]\\n\\ndims = 1\\n\\nfig, ax = plt.subplots()\\nfor i, lag in tqdm(enumerate(lags), ncols=80, desc=\\\"bar\\\", colour=\\\"blue\\\"):\\n    sleep(0.05)\\n    #    scores_ = np.array([score_cv(torsions_data, dim, lag) for dim in dims])  # \\u6539\\u76ee\\u6807\\n    scores_ = np.array([score_cv(torsions_data, dim, lag)])\\n    scores = np.mean(scores_, axis=1)\\n    errors = np.std(scores_, axis=1, ddof=1)\\n    color = \\\"C{}\\\".format(i)\\n    ax.fill_between(dims, scores - errors, scores + errors, alpha=0.3, facecolor=color)\\n    ax.plot(dims, scores, \\\"--o\\\", color=color, label=\\\"lag={:.1f}ns\\\".format(lag * 0.1))\\nax.legend()\\nax.set_xlabel(\\\"number of dimensions\\\")\\nax.set_ylabel(\\\"VAMP2 score\\\")\\nfig.tight_layout()\";\n",
       "                var nbb_cells = Jupyter.notebook.get_cells();\n",
       "                for (var i = 0; i < nbb_cells.length; ++i) {\n",
       "                    if (nbb_cells[i].input_prompt_number == nbb_cell_id) {\n",
       "                        if (nbb_cells[i].get_text() == nbb_unformatted_code) {\n",
       "                             nbb_cells[i].set_text(nbb_formatted_code);\n",
       "                        }\n",
       "                        break;\n",
       "                    }\n",
       "                }\n",
       "            }, 500);\n",
       "            "
      ],
      "text/plain": [
       "<IPython.core.display.Javascript object>"
      ]
     },
     "metadata": {},
     "output_type": "display_data"
    }
   ],
   "source": [
    "import os\n",
    "\n",
    "os.environ[\"KMP_DUPLICATE_LIB_OK\"] = \"TRUE\"\n",
    "\n",
    "lags = [1, 2, 5, 10, 20]\n",
    "\n",
    "# 轨迹条数 range(n)\n",
    "# dims = [i + 1 for i in range(10)]\n",
    "\n",
    "dims = 1\n",
    "\n",
    "fig, ax = plt.subplots()\n",
    "for i, lag in tqdm(enumerate(lags), ncols=80, desc=\"bar\", colour=\"blue\"):\n",
    "    sleep(0.05)\n",
    "    #    scores_ = np.array([score_cv(torsions_data, dim, lag) for dim in dims])  # 改目标\n",
    "    scores_ = np.array([score_cv(torsions_data, dim, lag)])\n",
    "    scores = np.mean(scores_, axis=1)\n",
    "    errors = np.std(scores_, axis=1, ddof=1)\n",
    "    color = \"C{}\".format(i)\n",
    "    ax.fill_between(dims, scores - errors, scores + errors, alpha=0.3, facecolor=color)\n",
    "    ax.plot(dims, scores, \"--o\", color=color, label=\"lag={:.1f}ns\".format(lag * 0.1))\n",
    "ax.legend()\n",
    "ax.set_xlabel(\"number of dimensions\")\n",
    "ax.set_ylabel(\"VAMP2 score\")\n",
    "fig.tight_layout()"
   ]
  },
  {
   "cell_type": "markdown",
   "id": "228a1735",
   "metadata": {},
   "source": [
    "# 计算 RMSD"
   ]
  },
  {
   "cell_type": "code",
   "execution_count": 3,
   "id": "76f16708",
   "metadata": {},
   "outputs": [
    {
     "name": "stdout",
     "output_type": "stream",
     "text": [
      "./data/pcca1_10samples.pdb [10.295552]\n",
      "./data/pcca2_10samples.pdb [10.126722]\n",
      "./data/pcca3_10samples.pdb [10.245277]\n",
      "./data/pcca4_10samples.pdb [10.239408]\n",
      "./data/pcca5_10samples.pdb [10.16946]\n"
     ]
    },
    {
     "data": {
      "application/javascript": [
       "\n",
       "            setTimeout(function() {\n",
       "                var nbb_cell_id = 3;\n",
       "                var nbb_unformatted_code = \"# calculate rmsd\\ntarget1 = \\\"./data/pcca1_10samples.pdb\\\"\\nfirst_frame1 = md.load_frame(target1, 0, topology)\\nrmsd1 = md.rmsd(first_frame1, traj, 0)\\n\\ntarget2 = \\\"./data/pcca2_10samples.pdb\\\"\\nfirst_frame2 = md.load_frame(target2, 0, topology)\\nrmsd2 = md.rmsd(first_frame2, traj, 0)\\n\\ntarget3 = \\\"./data/pcca3_10samples.pdb\\\"\\nfirst_frame3 = md.load_frame(target3, 0, topology)\\nrmsd3 = md.rmsd(first_frame3, traj, 0)\\n\\ntarget4 = \\\"./data/pcca4_10samples.pdb\\\"\\nfirst_frame4 = md.load_frame(target4, 0, topology)\\nrmsd4 = md.rmsd(first_frame4, traj, 0)\\n\\ntarget5 = \\\"./data/pcca5_10samples.pdb\\\"\\nfirst_frame5 = md.load_frame(target5, 0, topology)\\nrmsd5 = md.rmsd(first_frame5, traj, 0)\\n\\nprint(target1, rmsd1)\\nprint(target2, rmsd2)\\nprint(target3, rmsd3)\\nprint(target4, rmsd4)\\nprint(target5, rmsd5)\\n# rmsda = rmsd * 10\\n# print(\\\"rmsda\\\", \\\"\\u00c5\\\")\";\n",
       "                var nbb_formatted_code = \"# calculate rmsd\\ntarget1 = \\\"./data/pcca1_10samples.pdb\\\"\\nfirst_frame1 = md.load_frame(target1, 0, topology)\\nrmsd1 = md.rmsd(first_frame1, traj, 0)\\n\\ntarget2 = \\\"./data/pcca2_10samples.pdb\\\"\\nfirst_frame2 = md.load_frame(target2, 0, topology)\\nrmsd2 = md.rmsd(first_frame2, traj, 0)\\n\\ntarget3 = \\\"./data/pcca3_10samples.pdb\\\"\\nfirst_frame3 = md.load_frame(target3, 0, topology)\\nrmsd3 = md.rmsd(first_frame3, traj, 0)\\n\\ntarget4 = \\\"./data/pcca4_10samples.pdb\\\"\\nfirst_frame4 = md.load_frame(target4, 0, topology)\\nrmsd4 = md.rmsd(first_frame4, traj, 0)\\n\\ntarget5 = \\\"./data/pcca5_10samples.pdb\\\"\\nfirst_frame5 = md.load_frame(target5, 0, topology)\\nrmsd5 = md.rmsd(first_frame5, traj, 0)\\n\\nprint(target1, rmsd1)\\nprint(target2, rmsd2)\\nprint(target3, rmsd3)\\nprint(target4, rmsd4)\\nprint(target5, rmsd5)\\n# rmsda = rmsd * 10\\n# print(\\\"rmsda\\\", \\\"\\u00c5\\\")\";\n",
       "                var nbb_cells = Jupyter.notebook.get_cells();\n",
       "                for (var i = 0; i < nbb_cells.length; ++i) {\n",
       "                    if (nbb_cells[i].input_prompt_number == nbb_cell_id) {\n",
       "                        if (nbb_cells[i].get_text() == nbb_unformatted_code) {\n",
       "                             nbb_cells[i].set_text(nbb_formatted_code);\n",
       "                        }\n",
       "                        break;\n",
       "                    }\n",
       "                }\n",
       "            }, 500);\n",
       "            "
      ],
      "text/plain": [
       "<IPython.core.display.Javascript object>"
      ]
     },
     "metadata": {},
     "output_type": "display_data"
    }
   ],
   "source": [
    "# calculate rmsd\n",
    "target1 = \"./data/pcca1_10samples.pdb\"\n",
    "first_frame1 = md.load_frame(target1, 0, topology)\n",
    "rmsd1 = md.rmsd(first_frame1, traj, 0)\n",
    "\n",
    "target2 = \"./data/pcca2_10samples.pdb\"\n",
    "first_frame2 = md.load_frame(target2, 0, topology)\n",
    "rmsd2 = md.rmsd(first_frame2, traj, 0)\n",
    "\n",
    "target3 = \"./data/pcca3_10samples.pdb\"\n",
    "first_frame3 = md.load_frame(target3, 0, topology)\n",
    "rmsd3 = md.rmsd(first_frame3, traj, 0)\n",
    "\n",
    "target4 = \"./data/pcca4_10samples.pdb\"\n",
    "first_frame4 = md.load_frame(target4, 0, topology)\n",
    "rmsd4 = md.rmsd(first_frame4, traj, 0)\n",
    "\n",
    "target5 = \"./data/pcca5_10samples.pdb\"\n",
    "first_frame5 = md.load_frame(target5, 0, topology)\n",
    "rmsd5 = md.rmsd(first_frame5, traj, 0)\n",
    "\n",
    "print(target1, rmsd1)\n",
    "print(target2, rmsd2)\n",
    "print(target3, rmsd3)\n",
    "print(target4, rmsd4)\n",
    "print(target5, rmsd5)\n",
    "# rmsda = rmsd * 10\n",
    "# print(\"rmsda\", \"Å\")"
   ]
  },
  {
   "cell_type": "code",
   "execution_count": null,
   "id": "80a7f1d9",
   "metadata": {},
   "outputs": [],
   "source": []
  },
  {
   "cell_type": "code",
   "execution_count": null,
   "id": "677b4239",
   "metadata": {},
   "outputs": [],
   "source": []
  },
  {
   "cell_type": "code",
   "execution_count": null,
   "id": "559bc0eb",
   "metadata": {},
   "outputs": [],
   "source": []
  },
  {
   "cell_type": "code",
   "execution_count": null,
   "id": "0abaf6f1",
   "metadata": {},
   "outputs": [],
   "source": []
  },
  {
   "cell_type": "code",
   "execution_count": null,
   "id": "dbda8d89",
   "metadata": {},
   "outputs": [],
   "source": []
  },
  {
   "cell_type": "code",
   "execution_count": null,
   "id": "2a9e07a9",
   "metadata": {},
   "outputs": [],
   "source": []
  },
  {
   "cell_type": "code",
   "execution_count": null,
   "id": "e64a2cbe",
   "metadata": {},
   "outputs": [],
   "source": []
  },
  {
   "cell_type": "code",
   "execution_count": null,
   "id": "e2d8654b",
   "metadata": {},
   "outputs": [],
   "source": []
  },
  {
   "cell_type": "code",
   "execution_count": null,
   "id": "ab81492a",
   "metadata": {},
   "outputs": [],
   "source": []
  },
  {
   "cell_type": "code",
   "execution_count": null,
   "id": "252e1df8",
   "metadata": {},
   "outputs": [],
   "source": [
    "files = (\n",
    "   \"/home/sean/Desktop/Share/plpro_result/MSM/mix_zong_acn/zong_acn/6wuu_mix_acn1.trr\",\n",
    "    \"/home/sean/Desktop/Share/plpro_result/MSM/mix_zong_acn/zong_acn/6wuu_mix_acn2.trr\",\n",
    "    \"/home/sean/Desktop/Share/plpro_result/MSM/mix_zong_acn/zong_acn/6wuu_mix_acn3.trr\",\n",
    "    \"/home/sean/Desktop/Share/plpro_result/MSM/mix_zong_acn/zong_acn/6wuu_mix_acn4.trr\",\n",
    "    \"/home/sean/Desktop/Share/plpro_result/MSM/mix_zong_acn/zong_acn/6wuu_mix_acn5.trr\",\n",
    "    \"/home/sean/Desktop/Share/plpro_result/MSM/mix_zong_acn/zong_acn/6wuu_mix_acn6.trr\",\n",
    "    \"/home/sean/Desktop/Share/plpro_result/MSM/mix_zong_acn/zong_acn/6wuu_mix_acn7.trr\",\n",
    "    \"/home/sean/Desktop/Share/plpro_result/MSM/mix_zong_acn/zong_acn/6wuu_mix_acn8.trr\",\n",
    "    \"/home/sean/Desktop/Share/plpro_result/MSM/mix_zong_acn/zong_acn/6wuu_mix_acn9.trr\",\n",
    "    \"/home/sean/Desktop/Share/plpro_result/MSM/mix_zong_acn/zong_acn/6wuu_mix_acn10.trr\",\n",
    ")"
   ]
  },
  {
   "cell_type": "code",
   "execution_count": null,
   "id": "568d4136",
   "metadata": {},
   "outputs": [],
   "source": [
    "files = (\n",
    "   \"/home/sean/Desktop/Share/plpro_result/MSM/mix_zong_acn/zong_protein/md_dry_jump_center_mol_center_fit1.trr\",\n",
    "    \"/home/sean/Desktop/Share/plpro_result/MSM/mix_zong_acn/zong_protein/md_dry_jump_center_mol_center_fit2.trr\",\n",
    "    \"/home/sean/Desktop/Share/plpro_result/MSM/mix_zong_acn/zong_protein/md_dry_jump_center_mol_center_fit3.trr\",\n",
    "    \"/home/sean/Desktop/Share/plpro_result/MSM/mix_zong_acn/zong_protein/md_dry_jump_center_mol_center_fit4.trr\",\n",
    "    \"/home/sean/Desktop/Share/plpro_result/MSM/mix_zong_acn/zong_protein/md_dry_jump_center_mol_center_fit5.trr\",\n",
    "    \"/home/sean/Desktop/Share/plpro_result/MSM/mix_zong_acn/zong_protein/md_dry_jump_center_mol_center_fit6.trr\",\n",
    "    \"/home/sean/Desktop/Share/plpro_result/MSM/mix_zong_acn/zong_protein/md_dry_jump_center_mol_center_fit7.trr\",\n",
    "    \"/home/sean/Desktop/Share/plpro_result/MSM/mix_zong_acn/zong_protein/md_dry_jump_center_mol_center_fit8.trr\",\n",
    "    \"/home/sean/Desktop/Share/plpro_result/MSM/mix_zong_acn/zong_protein/md_dry_jump_center_mol_center_fit9.trr\",\n",
    "    \"/home/sean/Desktop/Share/plpro_result/MSM/mix_zong_acn/zong_protein/md_dry_jump_center_mol_center_fit10.trr\",\n",
    ")"
   ]
  }
 ],
 "metadata": {
  "hide_input": false,
  "kernelspec": {
   "display_name": "Python 3 (ipykernel)",
   "language": "python",
   "name": "python3"
  },
  "language_info": {
   "codemirror_mode": {
    "name": "ipython",
    "version": 3
   },
   "file_extension": ".py",
   "mimetype": "text/x-python",
   "name": "python",
   "nbconvert_exporter": "python",
   "pygments_lexer": "ipython3",
   "version": "3.8.12"
  },
  "toc": {
   "base_numbering": 1,
   "nav_menu": {},
   "number_sections": true,
   "sideBar": true,
   "skip_h1_title": false,
   "title_cell": "Table of Contents",
   "title_sidebar": "Contents",
   "toc_cell": false,
   "toc_position": {
    "height": "calc(100% - 180px)",
    "left": "10px",
    "top": "150px",
    "width": "256px"
   },
   "toc_section_display": true,
   "toc_window_display": true
  }
 },
 "nbformat": 4,
 "nbformat_minor": 5
}
